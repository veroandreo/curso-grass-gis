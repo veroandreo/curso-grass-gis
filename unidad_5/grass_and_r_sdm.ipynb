{
  "cells": [
    {
      "cell_type": "raw",
      "metadata": {},
      "source": [
        "---\n",
        "title: 'R y GRASS: Modelado de nicho'\n",
        "author: Verónica Andreo\n",
        "date: today\n",
        "format:\n",
        "  html:\n",
        "    code-tools: true\n",
        "    code-copy: true\n",
        "    code-fold: false\n",
        "execute:\n",
        "  eval: false\n",
        "  cache: false\n",
        "  keep-ipynb: true\n",
        "---"
      ],
      "id": "0cfff973"
    },
    {
      "cell_type": "markdown",
      "metadata": {},
      "source": [
        "<!-- # ```{r setup, include = FALSE} -->\n",
        "<!-- # knitr::opts_chunk$set(eval = FALSE) -->\n",
        "<!-- # # knitr::opts_chunk$set(cache = TRUE) -->\n",
        "<!-- # ``` -->\n",
        "\n",
        "En esta última sesión, vamos a demostrar y ejemplificar el uso combinado de \n",
        "GRASS y R para modelar la distribución de *Aedes aegypti* en la provincia \n",
        "de Córdoba en función de variables ambientales. Algunas de estas variables\n",
        "provienen de los ejercicios realizados en la unidad de series de tiempo y \n",
        "otras serán generadas durante este ejercicio.\n",
        "\n",
        "Antes de empezar y para ganar tiempo, conectemos nuestro drive e instalemos \n",
        "GRASS y los paquetes de R que vamos a usar en esta sesión.\n"
      ],
      "id": "b8287b97"
    },
    {
      "cell_type": "code",
      "metadata": {},
      "source": [
        "# import drive from google colab\n",
        "from google.colab import drive\n",
        "# define mounting point for drive\n",
        "dmp = \"/content/drive\"\n",
        "# mount drive\n",
        "drive.mount(dmp)"
      ],
      "id": "a616fd3f",
      "execution_count": null,
      "outputs": []
    },
    {
      "cell_type": "code",
      "metadata": {},
      "source": [
        "%%bash\n",
        "DEBIAN_FRONTEND=noninteractive \n",
        "sudo add-apt-repository ppa:ubuntugis/ubuntugis-unstable \n",
        "apt update \n",
        "apt install grass subversion grass-dev\n",
        "apt remove libproj22"
      ],
      "id": "7a645b8d",
      "execution_count": null,
      "outputs": []
    },
    {
      "cell_type": "code",
      "metadata": {},
      "source": [
        "!grass --config path"
      ],
      "id": "0655cdb8",
      "execution_count": null,
      "outputs": []
    },
    {
      "cell_type": "markdown",
      "metadata": {},
      "source": [
        "Instalamos y cargamos al entorno el paquete de python que nos permite hacer\n",
        "interfaz con R dentro de una Jupyter notebook.\n"
      ],
      "id": "8bfafc16"
    },
    {
      "cell_type": "code",
      "metadata": {},
      "source": [
        "!pip install rpy2==3.5.1\n",
        "%reload_ext rpy2.ipython"
      ],
      "id": "9dc5d952",
      "execution_count": null,
      "outputs": []
    },
    {
      "cell_type": "markdown",
      "metadata": {},
      "source": [
        "Chequeamos nuestra sesión de R.\n"
      ],
      "id": "05b0f2f3"
    },
    {
      "cell_type": "code",
      "metadata": {},
      "source": [
        "%R sessionInfo()"
      ],
      "id": "70250c42",
      "execution_count": null,
      "outputs": []
    },
    {
      "cell_type": "markdown",
      "metadata": {},
      "source": [
        "Instalamos todos los paquetes necesarios para este ejercicio. \n",
        "*This might take a while...*\n"
      ],
      "id": "03935335"
    },
    {
      "cell_type": "code",
      "metadata": {},
      "source": [
        "%%R\n",
        "install.packages(\"rgrass\")\n",
        "install.packages(\"terra\")\n",
        "install.packages(\"raster\")\n",
        "install.packages(\"sf\")\n",
        "install.packages(\"biomod2\")\n",
        "install.packages(\"dismo\")\n",
        "install.packages(\"usdm\")\n",
        "install.packages(\"SDMtune\")\n",
        "install.packages(\"zeallot\")\n",
        "install.packages(\"rJava\")\n",
        "install.packages(\"ggpubr\")\n",
        "install.packages(\"tmap\")\n",
        "install.packages(\"tmaptools\")"
      ],
      "id": "b45054dd",
      "execution_count": null,
      "outputs": []
    },
    {
      "cell_type": "markdown",
      "metadata": {},
      "source": [
        "# [**rgrass**](https://cran.r-project.org/web/packages/rgrass/index.html)\n",
        "\n",
        "El paquete de R que hace las veces de interfaz entre R y GRASS GIS se\n",
        "denomina `rgrass`. Este paquete ha sido desarrollado y sigue siendo mantenido\n",
        "por @rgrass y se puede encontrar en: \n",
        "<https://github.com/rsbivand/rgrass/>. \n",
        "\n",
        ":::{.callout-note}\n",
        "Pueden ver la viñeta del paquete para más explicaciones, algo de contexto y \n",
        "ejemplos: <https://rsbivand.github.io/rgrass/>.\n",
        ":::\n",
        "\n",
        "Las principales funciones que podemos encontrar en el paquete `rgrass` son las \n",
        "siguientes:\n",
        "\n",
        "- `initGRASS()`: inicia una sesión de GRASS GIS desde R, similar a \n",
        "`gs.setup.init()` o `gj.init()`.\n",
        "- `execGRASS()`: ejecuta comandos de GRASS, similar a `gs.run_command()` \n",
        "- `gmeta()`: muestra los metadatos de localización de GRASS.\n",
        "- `read_VECT()` y `read_RAST()`: leen mapas vectoriales y raster desde la base \n",
        "de datos de GRASS a objetos `SpatVect` y `SpatRast` del paquete *terra* de R.\n",
        "- `write_VECT()` y `write_RAST()`: escriben objetos del paquete *terra* en la \n",
        "base de datos de GRASS GIS.\n",
        "\n",
        "::: {.callout-note}\n",
        "El paquete `terra` es desarrollado y mantenido por @terra y eventualmente \n",
        "reemplazará a `raster`. Detalles sobre el paquete *terra* pueden encontrarse en:\n",
        "<https://rspatial.github.io/terra/reference/terra-package.html> y <https://rspatial.org/spatial/index.html>.\n",
        ":::\n",
        "\n",
        "\n",
        "## Cómo usamos `rgrass`?\n",
        "\n",
        "GRASS GIS y R se pueden utilizar juntos de dos maneras:\n",
        "\n",
        "A. Usar [R dentro de una sesión de GRASS GIS](https://grasswiki.osgeo.org/wiki/R_statistics/rgrass#R_within_GRASS),\n",
        "es decir, iniciar R (o RStudio) desde una sesión de GRASS\n",
        "\n",
        "- escribimos `R` o `rstudio &` en la terminal GRASS GIS o en la pestaña \n",
        "*Consola* de la interfaz gráfica\n",
        "- una vez en R (o RStudio) cargamos el paquete `rgrass` (previo haberlo instalado)\n",
        "- usamos `read_VECT()`, `read_RAST()` para leer datos de GRASS en R\n",
        "- accedemos a los módulos y la base de datos de GRASS GIS a través de `execGRASS()` \n",
        "- escribimos datos resultantes en la base de datos de GRASS con `write_VECT()` y \n",
        "`write_RAST()`\n",
        "\n",
        "\n",
        "![](../assets/img/grass_terminal_calling_R.png){width=\"60%\" fig-align=\"center\"}\n",
        "\n",
        "::::columns\n",
        ":::{.column width=\"60%\"}\n",
        "![](../assets/img/open_rstudio_from_grass_gui.png)\n",
        ":::\n",
        "\n",
        ":::{.column width=\"40%\"}\n",
        "![](../assets/img/open_rstudio_from_grass_gui_b.png)\n",
        ":::\n",
        "::::\n",
        "\n",
        "B. Iniciar y usar [GRASS GIS dentro de una sesión de R](https://grasswiki.osgeo.org/wiki/R_statistics/rgrass#GRASS_within_R), es \n",
        "decir, nos conectamos a la base de datos de GRASS GIS desde R (o RStudio).\n",
        "\n",
        "- Primero cargamos el paquete `rgrass`\n",
        "- Necesitamos iniciar GRASS GIS con `initGRASS()` desde R y para ello,\n",
        "necesitamos especificar el ejecutable de GRASS y las ubicaciones de la base \n",
        "de datos, el proyecto (location) y mapset\n",
        "- Accedemos a los módulos GRASS GIS a través de `execGRASS()`\n",
        "- usamos `read_VECT()`, `read_RAST()`, `write_VECT()` y `write_RAST()` para \n",
        "leer datos desde y hacia la base de datos GRASS.\n",
        "\n",
        "![](../assets/img/grass_within_rstudio_session.png){width=\"70%\" fig-align=\"center\"}\n",
        "\n",
        "::: {.callout-note}\n",
        "Originalmente, `rgrass` estaba destinado a aplicar funciones de GRASS en \n",
        "datos fuera de la base de datos de GRASS; de ahí que algunos prefieran \n",
        "crear proyectos (i.e., *locations*) desechables o temporarios. Por ejemplo:\n",
        "\n",
        "\n",
        "```{r}\n",
        "library(terra)\n",
        "\n",
        "f <- system.file(\"ex/elev.tif\", package=\"terra\")\n",
        "r <- rast(f)\n",
        "\n",
        "library(rgrass)\n",
        "initGRASS(home=tempdir(), SG=r, override=TRUE)\n",
        "```\n",
        "\n",
        ":::\n",
        "\n",
        "# SDM - modelado de la distribución de especies\n",
        "\n",
        "El flujo de trabajo comúnmente utilizado para el modelado de la distribución de \n",
        "especies (*SDM por su sigla en Inglés*) consiste en la recopilación de sitios de \n",
        "ocurrencia de la especie o evento de interés (ej., casos de una enfermedad, \n",
        "focos de fuego, ietc.), así como de variables ambientales que puedan ser \n",
        "relevantes para explicar su distribución.\n",
        "Los datos de ocurrencia y las variables predictoras son las entradas de algún  \n",
        "algoritmo determinado o modelo (ej., GLM, Random Forest, MaxEnt, etc.). Una vez\n",
        "estamos \"contentos\" con el ajuste del modelo, el próximo paso es la predicción. \n",
        "En este caso, hablamos de prediccón ambiental cuando nos interesa explicar e \n",
        "interpretar la relación entre las variables y la probabilidad de ocurrencia \n",
        "(curvas de respuesta) y predicción geográfica cuando nos interesa ver plasmadas\n",
        "en el espacio geografico el resultado de esas relaciones (mapas).\n",
        "\n",
        "![](../assets/img/workflow_sdm_other.png){width=85% fig-align=\"center\"}\n",
        "\n",
        "Existen varios paquetes para realizar SDM. En este caso usaremos\n",
        "[SDMtune](https://cloud.r-project.org/web/packages/SDMtune/index.html)\n",
        "desarrollado y mantenido por @sdmtune. Este paquete proporciona funciones \n",
        "que cubren todo el flujo de trabajo de SDM, desde la preparación de datos\n",
        "hasta la selección de variables, la optimización y evaluación de los modelos.\n",
        "Echen un vistazo a los artículos en el sitio web del paquete para obtener\n",
        "más detalles y tutoriales: \n",
        "<https://consbiol-unibern.github.io/SDMtune/index.html>.\n",
        "\n",
        "# Manos a la obra\n",
        "\n",
        "## Cargamos los paquetes de R\n"
      ],
      "id": "0bb4c860"
    },
    {
      "cell_type": "code",
      "metadata": {
        "message": false
      },
      "source": [
        "#| label: load_libraries\n",
        "%%R\n",
        "library(rgrass)\n",
        "library(sf)\n",
        "library(terra)\n",
        "library(biomod2)\n",
        "library(dismo)\n",
        "library(usdm)\n",
        "library(SDMtune)\n",
        "library(zeallot)\n",
        "library(tmap)\n",
        "library(tmaptools)"
      ],
      "id": "load_libraries",
      "execution_count": null,
      "outputs": []
    },
    {
      "cell_type": "markdown",
      "metadata": {},
      "source": [
        "## Iniciamos GRASS\n",
        "\n",
        "Usaremos la **opción B**, es decir, iniciamos GRASS GIS desde R en un proyecto y\n",
        "mapset existentes. Notar las similitudes con `gj.init()` de `grass.jupyter`\n",
        "y `gs.setup.init()` de `grass.script`.\n"
      ],
      "id": "14d0839b"
    },
    {
      "cell_type": "code",
      "metadata": {
        "message": false,
        "results": "hide"
      },
      "source": [
        "#| label: grass_init\n",
        "%%R\n",
        "# path to GRASS binaries (run `grass --config path`)\n",
        "grassbin <- system(\"grass --config path\", intern = TRUE)\n",
        "# path to GRASS database in GDrive\n",
        "grassdata <- \"/content/drive/MyDrive/curso_grass_2023/grassdata\"\n",
        "# path to project\n",
        "project <- \"posgar2007_4_cba\"\n",
        "# path to mapset\n",
        "mapset <- \"PERMANENT\"\n",
        "\n",
        "# start GRASS GIS from R\n",
        "initGRASS(gisBase = grassbin, \n",
        "          gisDbase = grassdata, \n",
        "          location = project, \n",
        "          mapset = mapset, \n",
        "          override = TRUE,\n",
        "          remove_GISRC= TRUE)"
      ],
      "id": "grass_init",
      "execution_count": null,
      "outputs": []
    },
    {
      "cell_type": "markdown",
      "metadata": {},
      "source": [
        "Exploramos los mapas raster y vectoriales disponibles en el mapset PERMANENT:\n"
      ],
      "id": "e463272e"
    },
    {
      "cell_type": "code",
      "metadata": {},
      "source": [
        "%%R\n",
        "r <- execGRASS(\"g.list\", \n",
        "               parameters = list(type = \"raster\",\n",
        "                                 mapset = \".\"))\n",
        "v <- execGRASS(\"g.list\", \n",
        "               parameters = list(type = \"vector\",\n",
        "                                 mapset = \".\"))"
      ],
      "id": "8d2263ad",
      "execution_count": null,
      "outputs": []
    },
    {
      "cell_type": "markdown",
      "metadata": {},
      "source": [
        "## Datos de presencia/ocurrencia\n",
        "\n",
        "Para este ejercicio vamos a generar los puntos de ocurrencia del mosquito \n",
        "*Aedes aegypti* como un sub-conjunto al azar de las localidades (áreas \n",
        "edificadas) de la provincia de Córdoba que estén a una altura de menos \n",
        "de 850 m. Notar que estamos trabajando en la base de datos de GRASS GIS, pero\n",
        "desde R.\n"
      ],
      "id": "b8ffe19a"
    },
    {
      "cell_type": "code",
      "metadata": {
        "message": false,
        "results": "hide"
      },
      "source": [
        "#| label: create_presences\n",
        "#| warning: false\n",
        "%%R\n",
        "# Extract centroids from built-up area polygons\n",
        "execGRASS(\"v.extract\", \n",
        "          parameters = list(input=\"area_edificada_cba\", \n",
        "                            type=\"centroid\", \n",
        "                            output=\"area_edificada_cba_centroides\", \n",
        "                            random=250))\n",
        "\n",
        "# convert centroids to points\n",
        "execGRASS(\"v.type\", \n",
        "          parameters = list(input=\"area_edificada_cba_centroides\", \n",
        "                            output=\"area_edificada_cba_puntos\", \n",
        "                            from_type=\"centroid\", \n",
        "                            to_type=\"point\"))\n",
        "\n",
        "# extract elevation data for points\n",
        "execGRASS(\"v.what.rast\", \n",
        "          parameters = list(map=\"area_edificada_cba_puntos\", \n",
        "                            raster=\"elevation\", \n",
        "                            column=\"elevation\"))\n",
        "\n",
        "# filter points by elevation, keep those <= 850m\n",
        "execGRASS(\"v.extract\",\n",
        "          parameters = list(input=\"area_edificada_cba_puntos\",\n",
        "                            where=\"elevation <= 850\",\n",
        "                            output=\"aedes_aegypti\"))"
      ],
      "id": "create_presences",
      "execution_count": null,
      "outputs": []
    },
    {
      "cell_type": "markdown",
      "metadata": {},
      "source": [
        "Ahora leemos desde GRASS los datos de ocurrencia que generamos, los convertimos \n",
        "en un objeto `sf`, y los graficamos.\n"
      ],
      "id": "7d4c62e1"
    },
    {
      "cell_type": "code",
      "metadata": {
        "message": false,
        "results": "hide"
      },
      "source": [
        "#| label: read_vectors\n",
        "#| warning: false\n",
        "%%R\n",
        "# Read vector layers\n",
        "presence <- st_as_sf(read_VECT(\"aedes_aegypti\"))"
      ],
      "id": "read_vectors",
      "execution_count": null,
      "outputs": []
    },
    {
      "cell_type": "code",
      "metadata": {},
      "source": [
        "#| warning: false\n",
        "%%R\n",
        "# Display presence vector\n",
        "plot(presence)"
      ],
      "id": "186e9050",
      "execution_count": null,
      "outputs": []
    },
    {
      "cell_type": "markdown",
      "metadata": {},
      "source": [
        "Podemos usar la función `plot()` para visualizar la geometría o la \n",
        "geometría y los atributos (o una selección de los mismos) de los objetos `sf`.\n"
      ],
      "id": "db6310e2"
    },
    {
      "cell_type": "code",
      "metadata": {},
      "source": [
        "#| label: plot_with_sf\n",
        "%%R\n",
        "# Plot only the geometry \n",
        "plot(st_geometry(presence))\n",
        "\n",
        "# Plot geometry + attr\n",
        "plot(presence[\"elevation\"])"
      ],
      "id": "plot_with_sf",
      "execution_count": null,
      "outputs": []
    },
    {
      "cell_type": "markdown",
      "metadata": {},
      "source": [
        "## Datos de background\n",
        "\n",
        "El algoritmo MaxEnt que vamos a usar en este ejercicio, requiere contrastar\n",
        "las variables ambientales en los sitios de ocurrencia con el resto del ambiente\n",
        "disponible para la especie, el *background*. Entonces, necesitamos generar \n",
        "puntos de background para caracterizar este ambiente disponible.\n",
        "\n",
        "Una opción es generar puntos al azar sobre nuestra área de estudio. No obstante,\n",
        "no es cierto que toda la extensión del área de estudio está disponible para \n",
        "*Aedes aegypti*. Esta especie de mosquito no cría en aguas abiertas y tampoco \n",
        "sobre las salinas. Entonces, vamos a enmascarar primero esas áreas del ambiente\n",
        "disponible. \n"
      ],
      "id": "fd4f8fb5"
    },
    {
      "cell_type": "code",
      "metadata": {},
      "source": [
        "%%R\n",
        "# Check region\n",
        "gmeta()"
      ],
      "id": "0e28becb",
      "execution_count": null,
      "outputs": []
    },
    {
      "cell_type": "code",
      "metadata": {},
      "source": [
        "#| label: create_mask_bg\n",
        "%%R\n",
        "# Generar máscara a partir del raster de LULC\n",
        "expression <- \n",
        "  \"no_water = if(landcover_2018 == 7 || landcover_2018 == 8, null(), landcover_2018)\"\n",
        "\n",
        "execGRASS(\"r.mapcalc\",\n",
        "          parameters = list(expression=expression))"
      ],
      "id": "create_mask_bg",
      "execution_count": null,
      "outputs": []
    },
    {
      "cell_type": "markdown",
      "metadata": {},
      "source": [
        "Luego, leemos a R la máscara creada para visualizarla\n"
      ],
      "id": "2b78d2d8"
    },
    {
      "cell_type": "code",
      "metadata": {},
      "source": [
        "#| warning: false\n",
        "%%R\n",
        "# Import mask\n",
        "no_water <- raster(read_RAST(\"no_water\"))\n",
        "plot(no_water)"
      ],
      "id": "05bb3ea0",
      "execution_count": null,
      "outputs": []
    },
    {
      "cell_type": "markdown",
      "metadata": {},
      "source": [
        "Como la región tiene una resolución de 30 m, vamos a llevarla a 1 km, para\n",
        "asegurarnos una mejor separación de los puntos de background, y volvemos a\n",
        "leer la máscara dentro de R. \n"
      ],
      "id": "ec2bc49e"
    },
    {
      "cell_type": "code",
      "metadata": {},
      "source": [
        "#| label: create_bg_points\n",
        "%%R\n",
        "# Change resolution\n",
        "execGRASS(\"g.region\",\n",
        "          parameters = list(res=\"1000\"),\n",
        "          flags = c(\"a\",\"p\"))\n",
        "\n",
        "# Upscale\n",
        "execGRASS(\"r.resamp.stats\",\n",
        "          parameters = list(input=\"no_water\",\n",
        "                            output=\"MASK\",\n",
        "                            method=\"mode\"))\n",
        "\n",
        "# Leer en R la mascara_spp que vive en GRASS\n",
        "mask <- raster(read_RAST(\"MASK\"))"
      ],
      "id": "create_bg_points",
      "execution_count": null,
      "outputs": []
    },
    {
      "cell_type": "markdown",
      "metadata": {},
      "source": [
        "Ahora sí, generamos los puntos de background utilizando una función del paquete\n",
        "`dismo`[@dismo] y los convertimos a `sf` para luego visualizarlos.\n"
      ],
      "id": "74e8c3b3"
    },
    {
      "cell_type": "code",
      "metadata": {},
      "source": [
        "%%R\n",
        "# Generate random points within mask\n",
        "set.seed(123)\n",
        "background <- randomPoints(mask = mask, \n",
        "                           n = 500)\n",
        "\n",
        "# Convert to sf to plot\n",
        "background_sf <- st_as_sf(as.data.frame(background), \n",
        "                          coords = c(1,2), \n",
        "                          crs = st_crs(mask))"
      ],
      "id": "5e7ed033",
      "execution_count": null,
      "outputs": []
    },
    {
      "cell_type": "markdown",
      "metadata": {},
      "source": [
        ":::{.callout-caution title=\"Pregunta\"}\n",
        "Con qué funcion de GRASS podríamos haber hecho algo similar?\n",
        ":::\n",
        "\n",
        "Visualizamos el mapa que usamos como máscara junto con los vectores de\n",
        "presencia y background usando la librería `tmap` [@tmap].\n"
      ],
      "id": "da5e20ad"
    },
    {
      "cell_type": "code",
      "metadata": {},
      "source": [
        "%%R\n",
        "# Aux data\n",
        "bbox <- st_bbox(mask)\n",
        "\n",
        "fig_puntos <- \n",
        "  tm_shape(mask, \n",
        "           bbox = bbox) +\n",
        "  tm_raster(title = \"Classes\") +\n",
        "  tm_shape(presence) +\n",
        "  tm_dots(size = 0.02) +\n",
        "  tm_layout(main.title = \"Aedes aegypti\",\n",
        "            main.title.fontface = \"italic\",\n",
        "            main.title.size = 0.7,\n",
        "            main.title.position = \"left\",\n",
        "            legend.show = TRUE,\n",
        "            legend.outside = TRUE)\n",
        "\n",
        "tmap_save(fig_puntos, \n",
        "          filename = \"fig_puntos_y_mascara.png\", \n",
        "          width = 1000, height = 1300)"
      ],
      "id": "c8984316",
      "execution_count": null,
      "outputs": []
    },
    {
      "cell_type": "markdown",
      "metadata": {},
      "source": [
        "![Mapa generado con tmap](fig_puntos_y_mascara.png){width=60%}\n",
        "\n",
        "## Variables ambientales \n",
        "\n",
        "Antes de leer las variables ambientales que obtuvimos a partir de las series de\n",
        "tiempo de LST y NDVI, vamos a generar dos mapas ráster que representan la \n",
        "distancia a fuentes de agua y rutas y caminos, respectivamente. Para eso, \n",
        "vamos a usar mapas ya disponibles en el mapset PERMANENT. \n"
      ],
      "id": "bdda42de"
    },
    {
      "cell_type": "code",
      "metadata": {},
      "source": [
        "#| label: create_rasters_water\n",
        "%%R\n",
        "# Patch water lines + water bodies\n",
        "execGRASS(\"v.patch\",\n",
        "          parameters = list(input=\"lineas_aguas_continentales_perennes_cba,\n",
        "                            areas_aguas_continentales_perennes_cba,\n",
        "                            embalses\",\n",
        "                            output=\"lineas_y_cuerpos_de_agua_cba\"))\n",
        "\n",
        "# Convert to raster\n",
        "execGRASS(\"v.to.rast\",\n",
        "          parameters = list(input=\"lineas_y_cuerpos_de_agua_cba\",\n",
        "                            output=\"lineas_y_cuerpos_de_agua_cba\",\n",
        "                            use=\"val\"))\n",
        "\n",
        "# Distance to water and roads\n",
        "execGRASS(\"r.grow.distance\",\n",
        "          parameters = list(input=\"lineas_y_cuerpos_de_agua_cba\",\n",
        "                            distance=\"distancia_agua\"))"
      ],
      "id": "create_rasters_water",
      "execution_count": null,
      "outputs": []
    },
    {
      "cell_type": "code",
      "metadata": {},
      "source": [
        "#| label: create_rasters_roads\n",
        "%%R\n",
        "# Patch primary + secondary roads\n",
        "execGRASS(\"v.patch\",\n",
        "          parameters = list(input=\"vial_primaria_cba,vial_secundaria_cba\",\n",
        "                            output=\"red_vial_cba\"))\n",
        "# Convert to raster\n",
        "execGRASS(\"v.to.rast\",\n",
        "          parameters = list(input=\"red_vial_cba\",\n",
        "                            output=\"red_vial_cba\",\n",
        "                            use=\"val\"))\n",
        "\n",
        "# Distance to roads\n",
        "execGRASS(\"r.grow.distance\",\n",
        "          parameters = list(input=\"red_vial_cba\",\n",
        "                            distance=\"distancia_caminos\"))"
      ],
      "id": "create_rasters_roads",
      "execution_count": null,
      "outputs": []
    },
    {
      "cell_type": "markdown",
      "metadata": {},
      "source": [
        "Leemos los mapas generados y los visualizamos con `plot()`, que en este caso\n",
        "reconoce los objetos `SpatRast`.\n"
      ],
      "id": "67ea4c31"
    },
    {
      "cell_type": "code",
      "metadata": {},
      "source": [
        "#| label: read_distance_maps\n",
        "%%R\n",
        "\n",
        "distancia_agua <- read_RAST(\"distancia_agua\")\n",
        "distancia_caminos <- read_RAST(\"distancia_caminos\")\n",
        "\n",
        "plot(c(distancia_agua,distancia_caminos), \n",
        "     main=c(\"Distancia agua\", \"Distancia rutas\"))"
      ],
      "id": "read_distance_maps",
      "execution_count": null,
      "outputs": []
    },
    {
      "cell_type": "markdown",
      "metadata": {},
      "source": [
        "También podemos usar `tmap` y su función `tm_facets()`\n"
      ],
      "id": "45025258"
    },
    {
      "cell_type": "code",
      "metadata": {},
      "source": [
        "%%R\n",
        "distancia <- read_RAST(c(\"distancia_agua\",\"distancia_caminos\"))\n",
        "\n",
        "fig_raster_facet <- \n",
        "  tm_shape(distancia, \n",
        "           bbox = bbox) +\n",
        "  tm_raster(style = \"cont\",\n",
        "            palette = \"magma\",\n",
        "            legend.show = FALSE) +\n",
        "  tm_facets()\n",
        "\n",
        "fig_raster_facet"
      ],
      "id": "4b131316",
      "execution_count": null,
      "outputs": []
    },
    {
      "cell_type": "markdown",
      "metadata": {},
      "source": [
        "### Lectura de datos ráster de otros mapsets\n",
        "\n",
        "Para leer mapas de otros mapsets, necesitamos agregar esos mapsets a la lista de \n",
        "mapsets accesibles en el mapset donde estamos ahora.\n"
      ],
      "id": "79c08811"
    },
    {
      "cell_type": "code",
      "metadata": {},
      "source": [
        "#| label: add_mapsets\n",
        "%%R\n",
        "execGRASS(\"g.mapsets\",\n",
        "          parameters = list(mapset=\"modis_lst\",\n",
        "                            operation=\"add\"))\n",
        "execGRASS(\"g.mapsets\",\n",
        "          parameters = list(mapset=\"modis_ndvi\",\n",
        "                            operation=\"add\"))\n",
        "execGRASS(\"g.mapsets\",\n",
        "          flags = \"p\")"
      ],
      "id": "add_mapsets",
      "execution_count": null,
      "outputs": []
    },
    {
      "cell_type": "markdown",
      "metadata": {},
      "source": [
        "Leemos ahora algunas de las variables que derivamos de las series temporales de\n",
        "LST y NDVI. Primero, necesitamos aplicar la máscara de los límites de la \n",
        "provincia.\n"
      ],
      "id": "407a1cda"
    },
    {
      "cell_type": "code",
      "metadata": {},
      "source": [
        "%R execGRASS(\"r.mask\", parameters = list(vector=\"provincia_cba\"))"
      ],
      "id": "e70b43d7",
      "execution_count": null,
      "outputs": []
    },
    {
      "cell_type": "code",
      "metadata": {
        "message": false,
        "results": "hide"
      },
      "source": [
        "#| label: read_rasters\n",
        "#| warning: false\n",
        "%%R\n",
        "# List rasters to import\n",
        "to_import <- c(\"LST_Day_minimum\",\n",
        "               \"LST_Day_maximum\",\n",
        "               \"LST_Day_average\",\n",
        "               \"ndvi_maximum\",\n",
        "               \"ndvi_minimum\")\n",
        "\n",
        "# Read raster layers\n",
        "predictors <- list()\n",
        "for (i in to_import){ \n",
        "  predictors[i] <- read_RAST(i) }"
      ],
      "id": "read_rasters",
      "execution_count": null,
      "outputs": []
    },
    {
      "cell_type": "markdown",
      "metadata": {},
      "source": [
        "Agrupamos todos los rasters de variables ambientales.\n"
      ],
      "id": "8f39d971"
    },
    {
      "cell_type": "code",
      "metadata": {},
      "source": [
        "%%R\n",
        "# Stack rasters\n",
        "predictors_r <- rast(c(predictors,distancia))\n",
        "capas <- c(\"LST_Day_minimum\", \n",
        "           \"LST_Day_maximum\", \n",
        "           \"LST_Day_average\",\n",
        "           \"ndvi_maximum\",\n",
        "           \"ndvi_minimum\", \n",
        "           \"distancia_agua\",\n",
        "           \"distancia_caminos\")\n",
        "names(predictors_r) <- capas"
      ],
      "id": "04a71361",
      "execution_count": null,
      "outputs": []
    },
    {
      "cell_type": "markdown",
      "metadata": {},
      "source": [
        "## Preparación de los datos\n",
        "\n",
        "Ahora que hemos creado y/o importado los registros de presencia, los puntos de\n",
        "background y las variables predictivas, necesitamos preparar los datos en un \n",
        "formato llamado *samples with data* (SWD). Éste es básicamente una tabla con \n",
        "coordenadas de presencia y background más los valores correspondientes a las \n",
        "variables predictoras para cada punto.\n"
      ],
      "id": "6cc31483"
    },
    {
      "cell_type": "code",
      "metadata": {
        "message": false
      },
      "source": [
        "#| label: data_prep1\n",
        "#| warning: false\n",
        "%%R\n",
        "# Variables for models\n",
        "sp <- \"Aedes aegypti\"\n",
        "presence_coords <- st_coordinates(presence)\n",
        "background_coords <- background\n",
        "env <- predictors_r\n",
        "\n",
        "# Prepare data: SWD\n",
        "data_sp <- prepareSWD(species = sp, \n",
        "                      p = presence_coords, \n",
        "                      a = background_coords, \n",
        "                      env = env)\n",
        "\n",
        "data_sp"
      ],
      "id": "data_prep1",
      "execution_count": null,
      "outputs": []
    },
    {
      "cell_type": "markdown",
      "metadata": {},
      "source": [
        "## Definición de parámetros\n",
        "\n",
        "Aquí definimos algunos de los valores de entrada necesarios para el flujo de \n",
        "trabajo:\n"
      ],
      "id": "21fe3ed9"
    },
    {
      "cell_type": "code",
      "metadata": {},
      "source": [
        "%%R\n",
        "seed=123\n",
        "perc_test = 0.2\n",
        "k = 4\n",
        "method=\"Maxent\"\n",
        "cor_th=0.7\n",
        "perm=10\n",
        "imp_th=10"
      ],
      "id": "3652a620",
      "execution_count": null,
      "outputs": []
    },
    {
      "cell_type": "markdown",
      "metadata": {},
      "source": [
        "## Datos de entrenamiento y evaluación\n",
        "\n",
        "Entrenaremos el modelo con un 80% de muestras de presencia, y dejaremos el 20% \n",
        "restante para la evaluación al final.\n"
      ],
      "id": "3c8cf41d"
    },
    {
      "cell_type": "code",
      "metadata": {},
      "source": [
        "%%R\n",
        "# Create training and test sets\n",
        "c(train_sp, test_sp) %<-% \n",
        "  trainValTest(data_sp, \n",
        "               test = perc_test,\n",
        "               only_presence = TRUE, \n",
        "               seed = seed)"
      ],
      "id": "d30c2691",
      "execution_count": null,
      "outputs": []
    },
    {
      "cell_type": "code",
      "metadata": {},
      "source": [
        "%R train_sp"
      ],
      "id": "bc95555b",
      "execution_count": null,
      "outputs": []
    },
    {
      "cell_type": "code",
      "metadata": {},
      "source": [
        "%R test_sp"
      ],
      "id": "1f67ca2e",
      "execution_count": null,
      "outputs": []
    },
    {
      "cell_type": "markdown",
      "metadata": {},
      "source": [
        "## Creación de *folds* para validación cruzada\n",
        "\n",
        "Como usaremos validación cruzada durante el entrenamiento del modelo, creamos \n",
        "los *folds* con anticipación. En este caso utilizamos *folds* aleatorios, \n",
        "pero existen otros métodos de determinarlos. Como estamos limitados por la \n",
        "cantidad de registros de presencia, crearemos solo 4 *folds* o *subconjuntos*.\n",
        "El algoritmo utilizará iterativamente 3 subconjuntos para entrenar y 1 para \n",
        "validar, pero siempre dentro del entrenamiento.\n"
      ],
      "id": "043e733b"
    },
    {
      "cell_type": "code",
      "metadata": {},
      "source": [
        "%%R\n",
        "# Create folds \n",
        "ran_folds <- randomFolds(train_sp, \n",
        "                         k = k,\n",
        "                         only_presence = TRUE, \n",
        "                         seed = seed)"
      ],
      "id": "1d45f7f0",
      "execution_count": null,
      "outputs": []
    },
    {
      "cell_type": "markdown",
      "metadata": {},
      "source": [
        "## Entrenamiento con validación cruzada\n",
        "\n",
        "Primero entrenaremos un llamado *modelo completo*, es decir, un modelo con todos\n",
        "los predictores, y de allí eliminaremos aquellos que estén altamente \n",
        "correlacionados y cuya contribución a la predicción no sea importante.\n"
      ],
      "id": "ec5749d9"
    },
    {
      "cell_type": "code",
      "metadata": {
        "message": false
      },
      "source": [
        "#| warning: false\n",
        "%%R\n",
        "# Train a full model\n",
        "full_model_sp <- train(method = method,\n",
        "                       data = train_sp, \n",
        "                       folds = ran_folds)\n",
        "\n",
        "full_model_sp"
      ],
      "id": "9fa65315",
      "execution_count": null,
      "outputs": []
    },
    {
      "cell_type": "markdown",
      "metadata": {},
      "source": [
        "Veamos las predicciones geográficas del modelo completo o *full model*\n"
      ],
      "id": "e9616be8"
    },
    {
      "cell_type": "code",
      "metadata": {},
      "source": [
        "%%R\n",
        "pred_full_model <- predict(full_model_sp,\n",
        "                           data = env,\n",
        "                           type = \"cloglog\")\n",
        "\n",
        "plot(pred_full_model)"
      ],
      "id": "4b4b959f",
      "execution_count": null,
      "outputs": []
    },
    {
      "cell_type": "markdown",
      "metadata": {},
      "source": [
        "## Selección de variables\n",
        "\n",
        "### Remover variables altamente correlacionadas \n",
        "\n",
        "Luego procedemos a eliminar los predictores correlacionados ya que proporcionan\n",
        "información altamente redundante y pueden afectar el rendimiento de los modelos,\n",
        "es decir, como con todos los modelos, queremos que sea simple y del mayor \n",
        "rendimiento posible. Usaremos el área bajo la curva ROC (AUC) como métrica de \n",
        "rendimiento y eliminaremos las variables correlacionadas solo si el AUC disminuye\n",
        "si las mantenemos.\n"
      ],
      "id": "ecc444f6"
    },
    {
      "cell_type": "code",
      "metadata": {},
      "source": [
        "#| warning: false\n",
        "%%R\n",
        "# Prepare background locations to test correlation\n",
        "bg_sp <- prepareSWD(species = sp, \n",
        "                    a = background_coords,\n",
        "                    env = env)\n",
        "\n",
        "# Remove variables with correlation higher than 0.7 \n",
        "# while accounting for the AUC\n",
        "vs_sp <- varSel(full_model_sp,\n",
        "                metric = \"auc\", \n",
        "                bg4cor = bg_sp, \n",
        "                cor_th = cor_th,\n",
        "                permut = perm,\n",
        "                interactive = FALSE)"
      ],
      "id": "08bd0d5a",
      "execution_count": null,
      "outputs": []
    },
    {
      "cell_type": "markdown",
      "metadata": {},
      "source": [
        "Exploremos el objeto de salida\n"
      ],
      "id": "4b6e75e8"
    },
    {
      "cell_type": "code",
      "metadata": {},
      "source": [
        "%R vs_sp@data"
      ],
      "id": "1ee76eb8",
      "execution_count": null,
      "outputs": []
    },
    {
      "cell_type": "markdown",
      "metadata": {},
      "source": [
        "### Remover variables de menor importancia\n",
        "\n",
        "Después de descartar las variables correlacionadas, también eliminaremos las \n",
        "variables que tengan una contribución porcentual o una importancia inferior al \n",
        "10%, considerando como su mantenimiento o remoción afecta al AUC.\n"
      ],
      "id": "8716ab81"
    },
    {
      "cell_type": "code",
      "metadata": {},
      "source": [
        "%%R\n",
        "# remove less important variables only if auc does not decrease\n",
        "reduc_var_sp <- reduceVar(vs_sp,\n",
        "                          th = imp_th, \n",
        "                          metric = \"auc\", \n",
        "                          test = TRUE, \n",
        "                          permut = perm, \n",
        "                          use_jk = TRUE,\n",
        "                          interactive = FALSE)"
      ],
      "id": "c0d1096b",
      "execution_count": null,
      "outputs": []
    },
    {
      "cell_type": "markdown",
      "metadata": {},
      "source": [
        "Exploremos el objeto resultante\n"
      ],
      "id": "dd39722d"
    },
    {
      "cell_type": "code",
      "metadata": {},
      "source": [
        "%R reduc_var_sp"
      ],
      "id": "4be44127",
      "execution_count": null,
      "outputs": []
    },
    {
      "cell_type": "markdown",
      "metadata": {},
      "source": [
        "Ahora necesitamos recrear el objeto SWD y los conjuntos de datos de entrenamiento \n",
        "y evaluación, pero solo con las variables seleccionadas, para poder ejecutar el \n",
        "modelo final y hacer predicciones.\n"
      ],
      "id": "f679a662"
    },
    {
      "cell_type": "code",
      "metadata": {},
      "source": [
        "%%R\n",
        "# Get only relevant variables from the reduced model\n",
        "retained_varnames <- names(reduc_var_sp@models[[1]]@data@data)\n",
        "\n",
        "# Subset stack\n",
        "env <- terra::subset(env, retained_varnames)\n",
        "\n",
        "# SWD with the selected vars\n",
        "subset_train_sp <- prepareSWD(species = sp, \n",
        "                              p = presence_coords,\n",
        "                              a = background_coords,\n",
        "                              env = env)\n",
        "\n",
        "c(train_sp, test_sp) %<-% \n",
        "  trainValTest(subset_train_sp, \n",
        "               test = perc_test, \n",
        "               only_presence = TRUE, \n",
        "               seed = seed)"
      ],
      "id": "ee144773",
      "execution_count": null,
      "outputs": []
    },
    {
      "cell_type": "markdown",
      "metadata": {},
      "source": [
        "## Predicciones con el modelo seleccionado\n",
        "\n",
        "Ahora entrenamos el modelo final con el conjunto de entrenamiento completo, \n",
        "ya no necesitamos los *folds* en este punto. Tengan en cuenta que también \n",
        "utilizamos las *feature classes* (fc) y la regularización (reg) del mejor \n",
        "modelo obtenido anteriormente. En este caso, son solo valores predeterminados,\n",
        "pero si también realizamos una optimización de hiperparámetros, pueden diferir.\n"
      ],
      "id": "bd68a54a"
    },
    {
      "cell_type": "code",
      "metadata": {},
      "source": [
        "%%R\n",
        "final_model_sp <- train(method = method, \n",
        "                        data = train_sp,\n",
        "                        fc = reduc_var_sp@models[[1]]@model@fc,\n",
        "                        reg = reduc_var_sp@models[[1]]@model@reg)"
      ],
      "id": "81d7c00c",
      "execution_count": null,
      "outputs": []
    },
    {
      "cell_type": "markdown",
      "metadata": {},
      "source": [
        ":::{.callout-note}\n",
        "Si les interesa conocer opciones de optimización de hiperparámetros en el \n",
        "contexto de los SDM, puedes chequear el siguiente artículo:\n",
        "<https://consbiol-unibern.github.io/SDMtune/articles/tune-hyperparameters.html>\n",
        ":::\n",
        "\n",
        "Hagamos las predicciones en el espacio geográfico y exploremos el resultado\n"
      ],
      "id": "0c02d0ca"
    },
    {
      "cell_type": "code",
      "metadata": {},
      "source": [
        "%%R\n",
        "map_sp_maxent <- predict(final_model_sp,\n",
        "                         data = env, \n",
        "                         type = \"cloglog\")\n",
        "\n",
        "plot(map_sp_maxent)"
      ],
      "id": "309b0ea2",
      "execution_count": null,
      "outputs": []
    },
    {
      "cell_type": "markdown",
      "metadata": {},
      "source": [
        "## Guardamos la predicción en GRASS \n",
        "\n",
        "Ahora podemos escribir el ráster con las predicciones del modelo final en la \n",
        "base de datos de GRASS.\n"
      ],
      "id": "8227ab11"
    },
    {
      "cell_type": "code",
      "metadata": {},
      "source": [
        "%%R\n",
        "write_RAST(map_sp_maxent, \n",
        "           \"Aedes_aegypti_maxent\", \n",
        "           flags = c(\"o\",\"overwrite\"))"
      ],
      "id": "cfa0eb50",
      "execution_count": null,
      "outputs": []
    },
    {
      "cell_type": "markdown",
      "metadata": {},
      "source": [
        "Corroboramos que el mapa creado esté allí\n"
      ],
      "id": "4f24b425"
    },
    {
      "cell_type": "code",
      "metadata": {},
      "source": [
        "%%R\n",
        "execGRASS(\"g.list\", \n",
        "          parameters = list(type=\"raster\",\n",
        "                            pattern=\"Aedes*\"))"
      ],
      "id": "0297580b",
      "execution_count": null,
      "outputs": []
    },
    {
      "cell_type": "markdown",
      "metadata": {},
      "source": [
        "## Evaluación del modelo\n",
        "\n",
        "Queremos saber qué tan bueno es nuestro modelo, por eso en este paso usamos \n",
        "el conjunto de datos de evaluación que separamos al principio. \n",
        "Un AUC de 0,5 significaría que el modelo funciona equivalentemente a lanzar una\n",
        "moneda al aire.\n",
        "AUC es lo que llamamos una métrica de evaluación independiente de umbral.\n"
      ],
      "id": "b48276ec"
    },
    {
      "cell_type": "code",
      "metadata": {},
      "source": [
        "%%R\n",
        "# AUC\n",
        "auc_maxent <- auc(final_model_sp, test = test_sp)\n",
        "auc_maxent"
      ],
      "id": "f65d127f",
      "execution_count": null,
      "outputs": []
    },
    {
      "cell_type": "markdown",
      "metadata": {},
      "source": [
        "Normalmente el resultado del SDM se convierte en mapas de presencia/ausencia. \n",
        "Para determinar qué umbral utilizar, realizamos evaluaciones dependientes del \n",
        "umbral.\n"
      ],
      "id": "62f64cfe"
    },
    {
      "cell_type": "code",
      "metadata": {},
      "source": [
        "%%R\n",
        "# Threshold dependent evaluation\n",
        "th_maxent <- thresholds(final_model_sp, \n",
        "                        type = \"cloglog\", \n",
        "                        test = test_sp)\n",
        "\n",
        "knitr::kable(th_maxent, format = 'html', digits = 2)"
      ],
      "id": "8651be0e",
      "execution_count": null,
      "outputs": []
    },
    {
      "cell_type": "markdown",
      "metadata": {},
      "source": [
        "Elegimos un umbral y creamos un mapa binario, i.e., de presencia y ausencia\n"
      ],
      "id": "ab9c8829"
    },
    {
      "cell_type": "code",
      "metadata": {},
      "source": [
        "%%R\n",
        "p = map_sp_maxent >= 0.5\n",
        "a = map_sp_maxent < 0.5\n",
        "map_sp_maxent[p] <- 1\n",
        "map_sp_maxent[a] <- 0\n",
        "\n",
        "plot(map_sp_maxent)"
      ],
      "id": "f8b3a5aa",
      "execution_count": null,
      "outputs": []
    },
    {
      "cell_type": "markdown",
      "metadata": {},
      "source": [
        "## Importancia de las variables\n",
        "\n",
        "La importancia de las variables es un indicador de la contribución variable \n",
        "a la predicción.\n"
      ],
      "id": "c979ff97"
    },
    {
      "cell_type": "code",
      "metadata": {},
      "source": [
        "%%R\n",
        "vi_model_sp <- maxentVarImp(final_model_sp)\n",
        "vi_model_sp"
      ],
      "id": "6576b5b0",
      "execution_count": null,
      "outputs": []
    },
    {
      "cell_type": "code",
      "metadata": {},
      "source": [
        "%R plotVarImp(vi_model_sp)"
      ],
      "id": "44f48cf5",
      "execution_count": null,
      "outputs": []
    },
    {
      "cell_type": "markdown",
      "metadata": {},
      "source": [
        "## Curvas de respuesta\n",
        "\n",
        "Las curvas de respuesta nos dan una idea de la relación entre las variables \n",
        "predictoras y la probabilidad de ocurrencia del evento de interés.\n"
      ],
      "id": "46ac8615"
    },
    {
      "cell_type": "code",
      "metadata": {},
      "source": [
        "%%R\n",
        "my_rp <- function(i){\n",
        "  plotResponse(reduc_var_sp, i)\n",
        "}\n",
        "\n",
        "plotlist <- lapply(retained_varnames, my_rp)\n",
        "labels <- LETTERS[1:length(retained_varnames)]\n",
        "ggpubr::ggarrange(plotlist = plotlist, labels = labels)"
      ],
      "id": "0ed7b26c",
      "execution_count": null,
      "outputs": []
    },
    {
      "cell_type": "markdown",
      "metadata": {},
      "source": [
        "Cerramos el mapset y terminamos :)\n"
      ],
      "id": "168b07dc"
    },
    {
      "cell_type": "code",
      "metadata": {},
      "source": [
        "%%R\n",
        "# close the mapset\n",
        "unlink_.gislock()"
      ],
      "id": "b354677e",
      "execution_count": null,
      "outputs": []
    },
    {
      "cell_type": "markdown",
      "metadata": {},
      "source": [
        "# Disclaimer\n",
        "\n",
        "Recordar que éste es sólo un ejemplo sencillo para hacer SDM y sólo el \n",
        "comienzo... Hay:\n",
        "\n",
        "- otros modelos para probar\n",
        "- ajuste/optimización de hiperparámetros\n",
        "- ensemble de modelos\n",
        "- evaluación de la incertidumbre, i.e., dónde podemos predecir con confianza\n",
        "- muchos otros paquetes relevantes:\n",
        "   - [*dismo*](https://cran.r-project.org/web/packages/dismo/index.html), [*sdm*](https://cran.r-project.org/web/ paquetes/sdm/index.html), [*kuenm*](https://github.com/marlonecobos/kuenm), [*caret*](https://cran.r-project.org/web/packages/ caret/index.html), [*CAST*](https://cran.r-project.org/web/packages/CAST/index.html), etc.\n",
        "\n",
        "# Referencias\n",
        "\n",
        ":::{#refs}\n",
        "\n",
        ":::"
      ],
      "id": "ce8914a4"
    }
  ],
  "metadata": {
    "kernelspec": {
      "name": "python3",
      "language": "python",
      "display_name": "Python 3 (ipykernel)"
    }
  },
  "nbformat": 4,
  "nbformat_minor": 5
}