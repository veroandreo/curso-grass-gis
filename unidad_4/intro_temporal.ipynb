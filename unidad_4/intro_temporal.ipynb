{
  "cells": [
    {
      "cell_type": "raw",
      "metadata": {},
      "source": [
        "---\n",
        "title: Intro a series de tiempo\n",
        "author: Verónica Andreo\n",
        "date: today\n",
        "format:\n",
        "  html:\n",
        "    code-tools: true\n",
        "    code-copy: true\n",
        "    code-fold: false\n",
        "execute:\n",
        "  eval: false\n",
        "  cache: false\n",
        "  keep-ipynb: true\n",
        "---"
      ],
      "id": "165ff1de"
    },
    {
      "cell_type": "markdown",
      "metadata": {},
      "source": [
        "# TGRASS: GRASS Temporal\n",
        "\n",
        "**GRASS GIS** es **el primer SIG de código abierto** que incorporó capacidades \n",
        "para **gestionar, analizar, procesar y visualizar datos espacio-temporales**,\n",
        "así como las relaciones temporales entre series de tiempo.\n",
        "\n",
        "- Completamente [basado en metadatos]{style=\"color: #18bc9c;\"}, por lo que no \n",
        "hay duplicación de datos\n",
        "- Sigue una aproximación [*Snapshot*]{style=\"color: #18bc9c;\"}, i.e., añade \n",
        "marcas de tiempo o *timestamps* a los mapas\n",
        "- Una colección de mapas de la misma variable con timestamps se llama \n",
        "[space-time dataset o STDS]{style=\"color: #18bc9c;\"}\n",
        "- Los mapas en una STDS pueden tener diferentes extensiones espaciales y \n",
        "temporales\n",
        "- TGRASS utiliza una base de datos [SQLite](https://www.sqlite.org/index.html) \n",
        "para almacenar la extensión temporal y espacial de las STDS, así como las \n",
        "relaciones topológicas entre los mapas y entre las STDS en cada mapset.\n",
        "\n",
        "TGRASS o GRASS GIS temporal framework fue desarrollado por Sören Gebbert como\n",
        "parte de un proyecto Google Summer of Code en 2012. Detalles técnicos de la \n",
        "implementación pueden encontrarse en: @gebbert_temporal_2014, \n",
        "@gebbert_grass_2017 y @gebbert_topology_2019.\n",
        "\n",
        "## Space-time datasets\n",
        "\n",
        "- Space time raster datasets ([**STRDS**]{style=\"color: #18bc9c;\"})\n",
        "- Space time 3D raster datasets ([**STR3DS**]{style=\"color: #18bc9c;\"})\n",
        "- Space time vector datasets ([**STVDS**]{style=\"color: #18bc9c;\"})\n",
        "\n",
        "## Otras nociones básicas en TGRASS\n",
        "\n",
        "- El tiempo puede definirse como **intervalos** (inicio y fin) o como \n",
        "**instancias** (sólo inicio)\n",
        "- El tiempo puede ser **absoluto** (por ejemplo, 2017-04-06 22:39:49) o \n",
        "**relativo** (por ejemplo, 4 años, 90 días)\n",
        "- *Granularidad* es el mayor divisor común de todas las extensiones temporales\n",
        "(y posibles gaps) de los mapas de un STDS\n",
        "\n",
        "![Series de diferente granularidad y tipo de tiempo](https://grass.osgeo.org/grass-stable/manuals/timeline_2D.jpg){width=\"50%\" fig-align=\"center\"}\n",
        "\n",
        "- *Topología* se refiere a las relaciones temporales entre los intervalos de \n",
        "tiempo en una STDS\n",
        "\n",
        "![Relaciones topológicas entre STDS y entre mapas](../assets/img/temp_relation.png){width=70%}\n",
        "\n",
        "- *Muestreo temporal* se utiliza para determinar el estado de un proceso respecto \n",
        "un segundo proceso.\n",
        "\n",
        "![Muestreo temporal](../assets/img/temp_samplings.png){width=55%}\n",
        "\n",
        "## Módulos temporales\n",
        "\n",
        "- **t.\\***: Módulos generales para manejar STDS de todos los tipos\n",
        "- **t.rast.\\***: Módulos que tratan con STRDS\n",
        "- **t.rast3d.\\***: Módulos que tratan con STR3DS\n",
        "- **t.vect.\\***: Módulos que tratan con STVDS\n",
        "\n",
        "\n",
        "## TGRASS: marco general y flujo de trabajo\n",
        "\n",
        "![](../assets/img/tgrass_flowchart.png){width=80%}\n",
        "\n",
        "# Manos a la obra\n",
        "\n",
        "En esta segunda parte de la sesión vamos a recorrer los módulos temporales de\n",
        "GRASS GIS y demostrar su funcionalidad por medio de una serie de datos de \n",
        "temperatura de superficie (LST) de MODIS.\n",
        "\n",
        "### Datos para la sesión\n",
        "\n",
        "- Producto MODIS: <a href=\"https://lpdaac.usgs.gov/products/mod11b3v006/\">MOD11B3 Collection 6</a>\n",
        "- Tile: h12v12\n",
        "- Composiciones mensuales \n",
        "- Resolución espacial: 5600m\n",
        "- Mapset *`modis_lst`* \n",
        "\n",
        "\n",
        "![Tile h12v12 del producto MOD11B3](../assets/img/mod11b3_h12v12.png){width=85%}\n",
        "\n",
        "### Iniciamos GRASS\n",
        "\n",
        "Definimos las rutas y el mapset *`modis_lst`*\n"
      ],
      "id": "014d5651"
    },
    {
      "cell_type": "code",
      "metadata": {},
      "source": [
        "import os\n",
        "\n",
        "# data directory\n",
        "homedir = os.path.expanduser('~')\n",
        "\n",
        "# GRASS GIS database variables\n",
        "grassdata = os.path.join(homedir, \"grassdata\")\n",
        "project = \"posgar2007_4_cba\"\n",
        "mapset = \"modis_lst\""
      ],
      "id": "7f6172e4",
      "execution_count": null,
      "outputs": []
    },
    {
      "cell_type": "code",
      "metadata": {},
      "source": [
        "# import standard Python packages we need\n",
        "import sys\n",
        "import subprocess\n",
        "\n",
        "# ask GRASS GIS where its Python packages are to be able to run it from the notebook\n",
        "sys.path.append(\n",
        "    subprocess.check_output([\"grass\", \"--config\", \"python_path\"], text=True).strip()\n",
        ")"
      ],
      "id": "e2857638",
      "execution_count": null,
      "outputs": []
    },
    {
      "cell_type": "markdown",
      "metadata": {},
      "source": [
        "Importamos los paquetes de GRASS e iniciamos una sesión:\n"
      ],
      "id": "c704a9d8"
    },
    {
      "cell_type": "code",
      "metadata": {},
      "source": [
        "# import the GRASS GIS packages we need\n",
        "import grass.script as gs\n",
        "import grass.jupyter as gj\n",
        "\n",
        "# Start the GRASS GIS Session\n",
        "session = gj.init(grassdata, project, mapset)"
      ],
      "id": "bc36329e",
      "execution_count": null,
      "outputs": []
    },
    {
      "cell_type": "code",
      "metadata": {},
      "source": [
        "# show current GRASS GIS settings, this also checks if the session works\n",
        "gs.gisenv()"
      ],
      "id": "5dadb3dd",
      "execution_count": null,
      "outputs": []
    },
    {
      "cell_type": "markdown",
      "metadata": {},
      "source": [
        "### Región computacional y máscara\n",
        "\n",
        "Listar los mapas raster y obtener información de uno de ellos\n"
      ],
      "id": "c46e8830"
    },
    {
      "cell_type": "code",
      "metadata": {},
      "source": [
        "# get list of raster maps in the 'modis_lst' mapset\n",
        "lista_mapas = gs.list_grouped(type=\"raster\")[\"modis_lst\"]\n",
        "lista_mapas[:8]"
      ],
      "id": "9429cc3b",
      "execution_count": null,
      "outputs": []
    },
    {
      "cell_type": "code",
      "metadata": {},
      "source": [
        "# Get info from one of the raster maps\n",
        "gs.raster_info(map=\"MOD11B3.A2015001.h12v12.single_LST_Day_6km\")"
      ],
      "id": "9f17f7d8",
      "execution_count": null,
      "outputs": []
    },
    {
      "cell_type": "markdown",
      "metadata": {},
      "source": [
        "Vamos a agregar el *semantic label* a cada mapa de LST\n"
      ],
      "id": "b0b26469"
    },
    {
      "cell_type": "code",
      "metadata": {},
      "source": [
        "# list only LST maps\n",
        "lista_lst = gs.list_grouped(type=\"raster\",\n",
        "                            pattern=\"*LST_Day*\")[\"modis_lst\"]"
      ],
      "id": "d9c44008",
      "execution_count": null,
      "outputs": []
    },
    {
      "cell_type": "code",
      "metadata": {},
      "source": [
        "# set semantic labels\n",
        "for i in lista_lst:\n",
        "    gs.run_command(\"r.support\",\n",
        "                   map=i,\n",
        "                   semantic_label=\"LST\")"
      ],
      "id": "f4cac926",
      "execution_count": null,
      "outputs": []
    },
    {
      "cell_type": "code",
      "metadata": {},
      "source": [
        "# Get info from one of the raster maps\n",
        "gs.raster_info(map=\"MOD11B3.A2015001.h12v12.single_LST_Day_6km\")[\"semantic_label\"]"
      ],
      "id": "4938547f",
      "execution_count": null,
      "outputs": []
    },
    {
      "cell_type": "markdown",
      "metadata": {},
      "source": [
        "Establecemos la región computacional\n"
      ],
      "id": "9b4bece0"
    },
    {
      "cell_type": "code",
      "metadata": {},
      "source": [
        "# set region to Cba boundaries with LST maps' resolution\n",
        "gs.region_env(vector=\"provincia_cba\",\n",
        "              align=\"MOD11B3.A2015001.h12v12.single_LST_Day_6km\",\n",
        "              flags=\"p\")"
      ],
      "id": "13f8d480",
      "execution_count": null,
      "outputs": []
    },
    {
      "cell_type": "markdown",
      "metadata": {},
      "source": [
        "Aplicamos la máscara con los límites de la provincia de Córdoba\n"
      ],
      "id": "ad3c61ae"
    },
    {
      "cell_type": "code",
      "metadata": {},
      "source": [
        "# set a MASK to Cba boundary\n",
        "gs.run_command(\"r.mask\",\n",
        "               vector=\"provincia_cba\")"
      ],
      "id": "a9f053df",
      "execution_count": null,
      "outputs": []
    },
    {
      "cell_type": "code",
      "metadata": {},
      "source": [
        "# plot\n",
        "cba_map=gj.InteractiveMap(width = 500, tiles=\"OpenStreetMap\")\n",
        "cba_map.add_raster(\"MOD11B3.A2015001.h12v12.single_LST_Day_6km\")\n",
        "cba_map.add_vector(\"provincia_cba\")\n",
        "cba_map.add_layer_control(position = \"bottomright\")\n",
        "cba_map.show()"
      ],
      "id": "796eea0d",
      "execution_count": null,
      "outputs": []
    },
    {
      "cell_type": "markdown",
      "metadata": {},
      "source": [
        "### Crear un conjunto de datos espacio-temporales (STDS)\n",
        "\n",
        "**[t.create](https://grass.osgeo.org/grass-stable/manuals/t.create.html)**\n",
        "\n",
        "- Crea una tabla SQLite en la base de datos temporal \n",
        "- Permite manejar grandes cantidades de mapas usando el STDS como entrada\n",
        "- Necesitamos especificar:\n",
        "  - *tipo de mapas* (raster, raster3d o vector)\n",
        "  - *tipo de tiempo* (absoluto o relativo)\n",
        "\n",
        "Creamos la STRDS\n"
      ],
      "id": "427adc1a"
    },
    {
      "cell_type": "code",
      "metadata": {},
      "source": [
        "# Create the STRDS\n",
        "gs.run_command(\"t.create\",\n",
        "               type=\"strds\",\n",
        "               temporaltype=\"absolute\",\n",
        "               output=\"LST_Day_monthly\",\n",
        "               title=\"Monthly LST Day 5.6 km\",\n",
        "               description=\"Monthly LST Day 5.6 km MOD11B3.006 Cordoba, 2015-2019\")"
      ],
      "id": "6de9dc54",
      "execution_count": null,
      "outputs": []
    },
    {
      "cell_type": "markdown",
      "metadata": {},
      "source": [
        "Chequear si la STRDS fue creada\n"
      ],
      "id": "2e69ffe9"
    },
    {
      "cell_type": "code",
      "metadata": {},
      "source": [
        "# Check if the STRDS is created\n",
        "gs.read_command(\"t.list\",\n",
        "                type=\"strds\")"
      ],
      "id": "47ad7e5a",
      "execution_count": null,
      "outputs": []
    },
    {
      "cell_type": "markdown",
      "metadata": {},
      "source": [
        "Obtener información sobre la STRDS\n"
      ],
      "id": "25d40e99"
    },
    {
      "cell_type": "code",
      "metadata": {},
      "source": [
        "# Get info about the STRDS\n",
        "print(gs.read_command(\"t.info\", \n",
        "                input=\"LST_Day_monthly\"))"
      ],
      "id": "d9b05e6f",
      "execution_count": null,
      "outputs": []
    },
    {
      "cell_type": "markdown",
      "metadata": {},
      "source": [
        "### Registrar mapas en una STDS (asignar *timestamps*)\n",
        "\n",
        "**[t.register](https://grass.osgeo.org/grass-stable/manuals/t.register.html)**\n",
        "\n",
        "- Asigna o agrega timestamps a los mapas\n",
        "- Necesitamos: \n",
        "  - el *STDS vacío* como entrada, i.e., la tabla SQLite contenedora, \n",
        "  - la *lista de mapas* que se registrarán, \n",
        "  - la *fecha de inicio*,\n",
        "  - la opción de *incremento* junto con *-i* para la creación de intervalos \n"
      ],
      "id": "ff50f0d5"
    },
    {
      "cell_type": "code",
      "metadata": {},
      "source": [
        "# Add time stamps to maps (i.e., register maps)\n",
        "gs.run_command(\"t.register\",\n",
        "               input=\"LST_Day_monthly\",\n",
        "               maps=lista_lst,\n",
        "               start=\"2015-01-01\",\n",
        "               increment=\"1 months\",\n",
        "               flags=\"i\")"
      ],
      "id": "04af5508",
      "execution_count": null,
      "outputs": []
    },
    {
      "cell_type": "markdown",
      "metadata": {},
      "source": [
        "Chequear la información sobre la STRDS nuevamente\n"
      ],
      "id": "bacdf2b0"
    },
    {
      "cell_type": "code",
      "metadata": {},
      "source": [
        "# Check info again\n",
        "print(gs.read_command(\"t.info\", \n",
        "                input=\"LST_Day_monthly\"))"
      ],
      "id": "4468321a",
      "execution_count": null,
      "outputs": []
    },
    {
      "cell_type": "markdown",
      "metadata": {},
      "source": [
        "Revisamos la lista de mapas en la STRDS\n"
      ],
      "id": "d4caf1c5"
    },
    {
      "cell_type": "code",
      "metadata": {},
      "source": [
        "# Check the list of maps in the STRDS\n",
        "print(gs.read_command(\"t.rast.list\", \n",
        "                      input=\"LST_Day_monthly\"))"
      ],
      "id": "59458cb0",
      "execution_count": null,
      "outputs": []
    },
    {
      "cell_type": "markdown",
      "metadata": {},
      "source": [
        "Chequeamos los valores mínimos y máximos de cada mapa\n"
      ],
      "id": "0a7857b8"
    },
    {
      "cell_type": "code",
      "metadata": {},
      "source": [
        "# Check min and max per map\n",
        "print(gs.read_command(\"t.rast.list\",\n",
        "                      input=\"LST_Day_monthly\",\n",
        "                      columns=\"name,min,max\"))"
      ],
      "id": "dcd63d3b",
      "execution_count": null,
      "outputs": []
    },
    {
      "cell_type": "markdown",
      "metadata": {},
      "source": [
        ":::{.callout-note}\n",
        "Para más opciones sobre cómo registrar mapas, ver el manual de \n",
        "[t.register](https://grass.osgeo.org/grass-stable/manuals/t.register.html) \n",
        "y la wiki sobre \n",
        "[opciones para registrar mapas en STDS](https://grasswiki.osgeo.org/wiki/Temporal_data_processing/maps_registration).\n",
        ":::\n",
        "\n",
        "### Representación gráfica de STDS\n",
        "\n",
        "Crear una representación gráfica de la serie de tiempo\n"
      ],
      "id": "1eba8ddb"
    },
    {
      "cell_type": "code",
      "metadata": {},
      "source": [
        "!g.gui.timeline inputs=LST_Day_monthly"
      ],
      "id": "a624b6c6",
      "execution_count": null,
      "outputs": []
    },
    {
      "cell_type": "markdown",
      "metadata": {},
      "source": [
        "![](../assets/img/g_gui_timeline_monthly.png){width=60%}\n",
        "\n",
        ":::{.callout-note}\n",
        "Ver el manual de <a href=\"https://grass.osgeo.org/grass-stable/manuals/g.gui.timeline.html\">g.gui.timeline</a> para más detalles.\n",
        ":::\n",
        "\n",
        "### Operaciones con álgebra temporal\n",
        "\n",
        "**[t.rast.algebra](https://grass.osgeo.org/grass-stable/manuals/t.rast.algebra.html)**\n",
        "\n",
        "- Realiza una amplia gama de operaciones de álgebra temporal y espacial basadas \n",
        "en la topología temporal de los mapas\n",
        "  - Operadores temporales: unión, intersección, etc.\n",
        "  - Funciones temporales: *start_time()*, *start_doy()*, etc.\n",
        "  - Operadores espaciales (subconjunto de [r.mapcalc](https://grass.osgeo.org/grass-stable/manuals/r.mapcalc.html))\n",
        "  - Modificador de vecindario temporal: *[x,y,t]*\n",
        "  - Otras funciones temporales como *t_snap()*, *buff_t()* o *t_shift()*\n",
        "\n",
        "**¡pueden combinarse en expresiones complejas!**\n",
        "\n",
        "\n",
        "#### Desde K*50 a Celsius usando la calculadora temporal\n",
        "\n",
        "Re-escalar a grados Celsius\n"
      ],
      "id": "fecaba94"
    },
    {
      "cell_type": "code",
      "metadata": {},
      "source": [
        "# Re-scale data to degrees Celsius\n",
        "expression=\"LST_Day_monthly_celsius = LST_Day_monthly * 0.02 - 273.15\"\n",
        "\n",
        "gs.run_command(\"t.rast.algebra\",\n",
        "               basename=\"LST_Day_monthly_celsius\",\n",
        "               suffix=\"gran\",\n",
        "               expression=expression)"
      ],
      "id": "1a5ca086",
      "execution_count": null,
      "outputs": []
    },
    {
      "cell_type": "markdown",
      "metadata": {},
      "source": [
        "Ver info de la nueva serie de tiempo\n"
      ],
      "id": "0e972c32"
    },
    {
      "cell_type": "code",
      "metadata": {},
      "source": [
        "# Check info\n",
        "print(gs.read_command(\"t.info\", \n",
        "                      input=\"LST_Day_monthly_celsius\"))"
      ],
      "id": "8f7881b0",
      "execution_count": null,
      "outputs": []
    },
    {
      "cell_type": "markdown",
      "metadata": {},
      "source": [
        "### Gráfico temporal: LST vs tiempo\n",
        "\n",
        "Gráfico temporal de LST para la ciudad de Córdoba, Argentina\n"
      ],
      "id": "471f0acc"
    },
    {
      "cell_type": "code",
      "metadata": {},
      "source": [
        "# LST time series plot for Cba city center\n",
        "!g.gui.tplot strds=LST_Day_monthly_celsius coordinates=4323478.531282977,6541664.09350761 title=\"Monthly LST. City center of Cordoba\" xlabel=\"Time\" ylabel=\"LST\""
      ],
      "id": "2b4fe689",
      "execution_count": null,
      "outputs": []
    },
    {
      "cell_type": "markdown",
      "metadata": {},
      "source": [
        "![Salida de g.gui.tplot](../assets/img/g_gui_tplot_final.png){width=60%}\n",
        "\n",
        "En la interfaz de `g.gui.tplot`, las coordenadas del punto pueden ser escritas\n",
        "directamente, copiadas desde el mapa o seleccionadas interactivamente en el\n",
        "*map display*.\n",
        "\n",
        ":::{.callout-note}\n",
        "Para un único punto, ver <a href=\"https://grass.osgeo.org/grass-stable/manuals/g.gui.tplot.html\">g.gui.tplot</a>. Para un vector de puntos, ver <a href=\"https://grass.osgeo.org/grass-stable/manuals/t.rast.what.html\">t.rast.what</a>.\n",
        ":::\n",
        "\n",
        "### Listas y selecciones\n",
        "\n",
        "- **[t.list](https://grass.osgeo.org/grass-stable/manuals/t.list.html)** para listar las STDS y los mapas registrados en la base de datos temporal,\n",
        "- **[t.rast.list](https://grass.osgeo.org/grass-stable/manuals/t.rast.list.html)** para mapas en series temporales de rasters, y\n",
        "- **[t.vect.list](https://grass.osgeo.org/grass-stable/manuals/t.vect.list.html)** para mapas en series temporales de vectores.\n",
        "\n",
        "#### Variables usadas para hacer las listas y selecciones\n",
        "\n",
        ":::{style=\"background-color: rgba(200, 230, 255, 0.75);\"}\n",
        "**STRDS:** *id, name, creator, mapset, temporal_type, creation_time, start_time, end_time, north, south, west, east, nsres, ewres, cols, rows, number_of_cells, min, max*\n",
        ":::\n",
        "\n",
        ":::{style=\"background-color: rgba(200, 230, 255, 0.75);\"}\n",
        "**STVDS:** *id, name, layer, creator, mapset, temporal_type, creation_time, start_time, end_time, north, south, west, east, points, lines, boundaries, centroids, faces, kernels, primitives, nodes, areas, islands, holes, volumes*\n",
        ":::\n",
        "\n",
        "#### Ejemplos de listas y selecciones\n",
        "\n",
        "Mapas cuyo valor mínimo es menor o igual a 10\n"
      ],
      "id": "723d7158"
    },
    {
      "cell_type": "code",
      "metadata": {},
      "source": [
        "# Maps with minimum value lower than or equal to 10\n",
        "print(gs.read_command(\"t.rast.list\",\n",
        "                      input=\"LST_Day_monthly_celsius\",\n",
        "                      order=\"min\", \n",
        "                      columns=\"name,start_time,min\",\n",
        "                      where=\"min <= '10.0'\"))"
      ],
      "id": "71080d8a",
      "execution_count": null,
      "outputs": []
    },
    {
      "cell_type": "markdown",
      "metadata": {},
      "source": [
        "Mapas cuyo valor máximo es mayor a 30\n"
      ],
      "id": "5361738a"
    },
    {
      "cell_type": "code",
      "metadata": {},
      "source": [
        "# Maps with maximum value higher than 30\n",
        "print(gs.read_command(\"t.rast.list\",\n",
        "                      input=\"LST_Day_monthly_celsius\",\n",
        "                      order=\"max\",\n",
        "                      columns=\"name,start_time,max\",\n",
        "                      where=\"max > '30.0'\"))"
      ],
      "id": "b0ff561d",
      "execution_count": null,
      "outputs": []
    },
    {
      "cell_type": "markdown",
      "metadata": {},
      "source": [
        "Mapas contenidos entre dos fechas\n"
      ],
      "id": "6c64414a"
    },
    {
      "cell_type": "code",
      "metadata": {},
      "source": [
        "# Maps between two given dates\n",
        "print(gs.read_command(\"t.rast.list\",\n",
        "                      input=\"LST_Day_monthly_celsius\",\n",
        "                      columns=\"name,start_time\",\n",
        "                      where=\"start_time >= '2015-05' and start_time <= '2015-08-01 00:00:00'\"))"
      ],
      "id": "8f5984bd",
      "execution_count": null,
      "outputs": []
    },
    {
      "cell_type": "markdown",
      "metadata": {},
      "source": [
        "Todos los mapas correspondientes al mes de Enero\n"
      ],
      "id": "86896b7b"
    },
    {
      "cell_type": "code",
      "metadata": {},
      "source": [
        "# Maps from January\n",
        "print(gs.read_command(\"t.rast.list\",\n",
        "                      input=\"LST_Day_monthly_celsius\",\n",
        "                      columns=\"name,start_time\",\n",
        "                      where=\"strftime('%m', start_time)='01'\"))"
      ],
      "id": "063bc0ad",
      "execution_count": null,
      "outputs": []
    },
    {
      "cell_type": "markdown",
      "metadata": {},
      "source": [
        "### Estadística descriptiva de STRDS\n",
        "\n",
        "Imprimir estadísticas descriptivas univariadas para cada mapa dentro de la STRDS\n"
      ],
      "id": "7d7c4366"
    },
    {
      "cell_type": "code",
      "metadata": {},
      "source": [
        "# Print univariate stats for maps within STRDS\n",
        "print(gs.read_command(\"t.rast.univar\",\n",
        "                      input=\"LST_Day_monthly_celsius\"))"
      ],
      "id": "230d7ed3",
      "execution_count": null,
      "outputs": []
    },
    {
      "cell_type": "markdown",
      "metadata": {},
      "source": [
        "Obtener estadísticas extendidas con la opción -e y escribir la salida a un\n",
        "archivo de texto\n"
      ],
      "id": "d02cf6dc"
    },
    {
      "cell_type": "code",
      "metadata": {},
      "source": [
        "# Write extended univariate stats output to a csv file\n",
        "gs.run_command(\"t.rast.univar\",\n",
        "                flags=\"e\",\n",
        "                input=\"LST_Day_monthly_celsius\",\n",
        "                output=os.path.join(homedir,\"ext_stats_LST_Day_monthly_celsius.csv\"),\n",
        "                separator=\"comma\")"
      ],
      "id": "4efa00b1",
      "execution_count": null,
      "outputs": []
    },
    {
      "cell_type": "markdown",
      "metadata": {},
      "source": [
        "Graficamos las series del promedio, mínimo y máximo por mapa:\n"
      ],
      "id": "7ecbe285"
    },
    {
      "cell_type": "code",
      "metadata": {},
      "source": [
        "# Read the csv and plot\n",
        "import pandas as pd\n",
        "\n",
        "lst = pd.read_csv(os.path.join(homedir,\"ext_stats_LST_Day_monthly_celsius.csv\"))\n",
        "lst['start'] = pd.to_datetime(ndvi.start, format=\"%Y-%m-%d\", exact=False)\n",
        "lst.plot.line(1, [3,4,5], subplots=False)"
      ],
      "id": "eb9c880f",
      "execution_count": null,
      "outputs": []
    },
    {
      "cell_type": "markdown",
      "metadata": {},
      "source": [
        "### Agregación temporal 1: Serie completa\n",
        "\n",
        "**[t.rast.series](https://grass.osgeo.org/grass-stable/manuals/t.rast.series.html)**\n",
        "\n",
        "- Agrega STRDS *completas* o partes de ellas usando la opción *where*.\n",
        "- Diferentes métodos disponibles: promedio, mínimo, máximo, mediana, moda, etc.\n",
        "\n",
        "\n",
        "#### LST máxima y mínima del período 2015-2019\n",
        "\n",
        "Obtener los mapas de la máxima y mínima LST del período\n"
      ],
      "id": "9144eb42"
    },
    {
      "cell_type": "code",
      "metadata": {},
      "source": [
        "# Get maximum and minimum LST in the STRDS\n",
        "methods=[\"maximum\",\"minimum\"]\n",
        "\n",
        "for m in methods:\n",
        "    gs.run_command(\"t.rast.series\",\n",
        "                   input=\"LST_Day_monthly_celsius\",\n",
        "                   output=f\"LST_Day_{m}\",\n",
        "                   method=m)"
      ],
      "id": "8abdc36f",
      "execution_count": null,
      "outputs": []
    },
    {
      "cell_type": "markdown",
      "metadata": {},
      "source": [
        "Cambiar la paleta de colores a *celsius*\n"
      ],
      "id": "7f3c69a7"
    },
    {
      "cell_type": "code",
      "metadata": {},
      "source": [
        "# Change color pallete to celsius\n",
        "gs.run_command(\"r.colors\",\n",
        "               map=\"LST_Day_minimum,LST_Day_maximum\",\n",
        "               color=\"celsius\")"
      ],
      "id": "c9b0846e",
      "execution_count": null,
      "outputs": []
    },
    {
      "cell_type": "markdown",
      "metadata": {},
      "source": [
        "Graficamos los mapas obtenidos\n"
      ],
      "id": "9d1d8c18"
    },
    {
      "cell_type": "code",
      "metadata": {},
      "source": [
        "# Plot\n",
        "cba_map=gj.InteractiveMap(width = 500, tiles=\"OpenStreetMap\")\n",
        "cba_map.add_raster(\"LST_Day_minimum\")\n",
        "cba_map.add_raster(\"LST_Day_maximum\")\n",
        "cba_map.add_vector(\"provincia_cba\")\n",
        "cba_map.add_layer_control(position = \"bottomright\")\n",
        "cba_map.show()"
      ],
      "id": "ca222c38",
      "execution_count": null,
      "outputs": []
    },
    {
      "cell_type": "markdown",
      "metadata": {},
      "source": [
        "Usamos la calculadora de mapas temporal, `t.rast.mapcalc`,para obtener el \n",
        "mes de la LST mínima\n"
      ],
      "id": "996504c0"
    },
    {
      "cell_type": "code",
      "metadata": {},
      "source": [
        "# Get month of maximum LST\n",
        "expression=\"if(LST_Day_monthly_celsius == LST_Day_minimum, start_month(), null())\"\n",
        "\n",
        "gs.run_command(\"t.rast.mapcalc\",\n",
        "               flags=\"n\",\n",
        "               inputs=\"LST_Day_monthly_celsius\",\n",
        "               output=\"month_min_lst\",\n",
        "               expression=expression,\n",
        "               basename=\"month_min_lst\")"
      ],
      "id": "34ca6ecc",
      "execution_count": null,
      "outputs": []
    },
    {
      "cell_type": "markdown",
      "metadata": {},
      "source": [
        "Obtener información del mapa resultante\n"
      ],
      "id": "e5e21068"
    },
    {
      "cell_type": "code",
      "metadata": {},
      "source": [
        "# Get basic info\n",
        "print(gs.read_command(\"t.info\", \n",
        "                      input=\"month_min_lst\"))"
      ],
      "id": "65b3d303",
      "execution_count": null,
      "outputs": []
    },
    {
      "cell_type": "markdown",
      "metadata": {},
      "source": [
        "Obtenemos el primer mes en que aparece el mínimo de LST\n"
      ],
      "id": "120c7fc6"
    },
    {
      "cell_type": "code",
      "metadata": {},
      "source": [
        "# Get the earliest month in which the maximum appeared (method minimum)\n",
        "gs.run_command(\"t.rast.series\",\n",
        "               input=\"month_min_lst\",\n",
        "               method=\"minimum\",\n",
        "               output=\"min_lst_date\")"
      ],
      "id": "6bfe2921",
      "execution_count": null,
      "outputs": []
    },
    {
      "cell_type": "markdown",
      "metadata": {},
      "source": [
        "Remover la STRDS intermedia y los mapas que contiene:\n"
      ],
      "id": "135565ef"
    },
    {
      "cell_type": "code",
      "metadata": {},
      "source": [
        "# Remove month_min_lst strds \n",
        "# we were only interested in the resulting aggregated map\n",
        "gs.run_command(\"t.remove\",\n",
        "               flags=\"rfd\",\n",
        "               inputs=\"month_min_lst\")"
      ],
      "id": "ec46b31f",
      "execution_count": null,
      "outputs": []
    },
    {
      "cell_type": "markdown",
      "metadata": {},
      "source": [
        "Chequeamos que la serie fue removida\n"
      ],
      "id": "a4cdb8c2"
    },
    {
      "cell_type": "code",
      "metadata": {},
      "source": [
        "# check STRDS in our mapset\n",
        "print(gs.read_command(\"t.list\"))"
      ],
      "id": "f8fdd09b",
      "execution_count": null,
      "outputs": []
    },
    {
      "cell_type": "markdown",
      "metadata": {},
      "source": [
        "Mostrar el mapa resultante con la clase `Map` de `grass.jupyter`\n"
      ],
      "id": "467e6869"
    },
    {
      "cell_type": "code",
      "metadata": {},
      "source": [
        "# display results\n",
        "mm = gj.Map(width=450, use_region=True)\n",
        "mm.d_rast(map=\"min_lst_date\")\n",
        "mm.d_vect(map=\"provincia_cba\", type=\"boundary\", color=\"#4D4D4D\", width=2)\n",
        "mm.d_legend(raster=\"min_lst_date\", title=\"Month\", fontsize=10, at=(2,15,2,10))\n",
        "mm.d_barscale(length=50, units=\"kilometers\", segment=4, fontsize=14, at=(73,7))\n",
        "mm.d_northarrow(at=(90,15))\n",
        "mm.d_text(text=\"Month of minimum LST\", color=\"black\", font=\"sans\", size=4, bgcolor=\"white\")\n",
        "mm.show()"
      ],
      "id": "7e28813f",
      "execution_count": null,
      "outputs": []
    },
    {
      "cell_type": "markdown",
      "metadata": {},
      "source": [
        ":::{.callout-caution title=\"Tarea\"}\n",
        "Podríamos haber hecho lo mismo pero anualmente para conocer en qué mes ocurre el máximo en cada año y así evaluar la ocurrencia de tendencias. Cómo lo harían?\n",
        ":::\n",
        "\n",
        "### Agregación temporal 2: granularidad\n",
        "\n",
        "**[t.rast.aggregate](https://grass.osgeo.org/grass-stable/manuals/t.rast.aggregate.html)**\n",
        "\n",
        "- Agrega mapas raster dentro de STRDS con diferentes **granularidades** \n",
        "- La opción *where* permite establecer fechas específicas para la agregación\n",
        "- Diferentes métodos disponibles: promedio, mínimo, máximo, mediana, moda, etc.\n",
        "\n",
        "#### De LST mensual a estacional\n",
        "\n",
        "LST media estacional\n"
      ],
      "id": "83843f25"
    },
    {
      "cell_type": "code",
      "metadata": {},
      "source": [
        "# 3-month mean LST\n",
        "gs.run_command(\"t.rast.aggregate\",\n",
        "               input=\"LST_Day_monthly_celsius\",\n",
        "               output=\"LST_Day_mean_3month\",\n",
        "               basename=\"LST_Day_mean_3month\",\n",
        "               suffix=\"gran\",\n",
        "               method=\"average\",\n",
        "               granularity=\"3 months\")"
      ],
      "id": "3854d067",
      "execution_count": null,
      "outputs": []
    },
    {
      "cell_type": "markdown",
      "metadata": {},
      "source": [
        "Chequear info\n"
      ],
      "id": "63f0f25e"
    },
    {
      "cell_type": "code",
      "metadata": {},
      "source": [
        "# Check info\n",
        "print(gs.read_command(\"t.info\",\n",
        "                      input=\"LST_Day_mean_3month\"))"
      ],
      "id": "a2fb7696",
      "execution_count": null,
      "outputs": []
    },
    {
      "cell_type": "markdown",
      "metadata": {},
      "source": [
        "Chequear lista de mapas\n"
      ],
      "id": "06f8b736"
    },
    {
      "cell_type": "code",
      "metadata": {},
      "source": [
        "# Check map list\n",
        "print(gs.read_command(\"t.rast.list\",\n",
        "                      input=\"LST_Day_mean_3month\"))"
      ],
      "id": "acb4155b",
      "execution_count": null,
      "outputs": []
    },
    {
      "cell_type": "markdown",
      "metadata": {},
      "source": [
        "Establecer la paleta de colores *celsius* para la STRDS estacional\n"
      ],
      "id": "aa70134e"
    },
    {
      "cell_type": "code",
      "metadata": {},
      "source": [
        "# Set STRDS color table to celsius degrees\n",
        "gs.run_command(\"t.rast.colors\",\n",
        "               input=\"LST_Day_mean_3month\",\n",
        "               color=\"celsius\")"
      ],
      "id": "ac39c30b",
      "execution_count": null,
      "outputs": []
    },
    {
      "cell_type": "markdown",
      "metadata": {},
      "source": [
        "Mostramos la serie recientemente creada con una animación. Para eso vamos\n",
        "a usar la clase `TimeSeriesMap` de `grass.jupyter`\n"
      ],
      "id": "2be7cfb7"
    },
    {
      "cell_type": "code",
      "metadata": {},
      "source": [
        "## Display newly created NDVI time series map\n",
        "lstseries = gj.TimeSeriesMap(use_region=True)\n",
        "lstseries.add_raster_series(\"LST_Day_mean_3month\", fill_gaps=False)\n",
        "lstseries.d_legend(color=\"black\", at=(10,40,2,6))\n",
        "lstseries.show()  # Create TimeSlider\n",
        "\n",
        "# optionally, write out to animated GIF\n",
        "lstseries.save(\"lstseries.gif\")"
      ],
      "id": "30482233",
      "execution_count": null,
      "outputs": []
    },
    {
      "cell_type": "markdown",
      "metadata": {},
      "source": [
        ":::{.callout-warning title=\"Tarea\"}\n",
        "Ahora que ya conocen\n",
        "[t.rast.aggregate](https://grass.osgeo.org/grass-stable/manuals/t.rast.aggregate.html), \n",
        "extraigan el mes de máximo LST por año y luego vean si hay alguna tendencia\n",
        "positiva o negativa, es decir, si los valores máximos de LST se observan más \n",
        "tarde o más temprano con el tiempo (años).\n",
        "\n",
        "Una solución podría ser...\n"
      ],
      "id": "bc82958d"
    },
    {
      "cell_type": "code",
      "metadata": {},
      "source": [
        "gs.run_command(\"t.rast.aggregate\",\n",
        "input=\"LST_Day_monthly_celsius\", \n",
        "output=\"month_max_LST_per_year\",   \n",
        "basename=\"month_max_LST\", \n",
        "suffix=\"gran\", \n",
        "method=\"max_raster\", \n",
        "granularity=\"1 year\")\n",
        "\n",
        "gs.run_command(\"t.rast.series\", \n",
        "input=\"month_max_LST_per_year\", \n",
        "output=\"slope_month_max_LST\", \n",
        "method=\"slope\")"
      ],
      "id": "96543761",
      "execution_count": null,
      "outputs": []
    },
    {
      "cell_type": "markdown",
      "metadata": {},
      "source": [
        ":::\n",
        "\n",
        "### Agregación vs Climatología\n",
        "\n",
        ":::: columns\n",
        ":::{.column width=\"50%\"}\n",
        "![Agregación por granularidad](../assets/img/aggregation.png)\n",
        ":::\n",
        "\n",
        ":::{.column width=\"50%\"}\n",
        "![Agregación tipo climatología](../assets/img/climatology.png)\n",
        ":::\n",
        "::::\n",
        "\n",
        "#### Climatologías mensuales\n",
        "\n",
        "LST promedio de Enero\n"
      ],
      "id": "f52aa937"
    },
    {
      "cell_type": "code",
      "metadata": {},
      "source": [
        "# January average LST\n",
        "gs.run_command(\"t.rast.series\",\n",
        "               input=\"LST_Day_monthly_celsius\",\n",
        "               method=\"average\",\n",
        "               where=\"strftime('%m', start_time)='01'\",\n",
        "               output=\"LST_average_jan\")"
      ],
      "id": "c4674789",
      "execution_count": null,
      "outputs": []
    },
    {
      "cell_type": "markdown",
      "metadata": {},
      "source": [
        "Climatología para todos los meses\n"
      ],
      "id": "c64c29fa"
    },
    {
      "cell_type": "code",
      "metadata": {},
      "source": [
        "# for all months\n",
        "months=['{0:02d}'.format(m) for m in range(1,13)]\n",
        "methods=[\"average\"]\n",
        "\n",
        "for m in months:\n",
        "    for me in methods:\n",
        "        gs.run_command(\"t.rast.series\", \n",
        "                       input=\"LST_Day_monthly_celsius\",\n",
        "                       method=me,\n",
        "                       where=f\"strftime('%m', start_time)='{m}'\",\n",
        "                       output=f\"LST_{me}_{m}\")"
      ],
      "id": "e109f46d",
      "execution_count": null,
      "outputs": []
    },
    {
      "cell_type": "markdown",
      "metadata": {},
      "source": [
        ":::{.callout-warning title=\"Tarea\"}\n",
        "- Comparar las medias mensuales con las climatologías mensuales\n",
        "- Las climatologías que creamos forman una STRDS?\n",
        ":::\n",
        "\n",
        "\n",
        "### Anomalías anuales\n",
        "\n",
        "Se necesitan:\n",
        "\n",
        "- promedio y desviación estándar general de la serie\n",
        "- promedios anuales\n",
        "\n",
        "$$\n",
        "AnomaliaStd_i = \\frac{Media_i - Media}{SD}\n",
        "$$\n",
        "\n",
        "Obtenemos primero el promedio y el desvío estándar general de la serie\n"
      ],
      "id": "aa6209a6"
    },
    {
      "cell_type": "code",
      "metadata": {},
      "source": [
        "# Get general average and SD\n",
        "methods=[\"average\",\"stddev\"]\n",
        "\n",
        "for me in methods:\n",
        "    gs.run_command(\"t.rast.series\",\n",
        "                   input=\"LST_Day_monthly_celsius\",\n",
        "                   method=me,\n",
        "                   output=f\"LST_Day_{me}\")"
      ],
      "id": "80296c1e",
      "execution_count": null,
      "outputs": []
    },
    {
      "cell_type": "markdown",
      "metadata": {},
      "source": [
        "y luego los promedios anuales\n"
      ],
      "id": "36a59a18"
    },
    {
      "cell_type": "code",
      "metadata": {},
      "source": [
        "# Get annual averages\n",
        "gs.run_command(\"t.rast.aggregate\",\n",
        "               input=\"LST_Day_monthly_celsius\",\n",
        "               method=\"average\",\n",
        "               granularity=\"1 years\",\n",
        "               output=\"LST_yearly_average\",\n",
        "               basename=\"LST_yearly_average\")"
      ],
      "id": "9616ccdb",
      "execution_count": null,
      "outputs": []
    },
    {
      "cell_type": "markdown",
      "metadata": {},
      "source": [
        "Utilizamos el álgebra temporal para estimar las anomalías anuales\n"
      ],
      "id": "2ac1100f"
    },
    {
      "cell_type": "code",
      "metadata": {},
      "source": [
        "# Estimate annual anomalies\n",
        "expression=\"LST_year_anomaly = (LST_yearly_average - map(LST_Day_average)) / map(LST_Day_stddev)\"\n",
        "\n",
        "gs.run_command(\"t.rast.algebra\",\n",
        "               basename=\"LST_year_anomaly\",\n",
        "               expression=expression)"
      ],
      "id": "ef636b6e",
      "execution_count": null,
      "outputs": []
    },
    {
      "cell_type": "markdown",
      "metadata": {},
      "source": [
        "Establecer la paleta de colores *differences* para toda la serie \n",
        "(esto permite tomar el minimo y maximo general de la serie)\n"
      ],
      "id": "1710fc12"
    },
    {
      "cell_type": "code",
      "metadata": {},
      "source": [
        "# Set difference color table\n",
        "gs.run_command(\"t.rast.colors\",\n",
        "               input=\"LST_year_anomaly\",\n",
        "               color=\"difference\")"
      ],
      "id": "d650ff74",
      "execution_count": null,
      "outputs": []
    },
    {
      "cell_type": "markdown",
      "metadata": {},
      "source": [
        "Mostramos los resultados con una animación\n"
      ],
      "id": "4f61522d"
    },
    {
      "cell_type": "code",
      "metadata": {},
      "source": [
        "# Animation of annual anomalies\n",
        "anomalies = gj.TimeSeriesMap(use_region=True)\n",
        "anomalies.add_raster_series(\"LST_year_anomaly\", fill_gaps=False)\n",
        "anomalies.d_legend(color=\"black\", at=(10,40,2,6))\n",
        "anomalies.show()"
      ],
      "id": "ad9dd437",
      "execution_count": null,
      "outputs": []
    },
    {
      "cell_type": "markdown",
      "metadata": {},
      "source": [
        "### Isla de calor superficial urbana (Surface Urban Heat Island - SUHI)\n",
        "\n",
        "- La temperatura del aire de una zona urbana es más alta que la de las zonas cercanas\n",
        "- La UHI tiene efectos negativos en la calidad del agua y el aire, la biodiversidad, la salud humana y el clima.\n",
        "- La SUHI también está muy relacionada con la salud, ya que influye en la UHI \n",
        "\n",
        "![SUHI y área rural en Buenos Aires (<a href=\"https://www.mdpi.com/2072-4292/11/10/1212/htm\">Wu et al, 2019.</a>)\n",
        "](https://res.mdpi.com/remotesensing/remotesensing-11-01212/article_deploy/html/images/remotesensing-11-01212-g002-550.jpg){width=60%}\n",
        "\n",
        "\n",
        "### Estadística zonal en series de tiempo de datos raster\n",
        "\n",
        "**[v.strds.stats](https://grass.osgeo.org/grass7/manuals/addons/v.strds.stats.html)**\n",
        "\n",
        "- Permite obtener datos de series de tiempo agregados espacialmente para polígonos de un mapa vectorial\n",
        "\n",
        "\n",
        "#### SUHI estival para *Córdoba* y alrededores\n",
        "\n",
        "Instalar la extensión *v.strds.stats*\n"
      ],
      "id": "75e5d07c"
    },
    {
      "cell_type": "code",
      "metadata": {},
      "source": [
        "# Install v.strds.stats add-on\n",
        "gs.run_command(\"g.extension\", extension=\"v.strds.stats\")"
      ],
      "id": "9fe7e513",
      "execution_count": null,
      "outputs": []
    },
    {
      "cell_type": "markdown",
      "metadata": {},
      "source": [
        "Listar mapas\n"
      ],
      "id": "89ede59a"
    },
    {
      "cell_type": "code",
      "metadata": {},
      "source": [
        "# List maps in seasonal time series\n",
        "print(gs.run_command(\"t.rast.list\",\n",
        "                     input=\"LST_Day_mean_3month\"))"
      ],
      "id": "42c8eb14",
      "execution_count": null,
      "outputs": []
    },
    {
      "cell_type": "markdown",
      "metadata": {},
      "source": [
        "Extraer LST promedio de verano para el Gran Córdoba\n"
      ],
      "id": "f9c15404"
    },
    {
      "cell_type": "code",
      "metadata": {},
      "source": [
        "# Extract summer average LST for Cba urban area\n",
        "gs.run_command(\"v.strds.stats\",\n",
        "               input=\"area_edificada_cba\",\n",
        "               strds=\"LST_Day_mean_3month\",\n",
        "               where=\"fna == 'Gran Córdoba'\",\n",
        "               t_where=\"strftime('%m', start_time)='02'\",\n",
        "               output=\"cba_summer_lst\",\n",
        "               method=\"average\")"
      ],
      "id": "98d1a957",
      "execution_count": null,
      "outputs": []
    },
    {
      "cell_type": "markdown",
      "metadata": {},
      "source": [
        "Crear buffer externo - 30 km\n"
      ],
      "id": "a4f0d7c2"
    },
    {
      "cell_type": "code",
      "metadata": {},
      "source": [
        "# Create outside buffer - 30 km\n",
        "gs.run_command(\"v.buffer\",\n",
        "               input=\"cba_summer_lst\",\n",
        "               distance=30000,\n",
        "               output=\"cba_summer_lst_buf30\")"
      ],
      "id": "0aadf3f8",
      "execution_count": null,
      "outputs": []
    },
    {
      "cell_type": "markdown",
      "metadata": {},
      "source": [
        "Crear buffer interno - 15 km\n"
      ],
      "id": "92300c70"
    },
    {
      "cell_type": "code",
      "metadata": {},
      "source": [
        "# Create inside buffer - 15 km\n",
        "gs.run_command(\"v.buffer\",\n",
        "               input=\"cba_summer_lst\",\n",
        "               distance=15000,\n",
        "               output=\"cba_summer_lst_buf15\")"
      ],
      "id": "c13b6dae",
      "execution_count": null,
      "outputs": []
    },
    {
      "cell_type": "markdown",
      "metadata": {},
      "source": [
        "Remover el área del buffer 15 km del buffer de 30 km\n"
      ],
      "id": "8578658a"
    },
    {
      "cell_type": "code",
      "metadata": {},
      "source": [
        "# Remove 15km buffer area from the 30km buffer area\n",
        "gs.run_command(\"v.overlay\",\n",
        "               ainput=\"cba_summer_lst_buf15\",\n",
        "               binput=\"cba_summer_lst_buf30\",\n",
        "               operator=\"xor\",\n",
        "               output=\"cba_surr\")"
      ],
      "id": "93ff14a8",
      "execution_count": null,
      "outputs": []
    },
    {
      "cell_type": "markdown",
      "metadata": {},
      "source": [
        "![Límites del Gran Córdoba y el área rural circundante](../assets/img/suhi_buffers.png){width=50%}\n",
        "\n",
        "Extraer estadísticas para los alrededores del Gran Córdoba\n"
      ],
      "id": "ee72c359"
    },
    {
      "cell_type": "code",
      "metadata": {},
      "source": [
        "# Extract zonal stats for Cba surroundings\n",
        "gs.run_command(\"v.strds.stats\",\n",
        "               input=\"cba_surr\",\n",
        "               strds=\"LST_Day_mean_3month\",\n",
        "               t_where=\"strftime('%m', start_time)='02'\",\n",
        "               method=\"average\",\n",
        "               output=\"cba_surr_summer_lst\")"
      ],
      "id": "6391ca6a",
      "execution_count": null,
      "outputs": []
    },
    {
      "cell_type": "markdown",
      "metadata": {},
      "source": [
        "Chequear la LST estival promedio para el Gran Córdoba y alrededores\n"
      ],
      "id": "2255688e"
    },
    {
      "cell_type": "code",
      "metadata": {},
      "source": [
        "# Take a look at mean summer LST in Cba and surroundings\n",
        "gs.vector_db_select(\"cba_summer_lst\")[\"values\"]"
      ],
      "id": "2336ee7f",
      "execution_count": null,
      "outputs": []
    },
    {
      "cell_type": "code",
      "metadata": {},
      "source": [
        "gs.vector_db_select(\"cba_surr_summer_lst\")[\"values\"]"
      ],
      "id": "b15419e7",
      "execution_count": null,
      "outputs": []
    },
    {
      "cell_type": "code",
      "metadata": {},
      "source": [
        "tabla1 = pd.DataFrame.from_dict(gs.vector_db_select(map=\"cba_summer_lst\")['values'], \n",
        "                               orient='index', \n",
        "                               columns=gs.vector_db_select(map=\"cba_summer_lst\")['columns'])\n",
        "tabla1"
      ],
      "id": "20949d57",
      "execution_count": null,
      "outputs": []
    },
    {
      "cell_type": "code",
      "metadata": {},
      "source": [
        "# crear un data frame a partir del vector\n",
        "tabla2 = pd.DataFrame.from_dict(gs.vector_db_select(map=\"cba_surr_summer_lst\")['values'], \n",
        "                               orient='index', \n",
        "                               columns=gs.vector_db_select(map=\"cba_surr_summer_lst\")['columns'])\n",
        "tabla2"
      ],
      "id": "aa5122ac",
      "execution_count": null,
      "outputs": []
    },
    {
      "cell_type": "code",
      "metadata": {},
      "source": [
        "# table massaging\n",
        "df1 = tabla1.loc[1:,['cat', 'LST_Day_mean_3month_2015_02_01_average', 'LST_Day_mean_3month_2016_02_01_average', 'LST_Day_mean_3month_2017_02_01_average', 'LST_Day_mean_3month_2018_02_01_average', 'LST_Day_mean_3month_2019_02_01_average']]\n",
        "df2 = tabla2.loc[1:,['cat', 'LST_Day_mean_3month_2015_02_01_average', 'LST_Day_mean_3month_2016_02_01_average', 'LST_Day_mean_3month_2017_02_01_average', 'LST_Day_mean_3month_2018_02_01_average', 'LST_Day_mean_3month_2019_02_01_average']]"
      ],
      "id": "692fa2aa",
      "execution_count": null,
      "outputs": []
    },
    {
      "cell_type": "code",
      "metadata": {},
      "source": [
        "tables = [df1,df2]\n",
        "suhi = pd.concat(tables)\n",
        "suhi['cat'] = suhi.index\n",
        "suhi"
      ],
      "id": "3f2e4264",
      "execution_count": null,
      "outputs": []
    },
    {
      "cell_type": "code",
      "metadata": {},
      "source": [
        "suhi_long = suhi.melt(id_vars=\"cat\", var_name=\"date\", value_name=\"LST_Day_mean_3month_average\")\n",
        "suhi_long"
      ],
      "id": "944cf76f",
      "execution_count": null,
      "outputs": []
    },
    {
      "cell_type": "markdown",
      "metadata": {},
      "source": [
        ":::{.callout-warning title=\"Tarea\"}\n",
        "Se animan a hacer algunos gráficos con librerías de Python?\n",
        ":::\n",
        "\n",
        "# Recursos (muy) útiles \n",
        "\n",
        "- [Temporal data processing wiki](https://grasswiki.osgeo.org/wiki/Temporal_data_processing)\n",
        "- [GRASS GIS and R for time series processing wiki](https://grasswiki.osgeo.org/wiki/Temporal_data_processing/GRASS_R_raster_time_series_processing)\n",
        "- [GRASS GIS temporal workshop at NCSU](http://ncsu-geoforall-lab.github.io/grass-temporal-workshop/)\n",
        "- [GRASS GIS course IRSAE 2018](http://training.gismentors.eu/grass-gis-irsae-winter-course-2018/index.html)\n",
        "- [GRASS GIS workshop held in Jena 2023](https://training.gismentors.eu/grass-gis-workshop-jena/)\n",
        "\n",
        "# Referencias\n",
        "\n",
        "::: {#refs .tiny}\n",
        ":::\n"
      ],
      "id": "30e78469"
    }
  ],
  "metadata": {
    "kernelspec": {
      "name": "python3",
      "language": "python",
      "display_name": "Python 3 (ipykernel)"
    }
  },
  "nbformat": 4,
  "nbformat_minor": 5
}