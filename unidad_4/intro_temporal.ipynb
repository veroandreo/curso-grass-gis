{
  "cells": [
    {
      "cell_type": "raw",
      "metadata": {},
      "source": [
        "---\n",
        "title: Intro a series de tiempo\n",
        "author: Verónica Andreo\n",
        "date: today\n",
        "format:\n",
        "  html:\n",
        "    code-tools: true\n",
        "    code-copy: true\n",
        "    code-fold: false\n",
        "execute:\n",
        "  eval: false\n",
        "  cache: false\n",
        "  keep-ipynb: true\n",
        "---"
      ],
      "id": "fb46b572"
    },
    {
      "cell_type": "markdown",
      "metadata": {},
      "source": [
        "# TGRASS: GRASS Temporal\n",
        "\n",
        "**GRASS GIS** es **el primer SIG de código abierto** que incorporó capacidades \n",
        "para **gestionar, analizar, procesar y visualizar datos espacio-temporales**,\n",
        "así como las relaciones temporales entre series de tiempo.\n",
        "\n",
        "- Completamente [basado en metadatos]{style=\"color: #18bc9c;\"}, por lo que no \n",
        "hay duplicación de datos\n",
        "- Sigue una aproximación [*Snapshot*]{style=\"color: #18bc9c;\"}, i.e., añade \n",
        "marcas de tiempo o *timestamps* a los mapas\n",
        "- Una colección de mapas de la misma variable con timestamps se llama \n",
        "[space-time dataset o STDS]{style=\"color: #18bc9c;\"}\n",
        "- Los mapas en una STDS pueden tener diferentes extensiones espaciales y \n",
        "temporales\n",
        "- TGRASS utiliza una base de datos [SQLite](https://www.sqlite.org/index.html) \n",
        "para almacenar la extensión temporal y espacial de las STDS, así como las \n",
        "relaciones topológicas entre los mapas y entre las STDS en cada mapset.\n",
        "\n",
        "TGRASS o GRASS GIS temporal framework fue desarrollado por Sören Gebbert como\n",
        "parte de un proyecto Google Summer of Code en 2012. Detalles técnicos de la \n",
        "implementación pueden encontrarse en: @gebbert_temporal_2014, \n",
        "@gebbert_grass_2017 y @gebbert_topology_2019.\n",
        "\n",
        "## Space-time datasets\n",
        "\n",
        "- Space time raster datasets ([**STRDS**]{style=\"color: #18bc9c;\"})\n",
        "- Space time 3D raster datasets ([**STR3DS**]{style=\"color: #18bc9c;\"})\n",
        "- Space time vector datasets ([**STVDS**]{style=\"color: #18bc9c;\"})\n",
        "\n",
        "## Otras nociones básicas en TGRASS\n",
        "\n",
        "- El tiempo puede definirse como **intervalos** (inicio y fin) o como \n",
        "**instancias** (sólo inicio)\n",
        "- El tiempo puede ser **absoluto** (por ejemplo, 2017-04-06 22:39:49) o \n",
        "**relativo** (por ejemplo, 4 años, 90 días)\n",
        "- *Granularidad* es el mayor divisor común de todas las extensiones temporales\n",
        "(y posibles gaps) de los mapas de un STDS\n",
        "\n",
        "![Series de diferente granularidad y tipo de tiempo](https://grass.osgeo.org/grass-stable/manuals/timeline_2D.jpg){width=\"50%\" fig-align=\"center\"}\n",
        "\n",
        "- *Topología* se refiere a las relaciones temporales entre los intervalos de \n",
        "tiempo en una STDS\n",
        "\n",
        "![Relaciones topológicas entre STDS y entre mapas](../assets/img/temp_relation.png){width=70%}\n",
        "\n",
        "- *Muestreo temporal* se utiliza para determinar el estado de un proceso respecto \n",
        "un segundo proceso.\n",
        "\n",
        "![Muestreo temporal](../assets/img/temp_samplings.png){width=55%}\n",
        "\n",
        "## Módulos temporales\n",
        "\n",
        "- **t.\\***: Módulos generales para manejar STDS de todos los tipos\n",
        "- **t.rast.\\***: Módulos que tratan con STRDS\n",
        "- **t.rast3d.\\***: Módulos que tratan con STR3DS\n",
        "- **t.vect.\\***: Módulos que tratan con STVDS\n",
        "\n",
        "\n",
        "## TGRASS: marco general y flujo de trabajo\n",
        "\n",
        "![](../assets/img/tgrass_flowchart.png){width=80%}\n",
        "\n",
        "# Manos a la obra\n",
        "\n",
        "En esta segunda parte de la sesión vamos a recorrer los módulos temporales de\n",
        "GRASS GIS y demostrar su funcionalidad por medio de una serie de datos de \n",
        "temperatura de superficie (LST) de MODIS.\n",
        "\n",
        "Antes de empezar y para ganar tiempo, conectamos nuestro drive e instalamos \n",
        "GRASS en Google Colab.\n"
      ],
      "id": "90c24fab"
    },
    {
      "cell_type": "code",
      "metadata": {},
      "source": [
        "# import drive from google colab\n",
        "from google.colab import drive\n",
        "# mount drive\n",
        "drive.mount(\"/content/drive\")"
      ],
      "id": "39a92b55",
      "execution_count": null,
      "outputs": []
    },
    {
      "cell_type": "code",
      "metadata": {},
      "source": [
        "%%bash\n",
        "DEBIAN_FRONTEND=noninteractive \n",
        "sudo add-apt-repository ppa:ubuntugis/ubuntugis-unstable \n",
        "apt update \n",
        "apt install grass subversion grass-dev\n",
        "apt remove libproj22"
      ],
      "id": "79215d97",
      "execution_count": null,
      "outputs": []
    },
    {
      "cell_type": "code",
      "metadata": {},
      "source": [
        "!grass --config path"
      ],
      "id": "4f69fde1",
      "execution_count": null,
      "outputs": []
    },
    {
      "cell_type": "markdown",
      "metadata": {},
      "source": [
        "### Datos para la sesión\n",
        "\n",
        "- Producto MODIS: <a href=\"https://lpdaac.usgs.gov/products/mod11b3v006/\">MOD11B3 Collection 6</a>\n",
        "- Tile: h12v12\n",
        "- Composiciones mensuales \n",
        "- Resolución espacial: 5600m\n",
        "- Mapset *`modis_lst`* \n",
        "\n",
        "\n",
        "![Tile h12v12 del producto MOD11B3](../assets/img/mod11b3_h12v12.png){width=85%}\n",
        "\n",
        "### Iniciamos GRASS\n",
        "\n",
        "Definimos las rutas y el mapset *`modis_lst`*\n"
      ],
      "id": "8c15035a"
    },
    {
      "cell_type": "code",
      "metadata": {},
      "source": [
        "import os\n",
        "\n",
        "# data directory\n",
        "homedir = \"/content/drive/MyDrive/curso_grass_2023\"\n",
        "\n",
        "# change to homedir so output files will be saved there\n",
        "os.chdir(homedir)\n",
        "\n",
        "# GRASS GIS database variables\n",
        "grassdata = os.path.join(homedir, \"grassdata\")\n",
        "project = \"posgar2007_4_cba\"\n",
        "mapset = \"modis_lst\""
      ],
      "id": "67948993",
      "execution_count": null,
      "outputs": []
    },
    {
      "cell_type": "code",
      "metadata": {},
      "source": [
        "# import standard Python packages we need\n",
        "import sys\n",
        "import subprocess\n",
        "\n",
        "# ask GRASS GIS where its Python packages are to be able to run it from the notebook\n",
        "sys.path.append(\n",
        "    subprocess.check_output([\"grass\", \"--config\", \"python_path\"], text=True).strip()\n",
        ")"
      ],
      "id": "0f9f9b2b",
      "execution_count": null,
      "outputs": []
    },
    {
      "cell_type": "markdown",
      "metadata": {},
      "source": [
        "Importamos los paquetes de GRASS e iniciamos una sesión:\n"
      ],
      "id": "e07c4ad5"
    },
    {
      "cell_type": "code",
      "metadata": {},
      "source": [
        "# import the GRASS GIS packages we need\n",
        "import grass.script as gs\n",
        "import grass.jupyter as gj\n",
        "\n",
        "# Start the GRASS GIS Session\n",
        "session = gj.init(grassdata, project, mapset)"
      ],
      "id": "e0e2ff3c",
      "execution_count": null,
      "outputs": []
    },
    {
      "cell_type": "code",
      "metadata": {},
      "source": [
        "# show current GRASS GIS settings, this also checks if the session works\n",
        "gs.gisenv()"
      ],
      "id": "918d35ef",
      "execution_count": null,
      "outputs": []
    },
    {
      "cell_type": "markdown",
      "metadata": {},
      "source": [
        "### Región computacional y máscara\n",
        "\n",
        "Listar los mapas raster y obtener información de uno de ellos\n"
      ],
      "id": "e8fa384f"
    },
    {
      "cell_type": "code",
      "metadata": {},
      "source": [
        "# get list of raster maps in the 'modis_lst' mapset\n",
        "lista_mapas = gs.list_grouped(type=\"raster\")[\"modis_lst\"]\n",
        "lista_mapas[:8]"
      ],
      "id": "748fa070",
      "execution_count": null,
      "outputs": []
    },
    {
      "cell_type": "code",
      "metadata": {},
      "source": [
        "# Get info from one of the raster maps\n",
        "gs.raster_info(map=\"MOD11B3.A2015001.h12v12.single_LST_Day_6km\")"
      ],
      "id": "ca3d6c84",
      "execution_count": null,
      "outputs": []
    },
    {
      "cell_type": "markdown",
      "metadata": {},
      "source": [
        "Vamos a agregar el *semantic label* a cada mapa de LST\n"
      ],
      "id": "8fae47e9"
    },
    {
      "cell_type": "code",
      "metadata": {},
      "source": [
        "# list only LST maps\n",
        "lista_lst = gs.list_grouped(type=\"raster\",\n",
        "                            pattern=\"*LST_Day*\")[\"modis_lst\"]"
      ],
      "id": "19c73b32",
      "execution_count": null,
      "outputs": []
    },
    {
      "cell_type": "code",
      "metadata": {},
      "source": [
        "# set semantic labels\n",
        "for i in lista_lst:\n",
        "    gs.run_command(\"r.support\",\n",
        "                   map=i,\n",
        "                   semantic_label=\"LST\")"
      ],
      "id": "fe9c149b",
      "execution_count": null,
      "outputs": []
    },
    {
      "cell_type": "code",
      "metadata": {},
      "source": [
        "# Get info from one of the raster maps\n",
        "gs.raster_info(map=\"MOD11B3.A2015001.h12v12.single_LST_Day_6km\")[\"semantic_label\"]"
      ],
      "id": "2045eb3f",
      "execution_count": null,
      "outputs": []
    },
    {
      "cell_type": "markdown",
      "metadata": {},
      "source": [
        "Establecemos la región computacional\n"
      ],
      "id": "65654889"
    },
    {
      "cell_type": "code",
      "metadata": {},
      "source": [
        "# set region to Cba boundaries with LST maps' resolution\n",
        "print(gs.read_command(\"g.region\", \n",
        "                      vector=\"provincia_cba\",\n",
        "                      align=\"MOD11B3.A2015001.h12v12.single_LST_Day_6km\",\n",
        "                      flags=\"p\"))"
      ],
      "id": "57e2799b",
      "execution_count": null,
      "outputs": []
    },
    {
      "cell_type": "markdown",
      "metadata": {},
      "source": [
        "Aplicamos la máscara con los límites de la provincia de Córdoba\n"
      ],
      "id": "6ca9d418"
    },
    {
      "cell_type": "code",
      "metadata": {},
      "source": [
        "# set a MASK to Cba boundary\n",
        "gs.run_command(\"r.mask\",\n",
        "               vector=\"provincia_cba\")"
      ],
      "id": "0824e598",
      "execution_count": null,
      "outputs": []
    },
    {
      "cell_type": "code",
      "metadata": {},
      "source": [
        "# plot\n",
        "cba_map=gj.InteractiveMap(width = 500, tiles=\"OpenStreetMap\")\n",
        "cba_map.add_raster(\"MOD11B3.A2015001.h12v12.single_LST_Day_6km\")\n",
        "cba_map.add_vector(\"provincia_cba\")\n",
        "cba_map.add_layer_control(position = \"bottomright\")\n",
        "cba_map.show()"
      ],
      "id": "5da03299",
      "execution_count": null,
      "outputs": []
    },
    {
      "cell_type": "markdown",
      "metadata": {},
      "source": [
        "### Crear un conjunto de datos espacio-temporales (STDS)\n",
        "\n",
        "**[t.create](https://grass.osgeo.org/grass-stable/manuals/t.create.html)**\n",
        "\n",
        "- Crea una tabla SQLite en la base de datos temporal \n",
        "- Permite manejar grandes cantidades de mapas usando el STDS como entrada\n",
        "- Necesitamos especificar:\n",
        "  - *tipo de mapas* (raster, raster3d o vector)\n",
        "  - *tipo de tiempo* (absoluto o relativo)\n",
        "\n",
        "Creamos la STRDS\n"
      ],
      "id": "95e8e135"
    },
    {
      "cell_type": "code",
      "metadata": {},
      "source": [
        "# Create the STRDS\n",
        "gs.run_command(\"t.create\",\n",
        "               type=\"strds\",\n",
        "               temporaltype=\"absolute\",\n",
        "               output=\"LST_Day_monthly\",\n",
        "               title=\"Monthly LST Day 5.6 km\",\n",
        "               description=\"Monthly LST Day 5.6 km MOD11B3.006 Cordoba, 2015-2019\")"
      ],
      "id": "78b7eaf0",
      "execution_count": null,
      "outputs": []
    },
    {
      "cell_type": "markdown",
      "metadata": {},
      "source": [
        "Chequear si la STRDS fue creada\n"
      ],
      "id": "d680d4de"
    },
    {
      "cell_type": "code",
      "metadata": {},
      "source": [
        "# Check if the STRDS is created\n",
        "gs.read_command(\"t.list\",\n",
        "                type=\"strds\")"
      ],
      "id": "e1f12346",
      "execution_count": null,
      "outputs": []
    },
    {
      "cell_type": "markdown",
      "metadata": {},
      "source": [
        "Obtener información sobre la STRDS\n"
      ],
      "id": "0d499d79"
    },
    {
      "cell_type": "code",
      "metadata": {},
      "source": [
        "# Get info about the STRDS\n",
        "print(gs.read_command(\"t.info\", \n",
        "                input=\"LST_Day_monthly\"))"
      ],
      "id": "dc17e0bd",
      "execution_count": null,
      "outputs": []
    },
    {
      "cell_type": "markdown",
      "metadata": {},
      "source": [
        "### Registrar mapas en una STDS (asignar *timestamps*)\n",
        "\n",
        "**[t.register](https://grass.osgeo.org/grass-stable/manuals/t.register.html)**\n",
        "\n",
        "- Asigna o agrega timestamps a los mapas\n",
        "- Necesitamos: \n",
        "  - el *STDS vacío* como entrada, i.e., la tabla SQLite contenedora, \n",
        "  - la *lista de mapas* que se registrarán, \n",
        "  - la *fecha de inicio*,\n",
        "  - la opción de *incremento* junto con *-i* para la creación de intervalos \n"
      ],
      "id": "aa26bf17"
    },
    {
      "cell_type": "code",
      "metadata": {},
      "source": [
        "# Add time stamps to maps (i.e., register maps)\n",
        "gs.run_command(\"t.register\",\n",
        "               input=\"LST_Day_monthly\",\n",
        "               maps=lista_lst,\n",
        "               start=\"2015-01-01\",\n",
        "               increment=\"1 months\",\n",
        "               flags=\"i\")"
      ],
      "id": "c4534b75",
      "execution_count": null,
      "outputs": []
    },
    {
      "cell_type": "markdown",
      "metadata": {},
      "source": [
        "Chequear la información sobre la STRDS nuevamente\n"
      ],
      "id": "6b550413"
    },
    {
      "cell_type": "code",
      "metadata": {},
      "source": [
        "# Check info again\n",
        "print(gs.read_command(\"t.info\", \n",
        "                input=\"LST_Day_monthly\"))"
      ],
      "id": "6140187e",
      "execution_count": null,
      "outputs": []
    },
    {
      "cell_type": "markdown",
      "metadata": {},
      "source": [
        "Revisamos la lista de mapas en la STRDS\n"
      ],
      "id": "8cf164dc"
    },
    {
      "cell_type": "code",
      "metadata": {},
      "source": [
        "# Check the list of maps in the STRDS\n",
        "print(gs.read_command(\"t.rast.list\", \n",
        "                      input=\"LST_Day_monthly\"))"
      ],
      "id": "1b81f7ed",
      "execution_count": null,
      "outputs": []
    },
    {
      "cell_type": "markdown",
      "metadata": {},
      "source": [
        "Chequeamos los valores mínimos y máximos de cada mapa\n"
      ],
      "id": "5718d1cf"
    },
    {
      "cell_type": "code",
      "metadata": {},
      "source": [
        "# Check min and max per map\n",
        "print(gs.read_command(\"t.rast.list\",\n",
        "                      input=\"LST_Day_monthly\",\n",
        "                      columns=\"name,min,max\"))"
      ],
      "id": "fd1b2492",
      "execution_count": null,
      "outputs": []
    },
    {
      "cell_type": "markdown",
      "metadata": {},
      "source": [
        ":::{.callout-note}\n",
        "Para más opciones sobre cómo registrar mapas, ver el manual de \n",
        "[t.register](https://grass.osgeo.org/grass-stable/manuals/t.register.html) \n",
        "y la wiki sobre \n",
        "[opciones para registrar mapas en STDS](https://grasswiki.osgeo.org/wiki/Temporal_data_processing/maps_registration).\n",
        ":::\n",
        "\n",
        "### Representación gráfica de STDS\n",
        "\n",
        "Crear una representación gráfica de la serie de tiempo\n"
      ],
      "id": "d8d0f1ef"
    },
    {
      "cell_type": "code",
      "metadata": {},
      "source": [
        "!g.gui.timeline inputs=LST_Day_monthly"
      ],
      "id": "b0f7c9dd",
      "execution_count": null,
      "outputs": []
    },
    {
      "cell_type": "markdown",
      "metadata": {},
      "source": [
        "![](../assets/img/g_gui_timeline_monthly.png){width=60%}\n",
        "\n",
        ":::{.callout-note}\n",
        "Ver el manual de <a href=\"https://grass.osgeo.org/grass-stable/manuals/g.gui.timeline.html\">g.gui.timeline</a> para más detalles.\n",
        ":::\n",
        "\n",
        "### Operaciones con álgebra temporal\n",
        "\n",
        "**[t.rast.algebra](https://grass.osgeo.org/grass-stable/manuals/t.rast.algebra.html)**\n",
        "\n",
        "- Realiza una amplia gama de operaciones de álgebra temporal y espacial basadas \n",
        "en la topología temporal de los mapas\n",
        "  - Operadores temporales: unión, intersección, etc.\n",
        "  - Funciones temporales: *start_time()*, *start_doy()*, etc.\n",
        "  - Operadores espaciales (subconjunto de [r.mapcalc](https://grass.osgeo.org/grass-stable/manuals/r.mapcalc.html))\n",
        "  - Modificador de vecindario temporal: *[x,y,t]*\n",
        "  - Otras funciones temporales como *t_snap()*, *buff_t()* o *t_shift()*\n",
        "\n",
        "**¡pueden combinarse en expresiones complejas!**\n",
        "\n",
        "\n",
        "#### Desde K*50 a Celsius usando la calculadora temporal\n",
        "\n",
        "Re-escalar a grados Celsius\n"
      ],
      "id": "600c66dd"
    },
    {
      "cell_type": "code",
      "metadata": {},
      "source": [
        "# Re-scale data to degrees Celsius\n",
        "expression=\"LST_Day_monthly_celsius = LST_Day_monthly * 0.02 - 273.15\"\n",
        "\n",
        "gs.run_command(\"t.rast.algebra\",\n",
        "               basename=\"LST_Day_monthly_celsius\",\n",
        "               suffix=\"gran\",\n",
        "               expression=expression)"
      ],
      "id": "d6b205ce",
      "execution_count": null,
      "outputs": []
    },
    {
      "cell_type": "markdown",
      "metadata": {},
      "source": [
        "Ver info de la nueva serie de tiempo\n"
      ],
      "id": "3b4e5990"
    },
    {
      "cell_type": "code",
      "metadata": {},
      "source": [
        "# Check info\n",
        "print(gs.read_command(\"t.info\", \n",
        "                      input=\"LST_Day_monthly_celsius\"))"
      ],
      "id": "a2369522",
      "execution_count": null,
      "outputs": []
    },
    {
      "cell_type": "markdown",
      "metadata": {},
      "source": [
        "### Gráfico temporal: LST vs tiempo\n",
        "\n",
        "Gráfico temporal de LST para la ciudad de Córdoba, Argentina\n"
      ],
      "id": "8eac1e93"
    },
    {
      "cell_type": "code",
      "metadata": {},
      "source": [
        "# LST time series plot for Cba city center\n",
        "!g.gui.tplot strds=LST_Day_monthly_celsius coordinates=4323478.531282977,6541664.09350761 title=\"Monthly LST. City center of Cordoba\" xlabel=\"Time\" ylabel=\"LST\""
      ],
      "id": "1a65b00b",
      "execution_count": null,
      "outputs": []
    },
    {
      "cell_type": "markdown",
      "metadata": {},
      "source": [
        "![Salida de g.gui.tplot](../assets/img/g_gui_tplot_final.png){width=60%}\n",
        "\n",
        "En la interfaz de `g.gui.tplot`, las coordenadas del punto pueden ser escritas\n",
        "directamente, copiadas desde el mapa o seleccionadas interactivamente en el\n",
        "*map display*.\n",
        "\n",
        ":::{.callout-note}\n",
        "Para un único punto, ver <a href=\"https://grass.osgeo.org/grass-stable/manuals/g.gui.tplot.html\">g.gui.tplot</a>. Para un vector de puntos, ver <a href=\"https://grass.osgeo.org/grass-stable/manuals/t.rast.what.html\">t.rast.what</a>.\n",
        ":::\n",
        "\n",
        "### Listas y selecciones\n",
        "\n",
        "- **[t.list](https://grass.osgeo.org/grass-stable/manuals/t.list.html)** para listar las STDS y los mapas registrados en la base de datos temporal,\n",
        "- **[t.rast.list](https://grass.osgeo.org/grass-stable/manuals/t.rast.list.html)** para mapas en series temporales de rasters, y\n",
        "- **[t.vect.list](https://grass.osgeo.org/grass-stable/manuals/t.vect.list.html)** para mapas en series temporales de vectores.\n",
        "\n",
        "#### Variables usadas para hacer las listas y selecciones\n",
        "\n",
        ":::{style=\"background-color: rgba(200, 230, 255, 0.75);\"}\n",
        "**STRDS:** *id, name, creator, mapset, temporal_type, creation_time, start_time, end_time, north, south, west, east, nsres, ewres, cols, rows, number_of_cells, min, max*\n",
        ":::\n",
        "\n",
        ":::{style=\"background-color: rgba(200, 230, 255, 0.75);\"}\n",
        "**STVDS:** *id, name, layer, creator, mapset, temporal_type, creation_time, start_time, end_time, north, south, west, east, points, lines, boundaries, centroids, faces, kernels, primitives, nodes, areas, islands, holes, volumes*\n",
        ":::\n",
        "\n",
        "#### Ejemplos de listas y selecciones\n",
        "\n",
        "Mapas cuyo valor mínimo es menor o igual a 10\n"
      ],
      "id": "3ebeeded"
    },
    {
      "cell_type": "code",
      "metadata": {},
      "source": [
        "# Maps with minimum value lower than or equal to 10\n",
        "print(gs.read_command(\"t.rast.list\",\n",
        "                      input=\"LST_Day_monthly_celsius\",\n",
        "                      order=\"min\", \n",
        "                      columns=\"name,start_time,min\",\n",
        "                      where=\"min <= '10.0'\"))"
      ],
      "id": "93c0c58b",
      "execution_count": null,
      "outputs": []
    },
    {
      "cell_type": "markdown",
      "metadata": {},
      "source": [
        "Mapas cuyo valor máximo es mayor a 30\n"
      ],
      "id": "4efabf54"
    },
    {
      "cell_type": "code",
      "metadata": {},
      "source": [
        "# Maps with maximum value higher than 30\n",
        "print(gs.read_command(\"t.rast.list\",\n",
        "                      input=\"LST_Day_monthly_celsius\",\n",
        "                      order=\"max\",\n",
        "                      columns=\"name,start_time,max\",\n",
        "                      where=\"max > '30.0'\"))"
      ],
      "id": "a56abfd2",
      "execution_count": null,
      "outputs": []
    },
    {
      "cell_type": "markdown",
      "metadata": {},
      "source": [
        "Mapas contenidos entre dos fechas\n"
      ],
      "id": "06e2c92d"
    },
    {
      "cell_type": "code",
      "metadata": {},
      "source": [
        "# Maps between two given dates\n",
        "print(gs.read_command(\"t.rast.list\",\n",
        "                      input=\"LST_Day_monthly_celsius\",\n",
        "                      columns=\"name,start_time\",\n",
        "                      where=\"start_time >= '2015-05' and start_time <= '2015-08-01 00:00:00'\"))"
      ],
      "id": "f36503aa",
      "execution_count": null,
      "outputs": []
    },
    {
      "cell_type": "markdown",
      "metadata": {},
      "source": [
        "Todos los mapas correspondientes al mes de Enero\n"
      ],
      "id": "ca413ffe"
    },
    {
      "cell_type": "code",
      "metadata": {},
      "source": [
        "# Maps from January\n",
        "print(gs.read_command(\"t.rast.list\",\n",
        "                      input=\"LST_Day_monthly_celsius\",\n",
        "                      columns=\"name,start_time\",\n",
        "                      where=\"strftime('%m', start_time)='01'\"))"
      ],
      "id": "f7a51dd7",
      "execution_count": null,
      "outputs": []
    },
    {
      "cell_type": "markdown",
      "metadata": {},
      "source": [
        "### Estadística descriptiva de STRDS\n",
        "\n",
        "Imprimir estadísticas descriptivas univariadas para cada mapa dentro de la STRDS\n"
      ],
      "id": "353ca1d8"
    },
    {
      "cell_type": "code",
      "metadata": {},
      "source": [
        "# Print univariate stats for maps within STRDS\n",
        "print(gs.read_command(\"t.rast.univar\",\n",
        "                      input=\"LST_Day_monthly_celsius\"))"
      ],
      "id": "33364567",
      "execution_count": null,
      "outputs": []
    },
    {
      "cell_type": "markdown",
      "metadata": {},
      "source": [
        "Obtener estadísticas extendidas con la opción -e y escribir la salida a un\n",
        "archivo de texto\n"
      ],
      "id": "76e868d4"
    },
    {
      "cell_type": "code",
      "metadata": {},
      "source": [
        "# Write extended univariate stats output to a csv file\n",
        "gs.run_command(\"t.rast.univar\",\n",
        "                flags=\"e\",\n",
        "                input=\"LST_Day_monthly_celsius\",\n",
        "                output=os.path.join(homedir,\"ext_stats_LST_Day_monthly_celsius.csv\"),\n",
        "                separator=\"comma\")"
      ],
      "id": "d7f70b89",
      "execution_count": null,
      "outputs": []
    },
    {
      "cell_type": "markdown",
      "metadata": {},
      "source": [
        "Graficamos las series del promedio, mínimo y máximo por mapa:\n"
      ],
      "id": "c5646696"
    },
    {
      "cell_type": "code",
      "metadata": {},
      "source": [
        "# Read the csv and plot\n",
        "import pandas as pd\n",
        "\n",
        "lst = pd.read_csv(os.path.join(homedir,\"ext_stats_LST_Day_monthly_celsius.csv\"))\n",
        "lst['start'] = pd.to_datetime(lst.start, format=\"%Y-%m-%d\", exact=False)\n",
        "lst.plot.line(1, [3,4,5], subplots=False)"
      ],
      "id": "b97a580e",
      "execution_count": null,
      "outputs": []
    },
    {
      "cell_type": "markdown",
      "metadata": {},
      "source": [
        "### Agregación temporal 1: Serie completa\n",
        "\n",
        "**[t.rast.series](https://grass.osgeo.org/grass-stable/manuals/t.rast.series.html)**\n",
        "\n",
        "- Agrega STRDS *completas* o partes de ellas usando la opción *where*.\n",
        "- Diferentes métodos disponibles: promedio, mínimo, máximo, mediana, moda, etc.\n",
        "\n",
        "\n",
        "#### LST máxima y mínima del período 2015-2019\n",
        "\n",
        "Obtener los mapas de la máxima y mínima LST del período\n"
      ],
      "id": "b75403a1"
    },
    {
      "cell_type": "code",
      "metadata": {},
      "source": [
        "# Get maximum and minimum LST in the STRDS\n",
        "methods=[\"maximum\",\"minimum\"]\n",
        "\n",
        "for m in methods:\n",
        "    gs.run_command(\"t.rast.series\",\n",
        "                   input=\"LST_Day_monthly_celsius\",\n",
        "                   output=f\"LST_Day_{m}\",\n",
        "                   method=m)"
      ],
      "id": "301dec1e",
      "execution_count": null,
      "outputs": []
    },
    {
      "cell_type": "markdown",
      "metadata": {},
      "source": [
        "Cambiar la paleta de colores a *celsius*\n"
      ],
      "id": "f552c3a5"
    },
    {
      "cell_type": "code",
      "metadata": {},
      "source": [
        "# Change color pallete to celsius\n",
        "gs.run_command(\"r.colors\",\n",
        "               map=\"LST_Day_minimum,LST_Day_maximum\",\n",
        "               color=\"celsius\")"
      ],
      "id": "ec1daa57",
      "execution_count": null,
      "outputs": []
    },
    {
      "cell_type": "markdown",
      "metadata": {},
      "source": [
        "Graficamos los mapas obtenidos\n"
      ],
      "id": "aa3d7ef0"
    },
    {
      "cell_type": "code",
      "metadata": {},
      "source": [
        "# Plot\n",
        "cba_map=gj.InteractiveMap(width = 500, tiles=\"OpenStreetMap\")\n",
        "cba_map.add_raster(\"LST_Day_minimum\")\n",
        "cba_map.add_raster(\"LST_Day_maximum\")\n",
        "cba_map.add_vector(\"provincia_cba\")\n",
        "cba_map.add_layer_control(position = \"bottomright\")\n",
        "cba_map.show()"
      ],
      "id": "3c09e86b",
      "execution_count": null,
      "outputs": []
    },
    {
      "cell_type": "markdown",
      "metadata": {},
      "source": [
        "Usamos la calculadora de mapas temporal, `t.rast.mapcalc`,para obtener el \n",
        "mes de la LST mínima\n"
      ],
      "id": "d35670a4"
    },
    {
      "cell_type": "code",
      "metadata": {},
      "source": [
        "# Get month of maximum LST\n",
        "expression=\"if(LST_Day_monthly_celsius == LST_Day_minimum, start_month(), null())\"\n",
        "\n",
        "gs.run_command(\"t.rast.mapcalc\",\n",
        "               flags=\"n\",\n",
        "               inputs=\"LST_Day_monthly_celsius\",\n",
        "               output=\"month_min_lst\",\n",
        "               expression=expression,\n",
        "               basename=\"month_min_lst\")"
      ],
      "id": "e131696d",
      "execution_count": null,
      "outputs": []
    },
    {
      "cell_type": "markdown",
      "metadata": {},
      "source": [
        "Obtener información del mapa resultante\n"
      ],
      "id": "aa015343"
    },
    {
      "cell_type": "code",
      "metadata": {},
      "source": [
        "# Get basic info\n",
        "print(gs.read_command(\"t.info\", \n",
        "                      input=\"month_min_lst\"))"
      ],
      "id": "b1e8c986",
      "execution_count": null,
      "outputs": []
    },
    {
      "cell_type": "markdown",
      "metadata": {},
      "source": [
        "Obtenemos el primer mes en que aparece el mínimo de LST\n"
      ],
      "id": "35880e58"
    },
    {
      "cell_type": "code",
      "metadata": {},
      "source": [
        "# Get the earliest month in which the maximum appeared (method minimum)\n",
        "gs.run_command(\"t.rast.series\",\n",
        "               input=\"month_min_lst\",\n",
        "               method=\"minimum\",\n",
        "               output=\"min_lst_date\")"
      ],
      "id": "692dcc85",
      "execution_count": null,
      "outputs": []
    },
    {
      "cell_type": "markdown",
      "metadata": {},
      "source": [
        "Remover la STRDS intermedia y los mapas que contiene:\n"
      ],
      "id": "6ac71879"
    },
    {
      "cell_type": "code",
      "metadata": {},
      "source": [
        "# Remove month_min_lst strds \n",
        "# we were only interested in the resulting aggregated map\n",
        "gs.run_command(\"t.remove\",\n",
        "               flags=\"rfd\",\n",
        "               inputs=\"month_min_lst\")"
      ],
      "id": "5265583f",
      "execution_count": null,
      "outputs": []
    },
    {
      "cell_type": "markdown",
      "metadata": {},
      "source": [
        "Chequeamos que la serie fue removida\n"
      ],
      "id": "b517da73"
    },
    {
      "cell_type": "code",
      "metadata": {},
      "source": [
        "# check STRDS in our mapset\n",
        "print(gs.read_command(\"t.list\"))"
      ],
      "id": "0f5b816e",
      "execution_count": null,
      "outputs": []
    },
    {
      "cell_type": "markdown",
      "metadata": {},
      "source": [
        "Mostrar el mapa resultante con la clase `Map` de `grass.jupyter`\n"
      ],
      "id": "56f91ca6"
    },
    {
      "cell_type": "code",
      "metadata": {},
      "source": [
        "# display results\n",
        "mm = gj.Map(width=450, use_region=True)\n",
        "mm.d_rast(map=\"min_lst_date\")\n",
        "mm.d_vect(map=\"provincia_cba\", type=\"boundary\", color=\"#4D4D4D\", width=2)\n",
        "mm.d_legend(raster=\"min_lst_date\", title=\"Month\", fontsize=10, at=(2,15,2,10))\n",
        "mm.d_barscale(length=50, units=\"kilometers\", segment=4, fontsize=14, at=(73,7))\n",
        "mm.d_northarrow(at=(90,15))\n",
        "mm.d_text(text=\"Month of minimum LST\", color=\"black\", font=\"sans\", size=4, bgcolor=\"white\")\n",
        "mm.show()"
      ],
      "id": "505b9e7c",
      "execution_count": null,
      "outputs": []
    },
    {
      "cell_type": "markdown",
      "metadata": {},
      "source": [
        ":::{.callout-caution title=\"Tarea\"}\n",
        "Podríamos haber hecho lo mismo pero anualmente para conocer en qué mes ocurre el máximo en cada año y así evaluar la ocurrencia de tendencias. Cómo lo harían?\n",
        ":::\n",
        "\n",
        "### Agregación temporal 2: granularidad\n",
        "\n",
        "**[t.rast.aggregate](https://grass.osgeo.org/grass-stable/manuals/t.rast.aggregate.html)**\n",
        "\n",
        "- Agrega mapas raster dentro de STRDS con diferentes **granularidades** \n",
        "- La opción *where* permite establecer fechas específicas para la agregación\n",
        "- Diferentes métodos disponibles: promedio, mínimo, máximo, mediana, moda, etc.\n",
        "\n",
        "#### De LST mensual a estacional\n",
        "\n",
        "LST media estacional\n"
      ],
      "id": "847f5f34"
    },
    {
      "cell_type": "code",
      "metadata": {},
      "source": [
        "# 3-month mean LST\n",
        "gs.run_command(\"t.rast.aggregate\",\n",
        "               input=\"LST_Day_monthly_celsius\",\n",
        "               output=\"LST_Day_mean_3month\",\n",
        "               basename=\"LST_Day_mean_3month\",\n",
        "               suffix=\"gran\",\n",
        "               method=\"average\",\n",
        "               granularity=\"3 months\")"
      ],
      "id": "278cd22a",
      "execution_count": null,
      "outputs": []
    },
    {
      "cell_type": "markdown",
      "metadata": {},
      "source": [
        "Chequear info\n"
      ],
      "id": "ad96b42f"
    },
    {
      "cell_type": "code",
      "metadata": {},
      "source": [
        "# Check info\n",
        "print(gs.read_command(\"t.info\",\n",
        "                      input=\"LST_Day_mean_3month\"))"
      ],
      "id": "b5b5ff0a",
      "execution_count": null,
      "outputs": []
    },
    {
      "cell_type": "markdown",
      "metadata": {},
      "source": [
        "Chequear lista de mapas\n"
      ],
      "id": "7009326f"
    },
    {
      "cell_type": "code",
      "metadata": {},
      "source": [
        "# Check map list\n",
        "print(gs.read_command(\"t.rast.list\",\n",
        "                      input=\"LST_Day_mean_3month\"))"
      ],
      "id": "18122f12",
      "execution_count": null,
      "outputs": []
    },
    {
      "cell_type": "markdown",
      "metadata": {},
      "source": [
        "Establecer la paleta de colores *celsius* para la STRDS estacional\n"
      ],
      "id": "1809ed85"
    },
    {
      "cell_type": "code",
      "metadata": {},
      "source": [
        "# Set STRDS color table to celsius degrees\n",
        "gs.run_command(\"t.rast.colors\",\n",
        "               input=\"LST_Day_mean_3month\",\n",
        "               color=\"celsius\")"
      ],
      "id": "98ea3e7e",
      "execution_count": null,
      "outputs": []
    },
    {
      "cell_type": "markdown",
      "metadata": {},
      "source": [
        "Mostramos la serie recientemente creada con una animación. Para eso vamos\n",
        "a usar la clase `TimeSeriesMap` de `grass.jupyter`\n"
      ],
      "id": "f6264291"
    },
    {
      "cell_type": "code",
      "metadata": {},
      "source": [
        "## Display newly created NDVI time series map\n",
        "lstseries = gj.TimeSeriesMap(use_region=True)\n",
        "lstseries.add_raster_series(\"LST_Day_mean_3month\", fill_gaps=False)\n",
        "lstseries.d_legend(color=\"black\", at=(10,40,2,6))\n",
        "lstseries.show()  # Create TimeSlider\n",
        "\n",
        "# optionally, write out to animated GIF\n",
        "lstseries.save(\"lstseries.gif\")"
      ],
      "id": "6bfde3c7",
      "execution_count": null,
      "outputs": []
    },
    {
      "cell_type": "markdown",
      "metadata": {},
      "source": [
        ":::{.callout-warning title=\"Tarea\"}\n",
        "Ahora que ya conocen\n",
        "[t.rast.aggregate](https://grass.osgeo.org/grass-stable/manuals/t.rast.aggregate.html), \n",
        "extraigan el mes de máximo LST por año y luego vean si hay alguna tendencia\n",
        "positiva o negativa, es decir, si los valores máximos de LST se observan más \n",
        "tarde o más temprano con el tiempo (años).\n",
        "\n",
        "Una solución podría ser...\n"
      ],
      "id": "ee15c9ab"
    },
    {
      "cell_type": "code",
      "metadata": {},
      "source": [
        "gs.run_command(\"t.rast.aggregate\",\n",
        "               input=\"LST_Day_monthly_celsius\", \n",
        "               output=\"month_max_LST_per_year\",   \n",
        "               basename=\"month_max_LST\", \n",
        "               suffix=\"gran\", \n",
        "               method=\"max_raster\", \n",
        "               granularity=\"1 year\")\n",
        "\n",
        "gs.run_command(\"t.rast.series\", \n",
        "               input=\"month_max_LST_per_year\", \n",
        "               output=\"slope_month_max_LST\", \n",
        "               method=\"slope\")"
      ],
      "id": "e5376abb",
      "execution_count": null,
      "outputs": []
    },
    {
      "cell_type": "markdown",
      "metadata": {},
      "source": [
        ":::\n",
        "\n",
        "### Agregación vs Climatología\n",
        "\n",
        ":::: columns\n",
        ":::{.column width=\"50%\"}\n",
        "![Agregación por granularidad](../assets/img/aggregation.png)\n",
        ":::\n",
        "\n",
        ":::{.column width=\"50%\"}\n",
        "![Agregación tipo climatología](../assets/img/climatology.png)\n",
        ":::\n",
        "::::\n",
        "\n",
        "#### Climatologías mensuales\n",
        "\n",
        "LST promedio de Enero\n"
      ],
      "id": "26fb3d7f"
    },
    {
      "cell_type": "code",
      "metadata": {},
      "source": [
        "# January average LST\n",
        "gs.run_command(\"t.rast.series\",\n",
        "               input=\"LST_Day_monthly_celsius\",\n",
        "               method=\"average\",\n",
        "               where=\"strftime('%m', start_time)='01'\",\n",
        "               output=\"LST_average_jan\")"
      ],
      "id": "92222714",
      "execution_count": null,
      "outputs": []
    },
    {
      "cell_type": "markdown",
      "metadata": {},
      "source": [
        "Climatología para todos los meses\n"
      ],
      "id": "afce5378"
    },
    {
      "cell_type": "code",
      "metadata": {},
      "source": [
        "# for all months\n",
        "months=['{0:02d}'.format(m) for m in range(1,13)]\n",
        "methods=[\"average\"]\n",
        "\n",
        "for m in months:\n",
        "    for me in methods:\n",
        "        gs.run_command(\"t.rast.series\", \n",
        "                       input=\"LST_Day_monthly_celsius\",\n",
        "                       method=me,\n",
        "                       where=f\"strftime('%m', start_time)='{m}'\",\n",
        "                       output=f\"LST_{me}_{m}\")"
      ],
      "id": "3921b582",
      "execution_count": null,
      "outputs": []
    },
    {
      "cell_type": "markdown",
      "metadata": {},
      "source": [
        ":::{.callout-warning title=\"Tarea\"}\n",
        "- Comparar las medias mensuales con las climatologías mensuales\n",
        "- Las climatologías que creamos forman una STRDS?\n",
        ":::\n",
        "\n",
        "\n",
        "### Anomalías anuales\n",
        "\n",
        "Se necesitan:\n",
        "\n",
        "- promedio y desviación estándar general de la serie\n",
        "- promedios anuales\n",
        "\n",
        "$$\n",
        "AnomaliaStd_i = \\frac{Media_i - Media}{SD}\n",
        "$$\n",
        "\n",
        "Obtenemos primero el promedio y el desvío estándar general de la serie\n"
      ],
      "id": "27ca68d5"
    },
    {
      "cell_type": "code",
      "metadata": {},
      "source": [
        "# Get general average and SD\n",
        "methods=[\"average\",\"stddev\"]\n",
        "\n",
        "for me in methods:\n",
        "    gs.run_command(\"t.rast.series\",\n",
        "                   input=\"LST_Day_monthly_celsius\",\n",
        "                   method=me,\n",
        "                   output=f\"LST_Day_{me}\")"
      ],
      "id": "bbde0b60",
      "execution_count": null,
      "outputs": []
    },
    {
      "cell_type": "markdown",
      "metadata": {},
      "source": [
        "y luego los promedios anuales\n"
      ],
      "id": "5f5ae43d"
    },
    {
      "cell_type": "code",
      "metadata": {},
      "source": [
        "# Get annual averages\n",
        "gs.run_command(\"t.rast.aggregate\",\n",
        "               input=\"LST_Day_monthly_celsius\",\n",
        "               method=\"average\",\n",
        "               granularity=\"1 years\",\n",
        "               output=\"LST_yearly_average\",\n",
        "               basename=\"LST_yearly_average\")"
      ],
      "id": "7c1fbec9",
      "execution_count": null,
      "outputs": []
    },
    {
      "cell_type": "markdown",
      "metadata": {},
      "source": [
        "Utilizamos el álgebra temporal para estimar las anomalías anuales\n"
      ],
      "id": "3b059225"
    },
    {
      "cell_type": "code",
      "metadata": {},
      "source": [
        "# Estimate annual anomalies\n",
        "expression=\"LST_year_anomaly = (LST_yearly_average - map(LST_Day_average)) / map(LST_Day_stddev)\"\n",
        "\n",
        "gs.run_command(\"t.rast.algebra\",\n",
        "               basename=\"LST_year_anomaly\",\n",
        "               expression=expression)"
      ],
      "id": "faad9d31",
      "execution_count": null,
      "outputs": []
    },
    {
      "cell_type": "markdown",
      "metadata": {},
      "source": [
        "Establecer la paleta de colores *differences* para toda la serie \n",
        "(esto permite tomar el minimo y maximo general de la serie)\n"
      ],
      "id": "4512ee58"
    },
    {
      "cell_type": "code",
      "metadata": {},
      "source": [
        "# Set difference color table\n",
        "gs.run_command(\"t.rast.colors\",\n",
        "               input=\"LST_year_anomaly\",\n",
        "               color=\"difference\")"
      ],
      "id": "d554c4d6",
      "execution_count": null,
      "outputs": []
    },
    {
      "cell_type": "markdown",
      "metadata": {},
      "source": [
        "Mostramos los resultados con una animación\n"
      ],
      "id": "27b88e4e"
    },
    {
      "cell_type": "code",
      "metadata": {},
      "source": [
        "# Animation of annual anomalies\n",
        "anomalies = gj.TimeSeriesMap(use_region=True)\n",
        "anomalies.add_raster_series(\"LST_year_anomaly\", fill_gaps=False)\n",
        "anomalies.d_legend(color=\"black\", at=(10,40,2,6))\n",
        "anomalies.show()"
      ],
      "id": "c66f8423",
      "execution_count": null,
      "outputs": []
    },
    {
      "cell_type": "markdown",
      "metadata": {},
      "source": [
        "### Isla de calor superficial urbana (Surface Urban Heat Island - SUHI)\n",
        "\n",
        "- La temperatura del aire de una zona urbana es más alta que la de las zonas cercanas\n",
        "- La UHI tiene efectos negativos en la calidad del agua y el aire, la biodiversidad, la salud humana y el clima.\n",
        "- La SUHI también está muy relacionada con la salud, ya que influye en la UHI \n",
        "\n",
        "![SUHI y área rural en Buenos Aires (<a href=\"https://www.mdpi.com/2072-4292/11/10/1212/htm\">Wu et al, 2019.</a>)\n",
        "](https://res.mdpi.com/remotesensing/remotesensing-11-01212/article_deploy/html/images/remotesensing-11-01212-g002-550.jpg){width=60%}\n",
        "\n",
        "\n",
        "### Estadística zonal en series de tiempo de datos raster\n",
        "\n",
        "**[v.strds.stats](https://grass.osgeo.org/grass7/manuals/addons/v.strds.stats.html)**\n",
        "\n",
        "- Permite obtener datos de series de tiempo agregados espacialmente para polígonos de un mapa vectorial\n",
        "\n",
        "\n",
        "#### SUHI estival para *Córdoba* y alrededores\n",
        "\n",
        "Instalar la extensión *v.strds.stats*\n"
      ],
      "id": "54b5433b"
    },
    {
      "cell_type": "code",
      "metadata": {},
      "source": [
        "# Install v.strds.stats add-on\n",
        "gs.run_command(\"g.extension\", extension=\"v.strds.stats\")"
      ],
      "id": "171cc393",
      "execution_count": null,
      "outputs": []
    },
    {
      "cell_type": "markdown",
      "metadata": {},
      "source": [
        "Listar mapas\n"
      ],
      "id": "4f21318e"
    },
    {
      "cell_type": "code",
      "metadata": {},
      "source": [
        "# List maps in seasonal time series\n",
        "print(gs.run_command(\"t.rast.list\",\n",
        "                     input=\"LST_Day_mean_3month\"))"
      ],
      "id": "1cf1af7c",
      "execution_count": null,
      "outputs": []
    },
    {
      "cell_type": "markdown",
      "metadata": {},
      "source": [
        "Extraer LST promedio de verano para el Gran Córdoba\n"
      ],
      "id": "96df5fe5"
    },
    {
      "cell_type": "code",
      "metadata": {},
      "source": [
        "# Extract summer average LST for Cba urban area\n",
        "gs.run_command(\"v.strds.stats\",\n",
        "               input=\"area_edificada_cba\",\n",
        "               strds=\"LST_Day_mean_3month\",\n",
        "               where=\"fna == 'Gran Córdoba'\",\n",
        "               t_where=\"strftime('%m', start_time)='02'\",\n",
        "               output=\"cba_summer_lst\",\n",
        "               method=\"average\")"
      ],
      "id": "05b6d043",
      "execution_count": null,
      "outputs": []
    },
    {
      "cell_type": "markdown",
      "metadata": {},
      "source": [
        "Crear buffer externo - 30 km\n"
      ],
      "id": "7854a0d0"
    },
    {
      "cell_type": "code",
      "metadata": {},
      "source": [
        "# Create outside buffer - 30 km\n",
        "gs.run_command(\"v.buffer\",\n",
        "               input=\"cba_summer_lst\",\n",
        "               distance=30000,\n",
        "               output=\"cba_summer_lst_buf30\")"
      ],
      "id": "d8606ba4",
      "execution_count": null,
      "outputs": []
    },
    {
      "cell_type": "markdown",
      "metadata": {},
      "source": [
        "Crear buffer interno - 15 km\n"
      ],
      "id": "f6113d00"
    },
    {
      "cell_type": "code",
      "metadata": {},
      "source": [
        "# Create inside buffer - 15 km\n",
        "gs.run_command(\"v.buffer\",\n",
        "               input=\"cba_summer_lst\",\n",
        "               distance=15000,\n",
        "               output=\"cba_summer_lst_buf15\")"
      ],
      "id": "c913051b",
      "execution_count": null,
      "outputs": []
    },
    {
      "cell_type": "markdown",
      "metadata": {},
      "source": [
        "Remover el área del buffer 15 km del buffer de 30 km\n"
      ],
      "id": "a819c3a0"
    },
    {
      "cell_type": "code",
      "metadata": {},
      "source": [
        "# Remove 15km buffer area from the 30km buffer area\n",
        "gs.run_command(\"v.overlay\",\n",
        "               ainput=\"cba_summer_lst_buf15\",\n",
        "               binput=\"cba_summer_lst_buf30\",\n",
        "               operator=\"xor\",\n",
        "               output=\"cba_surr\")"
      ],
      "id": "27aefda0",
      "execution_count": null,
      "outputs": []
    },
    {
      "cell_type": "markdown",
      "metadata": {},
      "source": [
        "![Límites del Gran Córdoba y el área rural circundante](../assets/img/suhi_buffers.png){width=50%}\n",
        "\n",
        "Extraer estadísticas para los alrededores del Gran Córdoba\n"
      ],
      "id": "77ae7ace"
    },
    {
      "cell_type": "code",
      "metadata": {},
      "source": [
        "# Extract zonal stats for Cba surroundings\n",
        "gs.run_command(\"v.strds.stats\",\n",
        "               input=\"cba_surr\",\n",
        "               strds=\"LST_Day_mean_3month\",\n",
        "               t_where=\"strftime('%m', start_time)='02'\",\n",
        "               method=\"average\",\n",
        "               output=\"cba_surr_summer_lst\")"
      ],
      "id": "ce8b5462",
      "execution_count": null,
      "outputs": []
    },
    {
      "cell_type": "markdown",
      "metadata": {},
      "source": [
        "Chequear la LST estival promedio para el Gran Córdoba y alrededores\n"
      ],
      "id": "606d7aa9"
    },
    {
      "cell_type": "code",
      "metadata": {},
      "source": [
        "# Take a look at mean summer LST in Cba and surroundings\n",
        "gs.vector_db_select(\"cba_summer_lst\")[\"values\"]"
      ],
      "id": "a9e396e5",
      "execution_count": null,
      "outputs": []
    },
    {
      "cell_type": "code",
      "metadata": {},
      "source": [
        "gs.vector_db_select(\"cba_surr_summer_lst\")[\"values\"]"
      ],
      "id": "0449af80",
      "execution_count": null,
      "outputs": []
    },
    {
      "cell_type": "code",
      "metadata": {},
      "source": [
        "tabla1 = pd.DataFrame.from_dict(gs.vector_db_select(map=\"cba_summer_lst\")['values'], \n",
        "                               orient='index', \n",
        "                               columns=gs.vector_db_select(map=\"cba_summer_lst\")['columns'])\n",
        "tabla1"
      ],
      "id": "7fc65c3d",
      "execution_count": null,
      "outputs": []
    },
    {
      "cell_type": "code",
      "metadata": {},
      "source": [
        "# crear un data frame a partir del vector\n",
        "tabla2 = pd.DataFrame.from_dict(gs.vector_db_select(map=\"cba_surr_summer_lst\")['values'], \n",
        "                               orient='index', \n",
        "                               columns=gs.vector_db_select(map=\"cba_surr_summer_lst\")['columns'])\n",
        "tabla2"
      ],
      "id": "e63a22c2",
      "execution_count": null,
      "outputs": []
    },
    {
      "cell_type": "code",
      "metadata": {},
      "source": [
        "# table massaging\n",
        "df1 = tabla1.loc[1:,['cat', 'LST_Day_mean_3month_2015_02_01_average', 'LST_Day_mean_3month_2016_02_01_average', 'LST_Day_mean_3month_2017_02_01_average', 'LST_Day_mean_3month_2018_02_01_average', 'LST_Day_mean_3month_2019_02_01_average']]\n",
        "df2 = tabla2.loc[1:,['cat', 'LST_Day_mean_3month_2015_02_01_average', 'LST_Day_mean_3month_2016_02_01_average', 'LST_Day_mean_3month_2017_02_01_average', 'LST_Day_mean_3month_2018_02_01_average', 'LST_Day_mean_3month_2019_02_01_average']]"
      ],
      "id": "0a2a7216",
      "execution_count": null,
      "outputs": []
    },
    {
      "cell_type": "code",
      "metadata": {},
      "source": [
        "tables = [df1,df2]\n",
        "suhi = pd.concat(tables)\n",
        "suhi['cat'] = suhi.index\n",
        "suhi"
      ],
      "id": "4de9ee1e",
      "execution_count": null,
      "outputs": []
    },
    {
      "cell_type": "code",
      "metadata": {},
      "source": [
        "suhi_long = suhi.melt(id_vars=\"cat\", var_name=\"date\", value_name=\"LST_Day_mean_3month_average\")\n",
        "suhi_long"
      ],
      "id": "cd769090",
      "execution_count": null,
      "outputs": []
    },
    {
      "cell_type": "markdown",
      "metadata": {},
      "source": [
        ":::{.callout-warning title=\"Tarea\"}\n",
        "Se animan a hacer un gráfico de barras con librerías de Python para representar los \n",
        "valores promedios por año para la zona urbana y alrededores?\n",
        ":::\n"
      ],
      "id": "845bf430"
    },
    {
      "cell_type": "code",
      "metadata": {},
      "source": [
        "import matplotlib.pyplot as plt\n",
        "import seaborn as sns\n",
        "import numpy as np\n",
        "\n",
        "suhi_long['setting'] = np.where(suhi_long['cat']== 1, 'Non Urban', 'Urban')"
      ],
      "id": "138b0c04",
      "execution_count": null,
      "outputs": []
    },
    {
      "cell_type": "code",
      "metadata": {},
      "source": [
        "plt.figure(figsize=(10, 10))\n",
        "g = sns.barplot(data= suhi_long, x=\"date\", y=\"LST_Day_mean_3month_average\",  hue=\"setting\")\n",
        "g.set_xticklabels([\"2015\", \"2016\", \"2017\", \"2018\", \"2019\"])\n",
        "plt.xlabel(\"Year\")\n",
        "plt.ylabel(\"LST Day mean 3month average\")\n",
        "sns.move_legend(g, \"upper right\", title= \"Setting\")\n",
        "plt.show()"
      ],
      "id": "7f0a953f",
      "execution_count": null,
      "outputs": []
    },
    {
      "cell_type": "markdown",
      "metadata": {},
      "source": [
        "# Recursos (muy) útiles \n",
        "\n",
        "- [Temporal data processing wiki](https://grasswiki.osgeo.org/wiki/Temporal_data_processing)\n",
        "- [GRASS GIS and R for time series processing wiki](https://grasswiki.osgeo.org/wiki/Temporal_data_processing/GRASS_R_raster_time_series_processing)\n",
        "- [GRASS GIS temporal workshop at NCSU](http://ncsu-geoforall-lab.github.io/grass-temporal-workshop/)\n",
        "- [GRASS GIS course IRSAE 2018](http://training.gismentors.eu/grass-gis-irsae-winter-course-2018/index.html)\n",
        "- [GRASS GIS workshop held in Jena 2023](https://training.gismentors.eu/grass-gis-workshop-jena/)\n",
        "- [Using Satellite Data for Species Distribution Modeling with GRASS GIS and R](https://veroandreo.github.io/grass_ncsu_2023/studio_index.html). Workshop en \n",
        "NCSU. Abril, 2023.\n",
        "\n",
        "# Referencias\n",
        "\n",
        "::: {#refs .tiny}\n",
        ":::\n"
      ],
      "id": "a9876483"
    }
  ],
  "metadata": {
    "kernelspec": {
      "name": "python3",
      "language": "python",
      "display_name": "Python 3 (ipykernel)"
    }
  },
  "nbformat": 4,
  "nbformat_minor": 5
}