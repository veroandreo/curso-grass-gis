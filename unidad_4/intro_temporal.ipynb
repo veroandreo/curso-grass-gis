{
  "cells": [
    {
      "cell_type": "raw",
      "metadata": {},
      "source": [
        "---\n",
        "title: Intro a series de tiempo\n",
        "author: Verónica Andreo\n",
        "date: today\n",
        "format:\n",
        "  html:\n",
        "    code-tools: true\n",
        "    code-copy: true\n",
        "    code-fold: false\n",
        "execute:\n",
        "  eval: false\n",
        "  cache: false\n",
        "  keep-ipynb: true\n",
        "---"
      ],
      "id": "0fbbf9e8"
    },
    {
      "cell_type": "markdown",
      "metadata": {},
      "source": [
        "## Procesamiento de series de tiempo en GRASS GIS\n",
        "\n",
        "\n",
        "### Contenidos\n",
        "\n",
        "- Nociones básicas\n",
        "- TGRASS framework\n",
        "- Creación de series de tiempo\n",
        "- Álgebra temporal y variables temporales\n",
        "- Distintos tipos de agregación\n",
        "- Estadística zonal e islas de calor urbanas\n",
        "- Conexión con R\n",
        "\n",
        "**GRASS GIS** es **el primer SIG de código abierto** que incorporó capacidades \n",
        "para **gestionar, analizar, procesar y visualizar datos espacio-temporales**,\n",
        "así como las relaciones temporales entre series de tiempo.\n",
        "\n",
        "## TGRASS: GRASS Temporal\n",
        "\n",
        "- Completamente basado en metadatos, por lo que no hay duplicación de datos\n",
        "- Sigue una aproximación *Snapshot*, i.e., añade marcas de tiempo o *timestamps* a los mapas\n",
        "- Una colección de mapas de la misma variable con timestamps se llama space-time dataset o STDS\n",
        "- Los mapas en una STDS pueden tener diferentes extensiones espaciales y temporales\n",
        "- TGRASS utiliza una base de datos [SQLite](https://www.sqlite.org/index.html) para almacenar la extensión temporal y espacial de las STDS, así como las relaciones topológicas entre los mapas y entre las STDS en cada mapset.\n",
        "\n",
        "## Space-time datasets\n",
        "\n",
        "- Space time raster datasets (**STRDS**)\n",
        "- Space time 3D raster datasets (**STR3DS**)\n",
        "- Space time vector datasets (**STVDS**)\n",
        "\n",
        "## Otras nociones básicas en TGRASS\n",
        "\n",
        "- El tiempo puede definirse como intervalos (inicio y fin) o como instancias (sólo inicio)\n",
        "- El tiempo puede ser absoluto (por ejemplo, 2017-04-06 22:39:49) o relativo (por ejemplo, 4 años, 90 días)\n",
        "- Granularidad es el mayor divisor común de todas las extensiones temporales (y posibles gaps) de los mapas de un STDS\n",
        "- Topología se refiere a las relaciones temporales entre los intervalos de tiempo en una STDS\n",
        "\n",
        "<img src=\"../assets/img/temp_relation.png\">\n",
        "\n",
        "- Muestreo temporal se utiliza para determinar el estado de un proceso durante un segundo proceso.\n",
        "\n",
        "<img src=\"../assets/img/temp_samplings.png\" width=\"55%\">\n",
        "\n",
        "## Módulos temporales\n",
        "\n",
        "- **t.\\***: Módulos generales para manejar STDS de todos los tipos\n",
        "- **t.rast.\\***: Módulos que tratan con STRDS\n",
        "- **t.rast3d.\\***: Módulos que tratan con STR3DS\n",
        "- **t.vect.\\***: Módulos que tratan con STVDS\n",
        "\n",
        "\n",
        "## TGRASS: marco general y flujo de trabajo\n",
        "\n",
        "![](../assets/img/tgrass_flowchart.png)\n",
        "\n",
        "## Manos a la obra con series de tiempo raster en GRASS GIS\n",
        "\n",
        "### Datos para la sesión\n",
        "\n",
        "- Producto MODIS: <a href=\"https://lpdaac.usgs.gov/products/mod11b3v006/\">MOD11B3 Collection 6</a>\n",
        "- Tile: h12v12\n",
        "- Composiciones mensuales \n",
        "- Resolución espacial: 5600m\n",
        "- Mapset *`modis_lst`* \n",
        "\n",
        "\n",
        "![](../assets/img/mod11b3_h12v12.png)\n",
        "\n",
        "### Código para la sesión\n",
        "\n",
        "- [Comandos GRASS](https://gitlab.com/veroandreo/maie-procesamiento/-/raw/taller-grass-online/code/05_temporal_code.sh?inline=false)\n",
        "- [Comandos R](https://gitlab.com/veroandreo/maie-procesamiento/-/raw/taller-grass-online/code/05_temporal_code.r?inline=false)\n",
        "\n",
        "Iniciar GRASS GIS directamente en el mapset *`modis_lst`*\n"
      ],
      "id": "06df4093"
    },
    {
      "cell_type": "code",
      "metadata": {},
      "source": [
        "# paths\n",
        "grassdata='/home/veroandreo/grassdata/'\n",
        "location='posgar2007_4_cba'\n",
        "mapset='modis_lst'"
      ],
      "id": "686cace5",
      "execution_count": null,
      "outputs": []
    },
    {
      "cell_type": "code",
      "metadata": {},
      "source": [
        "import os\n",
        "import subprocess\n",
        "import sys\n",
        "\n",
        "# Ask GRASS GIS where its Python packages are to be able to start it from the notebook\n",
        "sys.path.append(\n",
        "    subprocess.check_output([\"grass\", \"--config\", \"python_path\"], text=True).strip()\n",
        ")\n",
        "\n",
        "# Importar los paquetes python de GRASS\n",
        "import grass.script as gs\n",
        "import grass.jupyter as gj\n",
        "\n",
        "# Iniciar GRASS\n",
        "session = gj.init(grassdata, location, mapset)"
      ],
      "id": "9bafd747",
      "execution_count": null,
      "outputs": []
    },
    {
      "cell_type": "markdown",
      "metadata": {},
      "source": [
        "Establecer región computacional y máscara\n",
        "\n",
        "Listar los mapas raster y obtener información de uno de ellos\n"
      ],
      "id": "6ee56ade"
    },
    {
      "cell_type": "code",
      "metadata": {},
      "source": [
        "# Get list of raster maps in the 'modis_lst' mapset\n",
        "g.list type=raster mapset=.\n",
        "\n",
        "# Get info from one of the raster maps\n",
        "r.info map=MOD11B3.A2015060.h12v12.single_LST_Day_6km"
      ],
      "id": "88a98fbd",
      "execution_count": null,
      "outputs": []
    },
    {
      "cell_type": "markdown",
      "metadata": {},
      "source": [
        "Establecer la región computacional\n"
      ],
      "id": "47b68ce1"
    },
    {
      "cell_type": "code",
      "metadata": {},
      "source": [
        "# Set region to Cba boundaries with LST maps' resolution\n",
        "g.region -p vector=provincia_cba \\\n",
        "  align=MOD11B3.A2015060.h12v12.single_LST_Day_6km"
      ],
      "id": "f42443b9",
      "execution_count": null,
      "outputs": []
    },
    {
      "cell_type": "markdown",
      "metadata": {},
      "source": [
        "Aplicar máscara\n"
      ],
      "id": "f126c622"
    },
    {
      "cell_type": "code",
      "metadata": {},
      "source": [
        "# Set a MASK to Cba boundary\n",
        "r.mask vector=provincia_cba"
      ],
      "id": "370dcb31",
      "execution_count": null,
      "outputs": []
    },
    {
      "cell_type": "markdown",
      "metadata": {},
      "source": [
        "### Crear un conjunto de datos espacio-temporales (STDS)\n",
        "\n",
        "**[t.create](https://grass.osgeo.org/grass-stable/manuals/t.create.html)**\n",
        "<br>\n",
        "- Crea una tabla SQLite en la base de datos temporal \n",
        "- Permite manejar grandes cantidades de mapas usando el STDS como entrada\n",
        "- Necesitamos especificar:\n",
        "  - *tipo de mapas* (raster, raster3d o vector)\n",
        "  - *tipo de tiempo* (absoluto o relativo)\n",
        "\n",
        "Crear la STRDS\n"
      ],
      "id": "153ab843"
    },
    {
      "cell_type": "code",
      "metadata": {},
      "source": [
        "# Create the STRDS\n",
        "t.create type=strds temporaltype=absolute output=LST_Day_monthly \\\n",
        "  title=\"Monthly LST Day 5.6 km\" \\\n",
        "  description=\"Monthly LST Day 5.6 km MOD11B3.006 Cordoba, 2015-2019\""
      ],
      "id": "1ebab175",
      "execution_count": null,
      "outputs": []
    },
    {
      "cell_type": "markdown",
      "metadata": {},
      "source": [
        "Chequear si la STRDS fue creada\n"
      ],
      "id": "a54665a2"
    },
    {
      "cell_type": "code",
      "metadata": {},
      "source": [
        "# Check if the STRDS is created\n",
        "t.list type=strds"
      ],
      "id": "267e0e6f",
      "execution_count": null,
      "outputs": []
    },
    {
      "cell_type": "markdown",
      "metadata": {},
      "source": [
        "Obtener información sobre la STRDS\n"
      ],
      "id": "95211531"
    },
    {
      "cell_type": "code",
      "metadata": {},
      "source": [
        "# Get info about the STRDS\n",
        "t.info input=LST_Day_monthly"
      ],
      "id": "d5d353a1",
      "execution_count": null,
      "outputs": []
    },
    {
      "cell_type": "markdown",
      "metadata": {},
      "source": [
        "### Registrar mapas en una STDS (asignar *timestamps*)\n",
        "\n",
        "**[t.register](https://grass.osgeo.org/grass-stable/manuals/t.register.html)**\n",
        "<br>\n",
        "- Asigna o agrega timestamps a los mapas\n",
        "- Necesitamos: \n",
        "  - el *STDS vacío* como entrada, i.e., la tabla SQLite contenedora, \n",
        "  - la *lista de mapas* que se registrarán, \n",
        "  - la *fecha de inicio*,\n",
        "  - la opción de *incremento* junto con *-i* para la creación de intervalos \n",
        "\n",
        "Añadir timestamps a los mapas, i.e., registrar mapas"
      ],
      "id": "3a778c34"
    },
    {
      "cell_type": "code",
      "metadata": {},
      "source": [
        "# Add time stamps to maps (i.e., register maps)\n",
        "t.register -i input=LST_Day_monthly \\\n",
        " maps=`g.list type=raster pattern=\"MOD11B3*LST_Day*\" separator=comma` \\\n",
        " start=\"2015-01-01\" increment=\"1 months\""
      ],
      "id": "20a7ea35",
      "execution_count": null,
      "outputs": []
    },
    {
      "cell_type": "markdown",
      "metadata": {},
      "source": [
        "Chequear la información sobre la STRDS nuevamente"
      ],
      "id": "6d42c164"
    },
    {
      "cell_type": "code",
      "metadata": {},
      "source": [
        "# Check info again\n",
        "t.info input=LST_Day_monthly"
      ],
      "id": "bf6d7eda",
      "execution_count": null,
      "outputs": []
    },
    {
      "cell_type": "markdown",
      "metadata": {},
      "source": [
        "Obtener la lista de mapas en la STRDS"
      ],
      "id": "48675e8f"
    },
    {
      "cell_type": "code",
      "metadata": {},
      "source": [
        "# Check the list of maps in the STRDS\n",
        "t.rast.list input=LST_Day_monthly"
      ],
      "id": "dc3b30bf",
      "execution_count": null,
      "outputs": []
    },
    {
      "cell_type": "markdown",
      "metadata": {},
      "source": [
        "Chequear los valores mínimos y máximos de cada mapa"
      ],
      "id": "ecbf4d46"
    },
    {
      "cell_type": "code",
      "metadata": {},
      "source": [
        "# Check min and max per map\n",
        "t.rast.list input=LST_Day_monthly columns=name,min,max"
      ],
      "id": "7cf8c5af",
      "execution_count": null,
      "outputs": []
    },
    {
      "cell_type": "markdown",
      "metadata": {},
      "source": [
        "Para más opciones, ver el manual de <a href=\"https://grass.osgeo.org/grass-stable/manuals/t.register.html\">t.register</a> y la wiki sobre <a href=\"https://grasswiki.osgeo.org/wiki/Temporal_data_processing/maps_registration\">opciones para registrar mapas en STDS</a>.\n",
        "\n",
        "Representación gráfica de STDS\n",
        "\n",
        "Crear una representación gráfica de la serie de tiempo"
      ],
      "id": "b361b062"
    },
    {
      "cell_type": "code",
      "metadata": {},
      "source": [
        "# graphical representation of our STRDS\n",
        "g.gui.timeline inputs=LST_Day_monthly"
      ],
      "id": "38e50920",
      "execution_count": null,
      "outputs": []
    },
    {
      "cell_type": "markdown",
      "metadata": {},
      "source": [
        "![](../assets/img/g_gui_timeline_monthly.png)\n",
        "\n",
        "Ver el manual de <a href=\"https://grass.osgeo.org/grass-stable/manuals/g.gui.timeline.html\">g.gui.timeline</a>\n",
        "\n",
        "\n",
        "### Operaciones con álgebra temporal: **[t.rast.algebra](https://grass.osgeo.org/grass-stable/manuals/t.rast.algebra.html)**\n",
        "\n",
        "- Realiza una amplia gama de operaciones de álgebra temporal y espacial basadas en la topología temporal de los mapas\n",
        "  - Operadores temporales: unión, intersección, etc.\n",
        "  - Funciones temporales: *start_time()*, *start_doy()*, etc.\n",
        "  - Operadores espaciales (subconjunto de [r.mapcalc](https://grass.osgeo.org/grass-stable/manuals/r.mapcalc.html))\n",
        "  - Modificador de vecindario temporal: *[x,y,t]*\n",
        "  - Otras funciones temporales como *t_snap()*, *buff_t()* o *t_shift()*\n",
        "\n",
        "**¡pueden combinarse en expresiones complejas!**\n",
        "\n",
        "\n",
        "#### Desde K*50 a Celsius usando la calculadora temporal\n",
        "\n",
        "Re-escalar a grados Celsius"
      ],
      "id": "bc88d07d"
    },
    {
      "cell_type": "code",
      "metadata": {},
      "source": [
        "# Re-scale data to degrees Celsius\n",
        "t.rast.algebra basename=LST_Day_monthly_celsius suffix=gran \\\n",
        "  expression=\"LST_Day_monthly_celsius = LST_Day_monthly * 0.02 - 273.15\""
      ],
      "id": "e6b6e08a",
      "execution_count": null,
      "outputs": []
    },
    {
      "cell_type": "markdown",
      "metadata": {},
      "source": [
        "Ver info de la nueva serie de tiempo"
      ],
      "id": "a97cba13"
    },
    {
      "cell_type": "code",
      "metadata": {},
      "source": [
        "# Check info\n",
        "t.info LST_Day_monthly_celsius"
      ],
      "id": "177e60a4",
      "execution_count": null,
      "outputs": []
    },
    {
      "cell_type": "markdown",
      "metadata": {},
      "source": [
        "#### Gráfico temporal: LST vs tiempo\n",
        "\n",
        "Gráfico temporal de LST para la ciudad de Córdoba, Argentina"
      ],
      "id": "0607c559"
    },
    {
      "cell_type": "code",
      "metadata": {},
      "source": [
        "# LST time series plot for Cba city center\n",
        "g.gui.tplot strds=LST_Day_monthly_celsius \\\n",
        "  coordinates=4323478.531282977,6541664.09350761 \\\n",
        "  title=\"Monthly LST. City center of Cordoba\" \\\n",
        "  xlabel=\"Time\" ylabel=\"LST\""
      ],
      "id": "df79485f",
      "execution_count": null,
      "outputs": []
    },
    {
      "cell_type": "markdown",
      "metadata": {},
      "source": [
        "Para un único punto, ver <a href=\"https://grass.osgeo.org/grass-stable/manuals/g.gui.tplot.html\">g.gui.tplot</a>. Para un vector de puntos, ver <a href=\"https://grass.osgeo.org/grass-stable/manuals/t.rast.what.html\">t.rast.what</a>.\n",
        "\n",
        "![](../assets/img/g_gui_tplot_final.png)\n",
        "\n",
        "Las coordenadas del punto pueden ser escritas directamente, copiadas desde el mapa o seleccionadas interactivamente.\n",
        "\n",
        "## Listas y selecciones\n",
        "\n",
        "- **[t.list](https://grass.osgeo.org/grass-stable/manuals/t.list.html)** para listar las STDS y los mapas registrados en la base de datos temporal,\n",
        "- **[t.rast.list](https://grass.osgeo.org/grass-stable/manuals/t.rast.list.html)** para mapas en series temporales de rasters, y\n",
        "- **[t.vect.list](https://grass.osgeo.org/grass-stable/manuals/t.vect.list.html)** para mapas en series temporales de vectores.\n",
        "\n",
        "### Variables usadas para hacer las listas y selecciones\n",
        "\n",
        "STRDS:*id, name, creator, mapset, temporal_type, creation_time, start_time, end_time, north, south, west, east, nsres, ewres, cols, rows, number_of_cells, min, max*\n",
        "\n",
        "STVDS:*id, name, layer, creator, mapset, temporal_type, creation_time, start_time, end_time, north, south, west, east, points, lines, boundaries, centroids, faces, kernels, primitives, nodes, areas, islands, holes, volumes*\n",
        "\n",
        "#### Ejemplos de listas y selecciones\n",
        "\n",
        "Mapas cuyo valor mínimo es menor o igual a 10"
      ],
      "id": "b0733777"
    },
    {
      "cell_type": "code",
      "metadata": {},
      "source": [
        "# Maps with minimum value lower than or equal to 10\n",
        "t.rast.list input=LST_Day_monthly_celsius order=min \\\n",
        " columns=name,start_time,min where=\"min <= '10.0'\""
      ],
      "id": "014a6d77",
      "execution_count": null,
      "outputs": []
    },
    {
      "cell_type": "markdown",
      "metadata": {},
      "source": [
        "Mapas cuyo valor máximo es mayor a 30"
      ],
      "id": "279bdcd0"
    },
    {
      "cell_type": "code",
      "metadata": {},
      "source": [
        "# Maps with maximum value higher than 30\n",
        "t.rast.list input=LST_Day_monthly_celsius order=max \\\n",
        " columns=name,start_time,max where=\"max > '30.0'\""
      ],
      "id": "3b13e636",
      "execution_count": null,
      "outputs": []
    },
    {
      "cell_type": "markdown",
      "metadata": {},
      "source": [
        "Mapas contenidos entre dos fechas"
      ],
      "id": "8477f57a"
    },
    {
      "cell_type": "code",
      "metadata": {},
      "source": [
        "# Maps between two given dates\n",
        "t.rast.list input=LST_Day_monthly_celsius columns=name,start_time \\\n",
        " where=\"start_time >= '2015-05' and start_time <= '2015-08-01 00:00:00'\""
      ],
      "id": "15073f90",
      "execution_count": null,
      "outputs": []
    },
    {
      "cell_type": "markdown",
      "metadata": {},
      "source": [
        "Todos los mapas correspondientes al mes de Enero"
      ],
      "id": "322ba435"
    },
    {
      "cell_type": "code",
      "metadata": {},
      "source": [
        "# Maps from January\n",
        "t.rast.list input=LST_Day_monthly_celsius columns=name,start_time \\\n",
        " where=\"strftime('%m', start_time)='01'\""
      ],
      "id": "9de04f4c",
      "execution_count": null,
      "outputs": []
    },
    {
      "cell_type": "markdown",
      "metadata": {},
      "source": [
        "### Estadística descriptiva de STRDS\n",
        "\n",
        "Imprimir estadísticas descriptivas univariadas para cada mapa dentro de la STRDS"
      ],
      "id": "b7c5c88c"
    },
    {
      "cell_type": "code",
      "metadata": {},
      "source": [
        "# Print univariate stats for maps within STRDS\n",
        "t.rast.univar input=LST_Day_monthly_celsius"
      ],
      "id": "05178aba",
      "execution_count": null,
      "outputs": []
    },
    {
      "cell_type": "markdown",
      "metadata": {},
      "source": [
        "Obtener estadísticas extendidas con la opción -e"
      ],
      "id": "5e3e25eb"
    },
    {
      "cell_type": "code",
      "metadata": {},
      "source": [
        "# Get extended statistics\n",
        "t.rast.univar -e input=LST_Day_monthly_celsius"
      ],
      "id": "13e1a450",
      "execution_count": null,
      "outputs": []
    },
    {
      "cell_type": "markdown",
      "metadata": {},
      "source": [
        "Escribir la salida a un archivo de texto"
      ],
      "id": "69f53b89"
    },
    {
      "cell_type": "code",
      "metadata": {},
      "source": [
        "# Write the univariate stats output to a csv file\n",
        "t.rast.univar input=LST_Day_monthly_celsius separator=comma \\\n",
        "  output=stats_LST_Day_monthly_celsius.csv"
      ],
      "id": "e0b49c7e",
      "execution_count": null,
      "outputs": []
    },
    {
      "cell_type": "markdown",
      "metadata": {},
      "source": [
        "### Agregación temporal 1: Serie completa\n",
        "\n",
        "**[t.rast.series](https://grass.osgeo.org/grass-stable/manuals/t.rast.series.html)**\n",
        "\n",
        "- Agrega STRDS *completas* o partes de ellas usando la opción *where*.\n",
        "- Diferentes métodos disponibles: promedio, mínimo, máximo, mediana, moda, etc.\n",
        "\n",
        "\n",
        "LST máxima y mínima del período 2015-2019\n",
        "\n",
        "Obtener el mapa de la máxima LST del período"
      ],
      "id": "485f5f78"
    },
    {
      "cell_type": "code",
      "metadata": {},
      "source": [
        "# Get maximum LST in the STRDS\n",
        "t.rast.series input=LST_Day_monthly_celsius \\\n",
        "  output=LST_Day_max method=maximum"
      ],
      "id": "b7b59925",
      "execution_count": null,
      "outputs": []
    },
    {
      "cell_type": "markdown",
      "metadata": {},
      "source": [
        "Obtener el mapa de la mínima LST del período"
      ],
      "id": "dcf39662"
    },
    {
      "cell_type": "code",
      "metadata": {},
      "source": [
        "# Get minimum LST in the STRDS\n",
        "t.rast.series input=LST_Day_monthly_celsius \\\n",
        "  output=LST_Day_min method=minimum"
      ],
      "id": "12315e56",
      "execution_count": null,
      "outputs": []
    },
    {
      "cell_type": "markdown",
      "metadata": {},
      "source": [
        "Cambiar la paleta de colores a *celsius*"
      ],
      "id": "f67a08e2"
    },
    {
      "cell_type": "code",
      "metadata": {},
      "source": [
        "# Change color pallete to celsius\n",
        "r.colors map=LST_Day_min,LST_Day_max color=celsius"
      ],
      "id": "e99cc07e",
      "execution_count": null,
      "outputs": []
    },
    {
      "cell_type": "markdown",
      "metadata": {},
      "source": [
        "> Comparar mapas con la herramienta Mapswipe\n",
        "\n",
        "![](../assets/img/g_gui_mapswipe_lstmin.png)\n",
        "\n",
        "### Operaciones usando variables temporales\n",
        "\n",
        "**[t.rast.mapcalc](https://grass.osgeo.org/grass-stable/manuals/t.rast.mapcalc.html)**\n",
        "\n",
        "- Ejecuta expresiones espacio-temporales tipo *r.mapcalc*\n",
        "- Permite *operadores espaciales y temporales*, así como *variables internas* en la expresión\n",
        "- Las variables temporales incluyen: *start_time(), end_time(), start_month(), start_doy()*, etc. \n",
        "\n",
        "\n",
        "Cuál es el mes de máxima LST?\n",
        "\n",
        "Obtener el mes en que ocurre el máximo de LST en cada pixel"
      ],
      "id": "9a2779d5"
    },
    {
      "cell_type": "code",
      "metadata": {},
      "source": [
        "# Get month of maximum LST\n",
        "t.rast.mapcalc -n inputs=LST_Day_monthly_celsius \\\n",
        "  output=month_max_lst \\\n",
        "  expression=\"if(LST_Day_monthly_celsius == LST_Day_max, start_month(), null())\" \\\n",
        "  basename=month_max_lst"
      ],
      "id": "7459e55b",
      "execution_count": null,
      "outputs": []
    },
    {
      "cell_type": "markdown",
      "metadata": {},
      "source": [
        "Obtener información del mapa resultante"
      ],
      "id": "2dc80d34"
    },
    {
      "cell_type": "code",
      "metadata": {},
      "source": [
        "# Get basic info\n",
        "t.info month_max_lst"
      ],
      "id": "0597b7a2",
      "execution_count": null,
      "outputs": []
    },
    {
      "cell_type": "markdown",
      "metadata": {},
      "source": [
        "Obtener el primer mes en que aparece el máximo de LST"
      ],
      "id": "d931681e"
    },
    {
      "cell_type": "code",
      "metadata": {},
      "source": [
        "# Get the earliest month in which the maximum appeared (method minimum)\n",
        "t.rast.series input=month_max_lst \\\n",
        "  method=minimum \\\n",
        "  output=max_lst_date"
      ],
      "id": "bf007db6",
      "execution_count": null,
      "outputs": []
    },
    {
      "cell_type": "markdown",
      "metadata": {},
      "source": [
        "Remover la STRDS intermedia y los mapas que contiene: month_max_lst"
      ],
      "id": "c377d65e"
    },
    {
      "cell_type": "code",
      "metadata": {},
      "source": [
        "# Remove month_max_lst strds \n",
        "# we were only interested in the resulting aggregated map\n",
        "t.remove -rf inputs=month_max_lst"
      ],
      "id": "8ea5463e",
      "execution_count": null,
      "outputs": []
    },
    {
      "cell_type": "markdown",
      "metadata": {},
      "source": [
        "Mostrar el mapa resultante desde la terminal\n",
        "\n",
        "Abrir un monitor wx"
      ],
      "id": "99752e85"
    },
    {
      "cell_type": "code",
      "metadata": {},
      "source": [
        "# Open a monitor\n",
        "d.mon wx0"
      ],
      "id": "ad05c43b",
      "execution_count": null,
      "outputs": []
    },
    {
      "cell_type": "markdown",
      "metadata": {},
      "source": [
        "Mostrar el mapa raster"
      ],
      "id": "14eaac5e"
    },
    {
      "cell_type": "code",
      "metadata": {},
      "source": [
        "# Display the raster map\n",
        "d.rast map=max_lst_date"
      ],
      "id": "fcfe1e2d",
      "execution_count": null,
      "outputs": []
    },
    {
      "cell_type": "markdown",
      "metadata": {},
      "source": [
        "Mostrar sólo los bordes del mapa vectorial de NC"
      ],
      "id": "98b3fc09"
    },
    {
      "cell_type": "code",
      "metadata": {},
      "source": [
        "# Display boundary vector map\n",
        "d.vect map=provincia_cba type=boundary color=#4D4D4D width=2"
      ],
      "id": "b1b6c11f",
      "execution_count": null,
      "outputs": []
    },
    {
      "cell_type": "markdown",
      "metadata": {},
      "source": [
        "Agregar leyenda"
      ],
      "id": "4c6919fd"
    },
    {
      "cell_type": "code",
      "metadata": {},
      "source": [
        "# Add raster legend\n",
        "d.legend -t raster=max_lst_date title=\"Month\" \\\n",
        "  labelnum=6 title_fontsize=20 font=sans fontsize=16"
      ],
      "id": "c5310af6",
      "execution_count": null,
      "outputs": []
    },
    {
      "cell_type": "markdown",
      "metadata": {},
      "source": [
        "Agregar barra de escala"
      ],
      "id": "ce5bd0d0"
    },
    {
      "cell_type": "code",
      "metadata": {},
      "source": [
        "# Add scale bar\n",
        "d.barscale length=100 units=kilometers segment=4 fontsize=14"
      ],
      "id": "15f91572",
      "execution_count": null,
      "outputs": []
    },
    {
      "cell_type": "markdown",
      "metadata": {},
      "source": [
        "Agregar Norte"
      ],
      "id": "669c7fcb"
    },
    {
      "cell_type": "code",
      "metadata": {},
      "source": [
        "# Add North arrow\n",
        "d.northarrow style=1b text_color=black"
      ],
      "id": "1c4a6ea3",
      "execution_count": null,
      "outputs": []
    },
    {
      "cell_type": "markdown",
      "metadata": {},
      "source": [
        "Agregar título"
      ],
      "id": "c945c7e2"
    },
    {
      "cell_type": "code",
      "metadata": {},
      "source": [
        "# Add text\n",
        "d.text text=\"Month of maximum LST\" \\\n",
        "  color=black align=cc font=sans size=12"
      ],
      "id": "93c9a2f1",
      "execution_count": null,
      "outputs": []
    },
    {
      "cell_type": "markdown",
      "metadata": {},
      "source": [
        "![](../assets/img/month_max_lst.png)\n",
        "\n",
        "> Podríamos haber hecho lo mismo pero anualmente para conocer en qué mes ocurre el máximo en cada año y así evaluar la ocurrencia de tendencias. Cómo lo harían?\n",
        "\n",
        "### Agregación temporal 2: granularidad\n",
        "\n",
        "**[t.rast.aggregate](https://grass.osgeo.org/grass-stable/manuals/t.rast.aggregate.html)**\n",
        "\n",
        "- Agrega mapas raster dentro de STRDS con diferentes **granularidades** \n",
        "- La opción *where* permite establecer fechas específicas para la agregación\n",
        "- Diferentes métodos disponibles: promedio, mínimo, máximo, mediana, moda, etc.\n",
        "\n",
        "De LST mensual a estacional\n",
        "\n",
        "LST media estacional"
      ],
      "id": "8cc46424"
    },
    {
      "cell_type": "code",
      "metadata": {},
      "source": [
        "# 3-month mean LST\n",
        "t.rast.aggregate input=LST_Day_monthly_celsius \\\n",
        "  output=LST_Day_mean_3month \\\n",
        "  basename=LST_Day_mean_3month suffix=gran \\\n",
        "  method=average granularity=\"3 months\""
      ],
      "id": "46e08957",
      "execution_count": null,
      "outputs": []
    },
    {
      "cell_type": "markdown",
      "metadata": {},
      "source": [
        "Chequear info"
      ],
      "id": "4465c47d"
    },
    {
      "cell_type": "code",
      "metadata": {},
      "source": [
        "# Check info\n",
        "t.info input=LST_Day_mean_3month"
      ],
      "id": "92dfad1c",
      "execution_count": null,
      "outputs": []
    },
    {
      "cell_type": "markdown",
      "metadata": {},
      "source": [
        "Chequear lista de mapas"
      ],
      "id": "c93a1dc7"
    },
    {
      "cell_type": "code",
      "metadata": {},
      "source": [
        "# Check map list\n",
        "t.rast.list input=LST_Day_mean_3month"
      ],
      "id": "19e0d021",
      "execution_count": null,
      "outputs": []
    },
    {
      "cell_type": "markdown",
      "metadata": {},
      "source": [
        "> **Tarea** \n",
        "> \n",
        "> Comparar las líneas de tiempo mensual y estacional con [g.gui.timeline](https://grass.osgeo.org/grass-stable/manuals/g.gui.timeline.html)\n",
        "\n",
        "\n",
        "```{bash}\n",
        "g.gui.timeline inputs=LST_Day_monthly_celsius,LST_Day_mean_3month\n",
        "```\n",
        "\n",
        "\n",
        "Graficar LST estacional con monitores wx\n",
        "\n",
        "Establecer la paleta de colores *celsius* para la STRDS estacional"
      ],
      "id": "e699429f"
    },
    {
      "cell_type": "code",
      "metadata": {},
      "source": [
        "# Set STRDS color table to celsius degrees\n",
        "t.rast.colors input=LST_Day_mean_3month color=celsius"
      ],
      "id": "df7e8787",
      "execution_count": null,
      "outputs": []
    },
    {
      "cell_type": "markdown",
      "metadata": {},
      "source": [
        "Iniciar un monitor *Cairo*"
      ],
      "id": "25e3ec93"
    },
    {
      "cell_type": "code",
      "metadata": {},
      "source": [
        "# Start a new graphics monitor\n",
        "d.mon cairo out=frames.png width=1400 height=500 resolution=4 --o"
      ],
      "id": "802280dd",
      "execution_count": null,
      "outputs": []
    },
    {
      "cell_type": "markdown",
      "metadata": {},
      "source": [
        "Crear el primer frame"
      ],
      "id": "8e18d3dd"
    },
    {
      "cell_type": "code",
      "metadata": {},
      "source": [
        "# create a first frame\n",
        "d.frame -c frame=first at=0,100,0,25\n",
        "d.rast map=LST_Day_mean_3month_2015_01\n",
        "d.vect map=provincia_cba type=boundary color=#4D4D4D width=2\n",
        "d.text text='Ene-Mar 2015' color=black font=sans size=6 bgcolor=white"
      ],
      "id": "0d6317d9",
      "execution_count": null,
      "outputs": []
    },
    {
      "cell_type": "markdown",
      "metadata": {},
      "source": [
        "Crear el segundo frame"
      ],
      "id": "d9a308c3"
    },
    {
      "cell_type": "code",
      "metadata": {},
      "source": [
        "# create a second frame\n",
        "d.frame -c frame=second at=0,100,25,50\n",
        "d.rast map=LST_Day_mean_3month_2015_04\n",
        "d.vect map=provincia_cba type=boundary color=#4D4D4D width=2\n",
        "d.text text='Abr-Jun 2015' color=black font=sans size=6 bgcolor=white"
      ],
      "id": "a11825e1",
      "execution_count": null,
      "outputs": []
    },
    {
      "cell_type": "markdown",
      "metadata": {},
      "source": [
        "Crear el tercer frame"
      ],
      "id": "38dcda58"
    },
    {
      "cell_type": "code",
      "metadata": {},
      "source": [
        "# create a third frame\n",
        "d.frame -c frame=third at=0,100,50,75\n",
        "d.rast map=LST_Day_mean_3month_2015_07\n",
        "d.vect map=provincia_cba type=boundary color=#4D4D4D width=2\n",
        "d.text text='Jul-Sep 2015' color=black font=sans size=6 bgcolor=white"
      ],
      "id": "cd829022",
      "execution_count": null,
      "outputs": []
    },
    {
      "cell_type": "markdown",
      "metadata": {},
      "source": [
        "Crear el cuarto frame"
      ],
      "id": "df19c098"
    },
    {
      "cell_type": "code",
      "metadata": {},
      "source": [
        "# create a fourth frame\n",
        "d.frame -c frame=fourth at=0,100,75,100\n",
        "d.rast map=LST_Day_mean_3month_2015_10\n",
        "d.vect map=provincia_cba type=boundary color=#4D4D4D width=2\n",
        "d.text text='Oct-Dic 2015' color=black font=sans size=6 bgcolor=white"
      ],
      "id": "3d6bde26",
      "execution_count": null,
      "outputs": []
    },
    {
      "cell_type": "markdown",
      "metadata": {},
      "source": [
        "Liberar el monitor"
      ],
      "id": "9462ca8e"
    },
    {
      "cell_type": "code",
      "metadata": {},
      "source": [
        "# release monitor\n",
        "d.mon -r"
      ],
      "id": "425a9aea",
      "execution_count": null,
      "outputs": []
    },
    {
      "cell_type": "markdown",
      "metadata": {},
      "source": [
        "![](../assets/img/frames.png)\n",
        "\n",
        "LST estacional en 2015\n",
        "\n",
        "\n",
        "> **Tarea**\n",
        ">\n",
        "> Ahora que ya conocen [t.rast.aggregate](https://grass.osgeo.org/grass-stable/manuals/t.rast.aggregate.html), \n",
        "> extraigan el mes de máximo LST por año y luego vean si hay alguna tendencia positiva o negativa,\n",
        "> es decir, si los valores máximos de LST se observan más tarde o más temprano con el tiempo (años)\n",
        "\n",
        "\n",
        "Una solución podría ser...\n",
        "\n",
        "\n",
        "```{bash}\n",
        "t.rast.aggregate \\\n",
        "  input=LST_Day_monthly_celsius \\\n",
        "  output=month_max_LST_per_year \\\n",
        "  basename=month_max_LST suffix=gran \\\n",
        "  method=max_raster \\\n",
        "  granularity=\"1 year\" \n",
        "\n",
        "t.rast.series \\\n",
        "  input=month_max_LST_per_year \\\n",
        "  output=slope_month_max_LST \\\n",
        "  method=slope\n",
        "```\n",
        "\n",
        "\n",
        "\n",
        "### Animaciones\n",
        "\n",
        "Animación de la serie estacional de LST"
      ],
      "id": "139d16de"
    },
    {
      "cell_type": "code",
      "metadata": {},
      "source": [
        "# Animation of seasonal LST\n",
        "g.gui.animation strds=LST_Day_mean_3month"
      ],
      "id": "730a5eff",
      "execution_count": null,
      "outputs": []
    },
    {
      "cell_type": "markdown",
      "metadata": {},
      "source": [
        "Ver el manual de <a href=\"https://grass.osgeo.org/grass-stable/manuals/g.gui.animation.html\">g.gui.animation</a> para más opciones y ajustes.\n",
        "\n",
        "\n",
        "### Agregación vs Climatología\n",
        "\n",
        "<img src=\"../assets/img/aggregation.png\" width=\"50%\">\n",
        "\n",
        "Agregación por granularidad\n",
        "\n",
        "\n",
        "<img src=\"../assets/img/climatology.png\" width=\"50%\">\n",
        "\n",
        "Agregación tipo climatología\n",
        "\n",
        "\n",
        "### Climatologías mensuales\n",
        "\n",
        "LST promedio de Enero"
      ],
      "id": "01b5b1e1"
    },
    {
      "cell_type": "code",
      "metadata": {},
      "source": [
        "# January average LST\n",
        "t.rast.series input=LST_Day_monthly_celsius \\\n",
        "  method=average \\\n",
        "  where=\"strftime('%m', start_time)='01'\" \\\n",
        "  output=LST_average_jan"
      ],
      "id": "a6640c00",
      "execution_count": null,
      "outputs": []
    },
    {
      "cell_type": "markdown",
      "metadata": {},
      "source": [
        "Climatología para todos los meses"
      ],
      "id": "6d742b79"
    },
    {
      "cell_type": "code",
      "metadata": {},
      "source": [
        "# for all months - *nix\n",
        "for MONTH in `seq -w 1 12` ; do \n",
        " t.rast.series input=LST_Day_monthly_celsius method=average \\\n",
        "  where=\"strftime('%m', start_time)='${MONTH}'\" \\\n",
        "  output=LST_average_${MONTH}\n",
        "done"
      ],
      "id": "68e84f1e",
      "execution_count": null,
      "outputs": []
    },
    {
      "cell_type": "markdown",
      "metadata": {},
      "source": [
        "> **Tarea**\n",
        "> \n",
        "> - Comparar las medias mensuales con las climatologías mensuales\n",
        "> - Las climatologías que creamos forman una STRDS?\n",
        "\n",
        "\n",
        "### Anomalías anuales\n",
        "\n",
        "`\\[AnomaliaStd_i = \\frac{Media_i - Media}{SD}\\]`\n",
        "\n",
        "\n",
        "Se necesitan:\n",
        "\n",
        "- promedio y desviación estándar general de la serie\n",
        "- promedios anuales\n",
        "\n",
        "\n",
        "Obtener el promedio general de la serie"
      ],
      "id": "cf1ba457"
    },
    {
      "cell_type": "code",
      "metadata": {},
      "source": [
        "# Get general average\n",
        "t.rast.series input=LST_Day_monthly_celsius \\\n",
        " method=average output=LST_average"
      ],
      "id": "69b28ad2",
      "execution_count": null,
      "outputs": []
    },
    {
      "cell_type": "markdown",
      "metadata": {},
      "source": [
        "Obtener el desvío estándar general de la serie"
      ],
      "id": "f9a962f5"
    },
    {
      "cell_type": "code",
      "metadata": {},
      "source": [
        "# Get general SD\n",
        "t.rast.series input=LST_Day_monthly_celsius \\\n",
        " method=stddev output=LST_sd"
      ],
      "id": "56b84f97",
      "execution_count": null,
      "outputs": []
    },
    {
      "cell_type": "markdown",
      "metadata": {},
      "source": [
        "Obtener los promedios anuales"
      ],
      "id": "289bc69f"
    },
    {
      "cell_type": "code",
      "metadata": {},
      "source": [
        "# Get annual averages\n",
        "t.rast.aggregate input=LST_Day_monthly_celsius \\\n",
        " method=average granularity=\"1 years\" \\\n",
        " output=LST_yearly_average basename=LST_yearly_average"
      ],
      "id": "4b22010a",
      "execution_count": null,
      "outputs": []
    },
    {
      "cell_type": "markdown",
      "metadata": {},
      "source": [
        "Estimar las anomalías anuales"
      ],
      "id": "22f21874"
    },
    {
      "cell_type": "code",
      "metadata": {},
      "source": [
        "# Estimate annual anomalies\n",
        "t.rast.algebra basename=LST_year_anomaly \\\n",
        " expression=\"LST_year_anomaly = (LST_yearly_average - map(LST_average)) / map(LST_sd)\""
      ],
      "id": "6c4d86b4",
      "execution_count": null,
      "outputs": []
    },
    {
      "cell_type": "markdown",
      "metadata": {},
      "source": [
        "Establecer la paleta de colores *differences*"
      ],
      "id": "5ccbd3ba"
    },
    {
      "cell_type": "code",
      "metadata": {},
      "source": [
        "# Set difference color table\n",
        "t.rast.colors input=LST_year_anomaly color=difference"
      ],
      "id": "d5206194",
      "execution_count": null,
      "outputs": []
    },
    {
      "cell_type": "markdown",
      "metadata": {},
      "source": [
        "Animación"
      ],
      "id": "30d8cd17"
    },
    {
      "cell_type": "code",
      "metadata": {},
      "source": [
        "# Animation of annual anomalies\n",
        "g.gui.animation strds=LST_year_anomaly"
      ],
      "id": "bcfca4aa",
      "execution_count": null,
      "outputs": []
    },
    {
      "cell_type": "markdown",
      "metadata": {},
      "source": [
        "### Isla de calor superficial urbana (Surface Urban Heat Island - SUHI)\n",
        "\n",
        "- La temperatura del aire de una zona urbana es más alta que la de las zonas cercanas\n",
        "- La UHI tiene efectos negativos en la calidad del agua y el aire, la biodiversidad, la salud humana y el clima.\n",
        "- La SUHI también está muy relacionada con la salud, ya que influye en la UHI \n",
        "\n",
        "\n",
        "![](https://res.mdpi.com/remotesensing/remotesensing-11-01212/article_deploy/html/images/remotesensing-11-01212-g002-550.jpg)\n",
        "\n",
        "SUHI y área rural en Buenos Aires. Fuente: <a href=\"https://www.mdpi.com/2072-4292/11/10/1212/htm\">Wu et al, 2019.</a>\n",
        "\n",
        "### Estadística zonal en series de tiempo de datos raster\n",
        "\n",
        "**[v.strds.stats](https://grass.osgeo.org/grass7/manuals/addons/v.strds.stats.html)**\n",
        "- Permite obtener datos de series de tiempo agregados espacialmente para polígonos de un mapa vectorial\n",
        "\n",
        "\n",
        "SUHI estival para *Córdoba* y alrededores\n",
        "\n",
        "Instalar la extensión *v.strds.stats*"
      ],
      "id": "9fc8e4be"
    },
    {
      "cell_type": "code",
      "metadata": {},
      "source": [
        "# Install v.strds.stats add-on\n",
        "g.extension extension=v.strds.stats"
      ],
      "id": "e4753ab6",
      "execution_count": null,
      "outputs": []
    },
    {
      "cell_type": "markdown",
      "metadata": {},
      "source": [
        "Listar mapas"
      ],
      "id": "9372e70e"
    },
    {
      "cell_type": "code",
      "metadata": {},
      "source": [
        "# List maps in seasonal time series\n",
        "t.rast.list input=LST_Day_mean_3month"
      ],
      "id": "1f526536",
      "execution_count": null,
      "outputs": []
    },
    {
      "cell_type": "markdown",
      "metadata": {},
      "source": [
        "Extraer LST promedio de verano para el Gran Córdoba"
      ],
      "id": "628da3d5"
    },
    {
      "cell_type": "code",
      "metadata": {},
      "source": [
        "# Extract summer average LST for Cba urban area\n",
        "v.strds.stats input=area_edificada_cba \\\n",
        "  strds=LST_Day_mean_3month \\\n",
        "  where=\"fna == 'Gran Córdoba'\" \\\n",
        "  t_where=\"strftime('%m', start_time)='01'\" \\\n",
        "  output=cba_summer_lst \\\n",
        "  method=average"
      ],
      "id": "b9087dd6",
      "execution_count": null,
      "outputs": []
    },
    {
      "cell_type": "markdown",
      "metadata": {},
      "source": [
        "Crear buffer externo - 30 km"
      ],
      "id": "b6ef2d80"
    },
    {
      "cell_type": "code",
      "metadata": {},
      "source": [
        "# Create outside buffer - 30 km\n",
        "v.buffer input=cba_summer_lst \\\n",
        "  distance=30000 \\\n",
        "  output=cba_summer_lst_buf30"
      ],
      "id": "d4303927",
      "execution_count": null,
      "outputs": []
    },
    {
      "cell_type": "markdown",
      "metadata": {},
      "source": [
        "Crear buffer interno - 15 km"
      ],
      "id": "f013e792"
    },
    {
      "cell_type": "code",
      "metadata": {},
      "source": [
        "# Create inside buffer - 15 km\n",
        "v.buffer input=cba_summer_lst \\\n",
        "  distance=15000 \\\n",
        "  output=cba_summer_lst_buf15"
      ],
      "id": "4ccc3e71",
      "execution_count": null,
      "outputs": []
    },
    {
      "cell_type": "markdown",
      "metadata": {},
      "source": [
        "Remover el área del buffer 15 km del buffer de 30 km"
      ],
      "id": "73c2d307"
    },
    {
      "cell_type": "code",
      "metadata": {},
      "source": [
        "# Remove 15km buffer area from the 30km buffer area\n",
        "v.overlay ainput=cba_summer_lst_buf15 \\\n",
        "  binput=cba_summer_lst_buf30 \\\n",
        "  operator=xor \\\n",
        "  output=cba_surr"
      ],
      "id": "6ebf2acf",
      "execution_count": null,
      "outputs": []
    },
    {
      "cell_type": "markdown",
      "metadata": {},
      "source": [
        "![](../assets/img/suhi_buffers.png)\n",
        "\n",
        "Límites del Gran Córdoba y el área rural circundante\n",
        "\n",
        "\n",
        "Extraer estadísticas para los alrededores del Gran Córdoba"
      ],
      "id": "547e9f5c"
    },
    {
      "cell_type": "code",
      "metadata": {},
      "source": [
        "# Extract zonal stats for Cba surroundings\n",
        "v.strds.stats input=cba_surr \\\n",
        "  strds=LST_Day_mean_3month \\\n",
        "  t_where=\"strftime('%m', start_time)='01'\" \\\n",
        "  method=average \\\n",
        "  output=cba_surr_summer_lst"
      ],
      "id": "4df6b9fc",
      "execution_count": null,
      "outputs": []
    },
    {
      "cell_type": "markdown",
      "metadata": {},
      "source": [
        "Chequear la LST estival promedio para el Gran Córdoba y alrededores"
      ],
      "id": "379e0f3c"
    },
    {
      "cell_type": "code",
      "metadata": {},
      "source": [
        "# Take a look at mean summer LST in Cba and surroundings\n",
        "v.db.select cba_summer_lst\n",
        "v.db.select cba_surr_summer_lst"
      ],
      "id": "3b054d2a",
      "execution_count": null,
      "outputs": []
    },
    {
      "cell_type": "markdown",
      "metadata": {},
      "source": [
        "<!-- ### GRASS y R para hacer mapas -->\n",
        "\n",
        "<!-- Vamos a usar **R** y **RStudio** para crear mapas con los vectores resultantes -->\n",
        "\n",
        "\n",
        "<!-- En la terminal de GRASS GIS: `rstudio &` -->\n",
        "\n",
        "\n",
        "<!-- Mapas en R con datos de GRASS GIS -->\n",
        "\n",
        "<!-- Cargar las librerías *rgrass7* y *sf* -->\n",
        "<!-- ```{r} -->\n",
        "<!-- # Load rgrass and sf libraries -->\n",
        "<!-- library(rgrass) -->\n",
        "<!-- library(sf) -->\n",
        "<!-- ``` -->\n",
        "\n",
        "<!-- Listar los vectores disponibles en el mapset -->\n",
        "<!-- ```{r} -->\n",
        "<!-- # List available vectors -->\n",
        "<!-- execGRASS(\"g.list\", parameters = list(type=\"vector\", mapset=\".\")) -->\n",
        "<!-- ``` -->\n",
        "\n",
        "<!-- Leer e importar los mapas vectoriales desde GRASS GIS -->\n",
        "<!-- ```{r} -->\n",
        "<!-- # Read in GRASS vector maps as sf -->\n",
        "<!-- cba_summer_lst <- read_VECT(\"cba_summer_lst\") -->\n",
        "<!-- cba_surr_summer_lst <- read_VECT(\"cba_surr_summer_lst\") -->\n",
        "<!-- ``` -->\n",
        "\n",
        "<!-- Remover columnas extra -->\n",
        "<!-- ```{r} -->\n",
        "<!-- # Remove columns we don't need -->\n",
        "<!-- cba_summer_lst <- cba_summer_lst[,-c(2:9)] -->\n",
        "<!-- cba_surr_summer_lst <- cba_surr_summer_lst[,-c(2:3)] -->\n",
        "<!-- ``` -->\n",
        "\n",
        "<!-- Pegar los dos vectores -->\n",
        "<!-- ```{r} -->\n",
        "<!-- # Paste the 2 vectors together -->\n",
        "<!-- cba <- rbind(cba_summer_lst,cba_surr_summer_lst) -->\n",
        "<!-- ``` -->\n",
        "\n",
        "<!-- Gráfico rápido con *sf* -->\n",
        "<!-- ```{r} -->\n",
        "<!-- # Quick sf plot -->\n",
        "<!-- plot(cba[c(2:6)], border = 'grey', axes = TRUE, key.pos = 4) -->\n",
        "<!-- ``` -->\n",
        "\n",
        "<!-- ![](../assets/img/sf_plot.png) -->\n",
        "\n",
        "<!-- Usando la librería *ggplot* -->\n",
        "<!-- ```{r} -->\n",
        "<!-- # Let's try with ggplot library -->\n",
        "<!-- library(ggplot2) -->\n",
        "<!-- library(dplyr) -->\n",
        "<!-- library(tidyr) -->\n",
        "<!-- ``` -->\n",
        "\n",
        "<!-- Arreglar los datos desde formato *wide* a *long* -->\n",
        "<!-- ```{r} -->\n",
        "<!-- # Arrange data from wide to long format -->\n",
        "<!-- cba2 <- -->\n",
        "<!--   cba %>% -->\n",
        "<!--   select(LST_Day_mean_3month_2015_01_01_average, -->\n",
        "<!--          LST_Day_mean_3month_2016_01_01_average, -->\n",
        "<!--          LST_Day_mean_3month_2017_01_01_average, -->\n",
        "<!--          LST_Day_mean_3month_2018_01_01_average, -->\n",
        "<!--          LST_Day_mean_3month_2019_01_01_average, -->\n",
        "<!--          geom) %>% -->\n",
        "<!--   gather(YEAR, LST_summer, -geom) -->\n",
        "<!-- ``` -->\n",
        "\n",
        "<!-- Reemplazar valores en la columna *YEAR* -->\n",
        "<!-- ```{r} -->\n",
        "<!-- # Replace values in YEAR column -->\n",
        "<!-- cba2$YEAR <- rep(c(2015:2019),2) -->\n",
        "<!-- ``` -->\n",
        "\n",
        "<!-- Graficar -->\n",
        "<!-- ```{r} -->\n",
        "<!-- # Plot -->\n",
        "<!-- ggplot() + -->\n",
        "<!--   geom_sf(data = cba2, aes(fill = LST_summer)) + -->\n",
        "<!--   facet_wrap(~YEAR, ncol = 3) + -->\n",
        "<!--   scale_fill_distiller(palette = \"YlOrRd\", -->\n",
        "<!--                        direction = 1) + -->\n",
        "<!--   scale_y_continuous() -->\n",
        "<!-- ``` -->\n",
        "\n",
        "\n",
        "<!-- ![](../assets/img/ggplot.png) -->\n",
        "\n",
        "<!-- Usando la librería *tmap* -->\n",
        "<!-- ```{r} -->\n",
        "<!-- # Let's try also with tmap -->\n",
        "<!-- library(tmap) -->\n",
        "<!-- ``` -->\n",
        "\n",
        "<!-- Graficar -->\n",
        "<!-- ```{r} -->\n",
        "<!-- # Plot -->\n",
        "<!-- tm_shape(cba2) + -->\n",
        "<!--   tm_polygons(col = \"LST_summer\", style = \"cont\") + -->\n",
        "<!--   tm_facets(by = \"YEAR\", nrow = 1, free.coords = FALSE) -->\n",
        "<!-- ``` -->\n",
        "\n",
        "<!-- ![](../assets/img/tmap.png) -->\n",
        "\n",
        "<!-- Visualización rápida e interactiva con *mapview* -->\n",
        "<!-- ```{r} -->\n",
        "<!-- # mapview for quick visualizations with basemaps is really cool! -->\n",
        "<!-- library(mapview) -->\n",
        "<!-- mapview(cba) -->\n",
        "<!-- ``` -->\n",
        "\n",
        "\n",
        "<!-- ![](../assets/img/mapview1.png) -->\n",
        "<!-- ![](../assets/img/mapview2.png) -->\n",
        "\n",
        "<!-- Visualización con *mapview* y diferentes mapa base -->\n",
        "\n",
        "\n",
        "## Recursos (muy) útiles \n",
        "\n",
        "- [Temporal data processing wiki](https://grasswiki.osgeo.org/wiki/Temporal_data_processing)\n",
        "- [GRASS GIS and R for time series processing wiki](https://grasswiki.osgeo.org/wiki/Temporal_data_processing/GRASS_R_raster_time_series_processing)\n",
        "- [GRASS GIS temporal workshop at NCSU](http://ncsu-geoforall-lab.github.io/grass-temporal-workshop/)\n",
        "- [GRASS GIS workshop held in Jena 2018](http://training.gismentors.eu/grass-gis-workshop-jena-2018/index.html)\n",
        "- [GRASS GIS course IRSAE 2018](http://training.gismentors.eu/grass-gis-irsae-winter-course-2018/index.html)\n",
        "- [Space-time satellite data for disease ecology - OpenGeoHub Summer School 2019](https://www.youtube.com/watch?v=nu_ZFvmAFGw)\n",
        "\n",
        "## Referencias\n",
        "\n",
        "- Gebbert, S., Pebesma, E. (2014) *A temporal GIS for field based environmental modeling*. Environmental Modelling & Software, 53, 1-12. [DOI](https://doi.org/10.1016/j.envsoft.2013.11.001)\n",
        "- Gebbert, S., Pebesma, E. (2017) *The GRASS GIS temporal framework*. IJGIS 31, 1273-1292. [DOI](http://dx.doi.org/10.1080/13658816.2017.1306862)\n",
        "- Gebbert, S., Leppelt, T., Pebesma, E. (2019) *A Topology Based Spatio-Temporal Map Algebra for Big Data Analysis*. Data, 4, 86. [DOI](https://doi.org/10.3390/data4020086)\n"
      ],
      "id": "ca1e2d83"
    }
  ],
  "metadata": {
    "kernelspec": {
      "name": "python3",
      "language": "python",
      "display_name": "Python 3 (ipykernel)"
    }
  },
  "nbformat": 4,
  "nbformat_minor": 5
}