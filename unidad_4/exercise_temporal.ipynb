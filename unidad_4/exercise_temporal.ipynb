{
 "cells": [
  {
   "cell_type": "raw",
   "id": "f17f00f5",
   "metadata": {},
   "source": [
    "---\n",
    "title: 'Ejercicio: Series temporales en GRASS GIS'\n",
    "author: Verónica Andreo\n",
    "date: today\n",
    "format:\n",
    "  html:\n",
    "    code-tools: true\n",
    "    code-copy: true\n",
    "    code-fold: false\n",
    "execute:\n",
    "  eval: false\n",
    "  cache: false\n",
    "  keep-ipynb: true\n",
    "---"
   ]
  },
  {
   "cell_type": "markdown",
   "id": "4c47fb01",
   "metadata": {},
   "source": [
    "En esta notebook vamos a recorrer algunas de las funcionalidades de TGRASS\n",
    "que ya vimos y otras nuevas, pero ahora con una serie de datos de NDVI.\n",
    "\n",
    "Antes de empezar y para ganar tiempo, conectamos nuestro drive e instalamos \n",
    "GRASS en Google Colab.\n"
   ]
  },
  {
   "cell_type": "code",
   "execution_count": 1,
   "id": "467eb3d1",
   "metadata": {},
   "outputs": [],
   "source": [
    "# import drive from google colab\n",
    "from google.colab import drive\n",
    "# mount drive\n",
    "drive.mount(\"/content/drive\")"
   ]
  },
  {
   "cell_type": "code",
   "execution_count": 2,
   "id": "2b7b985e",
   "metadata": {},
   "outputs": [],
   "source": [
    "%%bash\n",
    "DEBIAN_FRONTEND=noninteractive \n",
    "sudo add-apt-repository ppa:ubuntugis/ubuntugis-unstable \n",
    "apt update \n",
    "apt install grass subversion grass-dev\n",
    "apt remove libproj22"
   ]
  },
  {
   "cell_type": "code",
   "execution_count": 3,
   "id": "e64574c6",
   "metadata": {},
   "outputs": [],
   "source": [
    "!grass --config path"
   ]
  },
  {
   "cell_type": "markdown",
   "id": "74215001",
   "metadata": {},
   "source": [
    "## Datos para el ejercicio\n",
    "\n",
    "- Producto MODIS: <a href=\"https://lpdaac.usgs.gov/products/mod13c2v006/\">MOD13C2 Collection 6</a>\n",
    "- Composiciones globales mensuales\n",
    "- Período: Enero 2015 - Diciembre 2019\n",
    "- Resolución espacial: 5600 m\n",
    "- Mapset `modis_ndvi` \n",
    "\n",
    "\n",
    "![](../assets/img/mod13c2_global_ndvi.png){width=70%}\n",
    "\n",
    "## Iniciamos GRASS\n",
    "\n",
    "Definimos las rutas y el mapset *`modis_ndvi`* donde vamos a trabajar.\n"
   ]
  },
  {
   "cell_type": "code",
   "execution_count": 4,
   "id": "0a353f1e",
   "metadata": {},
   "outputs": [],
   "source": [
    "import os\n",
    "\n",
    "# data directory\n",
    "homedir = \"/content/drive/MyDrive/curso_grass_2023\"\n",
    "\n",
    "# change to homedir so output files will be saved there\n",
    "os.chdir(homedir)\n",
    "\n",
    "# GRASS GIS database variables\n",
    "grassdata = os.path.join(homedir, \"grassdata\")\n",
    "project = \"posgar2007_4_cba\"\n",
    "mapset = \"modis_ndvi\""
   ]
  },
  {
   "cell_type": "code",
   "execution_count": 5,
   "id": "002ab758",
   "metadata": {},
   "outputs": [],
   "source": [
    "# import standard Python packages we need\n",
    "import sys\n",
    "import subprocess\n",
    "\n",
    "# ask GRASS GIS where its Python packages are to be able to run it from the notebook\n",
    "sys.path.append(\n",
    "    subprocess.check_output([\"grass\", \"--config\", \"python_path\"], text=True).strip()\n",
    ")"
   ]
  },
  {
   "cell_type": "markdown",
   "id": "b71fe2e0",
   "metadata": {},
   "source": [
    "Importamos los paquetes de GRASS e iniciamos una sesión.\n"
   ]
  },
  {
   "cell_type": "code",
   "execution_count": 6,
   "id": "d2cfa844",
   "metadata": {},
   "outputs": [],
   "source": [
    "# import the GRASS GIS packages we need\n",
    "import grass.script as gs\n",
    "import grass.jupyter as gj\n",
    "\n",
    "# Start the GRASS GIS Session\n",
    "session = gj.init(grassdata, project, mapset)"
   ]
  },
  {
   "cell_type": "code",
   "execution_count": 7,
   "id": "c06e222c",
   "metadata": {},
   "outputs": [],
   "source": [
    "# show current GRASS GIS settings, this also checks if the session works\n",
    "gs.gisenv()"
   ]
  },
  {
   "cell_type": "markdown",
   "id": "8b7cfc7e",
   "metadata": {},
   "source": [
    "## Exploramos los datos de NDVI\n",
    "\n",
    "Listar los mapas y obtener información de alguno de ellos\n"
   ]
  },
  {
   "cell_type": "code",
   "execution_count": 8,
   "id": "5b93244c",
   "metadata": {},
   "outputs": [],
   "source": [
    "# list raster files\n",
    "lista_mapas = gs.list_grouped(type=\"raster\")[\"modis_ndvi\"]\n",
    "lista_mapas[:10]"
   ]
  },
  {
   "cell_type": "code",
   "execution_count": 9,
   "id": "4003dcc7",
   "metadata": {},
   "outputs": [],
   "source": [
    "#  get info and stats\n",
    "gs.raster_info(map=\"MOD13C2.A2015001.006.single_Monthly_NDVI\")"
   ]
  },
  {
   "cell_type": "code",
   "execution_count": 10,
   "id": "f804e953",
   "metadata": {},
   "outputs": [],
   "source": [
    "print(gs.read_command(\"r.univar\",\n",
    "                      map=\"MOD13C2.A2015001.006.single_Monthly_NDVI\"))"
   ]
  },
  {
   "cell_type": "markdown",
   "id": "43c0e0c9",
   "metadata": {},
   "source": [
    ":::{.callout-warning title=\"Tarea\"}\n",
    "- Mostrar los mapas de NDVI, NIR y pixel reliability.\n",
    "- Obtener información sobre los valores mínimos y máximos.\n",
    "- ¿Qué se puede decir sobre los valores de cada banda?\n",
    "- ¿Hay valores nulos?\n",
    ":::\n",
    "\n",
    "## Uso de la banda de confiabilidad\n",
    "\n",
    "Definir la región computacional\n"
   ]
  },
  {
   "cell_type": "code",
   "execution_count": 11,
   "id": "a9dfb3ee",
   "metadata": {},
   "outputs": [],
   "source": [
    "# set computational region\n",
    "print(gs.read_command(\"g.region\",\n",
    "                      vector=\"provincia_cba\",\n",
    "                      align=\"MOD13C2.A2015001.006.single_Monthly_NDVI\",\n",
    "                      flags=\"p\"))"
   ]
  },
  {
   "cell_type": "markdown",
   "id": "1d561043",
   "metadata": {},
   "source": [
    "Establecer los límites provinciales como máscara\n"
   ]
  },
  {
   "cell_type": "code",
   "execution_count": 12,
   "id": "dad1404c",
   "metadata": {},
   "outputs": [],
   "source": [
    "# set a MASK to Cba boundary\n",
    "gs.run_command(\"r.mask\",\n",
    "               vector=\"provincia_cba\")"
   ]
  },
  {
   "cell_type": "markdown",
   "id": "cb5f0ad4",
   "metadata": {},
   "source": [
    ":::{.callout-warning title=\"Tarea\"}\n",
    "- Leer acerca de la banda de confiabilidad en la [Guía de usuario](https://lpdaac.usgs.gov/documents/103/MOD13_User_Guide_V6.pdf) de MOD13 (pag 27).\n",
    "- Para una misma fecha mapear la banda de confiabilidad y el NDVI.\n",
    "- Seleccionar sólo los pixeles con valor 0 (Buena calidad) en la banda de confiabilidad. \n",
    "¿Qué se observa?\n",
    ":::\n",
    "\n",
    "Vamos a mantener sólo los pixeles de la mejor calidad para un mapa.\n"
   ]
  },
  {
   "cell_type": "code",
   "execution_count": 13,
   "id": "03f17317",
   "metadata": {},
   "outputs": [],
   "source": [
    "# keep only NDVI most reliable pixels (one map)\n",
    "PR=\"MOD13C2.A2015274.006.single_Monthly_pixel_reliability\"\n",
    "NDVI=\"MOD13C2.A2015274.006.single_Monthly_NDVI\"\n",
    "\n",
    "gs.mapcalc(exp=f\"{NDVI}_filt = if({PR} != 0, null(), {NDVI})\")"
   ]
  },
  {
   "cell_type": "code",
   "execution_count": 14,
   "id": "0a65c880",
   "metadata": {},
   "outputs": [],
   "source": [
    "# plot result\n",
    "ndvi_filt = gj.InteractiveMap(width = 500, tiles=\"OpenStreetMap\")\n",
    "ndvi_filt.add_raster(\"MOD13C2.A2015274.006.single_Monthly_NDVI_filt\")\n",
    "ndvi_filt.show()"
   ]
  },
  {
   "cell_type": "markdown",
   "id": "ed5625d2",
   "metadata": {},
   "source": [
    "Ahora hacemos lo mismo para todos los mapas de NDVI.\n"
   ]
  },
  {
   "cell_type": "code",
   "execution_count": 15,
   "id": "b75b36fa",
   "metadata": {},
   "outputs": [],
   "source": [
    "# list of maps\n",
    "PR = gs.list_grouped(type=\"raster\", \n",
    "                     pattern=\"*_pixel_reliability\")[\"modis_ndvi\"]\n",
    "NDVI = gs.list_grouped(type=\"raster\", \n",
    "                       pattern=\"*_Monthly_NDVI\")[\"modis_ndvi\"]\n",
    "\n",
    "# iterate over the 2 arrays\n",
    "for i,j in zip(PR,NDVI):\n",
    "    print(i, j)\n",
    "    gs.mapcalc(exp=f\"{j}_filt = if({i} != 0, null(), {j})\")"
   ]
  },
  {
   "cell_type": "markdown",
   "id": "3c736651",
   "metadata": {},
   "source": [
    ":::{.callout-note}\n",
    "Cómo podrían hacer lo mismo pero usando módulos temporales? Qué les parece [t.rast.algebra](https://grass.osgeo.org/grass-stable/manuals/t.rast.algebra.html)? \n",
    "OJO! Esto requiere primero crear las series de tiempo y registrar los mapas \n",
    "para que funcione!\n"
   ]
  },
  {
   "cell_type": "code",
   "execution_count": 16,
   "id": "89d07ec6",
   "metadata": {},
   "outputs": [],
   "source": [
    "# apply pixel reliability band with t.rast.algebra\n",
    "expression=\"NDVI_monthly_filt = if(pixel_rel_monthly != 0, null(), ndvi_monthly)\"\n",
    "\n",
    "gs.run_command(\"t.rast.algebra\",\n",
    "               expression=expression,\n",
    "               basename=\"ndvi_monthly\",\n",
    "               suffix=\"gran\",\n",
    "               nproc=4)"
   ]
  },
  {
   "cell_type": "markdown",
   "id": "2aac49a2",
   "metadata": {},
   "source": [
    ":::\n",
    "\n",
    ":::{.callout-warning title=\"Tarea\"}\n",
    "Comparar las estadísticas entre los mapas de NDVI originales y filtrados para la misma fecha\n",
    ":::\n",
    "\n",
    "## Creación de la serie de tiempo\n",
    "\n",
    "Crear STRDS de NDVI\n"
   ]
  },
  {
   "cell_type": "code",
   "execution_count": 17,
   "id": "310e725a",
   "metadata": {},
   "outputs": [],
   "source": [
    "# create STRDS\n",
    "gs.run_command(\"t.create\",\n",
    "               type=\"strds\",\n",
    "               temporaltype=\"absolute\",\n",
    "               output=\"ndvi_monthly\",\n",
    "               title=\"Filtered monthly NDVI\",\n",
    "               description=\"Filtered monthly NDVI - MOD13C2 - Cordoba, 2015-2019\")"
   ]
  },
  {
   "cell_type": "markdown",
   "id": "9b713aeb",
   "metadata": {},
   "source": [
    "Corroborar que la STRDS fue creada\n"
   ]
  },
  {
   "cell_type": "code",
   "execution_count": 18,
   "id": "341aff0e",
   "metadata": {},
   "outputs": [],
   "source": [
    "# check if it was created\n",
    "gs.read_command(\"t.list\",\n",
    "                type=\"strds\")"
   ]
  },
  {
   "cell_type": "markdown",
   "id": "e84a323a",
   "metadata": {},
   "source": [
    "Creamos la lista de mapas\n"
   ]
  },
  {
   "cell_type": "code",
   "execution_count": 19,
   "id": "0b2a8a77",
   "metadata": {},
   "outputs": [],
   "source": [
    "# list NDVI filtered files\n",
    "NDVI_filt = gs.list_grouped(type=\"raster\", \n",
    "                            pattern=\"*_filt\")[\"modis_ndvi\"]\n",
    "NDVI_filt[:10]"
   ]
  },
  {
   "cell_type": "markdown",
   "id": "68c88d7b",
   "metadata": {},
   "source": [
    "Asignar fecha a los mapas, i.e., registrar\n"
   ]
  },
  {
   "cell_type": "code",
   "execution_count": 20,
   "id": "ab53ef37",
   "metadata": {},
   "outputs": [],
   "source": [
    "# register maps\n",
    "gs.run_command(\"t.register\",\n",
    "               input=\"ndvi_monthly\",\n",
    "               maps=NDVI_filt,\n",
    "               start=\"2015-01-01\",\n",
    "               increment=\"1 months\",\n",
    "               flags=\"i\")"
   ]
  },
  {
   "cell_type": "markdown",
   "id": "c2afe3e6",
   "metadata": {},
   "source": [
    "Imprimir info básica de la STRDS\n"
   ]
  },
  {
   "cell_type": "code",
   "execution_count": 21,
   "id": "9bf0f68a",
   "metadata": {},
   "outputs": [],
   "source": [
    "# print time series info\n",
    "print(gs.read_command(\"t.info\", \n",
    "                      input=\"ndvi_monthly\"))"
   ]
  },
  {
   "cell_type": "markdown",
   "id": "7f181545",
   "metadata": {},
   "source": [
    "Imprimir la lista de mapas en la STRDS\n"
   ]
  },
  {
   "cell_type": "code",
   "execution_count": 22,
   "id": "b2a28189",
   "metadata": {},
   "outputs": [],
   "source": [
    "# print list of maps in time series\n",
    "print(gs.read_command(\"t.rast.list\", \n",
    "                      input=\"ndvi_monthly\"))"
   ]
  },
  {
   "cell_type": "markdown",
   "id": "cb415880",
   "metadata": {},
   "source": [
    "También podemos obtener los valores para un único pixel o para un vector de puntos. Para eso\n",
    "usamos [t.rast.what](https://grass.osgeo.org/grass-stable/manuals/t.rast.what.html).\n"
   ]
  },
  {
   "cell_type": "code",
   "execution_count": 23,
   "id": "636f630f",
   "metadata": {},
   "outputs": [],
   "source": [
    "# Get region center coordinates for query \n",
    "gs.region(complete=True)"
   ]
  },
  {
   "cell_type": "code",
   "execution_count": 24,
   "id": "6250f550",
   "metadata": {},
   "outputs": [],
   "source": [
    "# Query map at center coordinates\n",
    "gs.read_command(\"t.rast.what\", \n",
    "                strds=\"ndvi_monthly\", \n",
    "                coordinates=\"4426800,6428800\", \n",
    "                layout=\"col\", \n",
    "                flags=\"n\",\n",
    "                output=\"ts.csv\",\n",
    "                separator=\"comma\",\n",
    "                null_value=\" \")"
   ]
  },
  {
   "cell_type": "markdown",
   "id": "d1b44741",
   "metadata": {},
   "source": [
    ":::{.callout-warning title=\"Tarea\"}\n",
    "Explorar visualmente los valores de las series temporales en diferentes puntos. \n",
    "Usar [g.gui.tplot](https://grass.osgeo.org/grass-stable/manuals/g.gui.tplot.html) y seleccionar diferentes puntos interactivamente.\n",
    ":::\n"
   ]
  },
  {
   "cell_type": "code",
   "execution_count": 25,
   "id": "7d17eb1b",
   "metadata": {},
   "outputs": [],
   "source": [
    "import pandas as pd\n",
    "\n",
    "# abrir archivo ts.csv como DataFrame\n",
    "df = pd.read_csv('ts.csv')\n",
    "\n",
    "# crear columna data y llenarla con el anio y mes de la columna start\n",
    "df['date'] = df['start'].str.extract('(^[0-9]*-[0-9]*)')\n",
    "\n",
    "# eliminar Nan\n",
    "df = df.dropna()\n",
    "\n",
    "# cambiar nombre de la columna\n",
    "df.rename(columns = {'4426800.0000000000;6428800.0000000000':'NDVI'}, inplace = True)"
   ]
  },
  {
   "cell_type": "code",
   "execution_count": 26,
   "id": "951087cc",
   "metadata": {},
   "outputs": [],
   "source": [
    "# crear gráfico\n",
    "import matplotlib.pyplot as plt\n",
    "plt.figure(figsize=(15, 7))\n",
    "plt.plot(df['date'],df['NDVI'])\n",
    "plt.xticks(rotation = 90) \n",
    "plt.show();"
   ]
  },
  {
   "cell_type": "markdown",
   "id": "6c22266b",
   "metadata": {},
   "source": [
    "## Datos faltantes\n",
    "\n",
    "Obtener las estadísticas de la serie de tiempo\n"
   ]
  },
  {
   "cell_type": "code",
   "execution_count": 27,
   "id": "e563ed3d",
   "metadata": {},
   "outputs": [],
   "source": [
    "# How much missing data we have after filtering for pixel reliability?\n",
    "print(gs.read_command(\"t.rast.univar\",\n",
    "                      input=\"ndvi_monthly\"))"
   ]
  },
  {
   "cell_type": "markdown",
   "id": "e74fcb64",
   "metadata": {},
   "source": [
    "Contar los datos válidos\n"
   ]
  },
  {
   "cell_type": "code",
   "execution_count": 28,
   "id": "88541de1",
   "metadata": {},
   "outputs": [],
   "source": [
    "# count valid data\n",
    "gs.run_command(\"t.rast.series\",\n",
    "               input=\"ndvi_monthly\",\n",
    "               method=\"count\",\n",
    "               output=\"ndvi_count_valid\")"
   ]
  },
  {
   "cell_type": "markdown",
   "id": "2d0e063e",
   "metadata": {},
   "source": [
    "Estimar el porcentaje de datos faltantes\n"
   ]
  },
  {
   "cell_type": "code",
   "execution_count": 29,
   "id": "5920b036",
   "metadata": {},
   "outputs": [],
   "source": [
    "# estimate percentage of missing data\n",
    "gs.mapcalc(exp=\"ndvi_missing = ((60 - ndvi_count_valid) * 100.0)/60\")"
   ]
  },
  {
   "cell_type": "markdown",
   "id": "0f63bb96",
   "metadata": {},
   "source": [
    "Cómo guardar en una variable el numero de mapas de una serie de tiempo?\n"
   ]
  },
  {
   "cell_type": "code",
   "execution_count": 30,
   "id": "9a5ea3b7",
   "metadata": {},
   "outputs": [],
   "source": [
    "n = gs.parse_command(\"t.info\", \n",
    "                     input=\"ndvi_monthly\", \n",
    "                     flags=\"g\")[\"number_of_maps\"]\n",
    "n"
   ]
  },
  {
   "cell_type": "code",
   "execution_count": 31,
   "id": "44736bc3",
   "metadata": {},
   "outputs": [],
   "source": [
    "gs.mapcalc(exp=f\"ndvi_missing = (({n} - ndvi_count_valid) * 100.0)/{n}\")"
   ]
  },
  {
   "cell_type": "markdown",
   "id": "3e7cb210",
   "metadata": {},
   "source": [
    ":::{.callout-warning title=\"Tarea\"}\n",
    "- Mostrar el mapa que representa el porcentaje de datos faltantes. \n",
    "- Obtener estadísticas univariadas de este mapa.\n",
    "- Dónde estan los mayores porcentajes de datos faltantes? Por qué creen que \n",
    "puede ser?\n",
    ":::\n",
    "\n",
    "## Reconstrucción temporal: HANTS\n",
    "\n",
    "- Harmonic Analysis of Time Series (HANTS)\n",
    "- Implementado en la extensión [r.hants](https://grass.osgeo.org/grass-stable/manuals/addons/r.hants.html)\n",
    "\n",
    "![](../assets/img/evi_evi_hants.png){width=\"65%\"}\n",
    "\n",
    "\n",
    "Instalar la extensión *r.hants*\n"
   ]
  },
  {
   "cell_type": "code",
   "execution_count": 32,
   "id": "91fc794f",
   "metadata": {},
   "outputs": [],
   "source": [
    "# install extension\n",
    "gs.run_command(\"g.extension\",\n",
    "               extension=\"r.hants\")"
   ]
  },
  {
   "cell_type": "markdown",
   "id": "509b9c8c",
   "metadata": {},
   "source": [
    "Listar los mapas y aplicar r.hants\n"
   ]
  },
  {
   "cell_type": "code",
   "execution_count": 33,
   "id": "4bb37255",
   "metadata": {},
   "outputs": [],
   "source": [
    "# list maps\n",
    "maplist = gs.parse_command(\"t.rast.list\",\n",
    "                          input=\"ndvi_monthly\",\n",
    "                          columns=\"name\",\n",
    "                          method=\"comma\",\n",
    "                          flags=\"u\")\n",
    "maplist = list(maplist.keys())"
   ]
  },
  {
   "cell_type": "code",
   "execution_count": 34,
   "id": "9f71d820",
   "metadata": {},
   "outputs": [],
   "source": [
    "# gapfill: r.hants\n",
    "gs.run_command(\"r.hants\",\n",
    "               input=maplist,\n",
    "               range=[-2000,10000],\n",
    "               nf=5,\n",
    "               fet=500,\n",
    "               base_period=12)"
   ]
  },
  {
   "cell_type": "code",
   "execution_count": 35,
   "id": "815223f9",
   "metadata": {},
   "outputs": [],
   "source": [
    "# list filled maps\n",
    "gs.list_grouped(type=\"raster\",\n",
    "                pattern=\"*hants\")[\"modis_ndvi\"]"
   ]
  },
  {
   "cell_type": "markdown",
   "id": "33fed22e",
   "metadata": {},
   "source": [
    ":::{.callout-warning title=\"Tarea\"}\n",
    "Probar diferentes ajustes de parámetros en\n",
    "[r.hants](https://grass.osgeo.org/grass-stable/manuals/addons/r.hants.html) y \n",
    "comparar los resultados\n",
    ":::\n",
    "\n",
    "Parcheamos un mapa de la serie original y con el reconstruido\n"
   ]
  },
  {
   "cell_type": "code",
   "execution_count": 36,
   "id": "bdcb7d1c",
   "metadata": {},
   "outputs": [],
   "source": [
    "# patch original with filled (one map)\n",
    "NDVI_ORIG = \"MOD13C2.A2015001.006.single_Monthly_NDVI_filt\"\n",
    "NDVI_HANTS = \"MOD13C2.A2015001.006.single_Monthly_NDVI_filt_hants\"\n",
    "\n",
    "gs.run_command(\"r.patch\",\n",
    "               input=[NDVI_ORIG, NDVI_HANTS],\n",
    "               output=f\"{NDVI_HANTS}_patch\")"
   ]
  },
  {
   "cell_type": "markdown",
   "id": "b22f23e6",
   "metadata": {},
   "source": [
    "Ahora parcheamos todos los mapas de la serie original y reconstruida\n"
   ]
  },
  {
   "cell_type": "code",
   "execution_count": 37,
   "id": "bbfa68db",
   "metadata": {},
   "outputs": [],
   "source": [
    "# list of maps\n",
    "ORIG = gs.list_grouped(type=\"raster\",\n",
    "                     pattern=\"*_filt\")[\"modis_ndvi\"]\n",
    "FILL = gs.list_grouped(type=\"raster\",\n",
    "                       pattern=\"*_hants\")[\"modis_ndvi\"]"
   ]
  },
  {
   "cell_type": "code",
   "execution_count": 38,
   "id": "157a5641",
   "metadata": {},
   "outputs": [],
   "source": [
    "# patching\n",
    "for i,j in zip(ORIG,FILL):\n",
    "    print(i, j)\n",
    "    out=f\"{j}_patch\"\n",
    "    gs.run_command(\"r.patch\",\n",
    "                   input=[i, j],\n",
    "                   output=out)"
   ]
  },
  {
   "cell_type": "markdown",
   "id": "530d4d4f",
   "metadata": {},
   "source": [
    "Creamos la serie de tiempo con los datos parcheados y registramos los mapas.\n"
   ]
  },
  {
   "cell_type": "code",
   "execution_count": 39,
   "id": "3a5abf80",
   "metadata": {},
   "outputs": [],
   "source": [
    "# create new time series \n",
    "gs.run_command(\"t.create\",\n",
    "               output=\"ndvi_monthly_patch\",\n",
    "               type=\"strds\",\n",
    "               temporaltype=\"absolute\",\n",
    "               title=\"Patched monthly NDVI\",\n",
    "               description=\"Filtered, gap-filled and patched monthly NDVI - MOD13C2 - Cordoba, 2015-2019\")"
   ]
  },
  {
   "cell_type": "code",
   "execution_count": 40,
   "id": "b45fe392",
   "metadata": {},
   "outputs": [],
   "source": [
    "# list NDVI patched files\n",
    "patched_maps = gs.list_grouped(type=\"raster\",\n",
    "                               pattern=\"*patch\")[\"modis_ndvi\"]\n",
    "patched_maps[:5]"
   ]
  },
  {
   "cell_type": "code",
   "execution_count": 41,
   "id": "55384278",
   "metadata": {},
   "outputs": [],
   "source": [
    "# register maps\n",
    "gs.run_command(\"t.register\",\n",
    "               flags=\"i\",\n",
    "               input=\"ndvi_monthly_patch\",\n",
    "               type=\"raster\",\n",
    "               maps=patched_maps,\n",
    "               start=\"2015-01-01\",\n",
    "               increment=\"1 months\")"
   ]
  },
  {
   "cell_type": "markdown",
   "id": "1c6dcf6b",
   "metadata": {},
   "source": [
    "Imprimir información de la serie de tiempo\n"
   ]
  },
  {
   "cell_type": "code",
   "execution_count": 42,
   "id": "1eb16da9",
   "metadata": {},
   "outputs": [],
   "source": [
    "# print time series info\n",
    "print(gs.read_command(\"t.info\", \n",
    "                      input=\"ndvi_monthly_patch\"))"
   ]
  },
  {
   "cell_type": "markdown",
   "id": "3dc8c245",
   "metadata": {},
   "source": [
    ":::{.callout-warning title=\"Tarea\"}\n",
    "- Evaluar gráficamente los resultados de la reconstrucción de HANTS en pixeles con mayor porcentaje de datos faltantes \n",
    "- Obtener estadísticas univariadas para las nuevas series temporales\n",
    ":::\n",
    "\n",
    "![](https://www.mdpi.com/remotesensing/remotesensing-09-01333/article_deploy/html/images/remotesensing-09-01333-ag.png)\n",
    "\n",
    ":::{.callout-warning title=\"Tarea\"}\n",
    "- Ver la sección de métodos en @metz_new_2017 \n",
    "- Qué otros algoritmos existen o qué otra aproximación podría seguirse?\n",
    ":::\n",
    "\n",
    "## Agregación con granularidad\n",
    "\n",
    ":::{.callout-warning title=\"Tarea\"}\n",
    "- Obtener el promedio de NDVI cada dos meses\n",
    "- Visualizar la serie de tiempo resultante con `TimeSeriesMap`\n",
    ":::\n",
    "\n",
    "## Indicadores de fenología\n",
    "\n",
    "### Fecha de ocurrencia de máximos y mínimos\n",
    "\n",
    "Identificamos primero los máximos y mínimos de la serie, luego reemplazamos \n",
    "con `start_month()` los valores en la STRDS si coinciden con el mínimo o \n",
    "máximo global y finalmente obtenemos el primer mes en el que aparecieron \n",
    "el máximo y el mínimo.\n"
   ]
  },
  {
   "cell_type": "code",
   "execution_count": 43,
   "id": "8ce4fa07",
   "metadata": {},
   "outputs": [],
   "source": [
    "methods = [\"maximum\",\"minimum\"]\n",
    "\n",
    "for me in methods:\n",
    "    # get maximum and minimum\n",
    "    gs.run_command(\"t.rast.series\",\n",
    "                   input=\"ndvi_monthly_patch\",\n",
    "                   method=me,\n",
    "                   output=f\"ndvi_{me}\")\n",
    "    # get month of maximum and minimum\n",
    "    gs.run_command(\"t.rast.mapcalc\",\n",
    "                   inputs=\"ndvi_monthly_patch\",\n",
    "                   output=f\"month_{me}_ndvi\",\n",
    "                   expression=f\"if(ndvi_monthly_patch == ndvi_{me}, start_month(), null())\",\n",
    "                   basename=f\"month_{me}_ndvi\")\n",
    "    # get the earliest month in which the maximum and minimum appeared\n",
    "    gs.run_command(\"t.rast.series\",\n",
    "                   input=f\"month_{me}_ndvi\",\n",
    "                   method=\"minimum\",\n",
    "                   output=f\"earliest_month_{me}_ndvi\")\n",
    "    # remove intermediate strds \n",
    "    gs.run_command(\"t.remove\",\n",
    "                   flags=\"rfd\",\n",
    "                   inputs=f\"month_{me}_ndvi\")"
   ]
  },
  {
   "cell_type": "markdown",
   "id": "169376f8",
   "metadata": {},
   "source": [
    ":::{.callout-warning title=\"Tarea\"}\n",
    "- Mostrar los mapas resultantes con `InteractiveMap`\n",
    "- Cuándo se observan los mínimos y máximos? Hay algun patrón? A qué se podría deber?\n",
    ":::\n",
    "\n",
    ":::{.callout-warning title=\"Tarea\"}\n",
    "- Asociar el máximo de LST con el máximo de NDVI y, la fecha de la máxima LST con la fecha del máximo NDVI\n",
    "- Agregar el mapset `modis_lst` a los mapsets accesibles.\n",
    "- Ver el módulo [r.covar](https://grass.osgeo.org/grass-stable/manuals/r.covar.html).\n",
    ":::\n",
    "\n",
    "### Tasa de crecimiento\n",
    "\n",
    "Obtener series temporales de pendientes entre mapas consecutivos\n"
   ]
  },
  {
   "cell_type": "code",
   "execution_count": 44,
   "id": "19d1f77a",
   "metadata": {},
   "outputs": [],
   "source": [
    "# time series of slopes\n",
    "expression = \"slope_ndvi = (ndvi_monthly_patch[1] - ndvi_monthly_patch[0]) / td(ndvi_monthly_patch)\"\n",
    "\n",
    "gs.run_command(\"t.rast.algebra\", \n",
    "               expression=expression,\n",
    "               basename=\"slope_ndvi\",\n",
    "               suffix=\"gran\")"
   ]
  },
  {
   "cell_type": "markdown",
   "id": "fdc28d01",
   "metadata": {},
   "source": [
    "Obtener la máxima pendiente por año\n"
   ]
  },
  {
   "cell_type": "code",
   "execution_count": 45,
   "id": "cad1867a",
   "metadata": {},
   "outputs": [],
   "source": [
    "# get max slope per year\n",
    "gs.run_command(\"t.rast.aggregate\",\n",
    "               input=\"slope_ndvi\",\n",
    "               output=\"ndvi_slope_yearly\",\n",
    "               basename=\"NDVI_max_slope_year\",\n",
    "               suffix=\"gran\",\n",
    "               method=\"maximum\",\n",
    "               granularity=\"1 years\")"
   ]
  },
  {
   "cell_type": "markdown",
   "id": "77cf47ff",
   "metadata": {},
   "source": [
    ":::{.callout-warning title=\"Tarea\"}\n",
    "- Obtener un mapa con la mayor tasa de crecimiento por píxel en el período 2015-2019\n",
    "- Qué modulo usarían?\n",
    ":::\n",
    "\n",
    "### Período de crecimiento\n",
    "\n",
    "Instalar la extensión *r.seasons*\n"
   ]
  },
  {
   "cell_type": "code",
   "execution_count": 46,
   "id": "c968a061",
   "metadata": {},
   "outputs": [],
   "source": [
    "# install extension\n",
    "gs.run_command(\"g.extension\",\n",
    "               extension=\"r.seasons\")"
   ]
  },
  {
   "cell_type": "markdown",
   "id": "2a2e9652",
   "metadata": {},
   "source": [
    "Determinar el comienzo, el final y la duración del período de crecimiento\n"
   ]
  },
  {
   "cell_type": "code",
   "execution_count": 47,
   "id": "83f56e61",
   "metadata": {},
   "outputs": [],
   "source": [
    "# start, end and length of growing season\n",
    "gs.run_command(\"r.seasons\",\n",
    "               input=patched_maps,\n",
    "               prefix=\"ndvi_season\",\n",
    "               n=3,\n",
    "               nout=\"ndvi_season\",\n",
    "               threshold_value=3000,\n",
    "               min_length=5)"
   ]
  },
  {
   "cell_type": "markdown",
   "id": "30542af1",
   "metadata": {},
   "source": [
    ":::{.callout-warning title=\"Tarea\"}\n",
    "- Qué nos dice cada mapa? Dónde es más larga la estación de crecimiento?\n",
    "- Exportar los mapas resultantes como .png\n",
    ":::\n",
    "\n",
    "Crear un mapa de umbrales para usar en *r.seasons*\n"
   ]
  },
  {
   "cell_type": "code",
   "execution_count": 48,
   "id": "97f147ff",
   "metadata": {},
   "outputs": [],
   "source": [
    "# create a threshold map: min ndvi + 0.1*ndvi\n",
    "gs.mapcalc(exp=\"threshold_ndvi = ndvi_minimum * 1.1\")"
   ]
  },
  {
   "cell_type": "markdown",
   "id": "082513af",
   "metadata": {},
   "source": [
    ":::{.callout-warning title=\"Tarea\"}\n",
    "Utilizar el mapa de umbrales en [r.seasons](https://grass.osgeo.org/grass-stable/manuals/addons/r.seasons.html) y comparar los mapas de salida con los resultados de utilizar sólo un valor de umbral.\n",
    ":::\n",
    "\n",
    "## Serie de tiempo de NDWI\n",
    "\n",
    "Listas de mapas de reflectancia\n"
   ]
  },
  {
   "cell_type": "code",
   "execution_count": 49,
   "id": "39984d5b",
   "metadata": {},
   "outputs": [],
   "source": [
    "list_nir = gs.list_grouped(type=\"raster\", \n",
    "                           pattern=\"*NIR*\")[\"modis_ndvi\"]\n",
    "list_mir = gs.list_grouped(type=\"raster\", \n",
    "                           pattern=\"*MIR*\")[\"modis_ndvi\"]\n",
    "\n",
    "len(list_nir,list_mir)"
   ]
  },
  {
   "cell_type": "markdown",
   "id": "4b496249",
   "metadata": {},
   "source": [
    "Asignamos *semantic labels* correspondientes a las bandas\n"
   ]
  },
  {
   "cell_type": "code",
   "execution_count": 50,
   "id": "f8d64bd2",
   "metadata": {},
   "outputs": [],
   "source": [
    "# asign semantic labels to NIR and MIR maps\n",
    "for i in list_nir:\n",
    "    gs.run_command(\"r.support\",\n",
    "                   map=i,\n",
    "                   semantic_label=\"nir\")\n",
    "\n",
    "for i in list_mir:\n",
    "    gs.run_command(\"r.support\",\n",
    "                   map=i,\n",
    "                   semantic_label=\"mir\")"
   ]
  },
  {
   "cell_type": "code",
   "execution_count": 51,
   "id": "a741ce70",
   "metadata": {},
   "outputs": [],
   "source": [
    "# check\n",
    "gs.raster_info(\"MOD13C2.A2015001.006.single_Monthly_MIR_reflectance\")[\"semantic_label\"]"
   ]
  },
  {
   "cell_type": "markdown",
   "id": "8eb19404",
   "metadata": {},
   "source": [
    "Crear series temporales de NIR y MIR\n"
   ]
  },
  {
   "cell_type": "code",
   "execution_count": 52,
   "id": "8d91b148",
   "metadata": {},
   "outputs": [],
   "source": [
    "# create time series of NIR and MIR altogether\n",
    "gs.run_command(\"t.create\",\n",
    "               output=\"modis_surf\",\n",
    "               type=\"strds\",\n",
    "               temporaltype=\"absolute\",\n",
    "               title=\"Monthly surface reflectance, NIR and MIR\",\n",
    "               description=\"NIR and MIR monthly - MOD13C2 - 2015-2019\")"
   ]
  },
  {
   "cell_type": "markdown",
   "id": "e6cd57b3",
   "metadata": {},
   "source": [
    "Registrar mapas\n"
   ]
  },
  {
   "cell_type": "code",
   "execution_count": 53,
   "id": "07463199",
   "metadata": {},
   "outputs": [],
   "source": [
    "# register maps\n",
    "gs.run_command(\"t.register\",\n",
    "               input=\"modis_surf\",\n",
    "               maps=list_nir,\n",
    "               start=\"2015-01-01\",\n",
    "               increment=\"1 months\",\n",
    "               flags=\"i\")\n",
    "\n",
    "gs.run_command(\"t.register\",\n",
    "               input=\"modis_surf\",\n",
    "               maps=list_mir,\n",
    "               start=\"2015-01-01\",\n",
    "               increment=\"1 months\",\n",
    "               flags=\"i\")"
   ]
  },
  {
   "cell_type": "markdown",
   "id": "0a34e45c",
   "metadata": {},
   "source": [
    "Imprimir información de la serie de tiempo\n"
   ]
  },
  {
   "cell_type": "code",
   "execution_count": 54,
   "id": "1eecc754",
   "metadata": {},
   "outputs": [],
   "source": [
    "# print time series info\n",
    "print(gs.read_command(\"t.info\", \n",
    "                      input=\"modis_surf\"))"
   ]
  },
  {
   "cell_type": "code",
   "execution_count": 55,
   "id": "910f1060",
   "metadata": {},
   "outputs": [],
   "source": [
    "# List only NIR maps\n",
    "print(gs.read_command(\"t.rast.list\", \n",
    "                      input=\"modis_surf.nir\", \n",
    "                      columns=\"name,semantic_label\"))"
   ]
  },
  {
   "cell_type": "markdown",
   "id": "6ae05efc",
   "metadata": {},
   "source": [
    "Estimación de la serie temporal de NDWI\n"
   ]
  },
  {
   "cell_type": "code",
   "execution_count": 56,
   "id": "5a263b13",
   "metadata": {},
   "outputs": [],
   "source": [
    "# extract nir and mir strds\n",
    "sls = [\"nir\", \"mir\"]\n",
    "\n",
    "for sl in sls:\n",
    "    gs.run_command(\"t.rast.extract\",\n",
    "                   input=\"modis_surf\",\n",
    "                   where=f\"semantic_label == '{sl}'\",\n",
    "                   output=sl)"
   ]
  },
  {
   "cell_type": "code",
   "execution_count": 57,
   "id": "23f2e117",
   "metadata": {},
   "outputs": [],
   "source": [
    "# estimate NDWI time series\n",
    "expression=\"ndwi_monthly = if(nir > 0 && mir > 0, (float(nir - mir) / float(nir + mir)), null())\"\n",
    "\n",
    "gs.run_command(\"t.rast.algebra\",\n",
    "               basename=\"ndwi_monthly\",\n",
    "               expression=expression,\n",
    "               suffix=\"gran\",\n",
    "               flags=\"n\")"
   ]
  },
  {
   "cell_type": "code",
   "execution_count": 58,
   "id": "ca8e3b37",
   "metadata": {},
   "outputs": [],
   "source": [
    "# estimate NDWI time series\n",
    "#gs.run_command(\"t.rast.mapcalc\", \n",
    "#               inputs=\"modis_surf.mir,modis_surf.nir\", \n",
    "#               output=\"ndwi_monthly\", \n",
    "#               basename=\"ndwi\",\n",
    "#               expression=\"float(modis_surf.nir - modis_surf.mir) / (modis_surf.nir + modis_surf.mir)\")"
   ]
  },
  {
   "cell_type": "code",
   "execution_count": 59,
   "id": "b7967b02",
   "metadata": {},
   "outputs": [],
   "source": [
    "gs.run_command(\"t.rast.colors\", \n",
    "               input=\"ndwi_monthly\", \n",
    "               color=\"ndwi\")"
   ]
  },
  {
   "cell_type": "code",
   "execution_count": 60,
   "id": "7d6de1b3",
   "metadata": {},
   "outputs": [],
   "source": [
    "print(gs.read_command(\"t.info\", \n",
    "                      input=\"ndwi_monthly\"))"
   ]
  },
  {
   "cell_type": "markdown",
   "id": "1a982e26",
   "metadata": {},
   "source": [
    ":::{.callout-warning title=\"Tarea\"}\n",
    "Obtener valores máximos y mínimos para cada mapa de NDWI y explorar el trazado \n",
    "de la serie de tiempo en diferentes puntos de forma interactiva\n",
    "\n",
    "Ver el manual de [t.rast.univar](https://grass.osgeo.org/grass-stable/manuals/t.rast.univar.html)\n",
    ":::\n",
    "\n",
    "### Frecuencia de inundación\n",
    "\n",
    "Reclasificar los mapas según un umbral\n"
   ]
  },
  {
   "cell_type": "code",
   "execution_count": 61,
   "id": "4f0f387a",
   "metadata": {},
   "outputs": [],
   "source": [
    "# reclassify\n",
    "gs.run_command(\"t.rast.mapcalc\",\n",
    "               input=\"ndwi_monthly\",\n",
    "               output=\"flood\",\n",
    "               basename=\"flood\",\n",
    "               expression=\"if(ndwi_monthly > 0.8, 1, null())\",\n",
    "               flags=\"n\")"
   ]
  },
  {
   "cell_type": "markdown",
   "id": "c115171b",
   "metadata": {},
   "source": [
    "Obtener frecuencia de inundación\n"
   ]
  },
  {
   "cell_type": "code",
   "execution_count": 62,
   "id": "53975054",
   "metadata": {},
   "outputs": [],
   "source": [
    "# flooding frequency\n",
    "gs.run_command(\"t.rast.series\",\n",
    "               input=\"flood\",\n",
    "               output=\"flood_freq\",\n",
    "               method=\"sum\")"
   ]
  },
  {
   "cell_type": "markdown",
   "id": "fe40376d",
   "metadata": {},
   "source": [
    ":::{.callout-warning title=\"Tarea\"}\n",
    "Cuáles son las áreas que se han inundado con más frecuencia?\n",
    ":::\n",
    "\n",
    "## Regresión NDVI-NDWI\n",
    "\n",
    "Instalar la extensión *r.regression.series*\n"
   ]
  },
  {
   "cell_type": "code",
   "execution_count": 63,
   "id": "870c820e",
   "metadata": {},
   "outputs": [],
   "source": [
    "# install extension\n",
    "gs.run_command(\"g.extension\",\n",
    "               extension=\"r.regression.series\")"
   ]
  },
  {
   "cell_type": "markdown",
   "id": "bcebc211",
   "metadata": {},
   "source": [
    "Realizar una regresión entre las series temporales de NDVI y NDWI\n"
   ]
  },
  {
   "cell_type": "code",
   "execution_count": 64,
   "id": "bf4b38db",
   "metadata": {},
   "outputs": [],
   "source": [
    "xseries = patched_maps\n",
    "yseries = gs.list_grouped(type=\"raster\",\n",
    "                          pattern=\"ndwi_monthly*\")[\"modis_ndvi\"]\n",
    "\n",
    "gs.run_command(\"r.regression.series\",\n",
    "               xseries=xseries,\n",
    "               yseries=yseries,\n",
    "               output=\"ndvi_ndwi_rsq\",\n",
    "               method=\"rsq\")"
   ]
  },
  {
   "cell_type": "code",
   "execution_count": 65,
   "id": "05763030",
   "metadata": {},
   "outputs": [],
   "source": [
    "rsq = gj.InteractiveMap(width = 400, use_region=True)\n",
    "rsq.add_raster(\"ndvi_ndwi_rsq\", opacity=0.8)\n",
    "rsq.add_layer_control(position = \"bottomright\")\n",
    "rsq.show()"
   ]
  },
  {
   "cell_type": "markdown",
   "id": "1556a919",
   "metadata": {},
   "source": [
    ":::{.callout-warning title=\"Tarea\"}\n",
    "Determinar dónde está la mayor correlación entre NDVI y NDWI\n",
    ":::\n",
    "\n",
    "## Recursos (muy) útiles \n",
    "\n",
    "- [Temporal data processing wiki](https://grasswiki.osgeo.org/wiki/Temporal_data_processing)\n",
    "- [GRASS GIS and R for time series processing wiki](https://grasswiki.osgeo.org/wiki/Temporal_data_processing/GRASS_R_raster_time_series_processing)\n",
    "- [GRASS GIS temporal workshop at NCSU](http://ncsu-geoforall-lab.github.io/grass-temporal-workshop/)\n",
    "- [GRASS GIS course IRSAE 2018](http://training.gismentors.eu/grass-gis-irsae-winter-course-2018/index.html)\n",
    "- [GRASS GIS workshop held in Jena 2023](https://training.gismentors.eu/grass-gis-workshop-jena/)\n",
    "- [Using Satellite Data for Species Distribution Modeling with GRASS GIS and R](https://veroandreo.github.io/grass_ncsu_2023/studio_index.html). Workshop en \n",
    "NCSU. Abril, 2023.\n",
    "\n",
    "## Referencias\n",
    "\n",
    "::: {#refs .tiny}\n",
    ":::\n"
   ]
  }
 ],
 "metadata": {
  "kernelspec": {
   "display_name": "Python 3 (ipykernel)",
   "language": "python",
   "name": "python3"
  }
 },
 "nbformat": 4,
 "nbformat_minor": 5
}
