{
  "cells": [
    {
      "cell_type": "raw",
      "metadata": {},
      "source": [
        "---\n",
        "title: 'Ejercicio: Series temporales en GRASS GIS'\n",
        "author: Verónica Andreo\n",
        "date: today\n",
        "format:\n",
        "  html:\n",
        "    code-tools: true\n",
        "    code-copy: true\n",
        "    code-fold: false\n",
        "execute:\n",
        "  eval: false\n",
        "  cache: false\n",
        "  keep-ipynb: true\n",
        "---"
      ],
      "id": "f5dac9d9"
    },
    {
      "cell_type": "markdown",
      "metadata": {},
      "source": [
        "## Ejercicio: Manos a la obra con series temporales de NDVI \n",
        "\n",
        "\n",
        "\n",
        "### Contenidos\n",
        "\n",
        "- Datos para el ejercicio\n",
        "- Uso de bandas de confiabilidad\n",
        "- Creación de serie de NDVI\n",
        "- HANTS como método de reconstrucción\n",
        "- Agregación temporal\n",
        "- Índices de fenología\n",
        "- NDWI y frecuencia de inundación\n",
        "- Regresión entre NDVI y NDWI\n",
        "\n",
        "\n",
        "### Datos para el ejercicio\n",
        "\n",
        "- Producto MODIS: <a href=\"https://lpdaac.usgs.gov/products/mod13c2v006/\">MOD13C2 Collection 6</a>\n",
        "- Composiciones globales mensuales \n",
        "- Resolución espacial: 5600 m\n",
        "- Mapset `modis_ndvi` \n",
        "\n",
        "\n",
        "![](../assets/img/mod13c2_global_ndvi.png)\n",
        "\n",
        "\n",
        "### Exploramos los datos de NDVI\n",
        "\n",
        "Iniciar GRASS GIS en el mapset *modis_ndvi*"
      ],
      "id": "8e69885d"
    },
    {
      "cell_type": "code",
      "metadata": {},
      "source": [
        "# paths\n",
        "grassdata='/home/veroandreo/grassdata/'\n",
        "location='posgar2007_4_cba'\n",
        "mapset='modis_ndvi'"
      ],
      "id": "70736ea7",
      "execution_count": null,
      "outputs": []
    },
    {
      "cell_type": "code",
      "metadata": {},
      "source": [
        "import os\n",
        "import subprocess\n",
        "import sys\n",
        "\n",
        "# Ask GRASS GIS where its Python packages are to be able to start it from the notebook\n",
        "sys.path.append(\n",
        "    subprocess.check_output([\"grass\", \"--config\", \"python_path\"], text=True).strip()\n",
        ")\n",
        "\n",
        "# Importar los paquetes python de GRASS\n",
        "import grass.script as gs\n",
        "import grass.jupyter as gj\n",
        "\n",
        "# Iniciar GRASS\n",
        "session = gj.init(grassdata, location, mapset)"
      ],
      "id": "6c6591fd",
      "execution_count": null,
      "outputs": []
    },
    {
      "cell_type": "markdown",
      "metadata": {},
      "source": [
        "Agregar *modis_lst* a la lista de mapsets accesibles"
      ],
      "id": "10a93987"
    },
    {
      "cell_type": "code",
      "metadata": {},
      "source": [
        "# add `modis_lst` to accessible mapsets path\n",
        "g.mapsets -p\n",
        "g.mapsets mapset=modis_lst operation=add"
      ],
      "id": "6dc6474a",
      "execution_count": null,
      "outputs": []
    },
    {
      "cell_type": "markdown",
      "metadata": {},
      "source": [
        "Listar los mapas y obtener información de alguno de ellos"
      ],
      "id": "f33b2e06"
    },
    {
      "cell_type": "code",
      "metadata": {},
      "source": [
        "# list files and get info and stats\n",
        "g.list type=raster mapset=.\n",
        "\n",
        "r.info map=MOD13C2.A2015001.006.single_Monthly_NDVI\n",
        "r.univar map=MOD13C2.A2015001.006.single_Monthly_NDVI"
      ],
      "id": "1628d7cf",
      "execution_count": null,
      "outputs": []
    },
    {
      "cell_type": "markdown",
      "metadata": {},
      "source": [
        "> **Tarea**\n",
        "> \n",
        "> - Mostrar los mapas de NDVI, NIR y pixel reliability.\n",
        "> - Obtener información sobre los valores mínimos y máximos\n",
        "> - ¿Qué se puede decir sobre los valores de cada banda?\n",
        "> - ¿Hay valores nulos?\n",
        "\n",
        "### Uso de la banda de confiabilidad\n",
        "\n",
        "> **Tarea**\n",
        ">\n",
        "> - Leer acerca de la banda de confiabilidad en la [Guía de usuario](https://lpdaac.usgs.gov/documents/103/MOD13_User_Guide_V6.pdf) de MOD13 (pag 27).\n",
        "> - Para una misma fecha mostrar la banda de confiabilidad y el NDVI.\n",
        "> - Seleccionar sólo los pixeles con valor 0 (Buena calidad) en la banda de confiabilidad. ¿Qué se observa?\n",
        "\n",
        "\n",
        "### Uso de la banda de confiabilidad\n",
        "\n",
        "Definir la región computacional"
      ],
      "id": "9fc35c3e"
    },
    {
      "cell_type": "code",
      "metadata": {},
      "source": [
        "# set computational region\n",
        "g.region -p vector=provincia_cba \\\n",
        "  align=MOD13C2.A2015001.006.single_Monthly_NDVI"
      ],
      "id": "e43f19c8",
      "execution_count": null,
      "outputs": []
    },
    {
      "cell_type": "markdown",
      "metadata": {},
      "source": [
        "Establecer los límites provinciales como máscara"
      ],
      "id": "5a7d6c6d"
    },
    {
      "cell_type": "code",
      "metadata": {},
      "source": [
        "# set mask\n",
        "r.mask vector=provincia_cba"
      ],
      "id": "5c448027",
      "execution_count": null,
      "outputs": []
    },
    {
      "cell_type": "markdown",
      "metadata": {},
      "source": [
        "Mantener sólo los pixeles de la mejor calidad"
      ],
      "id": "6af1afbe"
    },
    {
      "cell_type": "code",
      "metadata": {},
      "source": [
        "# keep only NDVI most reliable pixels (one map) - *nix\n",
        "PR=MOD13C2.A2015274.006.single_Monthly_pixel_reliability\n",
        "NDVI=MOD13C2.A2015274.006.single_Monthly_NDVI\n",
        "\n",
        "r.mapcalc \\\n",
        "  expression=\"${NDVI}_filt = if(${PR} != 0, null(), ${NDVI})\""
      ],
      "id": "46f49ed8",
      "execution_count": null,
      "outputs": []
    },
    {
      "cell_type": "markdown",
      "metadata": {},
      "source": [
        "Mantener sólo los pixeles de la mejor calidad - para todos los mapas"
      ],
      "id": "be8a9dc0"
    },
    {
      "cell_type": "code",
      "metadata": {},
      "source": [
        "# list of maps\n",
        "PR=`g.list type=raster pattern=\"*_pixel_reliability\" separator=\" \"`\n",
        "NDVI=`g.list type=raster pattern=\"*_Monthly_NDVI\" separator=\" \"`\n",
        "# convert list to array\n",
        "PR=($PR)\n",
        "NDVI=($NDVI)\n",
        "\n",
        "# iterate over the 2 arrays\n",
        "for ((i=0;i<${#PR[@]};i++)) ; do\n",
        " r.mapcalc --o \\\n",
        "  expression=\"${NDVI[$i]}_filt = if(${PR[$i]} != 0, null(), ${NDVI[$i]})\"\n",
        "done"
      ],
      "id": "f8278b88",
      "execution_count": null,
      "outputs": []
    },
    {
      "cell_type": "markdown",
      "metadata": {},
      "source": [
        "> **Tarea**\n",
        ">\n",
        "> Cómo podrían hacer lo mismo pero con módulos temporales?\n",
        "\n",
        "Qué les parece [t.rast.algebra](https://grass.osgeo.org/grass-stable/manuals/t.rast.algebra.html)?\n"
      ],
      "id": "1576807f"
    },
    {
      "cell_type": "code",
      "metadata": {},
      "source": [
        "# apply pixel reliability band\n",
        "t.rast.algebra \\\n",
        "  expression=\"NDVI_monthly_filt = if(pixel_rel_monthly != 0, null(), ndvi_monthly)\"\n",
        "  basename=ndvi_monthly \\\n",
        "  suffix=gran"
      ],
      "id": "c80866df",
      "execution_count": null,
      "outputs": []
    },
    {
      "cell_type": "markdown",
      "metadata": {},
      "source": [
        "> **Tarea**\n",
        ">\n",
        "> Comparar las estadísticas entre los mapas de NDVI originales y filtrados para la misma fecha\n",
        "\n",
        "\n",
        "### Creación de la serie de tiempo\n",
        "\n",
        "Crear STRDS de NDVI"
      ],
      "id": "e1661f73"
    },
    {
      "cell_type": "code",
      "metadata": {},
      "source": [
        "# create STRDS\n",
        "t.create output=ndvi_monthly \\\n",
        "  type=strds temporaltype=absolute \\\n",
        "  title=\"Filtered monthly NDVI\" \\\n",
        "  description=\"Filtered monthly NDVI - MOD13C2 - Cordoba, 2015-2019\""
      ],
      "id": "7cce4fac",
      "execution_count": null,
      "outputs": []
    },
    {
      "cell_type": "markdown",
      "metadata": {},
      "source": [
        "Corroborar que la STRDS fue creada"
      ],
      "id": "c8b3c019"
    },
    {
      "cell_type": "code",
      "metadata": {},
      "source": [
        "# check if it was created\n",
        "t.list type=strds"
      ],
      "id": "7e76e93e",
      "execution_count": null,
      "outputs": []
    },
    {
      "cell_type": "markdown",
      "metadata": {},
      "source": [
        "Crear archivo con lista de mapas"
      ],
      "id": "78cf37fe"
    },
    {
      "cell_type": "code",
      "metadata": {},
      "source": [
        "# list NDVI filtered files\n",
        "g.list type=raster pattern=\"*filt\" output=ndvi_list.txt"
      ],
      "id": "5d22f60e",
      "execution_count": null,
      "outputs": []
    },
    {
      "cell_type": "markdown",
      "metadata": {},
      "source": [
        "Asignar fecha a los mapas, i.e., registrar"
      ],
      "id": "153bbbb8"
    },
    {
      "cell_type": "code",
      "metadata": {},
      "source": [
        "# register maps\n",
        "t.register -i input=ndvi_monthly \\\n",
        "  type=raster file=ndvi_list.txt \\\n",
        "  start=\"2015-01-01\" \\\n",
        "  increment=\"1 months\""
      ],
      "id": "3e3bfadc",
      "execution_count": null,
      "outputs": []
    },
    {
      "cell_type": "markdown",
      "metadata": {},
      "source": [
        "Imprimir info básica de la STRDS"
      ],
      "id": "eb13ea26"
    },
    {
      "cell_type": "code",
      "metadata": {},
      "source": [
        "# print time series info\n",
        "t.info input=ndvi_monthly"
      ],
      "id": "ca6571e0",
      "execution_count": null,
      "outputs": []
    },
    {
      "cell_type": "markdown",
      "metadata": {},
      "source": [
        "Imprimir la lista de mapas en la STRDS"
      ],
      "id": "a02b92e6"
    },
    {
      "cell_type": "code",
      "metadata": {},
      "source": [
        "# print list of maps in time series\n",
        "t.rast.list input=ndvi_monthly"
      ],
      "id": "0a4939f0",
      "execution_count": null,
      "outputs": []
    },
    {
      "cell_type": "markdown",
      "metadata": {},
      "source": [
        "> **Tarea**\n",
        "> \n",
        "> Explorar visualmente los valores de las series temporales en diferentes puntos. \n",
        "> Usar [g.gui.tplot](https://grass.osgeo.org/grass-stable/manuals/g.gui.tplot.html) y seleccionar diferentes puntos interactivamente.\n",
        "\n",
        "### Datos faltantes\n",
        "\n",
        "Obtener las estadísticas de la serie de tiempo"
      ],
      "id": "b8794e60"
    },
    {
      "cell_type": "code",
      "metadata": {},
      "source": [
        "# How much missing data we have after filtering for pixel reliability?\n",
        "t.rast.univar input=ndvi_monthly"
      ],
      "id": "61625207",
      "execution_count": null,
      "outputs": []
    },
    {
      "cell_type": "markdown",
      "metadata": {},
      "source": [
        "Contar los datos válidos"
      ],
      "id": "32c09e14"
    },
    {
      "cell_type": "code",
      "metadata": {},
      "source": [
        "# count valid data\n",
        "t.rast.series input=ndvi_monthly \\\n",
        "  method=count \\\n",
        "  output=ndvi_count_valid"
      ],
      "id": "530abe65",
      "execution_count": null,
      "outputs": []
    },
    {
      "cell_type": "markdown",
      "metadata": {},
      "source": [
        "Estimar el porcentaje de datos faltantes"
      ],
      "id": "06ac8994"
    },
    {
      "cell_type": "code",
      "metadata": {},
      "source": [
        "# estimate percentage of missing data\n",
        "r.mapcalc \\\n",
        " expression=\"ndvi_missing = ((60 - ndvi_count_valid) * 100.0)/60\""
      ],
      "id": "4869abe7",
      "execution_count": null,
      "outputs": []
    },
    {
      "cell_type": "markdown",
      "metadata": {},
      "source": [
        "Cómo guardar en una variable el numero de mapas de una serie de tiempo?\n"
      ],
      "id": "20244618"
    },
    {
      "cell_type": "code",
      "metadata": {},
      "source": [
        "t.info -g ndvi_monthly\n",
        "`eval t.info ndvi_monthly`\n",
        "echo $number_of_maps\n",
        "\n",
        "r.mapcalc \\\n",
        "  expression=\"ndvi_missing = (($number_of_maps - ndvi_count_valid) * 100.0)/$number_of_maps\""
      ],
      "id": "8e34edef",
      "execution_count": null,
      "outputs": []
    },
    {
      "cell_type": "markdown",
      "metadata": {},
      "source": [
        "> **Tarea**\n",
        ">\n",
        "> - Mostrar el mapa que representa el porcentaje de datos faltantes y explorar los valores. \n",
        "> - Obtener estadísticas univariadas de este mapa.\n",
        "> - Dónde estan los mayores porcentajes de datos faltantes? Por qué creen que puede ser?\n",
        "\n",
        "### Reconstrucción temporal: HANTS\n",
        "\n",
        "- Harmonic Analysis of Time Series (HANTS)\n",
        "- Implementado en la extensión [r.hants](https://grass.osgeo.org/grass-stable/manuals/addons/r.hants.html)\n",
        "\n",
        "<img src=\"../assets/img/evi_evi_hants.png\" width=\"65%\">\n",
        "\n",
        "\n",
        "### Reconstrucción temporal: HANTS\n",
        "\n",
        "Instalar la extensión *r.hants*"
      ],
      "id": "ce08c57b"
    },
    {
      "cell_type": "code",
      "metadata": {},
      "source": [
        "# install extension\n",
        "g.extension extension=r.hants"
      ],
      "id": "ac4e102c",
      "execution_count": null,
      "outputs": []
    },
    {
      "cell_type": "markdown",
      "metadata": {},
      "source": [
        "Listar los mapas y aplicar r.hants"
      ],
      "id": "fd758fca"
    },
    {
      "cell_type": "code",
      "metadata": {},
      "source": [
        "# list maps\n",
        "maplist=`t.rast.list input=ndvi_monthly method=comma`\n",
        "\n",
        "# gapfill: r.hants\n",
        "r.hants input=$maplist range=-2000,10000 \\\n",
        "  nf=5 fet=500 base_period=12"
      ],
      "id": "96ab37b0",
      "execution_count": null,
      "outputs": []
    },
    {
      "cell_type": "markdown",
      "metadata": {},
      "source": [
        "> **Tarea**\n",
        ">\n",
        "> Probar diferentes ajustes de parámetros en [r.hants](https://grass.osgeo.org/grass-stable/manuals/addons/r.hants.html) y comparar los resultados\n",
        "\n",
        "\n",
        "### Reconstrucción temporal: HANTS\n",
        "\n",
        "Parcheo de serie original y reconstruída"
      ],
      "id": "9a3d0299"
    },
    {
      "cell_type": "code",
      "metadata": {},
      "source": [
        "# patch original with filled (one map)\n",
        "NDVI_ORIG=MOD13C2.A2015001.006.single_Monthly_NDVI_filt\n",
        "NDVI_HANTS=MOD13C2.A2015001.006.single_Monthly_NDVI_filt_hants\n",
        "\n",
        "r.patch input=${NDVI_ORIG},${NDVI_HANTS} \\\n",
        "  output=${NDVI_HANTS}_patch"
      ],
      "id": "f2691a90",
      "execution_count": null,
      "outputs": []
    },
    {
      "cell_type": "markdown",
      "metadata": {},
      "source": [
        "Parcheo de serie original y reconstruída"
      ],
      "id": "a3fb6298"
    },
    {
      "cell_type": "code",
      "metadata": {},
      "source": [
        "# list of maps\n",
        "ORIG=`g.list type=raster pattern=\"*_filt\" separator=\" \"`\n",
        "FILL=`g.list type=raster pattern=\"*_hants\" separator=\" \"`\n",
        "# convert list to array\n",
        "ORIG=($ORIG)\n",
        "FILL=($FILL)\n",
        "\n",
        "# iterate over the 2 arrays\n",
        "for ((i=0;i<${#ORIG[@]};i++)) ; do\n",
        "  r.patch input=${ORIG[$i]},${FILL[$i]} output=${FILL[$i]}_patch --o\n",
        "done"
      ],
      "id": "b9e0c74a",
      "execution_count": null,
      "outputs": []
    },
    {
      "cell_type": "markdown",
      "metadata": {},
      "source": [
        "Crear serie de tiempo con los datos parcheados"
      ],
      "id": "1c56ebcd"
    },
    {
      "cell_type": "code",
      "metadata": {},
      "source": [
        "# create new time series \n",
        "t.create output=ndvi_monthly_patch \\\n",
        "  type=strds temporaltype=absolute \\\n",
        "  title=\"Patched monthly NDVI\" \\\n",
        "  description=\"Filtered, gap-filled and patched monthly NDVI - MOD13C2 - Cordoba, 2015-2019\""
      ],
      "id": "b12ce6eb",
      "execution_count": null,
      "outputs": []
    },
    {
      "cell_type": "markdown",
      "metadata": {},
      "source": [
        "Registrar los mapas en la serie de tiempo"
      ],
      "id": "e046f059"
    },
    {
      "cell_type": "code",
      "metadata": {},
      "source": [
        "# list NDVI patched files\n",
        "g.list type=raster pattern=\"*patch\" \\\n",
        "  output=list_ndvi_patched.txt\n",
        "\n",
        "# register maps\n",
        "t.register -i input=ndvi_monthly_patch \\\n",
        "  type=raster file=list_ndvi_patched.txt \\\n",
        "  start=\"2015-01-01\" \\\n",
        "  increment=\"1 months\""
      ],
      "id": "73765fad",
      "execution_count": null,
      "outputs": []
    },
    {
      "cell_type": "markdown",
      "metadata": {},
      "source": [
        "Imprimir información de la serie de tiempo"
      ],
      "id": "4fa291cf"
    },
    {
      "cell_type": "code",
      "metadata": {},
      "source": [
        "# print time series info\n",
        "t.info input=ndvi_monthly_patch"
      ],
      "id": "2d34c20d",
      "execution_count": null,
      "outputs": []
    },
    {
      "cell_type": "markdown",
      "metadata": {},
      "source": [
        "> **Tarea**\n",
        ">\n",
        "> - Evaluar gráficamente los resultados de la reconstrucción de HANTS en pixeles con mayor porcentaje de datos faltantes \n",
        "> - Obtener estadísticas univariadas para las nuevas series temporales\n",
        "\n",
        "> **Tarea**\n",
        ">\n",
        "> - Ver la sección de métodos en [Metz el al. 2017](https://www.mdpi.com/2072-4292/9/12/1333) \n",
        "> - Qué otros algoritmos existen o qué otra aproximación podría seguirse?\n",
        "\n",
        "![](https://www.mdpi.com/remotesensing/remotesensing-09-01333/article_deploy/html/images/remotesensing-09-01333-ag.png)\n",
        "\n",
        "### Agregación con granularidad\n",
        "\n",
        "> **Tarea**\n",
        ">\n",
        "> - Obtener el promedio de NDVI cada dos meses\n",
        "> - Visualizar la serie de tiempo resultante con [g.gui.animation](https://grass.osgeo.org/grass-stable/manuals/g.gui.animation.html)\n",
        "\n",
        "### Fenología\n",
        "\n",
        "Mes de máximo y mes de mínimo"
      ],
      "id": "d1ba0477"
    },
    {
      "cell_type": "code",
      "metadata": {},
      "source": [
        "# get month of maximum and month of minimum\n",
        "t.rast.series input=ndvi_monthly_patch \\\n",
        "  method=minimum output=ndvi_min\n",
        "t.rast.series input=ndvi_monthly_patch \\\n",
        "  method=maximum output=ndvi_max\n"
      ],
      "id": "faa72c4d",
      "execution_count": null,
      "outputs": []
    },
    {
      "cell_type": "markdown",
      "metadata": {},
      "source": [
        "Reemplazar con *start_month()* los valores en la STRDS si coinciden con el mínimo o máximo global"
      ],
      "id": "1e6eb07b"
    },
    {
      "cell_type": "code",
      "metadata": {},
      "source": [
        "# get month of maximum and minimum\n",
        "t.rast.mapcalc -n inputs=ndvi_monthly_patch \\\n",
        "  output=month_max_ndvi \\\n",
        "  expression=\"if(ndvi_monthly_patch == ndvi_max, start_month(), null())\" \\\n",
        "  basename=month_max_ndvi\n",
        "\n",
        "t.rast.mapcalc -n inputs=ndvi_monthly_patch \\\n",
        "  output=month_min_ndvi \\\n",
        "  expression=\"if(ndvi_monthly_patch == ndvi_min, start_month(), null())\" \\\n",
        "  basename=month_min_ndvi"
      ],
      "id": "bf43e926",
      "execution_count": null,
      "outputs": []
    },
    {
      "cell_type": "markdown",
      "metadata": {},
      "source": [
        "Obtener el primer mes en el que aparecieron el máximo y el mínimo"
      ],
      "id": "973b7bad"
    },
    {
      "cell_type": "code",
      "metadata": {},
      "source": [
        "# get the earliest month in which the maximum and minimum appeared\n",
        "t.rast.series input=month_max_ndvi \\\n",
        "  method=maximum output=max_ndvi_date\n",
        "t.rast.series input=month_min_ndvi \\\n",
        "  method=minimum output=min_ndvi_date"
      ],
      "id": "2a6090b6",
      "execution_count": null,
      "outputs": []
    },
    {
      "cell_type": "markdown",
      "metadata": {},
      "source": [
        "Eliminar la serie temporal intermedia"
      ],
      "id": "4323ba51"
    },
    {
      "cell_type": "code",
      "metadata": {},
      "source": [
        "# remove month_max_lst strds \n",
        "t.remove -rf inputs=month_max_ndvi,month_min_ndvi"
      ],
      "id": "eb56762e",
      "execution_count": null,
      "outputs": []
    },
    {
      "cell_type": "markdown",
      "metadata": {},
      "source": [
        "> **Tarea**\n",
        ">\n",
        "> - Mostrar los mapas resultantes con [g.gui.mapswipe](https://grass.osgeo.org/grass-stable/manuals/g.gui.mapswipe.html)\n",
        "> - Cuándo se observan los mínimos y máximos? Hay algun patrón? A qué se podría deber?\n",
        "\n",
        "> **Tarea**\n",
        ">\n",
        "> Asociar el máximo de LST con el máximo de NDVI y, la fecha de la máxima LST con la fecha del máximo NDVI\n",
        "\n",
        "![](assets/img/tip.png) Ver el módulo [r.covar](https://grass.osgeo.org/grass-stable/manuals/r.covar.html)\n",
        "\n",
        "\n",
        "### Fenología\n",
        "\n",
        "Obtener series temporales de pendientes entre mapas consecutivos"
      ],
      "id": "912000a7"
    },
    {
      "cell_type": "code",
      "metadata": {},
      "source": [
        "# time series of slopes\n",
        "t.rast.algebra \\\n",
        " expression=\"slope_ndvi = (ndvi_monthly_patch[1] - ndvi_monthly_patch[0]) / td(ndvi_monthly_patch)\" \\\n",
        " basename=slope_ndvi suffix=gran"
      ],
      "id": "42045011",
      "execution_count": null,
      "outputs": []
    },
    {
      "cell_type": "markdown",
      "metadata": {},
      "source": [
        "Obtener la máxima pendiente por año"
      ],
      "id": "4f1a0589"
    },
    {
      "cell_type": "code",
      "metadata": {},
      "source": [
        "# get max slope per year\n",
        "t.rast.aggregate input=slope_ndvi output=ndvi_slope_yearly \\\n",
        "  basename=NDVI_max_slope_year suffix=gran \\\n",
        "  method=maximum \\\n",
        "  granularity=\"1 years\""
      ],
      "id": "c4db6890",
      "execution_count": null,
      "outputs": []
    },
    {
      "cell_type": "markdown",
      "metadata": {},
      "source": [
        "> **Tarea**\n",
        ">\n",
        "> - Obtener un mapa con la mayor tasa de crecimiento por píxel en el período 2015-2019\n",
        "> - Qué modulo usarían?\n",
        "\n",
        "\n",
        "### Fenología\n",
        "\n",
        "Instalar la extensión *r.seasons*"
      ],
      "id": "2164e323"
    },
    {
      "cell_type": "code",
      "metadata": {},
      "source": [
        "# install extension\n",
        "g.extension extension=r.seasons"
      ],
      "id": "e5d3d881",
      "execution_count": null,
      "outputs": []
    },
    {
      "cell_type": "markdown",
      "metadata": {},
      "source": [
        "Determinar el comienzo, el final y la duración del período de crecimiento"
      ],
      "id": "e174829a"
    },
    {
      "cell_type": "code",
      "metadata": {},
      "source": [
        "# start, end and length of growing season\n",
        "r.seasons input=`t.rast.list -u input=ndvi_monthly_patch method=comma` \\\n",
        "  prefix=ndvi_season n=3 \\\n",
        "  nout=ndvi_season \\\n",
        "  threshold_value=3000 min_length=5"
      ],
      "id": "68d9bfe3",
      "execution_count": null,
      "outputs": []
    },
    {
      "cell_type": "markdown",
      "metadata": {},
      "source": [
        "> **Tarea**\n",
        ">\n",
        "> - Qué nos dice cada mapa? Dónde es más larga la estación de crecimiento?\n",
        "> - Exportar los mapas resultantes como .png\n",
        "\n",
        "### Fenología\n",
        "\n",
        "Crear un mapa de umbrales para usar en *r.seasons*"
      ],
      "id": "90a05ca2"
    },
    {
      "cell_type": "code",
      "metadata": {},
      "source": [
        "# create a threshold map: min ndvi + 0.1*ndvi\n",
        "r.mapcalc expression=\"threshold_ndvi = ndvi_min * 1.1\""
      ],
      "id": "f9f749d2",
      "execution_count": null,
      "outputs": []
    },
    {
      "cell_type": "markdown",
      "metadata": {},
      "source": [
        "> **Tarea**\n",
        ">\n",
        "> Utilizar el mapa de umbrales en [r.seasons](https://grass.osgeo.org/grass-stable/manuals/addons/r.seasons.html) y comparar los mapas de salida con los resultados de utilizar sólo un valor de umbral\n",
        "\n",
        "### Serie de tiempo de NDWI\n",
        "\n",
        "Crear series temporales de NIR y MIR"
      ],
      "id": "7992df78"
    },
    {
      "cell_type": "code",
      "metadata": {},
      "source": [
        "# create time series of NIR and MIR\n",
        "t.create output=NIR \\\n",
        "  type=strds temporaltype=absolute \\\n",
        "  title=\"NIR monthly\" \\\n",
        "  description=\"NIR monthly - MOD13C2 - 2015-2019\"\n",
        "\n",
        "t.create output=MIR \\\n",
        "  type=strds temporaltype=absolute \\\n",
        "  title=\"MIR monthly\" \\\n",
        "  description=\"MIR monthly - MOD13C2 - 2015-2019\""
      ],
      "id": "0a95174d",
      "execution_count": null,
      "outputs": []
    },
    {
      "cell_type": "markdown",
      "metadata": {},
      "source": [
        "Listar archivos NIR y MIR"
      ],
      "id": "aa6f2d83"
    },
    {
      "cell_type": "code",
      "metadata": {},
      "source": [
        "# list NIR and MIR files\n",
        "g.list type=raster pattern=\"*NIR*\" output=list_nir.txt\n",
        "g.list type=raster pattern=\"*MIR*\" output=list_mir.txt"
      ],
      "id": "a1a24574",
      "execution_count": null,
      "outputs": []
    },
    {
      "cell_type": "markdown",
      "metadata": {},
      "source": [
        "Registrar mapas"
      ],
      "id": "8d89ef3f"
    },
    {
      "cell_type": "code",
      "metadata": {},
      "source": [
        "# register maps\n",
        "t.register -i input=NIR \\\n",
        "  type=raster file=list_nir.txt \\\n",
        "  start=\"2015-01-01\" increment=\"1 months\"\n",
        "\n",
        "t.register -i input=MIR \\\n",
        "  type=raster file=list_mir.txt \\\n",
        "  start=\"2015-01-01\" increment=\"1 months\""
      ],
      "id": "aae9f796",
      "execution_count": null,
      "outputs": []
    },
    {
      "cell_type": "markdown",
      "metadata": {},
      "source": [
        "Imprimir información de la serie de tiempo"
      ],
      "id": "1f231f31"
    },
    {
      "cell_type": "code",
      "metadata": {},
      "source": [
        "# print time series info\n",
        "t.info input=NIR\n",
        "t.info input=MIR"
      ],
      "id": "5d1a8f16",
      "execution_count": null,
      "outputs": []
    },
    {
      "cell_type": "markdown",
      "metadata": {},
      "source": [
        "Estimación de la serie temporal de NDWI"
      ],
      "id": "8cfb8b2a"
    },
    {
      "cell_type": "code",
      "metadata": {},
      "source": [
        "# estimate NDWI time series\n",
        "t.rast.algebra basename=ndwi_monthly \\\n",
        "  expression=\"ndwi_monthly = if(NIR > 0 && MIR > 0, (float(NIR - MIR) / float(NIR + MIR)), null())\" \\\n",
        "  suffix=gran"
      ],
      "id": "d0667d67",
      "execution_count": null,
      "outputs": []
    },
    {
      "cell_type": "markdown",
      "metadata": {},
      "source": [
        "> **Tarea**\n",
        ">\n",
        "> Obtener valores máximos y mínimos para cada mapa de NDWI y explorar el trazado de la serie de tiempo en diferentes puntos de forma interactiva\n",
        "\n",
        "![](assets/img/tip.png) Ver el manual de [t.rast.univar](https://grass.osgeo.org/grass-stable/manuals/t.rast.univar.html)\n",
        "\n",
        "\n",
        "### Frecuencia de inundación\n",
        "\n",
        "Reclasificar los mapas según un umbral"
      ],
      "id": "053452cb"
    },
    {
      "cell_type": "code",
      "metadata": {},
      "source": [
        "# reclassify\n",
        "t.rast.mapcalc -n input=ndwi_monthly \\\n",
        "  output=flood basename=flood \\\n",
        "  expression=\"if(ndwi_monthly > 0.8, 1, null())\""
      ],
      "id": "8e2401bb",
      "execution_count": null,
      "outputs": []
    },
    {
      "cell_type": "markdown",
      "metadata": {},
      "source": [
        "Obtener frecuencia de inundación"
      ],
      "id": "e320d687"
    },
    {
      "cell_type": "code",
      "metadata": {},
      "source": [
        "# flooding frequency\n",
        "t.rast.series input=flood output=flood_freq method=sum"
      ],
      "id": "388978bc",
      "execution_count": null,
      "outputs": []
    },
    {
      "cell_type": "markdown",
      "metadata": {},
      "source": [
        "> **Tarea**\n",
        ">\n",
        "> Cuáles son las áreas que se han inundado con más frecuencia?\n",
        "\n",
        "\n",
        "### Regresión\n",
        "\n",
        "Instalar la extensión *r.regression.series*"
      ],
      "id": "2a345450"
    },
    {
      "cell_type": "code",
      "metadata": {},
      "source": [
        "# install extension\n",
        "g.extension extension=r.regression.series"
      ],
      "id": "213f66ad",
      "execution_count": null,
      "outputs": []
    },
    {
      "cell_type": "markdown",
      "metadata": {},
      "source": [
        "Realizar una regresión entre las series temporales de NDVI y NDWI - *nix"
      ],
      "id": "74803855"
    },
    {
      "cell_type": "code",
      "metadata": {},
      "source": [
        "xseries=`t.rast.list input=ndvi_monthly_patch method=comma`\n",
        "yseries=`t.rast.list input=ndwi_monthly method=comma`\n",
        "\n",
        "r.regression.series xseries=$xseries \\\n",
        "  yseries=$yseries \\\n",
        "  output=ndvi_ndwi_rsq \\\n",
        "  method=rsq"
      ],
      "id": "79a983fe",
      "execution_count": null,
      "outputs": []
    },
    {
      "cell_type": "markdown",
      "metadata": {},
      "source": [
        "> **Tarea**\n",
        ">\n",
        "> Determinar dónde está la mayor correlación entre NDVI y NDWI\n",
        "\n",
        "\n",
        "<img src=\"../assets/img/gummy-question.png\" width=\"45%\">\n",
        "\n",
        "\n",
        "**Gracias por su atención!!**\n",
        "\n",
        "![GRASS GIS logo](../assets/img/grass_logo_alphab.png)"
      ],
      "id": "87e55d11"
    }
  ],
  "metadata": {
    "kernelspec": {
      "name": "python3",
      "language": "python",
      "display_name": "Python 3 (ipykernel)"
    }
  },
  "nbformat": 4,
  "nbformat_minor": 5
}