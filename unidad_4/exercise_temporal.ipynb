{
  "cells": [
    {
      "cell_type": "raw",
      "metadata": {},
      "source": [
        "---\n",
        "title: 'Ejercicio: Series temporales en GRASS GIS'\n",
        "author: Verónica Andreo\n",
        "date: today\n",
        "format:\n",
        "  html:\n",
        "    code-tools: true\n",
        "    code-copy: true\n",
        "    code-fold: false\n",
        "execute:\n",
        "  eval: false\n",
        "  cache: false\n",
        "  keep-ipynb: true\n",
        "---"
      ],
      "id": "0ed2adaa"
    },
    {
      "cell_type": "markdown",
      "metadata": {},
      "source": [
        "En esta notebook vamos a recorrer algunas de las funcionalidades de TGRASS\n",
        "que ya vimos y otras nuevas, pero ahora con una serie de datos de NDVI.\n",
        "\n",
        "## Datos para el ejercicio\n",
        "\n",
        "- Producto MODIS: <a href=\"https://lpdaac.usgs.gov/products/mod13c2v006/\">MOD13C2 Collection 6</a>\n",
        "- Composiciones globales mensuales \n",
        "- Resolución espacial: 5600 m\n",
        "- Mapset `modis_ndvi` \n",
        "\n",
        "\n",
        "![](../assets/img/mod13c2_global_ndvi.png){width=70%}\n",
        "\n",
        "## Iniciamos GRASS\n",
        "\n",
        "Definimos las rutas y el mapset *`modis_ndvi`*\n"
      ],
      "id": "f036dfba"
    },
    {
      "cell_type": "code",
      "metadata": {},
      "source": [
        "import os\n",
        "\n",
        "# data directory\n",
        "homedir = os.path.expanduser('~')\n",
        "\n",
        "# GRASS GIS database variables\n",
        "grassdata = os.path.join(homedir, \"grassdata\")\n",
        "project = \"posgar2007_4_cba\"\n",
        "mapset = \"modis_ndvi\""
      ],
      "id": "a5685810",
      "execution_count": null,
      "outputs": []
    },
    {
      "cell_type": "code",
      "metadata": {},
      "source": [
        "# import standard Python packages we need\n",
        "import sys\n",
        "import subprocess\n",
        "\n",
        "# ask GRASS GIS where its Python packages are to be able to run it from the notebook\n",
        "sys.path.append(\n",
        "    subprocess.check_output([\"grass\", \"--config\", \"python_path\"], text=True).strip()\n",
        ")"
      ],
      "id": "7ee7e0dd",
      "execution_count": null,
      "outputs": []
    },
    {
      "cell_type": "markdown",
      "metadata": {},
      "source": [
        "Importamos los paquetes de GRASS e iniciamos una sesión:\n"
      ],
      "id": "78592eff"
    },
    {
      "cell_type": "code",
      "metadata": {},
      "source": [
        "# import the GRASS GIS packages we need\n",
        "import grass.script as gs\n",
        "import grass.jupyter as gj\n",
        "\n",
        "# Start the GRASS GIS Session\n",
        "session = gj.init(grassdata, project, mapset)"
      ],
      "id": "825c7101",
      "execution_count": null,
      "outputs": []
    },
    {
      "cell_type": "code",
      "metadata": {},
      "source": [
        "# show current GRASS GIS settings, this also checks if the session works\n",
        "gs.gisenv()"
      ],
      "id": "bec91719",
      "execution_count": null,
      "outputs": []
    },
    {
      "cell_type": "markdown",
      "metadata": {},
      "source": [
        "## Exploramos los datos de NDVI\n",
        "\n",
        "Listar los mapas y obtener información de alguno de ellos\n"
      ],
      "id": "58e7584e"
    },
    {
      "cell_type": "code",
      "metadata": {},
      "source": [
        "# list raster files\n",
        "lista_mapas = gs.list_grouped(type=\"raster\")[\"modis_ndvi\"]\n",
        "lista_mapas[:10]"
      ],
      "id": "daed6d9c",
      "execution_count": null,
      "outputs": []
    },
    {
      "cell_type": "code",
      "metadata": {},
      "source": [
        "#  get info and stats\n",
        "gs.raster_info(map=\"MOD13C2.A2015001.006.single_Monthly_NDVI\")"
      ],
      "id": "1d517436",
      "execution_count": null,
      "outputs": []
    },
    {
      "cell_type": "code",
      "metadata": {},
      "source": [
        "print(gs.read_command(\"r.univar\",\n",
        "                      map=\"MOD13C2.A2015001.006.single_Monthly_NDVI\"))"
      ],
      "id": "08e893b9",
      "execution_count": null,
      "outputs": []
    },
    {
      "cell_type": "markdown",
      "metadata": {},
      "source": [
        ":::{.callout-warning title=\"Tarea\"}\n",
        "- Mostrar los mapas de NDVI, NIR y pixel reliability.\n",
        "- Obtener información sobre los valores mínimos y máximos\n",
        "- ¿Qué se puede decir sobre los valores de cada banda?\n",
        "- ¿Hay valores nulos?\n",
        ":::\n",
        "\n",
        "## Uso de la banda de confiabilidad\n",
        "\n",
        "Definir la región computacional\n"
      ],
      "id": "6614625d"
    },
    {
      "cell_type": "code",
      "metadata": {},
      "source": [
        "# set computational region\n",
        "gs.region_env(vector=\"provincia_cba\",\n",
        "              align=\"MOD13C2.A2015001.006.single_Monthly_NDVI\",\n",
        "              flags=\"p\")"
      ],
      "id": "55e2da57",
      "execution_count": null,
      "outputs": []
    },
    {
      "cell_type": "markdown",
      "metadata": {},
      "source": [
        "Establecer los límites provinciales como máscara\n"
      ],
      "id": "2fef985d"
    },
    {
      "cell_type": "code",
      "metadata": {},
      "source": [
        "# set a MASK to Cba boundary\n",
        "gs.run_command(\"r.mask\",\n",
        "               vector=\"provincia_cba\")"
      ],
      "id": "50326f73",
      "execution_count": null,
      "outputs": []
    },
    {
      "cell_type": "markdown",
      "metadata": {},
      "source": [
        ":::{.callout-warning title=\"Tarea\"}\n",
        "- Leer acerca de la banda de confiabilidad en la [Guía de usuario](https://lpdaac.usgs.gov/documents/103/MOD13_User_Guide_V6.pdf) de MOD13 (pag 27).\n",
        "- Para una misma fecha mapear la banda de confiabilidad y el NDVI.\n",
        "- Seleccionar sólo los pixeles con valor 0 (Buena calidad) en la banda de confiabilidad. ¿Qué se observa?\n",
        ":::\n",
        "\n",
        "Mantener sólo los pixeles de la mejor calidad\n"
      ],
      "id": "4e0c72f6"
    },
    {
      "cell_type": "code",
      "metadata": {},
      "source": [
        "# keep only NDVI most reliable pixels (one map)\n",
        "PR=\"MOD13C2.A2015274.006.single_Monthly_pixel_reliability\"\n",
        "NDVI=\"MOD13C2.A2015274.006.single_Monthly_NDVI\"\n",
        "\n",
        "gs.mapcalc(exp=f\"{NDVI}_filt = if({PR} != 0, null(), {NDVI})\")"
      ],
      "id": "d2173061",
      "execution_count": null,
      "outputs": []
    },
    {
      "cell_type": "code",
      "metadata": {},
      "source": [
        "# plot result\n",
        "ndvi_filt = gj.InteractiveMap(width = 500, tiles=\"OpenStreetMap\")\n",
        "ndvi_filt.add_raster(\"MOD13C2.A2015274.006.single_Monthly_NDVI_filt\")\n",
        "ndvi_filt.show()"
      ],
      "id": "f0c4dd86",
      "execution_count": null,
      "outputs": []
    },
    {
      "cell_type": "markdown",
      "metadata": {},
      "source": [
        "Mantener sólo los pixeles de la mejor calidad para todos los mapas\n"
      ],
      "id": "a4992fb5"
    },
    {
      "cell_type": "code",
      "metadata": {},
      "source": [
        "# list of maps\n",
        "PR = gs.list_grouped(type=\"raster\", \n",
        "                     pattern=\"*_pixel_reliability\")[\"modis_ndvi\"]\n",
        "NDVI = gs.list_grouped(type=\"raster\", \n",
        "                       pattern=\"*_Monthly_NDVI\")[\"modis_ndvi\"]\n",
        "\n",
        "# iterate over the 2 arrays\n",
        "for i,j in zip(PR,NDVI):\n",
        "    print(i, j)\n",
        "    gs.mapcalc(exp=f\"{j}_filt = if({i} != 0, null(), {j})\")"
      ],
      "id": "ad72d63e",
      "execution_count": null,
      "outputs": []
    },
    {
      "cell_type": "markdown",
      "metadata": {},
      "source": [
        ":::{.callout-note}\n",
        "Cómo podrían hacer lo mismo pero usando módulos temporales? Qué les parece [t.rast.algebra](https://grass.osgeo.org/grass-stable/manuals/t.rast.algebra.html)? \n",
        "OJO! Esto requiere primero crear las series de tiempo y registrar los mapas \n",
        "para que funcione!\n"
      ],
      "id": "d139ece4"
    },
    {
      "cell_type": "code",
      "metadata": {},
      "source": [
        "# apply pixel reliability band with t.rast.algebra\n",
        "expression=\"NDVI_monthly_filt = if(pixel_rel_monthly != 0, null(), ndvi_monthly)\"\n",
        "\n",
        "gs.run_command(\"t.rast.algebra\",\n",
        "               expression=expression,\n",
        "               basename=\"ndvi_monthly\",\n",
        "               suffix=\"gran\",\n",
        "               nproc=4)"
      ],
      "id": "579e4079",
      "execution_count": null,
      "outputs": []
    },
    {
      "cell_type": "markdown",
      "metadata": {},
      "source": [
        ":::\n",
        "\n",
        ":::{.callout-warning title=\"Tarea\"}\n",
        "Comparar las estadísticas entre los mapas de NDVI originales y filtrados para la misma fecha\n",
        ":::\n",
        "\n",
        "## Creación de la serie de tiempo\n",
        "\n",
        "Crear STRDS de NDVI\n"
      ],
      "id": "0c91b758"
    },
    {
      "cell_type": "code",
      "metadata": {},
      "source": [
        "# create STRDS\n",
        "gs.run_command(\"t.create\",\n",
        "               type=\"strds\",\n",
        "               temporaltype=\"absolute\",\n",
        "               output=\"ndvi_monthly\",\n",
        "               title=\"Filtered monthly NDVI\",\n",
        "               description=\"Filtered monthly NDVI - MOD13C2 - Cordoba, 2015-2019\")"
      ],
      "id": "975d8fd5",
      "execution_count": null,
      "outputs": []
    },
    {
      "cell_type": "markdown",
      "metadata": {},
      "source": [
        "Corroborar que la STRDS fue creada\n"
      ],
      "id": "74871286"
    },
    {
      "cell_type": "code",
      "metadata": {},
      "source": [
        "# check if it was created\n",
        "gs.read_command(\"t.list\",\n",
        "                type=\"strds\")"
      ],
      "id": "b4bd1724",
      "execution_count": null,
      "outputs": []
    },
    {
      "cell_type": "markdown",
      "metadata": {},
      "source": [
        "Crear archivo con lista de mapas\n"
      ],
      "id": "87467070"
    },
    {
      "cell_type": "code",
      "metadata": {},
      "source": [
        "# list NDVI filtered files\n",
        "NDVI_filt = gs.list_grouped(type=\"raster\", \n",
        "                            pattern=\"*_filt\")[\"modis_ndvi\"]\n",
        "NDVI_filt[:10]"
      ],
      "id": "8617a55a",
      "execution_count": null,
      "outputs": []
    },
    {
      "cell_type": "markdown",
      "metadata": {},
      "source": [
        "Asignar fecha a los mapas, i.e., registrar\n"
      ],
      "id": "6b1d4b5e"
    },
    {
      "cell_type": "code",
      "metadata": {},
      "source": [
        "# register maps\n",
        "gs.run_command(\"t.register\",\n",
        "               input=\"ndvi_monthly\",\n",
        "               maps=NDVI_filt,\n",
        "               start=\"2015-01-01\",\n",
        "               increment=\"1 months\",\n",
        "               flags=\"i\")"
      ],
      "id": "9a16a133",
      "execution_count": null,
      "outputs": []
    },
    {
      "cell_type": "markdown",
      "metadata": {},
      "source": [
        "Imprimir info básica de la STRDS\n"
      ],
      "id": "03e13e9d"
    },
    {
      "cell_type": "code",
      "metadata": {},
      "source": [
        "# print time series info\n",
        "print(gs.read_command(\"t.info\", \n",
        "                      input=\"ndvi_monthly\"))"
      ],
      "id": "45b0c99a",
      "execution_count": null,
      "outputs": []
    },
    {
      "cell_type": "markdown",
      "metadata": {},
      "source": [
        "Imprimir la lista de mapas en la STRDS\n"
      ],
      "id": "18392514"
    },
    {
      "cell_type": "code",
      "metadata": {},
      "source": [
        "# print list of maps in time series\n",
        "print(gs.read_command(\"t.rast.list\", \n",
        "                      input=\"ndvi_monthly\"))"
      ],
      "id": "bb7f6ae1",
      "execution_count": null,
      "outputs": []
    },
    {
      "cell_type": "markdown",
      "metadata": {},
      "source": [
        "También podemos obtener los valores para un único pixel\n"
      ],
      "id": "5c658a90"
    },
    {
      "cell_type": "code",
      "metadata": {},
      "source": [
        "# Get region center coordinates for query \n",
        "gs.region(complete=True)"
      ],
      "id": "82eed7c7",
      "execution_count": null,
      "outputs": []
    },
    {
      "cell_type": "code",
      "metadata": {},
      "source": [
        "# Query map at center coordinates\n",
        "print(gs.read_command(\"t.rast.what\", \n",
        "                      strds=\"s2_ndvi\", \n",
        "                      coordinates=\"637500,221750\", \n",
        "                      layout=\"col\", \n",
        "                      flags=\"n\"))"
      ],
      "id": "d5336b6b",
      "execution_count": null,
      "outputs": []
    },
    {
      "cell_type": "markdown",
      "metadata": {},
      "source": [
        ":::{.callout-warning title=\"Tarea\"}\n",
        "Explorar visualmente los valores de las series temporales en diferentes puntos. \n",
        "Usar [g.gui.tplot](https://grass.osgeo.org/grass-stable/manuals/g.gui.tplot.html) y seleccionar diferentes puntos interactivamente.\n",
        ":::\n",
        "\n",
        "## Datos faltantes\n",
        "\n",
        "Obtener las estadísticas de la serie de tiempo\n"
      ],
      "id": "b8936c4d"
    },
    {
      "cell_type": "code",
      "metadata": {},
      "source": [
        "# How much missing data we have after filtering for pixel reliability?\n",
        "print(gs.read_command(\"t.rast.univar\",\n",
        "                      input=\"ndvi_monthly\"))"
      ],
      "id": "65a683f6",
      "execution_count": null,
      "outputs": []
    },
    {
      "cell_type": "markdown",
      "metadata": {},
      "source": [
        "Contar los datos válidos\n"
      ],
      "id": "dc12a67f"
    },
    {
      "cell_type": "code",
      "metadata": {},
      "source": [
        "# count valid data\n",
        "gs.run_command(\"t.rast.series\",\n",
        "               input=\"ndvi_monthly\",\n",
        "               method=\"count\",\n",
        "               output=\"ndvi_count_valid\")"
      ],
      "id": "0fca0127",
      "execution_count": null,
      "outputs": []
    },
    {
      "cell_type": "markdown",
      "metadata": {},
      "source": [
        "Estimar el porcentaje de datos faltantes\n"
      ],
      "id": "1bbfb709"
    },
    {
      "cell_type": "code",
      "metadata": {},
      "source": [
        "# estimate percentage of missing data\n",
        "gs.mapcalc(exp=\"ndvi_missing = ((60 - ndvi_count_valid) * 100.0)/60\")"
      ],
      "id": "1907200f",
      "execution_count": null,
      "outputs": []
    },
    {
      "cell_type": "markdown",
      "metadata": {},
      "source": [
        "Cómo guardar en una variable el numero de mapas de una serie de tiempo?\n"
      ],
      "id": "f07e17ab"
    },
    {
      "cell_type": "code",
      "metadata": {},
      "source": [
        "n = gs.parse_command(\"t.info\", \n",
        "                     input=\"ndvi_monthly\", \n",
        "                     flags=\"g\")[\"number_of_maps\"]\n",
        "n"
      ],
      "id": "6c2e5995",
      "execution_count": null,
      "outputs": []
    },
    {
      "cell_type": "code",
      "metadata": {},
      "source": [
        "gs.mapcalc(exp=f\"ndvi_missing = (({n} - ndvi_count_valid) * 100.0)/{n}\")"
      ],
      "id": "04bd5db2",
      "execution_count": null,
      "outputs": []
    },
    {
      "cell_type": "markdown",
      "metadata": {},
      "source": [
        ":::{.callout-warning title=\"Tarea\"}\n",
        "- Mostrar el mapa que representa el porcentaje de datos faltantes y explorar \n",
        "los valores. \n",
        "- Obtener estadísticas univariadas de este mapa.\n",
        "- Dónde estan los mayores porcentajes de datos faltantes? Por qué creen que \n",
        "puede ser?\n",
        ":::\n",
        "\n",
        "## Reconstrucción temporal: HANTS\n",
        "\n",
        "- Harmonic Analysis of Time Series (HANTS)\n",
        "- Implementado en la extensión [r.hants](https://grass.osgeo.org/grass-stable/manuals/addons/r.hants.html)\n",
        "\n",
        "![](../assets/img/evi_evi_hants.png){width=\"65%\"}\n",
        "\n",
        "\n",
        "Instalar la extensión *r.hants*\n"
      ],
      "id": "f3c849c9"
    },
    {
      "cell_type": "code",
      "metadata": {},
      "source": [
        "# install extension\n",
        "gs.run_command(\"g.extension\",\n",
        "               extension=\"r.hants\")"
      ],
      "id": "b4290fbb",
      "execution_count": null,
      "outputs": []
    },
    {
      "cell_type": "markdown",
      "metadata": {},
      "source": [
        "Listar los mapas y aplicar r.hants\n"
      ],
      "id": "4cf247f0"
    },
    {
      "cell_type": "code",
      "metadata": {},
      "source": [
        "# list maps\n",
        "maplist = gs.parse_command(\"t.rast.list\",\n",
        "                          input=\"ndvi_monthly\",\n",
        "                          columns=\"name\",\n",
        "                          method=\"comma\",\n",
        "                          flags=\"u\")\n",
        "maplist = list(maplist.keys())"
      ],
      "id": "65cf5ae6",
      "execution_count": null,
      "outputs": []
    },
    {
      "cell_type": "code",
      "metadata": {},
      "source": [
        "# gapfill: r.hants\n",
        "gs.run_command(\"r.hants\",\n",
        "               input=maplist,\n",
        "               range=[-2000,10000],\n",
        "               nf=5,\n",
        "               fet=500,\n",
        "               base_period=12)"
      ],
      "id": "8ffe1731",
      "execution_count": null,
      "outputs": []
    },
    {
      "cell_type": "code",
      "metadata": {},
      "source": [
        "# list filled maps\n",
        "gs.list_grouped(type=\"raster\",\n",
        "                pattern=\"*hants\")[\"modis_ndvi\"]"
      ],
      "id": "c5d5e58a",
      "execution_count": null,
      "outputs": []
    },
    {
      "cell_type": "markdown",
      "metadata": {},
      "source": [
        ":::{.callout-warning title=\"Tarea\"}\n",
        "Probar diferentes ajustes de parámetros en\n",
        "[r.hants](https://grass.osgeo.org/grass-stable/manuals/addons/r.hants.html) y \n",
        "comparar los resultados\n",
        ":::\n",
        "\n",
        "Parcheo de serie original y reconstruída\n"
      ],
      "id": "fc48ffcc"
    },
    {
      "cell_type": "code",
      "metadata": {},
      "source": [
        "# patch original with filled (one map)\n",
        "NDVI_ORIG = \"MOD13C2.A2015001.006.single_Monthly_NDVI_filt\"\n",
        "NDVI_HANTS = \"MOD13C2.A2015001.006.single_Monthly_NDVI_filt_hants\"\n",
        "\n",
        "gs.run_command(\"r.patch\",\n",
        "               input=[NDVI_ORIG, NDVI_HANTS],\n",
        "               output=f\"{NDVI_HANTS}_patch\")"
      ],
      "id": "e55dc383",
      "execution_count": null,
      "outputs": []
    },
    {
      "cell_type": "markdown",
      "metadata": {},
      "source": [
        "Parcheo de serie original y reconstruída\n"
      ],
      "id": "b08e1371"
    },
    {
      "cell_type": "code",
      "metadata": {},
      "source": [
        "# list of maps\n",
        "ORIG = gs.list_grouped(type=\"raster\",\n",
        "                     pattern=\"*_filt\")[\"modis_ndvi\"]\n",
        "FILL = gs.list_grouped(type=\"raster\",\n",
        "                       pattern=\"*_hants\")[\"modis_ndvi\"]"
      ],
      "id": "186305e6",
      "execution_count": null,
      "outputs": []
    },
    {
      "cell_type": "code",
      "metadata": {},
      "source": [
        "# patching\n",
        "for i,j in zip(ORIG,FILL):\n",
        "    print(i, j)\n",
        "    out=f\"{j}_patch\"\n",
        "    gs.run_command(\"r.patch\",\n",
        "                   input=[i, j],\n",
        "                   output=out)"
      ],
      "id": "1b6e75dc",
      "execution_count": null,
      "outputs": []
    },
    {
      "cell_type": "markdown",
      "metadata": {},
      "source": [
        "Crear serie de tiempo con los datos parcheados\n"
      ],
      "id": "a03e5666"
    },
    {
      "cell_type": "code",
      "metadata": {},
      "source": [
        "# create new time series \n",
        "gs.run_command(\"t.create\",\n",
        "               output=\"ndvi_monthly_patch\",\n",
        "               type=\"strds\",\n",
        "               temporaltype=\"absolute\",\n",
        "               title=\"Patched monthly NDVI\",\n",
        "               description=\"Filtered, gap-filled and patched monthly NDVI - MOD13C2 - Cordoba, 2015-2019\")"
      ],
      "id": "c84e9995",
      "execution_count": null,
      "outputs": []
    },
    {
      "cell_type": "markdown",
      "metadata": {},
      "source": [
        "Registrar los mapas en la serie de tiempo\n"
      ],
      "id": "1ac3497f"
    },
    {
      "cell_type": "code",
      "metadata": {},
      "source": [
        "# list NDVI patched files\n",
        "patched_maps = gs.list_grouped(type=\"raster\",\n",
        "                               pattern=\"*patch\")[\"modis_ndvi\"]\n",
        "patched_maps[:5]"
      ],
      "id": "6bb16cda",
      "execution_count": null,
      "outputs": []
    },
    {
      "cell_type": "code",
      "metadata": {},
      "source": [
        "# register maps\n",
        "gs.run_command(\"t.register\",\n",
        "               flags=\"i\",\n",
        "               input=\"ndvi_monthly_patch\",\n",
        "               type=\"raster\",\n",
        "               maps=patched_maps,\n",
        "               start=\"2015-01-01\",\n",
        "               increment=\"1 months\")"
      ],
      "id": "d35a8868",
      "execution_count": null,
      "outputs": []
    },
    {
      "cell_type": "markdown",
      "metadata": {},
      "source": [
        "Imprimir información de la serie de tiempo\n"
      ],
      "id": "2c34b6a4"
    },
    {
      "cell_type": "code",
      "metadata": {},
      "source": [
        "# print time series info\n",
        "print(gs.read_command(\"t.info\", \n",
        "                      input=\"ndvi_monthly_patch\"))"
      ],
      "id": "76206082",
      "execution_count": null,
      "outputs": []
    },
    {
      "cell_type": "markdown",
      "metadata": {},
      "source": [
        ":::{.callout-warning title=\"Tarea\"}\n",
        "- Evaluar gráficamente los resultados de la reconstrucción de HANTS en pixeles con mayor porcentaje de datos faltantes \n",
        "- Obtener estadísticas univariadas para las nuevas series temporales\n",
        ":::\n",
        "\n",
        "![](https://www.mdpi.com/remotesensing/remotesensing-09-01333/article_deploy/html/images/remotesensing-09-01333-ag.png)\n",
        "\n",
        ":::{.callout-warning title=\"Tarea\"}\n",
        "- Ver la sección de métodos en @metz_new_2017 \n",
        "- Qué otros algoritmos existen o qué otra aproximación podría seguirse?\n",
        ":::\n",
        "\n",
        "## Agregación con granularidad\n",
        "\n",
        ":::{.callout-warning title=\"Tarea\"}\n",
        "- Obtener el promedio de NDVI cada dos meses\n",
        "- Visualizar la serie de tiempo resultante con `TimeSeriesMap`\n",
        ":::\n",
        "\n",
        "## Indicadores de fenología\n",
        "\n",
        "### Fecha de ocurrencia de máximos y mínimos\n",
        "\n",
        "Identificamos primero los máximos y mínimos de la serie, luego reemplazamos \n",
        "con `start_month()` los valores en la STRDS si coinciden con el mínimo o \n",
        "máximo global y finalmente obtenemos el primer mes en el que aparecieron \n",
        "el máximo y el mínimo.\n"
      ],
      "id": "73770ded"
    },
    {
      "cell_type": "code",
      "metadata": {},
      "source": [
        "methods = [\"maximum\",\"minimum\"]\n",
        "\n",
        "for me in methods:\n",
        "    # get maximum and minimum\n",
        "    gs.run_command(\"t.rast.series\",\n",
        "                   input=\"ndvi_monthly_patch\",\n",
        "                   method=me,\n",
        "                   output=f\"ndvi_{me}\")\n",
        "    # get month of maximum and minimum\n",
        "    gs.run_command(\"t.rast.mapcalc\",\n",
        "                   inputs=\"ndvi_monthly_patch\",\n",
        "                   output=f\"month_{me}_ndvi\",\n",
        "                   expression=f\"if(ndvi_monthly_patch == ndvi_{me}, start_month(), null())\",\n",
        "                   basename=f\"month_{me}_ndvi\")\n",
        "    # get the earliest month in which the maximum and minimum appeared\n",
        "    gs.run_command(\"t.rast.series\",\n",
        "                   input=f\"month_{me}_ndvi\",\n",
        "                   method=\"minimum\",\n",
        "                   output=f\"earliest_month_{me}_ndvi\")\n",
        "    # remove intermediate strds \n",
        "    gs.run_command(\"t.remove\",\n",
        "                   flags=\"rfd\",\n",
        "                   inputs=f\"month_{me}_ndvi\")"
      ],
      "id": "ab35ecc5",
      "execution_count": null,
      "outputs": []
    },
    {
      "cell_type": "markdown",
      "metadata": {},
      "source": [
        ":::{.callout-warning title=\"Tarea\"}\n",
        "- Mostrar los mapas resultantes con `InteractiveMap`\n",
        "- Cuándo se observan los mínimos y máximos? Hay algun patrón? A qué se podría deber?\n",
        ":::\n",
        "\n",
        ":::{.callout-warning title=\"Tarea\"}\n",
        "- Asociar el máximo de LST con el máximo de NDVI y, la fecha de la máxima LST con la fecha del máximo NDVI\n",
        "- Agregar el mapset `modis_lst` a los mapsets accesibles.\n",
        "- Ver el módulo [r.covar](https://grass.osgeo.org/grass-stable/manuals/r.covar.html)\n",
        ":::\n",
        "\n",
        "### Tasa de crecimiento\n",
        "\n",
        "Obtener series temporales de pendientes entre mapas consecutivos\n"
      ],
      "id": "aefd0fd2"
    },
    {
      "cell_type": "code",
      "metadata": {},
      "source": [
        "# time series of slopes\n",
        "expression = \"slope_ndvi = (ndvi_monthly_patch[1] - ndvi_monthly_patch[0]) / td(ndvi_monthly_patch)\"\n",
        "\n",
        "gs.run_command(\"t.rast.algebra\", \n",
        "               expression=expression,\n",
        "               basename=\"slope_ndvi\",\n",
        "               suffix=\"gran\")"
      ],
      "id": "875adb45",
      "execution_count": null,
      "outputs": []
    },
    {
      "cell_type": "markdown",
      "metadata": {},
      "source": [
        "Obtener la máxima pendiente por año\n"
      ],
      "id": "e009089f"
    },
    {
      "cell_type": "code",
      "metadata": {},
      "source": [
        "# get max slope per year\n",
        "gs.run_command(\"t.rast.aggregate\",\n",
        "               input=\"slope_ndvi\",\n",
        "               output=\"ndvi_slope_yearly\",\n",
        "               basename=\"NDVI_max_slope_year\",\n",
        "               suffix=\"gran\",\n",
        "               method=\"maximum\",\n",
        "               granularity=\"1 years\")"
      ],
      "id": "c969c64c",
      "execution_count": null,
      "outputs": []
    },
    {
      "cell_type": "markdown",
      "metadata": {},
      "source": [
        ":::{.callout-warning title=\"Tarea\"}\n",
        "- Obtener un mapa con la mayor tasa de crecimiento por píxel en el período 2015-2019\n",
        "- Qué modulo usarían?\n",
        ":::\n",
        "\n",
        "### Período de crecimiento\n",
        "\n",
        "Instalar la extensión *r.seasons*\n"
      ],
      "id": "8a8f8021"
    },
    {
      "cell_type": "code",
      "metadata": {},
      "source": [
        "# install extension\n",
        "gs.run_command(\"g.extension\",\n",
        "               extension=\"r.seasons\")"
      ],
      "id": "02dea969",
      "execution_count": null,
      "outputs": []
    },
    {
      "cell_type": "markdown",
      "metadata": {},
      "source": [
        "Determinar el comienzo, el final y la duración del período de crecimiento\n"
      ],
      "id": "19c950d9"
    },
    {
      "cell_type": "code",
      "metadata": {},
      "source": [
        "# start, end and length of growing season\n",
        "gs.run_command(\"r.seasons\",\n",
        "               input=patched_maps,\n",
        "               prefix=\"ndvi_season\",\n",
        "               n=3,\n",
        "               nout=\"ndvi_season\",\n",
        "               threshold_value=3000,\n",
        "               min_length=5)"
      ],
      "id": "c47946fc",
      "execution_count": null,
      "outputs": []
    },
    {
      "cell_type": "markdown",
      "metadata": {},
      "source": [
        ":::{.callout-warning title=\"Tarea\"}\n",
        "- Qué nos dice cada mapa? Dónde es más larga la estación de crecimiento?\n",
        "- Exportar los mapas resultantes como .png\n",
        ":::\n",
        "\n",
        "Crear un mapa de umbrales para usar en *r.seasons*\n"
      ],
      "id": "9689491e"
    },
    {
      "cell_type": "code",
      "metadata": {},
      "source": [
        "# create a threshold map: min ndvi + 0.1*ndvi\n",
        "gs.mapcalc(exp=\"threshold_ndvi = ndvi_min * 1.1\")"
      ],
      "id": "17cb4e44",
      "execution_count": null,
      "outputs": []
    },
    {
      "cell_type": "markdown",
      "metadata": {},
      "source": [
        ":::{.callout-warning title=\"Tarea\"}\n",
        "Utilizar el mapa de umbrales en [r.seasons](https://grass.osgeo.org/grass-stable/manuals/addons/r.seasons.html) y comparar los mapas de salida con los resultados de utilizar sólo un valor de umbral\n",
        ":::\n",
        "\n",
        "## Serie de tiempo de NDWI\n",
        "\n",
        "Listas de mapas de reflectancia\n"
      ],
      "id": "ea457946"
    },
    {
      "cell_type": "code",
      "metadata": {},
      "source": [
        "list_nir = gs.list_grouped(type=\"raster\", \n",
        "                           pattern=\"*NIR*\")[\"modis_ndvi\"]\n",
        "list_mir = gs.list_grouped(type=\"raster\", \n",
        "                           pattern=\"*MIR*\")[\"modis_ndvi\"]\n",
        "\n",
        "len(list_nir,list_mir)"
      ],
      "id": "939bb9c3",
      "execution_count": null,
      "outputs": []
    },
    {
      "cell_type": "markdown",
      "metadata": {},
      "source": [
        "Asignamos *semantic labels* correspondientes a las bandas\n"
      ],
      "id": "0bffed1b"
    },
    {
      "cell_type": "code",
      "metadata": {},
      "source": [
        "# asign semantic labels to NIR and MIR maps\n",
        "for i in list_nir:\n",
        "    gs.run_command(\"r.support\",\n",
        "                   map=i,\n",
        "                   semantic_label=\"nir\")\n",
        "\n",
        "for i in list_mir:\n",
        "    gs.run_command(\"r.support\",\n",
        "                   map=i,\n",
        "                   semantic_label=\"mir\")"
      ],
      "id": "3b1e7d0c",
      "execution_count": null,
      "outputs": []
    },
    {
      "cell_type": "code",
      "metadata": {},
      "source": [
        "# check\n",
        "gs.raster_info(\"MOD13C2.A2015001.006.single_Monthly_MIR_reflectance\")[\"semantic_label\"]"
      ],
      "id": "4d2bd540",
      "execution_count": null,
      "outputs": []
    },
    {
      "cell_type": "markdown",
      "metadata": {},
      "source": [
        "Crear series temporales de NIR y MIR\n"
      ],
      "id": "b56758d8"
    },
    {
      "cell_type": "code",
      "metadata": {},
      "source": [
        "# create time series of NIR and MIR altogether\n",
        "gs.run_command(\"t.create\",\n",
        "               output=\"modis_surf\",\n",
        "               type=\"strds\",\n",
        "               temporaltype=\"absolute\",\n",
        "               title=\"Monthly surface reflectance, NIR and MIR\",\n",
        "               description=\"NIR and MIR monthly - MOD13C2 - 2015-2019\")"
      ],
      "id": "467375dc",
      "execution_count": null,
      "outputs": []
    },
    {
      "cell_type": "markdown",
      "metadata": {},
      "source": [
        "Registrar mapas\n"
      ],
      "id": "7af1ab56"
    },
    {
      "cell_type": "code",
      "metadata": {},
      "source": [
        "# register maps\n",
        "gs.run_command(\"t.register\",\n",
        "               input=\"modis_surf\",\n",
        "               maps=list_nir,\n",
        "               start=\"2015-01-01\",\n",
        "               increment=\"1 months\",\n",
        "               flags=\"i\")\n",
        "\n",
        "gs.run_command(\"t.register\",\n",
        "               input=\"modis_surf\",\n",
        "               maps=list_mir,\n",
        "               start=\"2015-01-01\",\n",
        "               increment=\"1 months\",\n",
        "               flags=\"i\")"
      ],
      "id": "1259ef3d",
      "execution_count": null,
      "outputs": []
    },
    {
      "cell_type": "markdown",
      "metadata": {},
      "source": [
        "Imprimir información de la serie de tiempo\n"
      ],
      "id": "15a717af"
    },
    {
      "cell_type": "code",
      "metadata": {},
      "source": [
        "# print time series info\n",
        "print(gs.read_command(\"t.info\", \n",
        "                      input=\"modis_surf\"))"
      ],
      "id": "a5b1b20a",
      "execution_count": null,
      "outputs": []
    },
    {
      "cell_type": "code",
      "metadata": {},
      "source": [
        "# List only NIR maps\n",
        "print(gs.read_command(\"t.rast.list\", \n",
        "                      input=\"modis_surf.nir\", \n",
        "                      columns=\"name,semantic_label\"))"
      ],
      "id": "53a90eab",
      "execution_count": null,
      "outputs": []
    },
    {
      "cell_type": "markdown",
      "metadata": {},
      "source": [
        "Estimación de la serie temporal de NDWI\n"
      ],
      "id": "70113403"
    },
    {
      "cell_type": "code",
      "metadata": {},
      "source": [
        "# extract nir and mir strds\n",
        "sls = [\"nir\", \"mir\"]\n",
        "\n",
        "for sl in sls:\n",
        "    gs.run_command(\"t.rast.extract\",\n",
        "                   input=\"modis_surf\",\n",
        "                   where=f\"semantic_label == '{sl}'\",\n",
        "                   output=sl)"
      ],
      "id": "c0da0cf4",
      "execution_count": null,
      "outputs": []
    },
    {
      "cell_type": "code",
      "metadata": {},
      "source": [
        "# estimate NDWI time series\n",
        "expression=\"ndwi_monthly = if(nir > 0 && mir > 0, (float(nir - mir) / float(nir + mir)), null())\"\n",
        "\n",
        "gs.run_command(\"t.rast.algebra\",\n",
        "               basename=\"ndwi_monthly\",\n",
        "               expression=expression,\n",
        "               suffix=\"gran\",\n",
        "               flags=\"n\")"
      ],
      "id": "8328b02b",
      "execution_count": null,
      "outputs": []
    },
    {
      "cell_type": "code",
      "metadata": {},
      "source": [
        "# estimate NDWI time series\n",
        "#gs.run_command(\"t.rast.mapcalc\", \n",
        "#               inputs=\"modis_surf.mir,modis_surf.nir\", \n",
        "#               output=\"ndwi_monthly\", \n",
        "#               basename=\"ndwi\",\n",
        "#               expression=\"float(modis_surf.nir - modis_surf.mir) / (modis_surf.nir + modis_surf.mir)\")"
      ],
      "id": "1800850d",
      "execution_count": null,
      "outputs": []
    },
    {
      "cell_type": "code",
      "metadata": {},
      "source": [
        "gs.run_command(\"t.rast.colors\", \n",
        "               input=\"ndwi_monthly\", \n",
        "               color=\"ndwi\")"
      ],
      "id": "3b51ab98",
      "execution_count": null,
      "outputs": []
    },
    {
      "cell_type": "code",
      "metadata": {},
      "source": [
        "print(gs.read_command(\"t.info\", \n",
        "                      input=\"ndwi_monthly\"))"
      ],
      "id": "a8cc4fd7",
      "execution_count": null,
      "outputs": []
    },
    {
      "cell_type": "markdown",
      "metadata": {},
      "source": [
        ":::{.callout-warning title=\"Tarea\"}\n",
        "Obtener valores máximos y mínimos para cada mapa de NDWI y explorar el trazado de la serie de tiempo en diferentes puntos de forma interactiva\n",
        "\n",
        "Ver el manual de [t.rast.univar](https://grass.osgeo.org/grass-stable/manuals/t.rast.univar.html)\n",
        ":::\n",
        "\n",
        "### Frecuencia de inundación\n",
        "\n",
        "Reclasificar los mapas según un umbral\n"
      ],
      "id": "9938e22a"
    },
    {
      "cell_type": "code",
      "metadata": {},
      "source": [
        "# reclassify\n",
        "gs.run_command(\"t.rast.mapcalc\",\n",
        "               input=\"ndwi_monthly\",\n",
        "               output=\"flood\",\n",
        "               basename=\"flood\",\n",
        "               expression=\"if(ndwi_monthly > 0.8, 1, null())\",\n",
        "               flags=\"n\")"
      ],
      "id": "77aa5127",
      "execution_count": null,
      "outputs": []
    },
    {
      "cell_type": "markdown",
      "metadata": {},
      "source": [
        "Obtener frecuencia de inundación\n"
      ],
      "id": "045bba45"
    },
    {
      "cell_type": "code",
      "metadata": {},
      "source": [
        "# flooding frequency\n",
        "gs.run_command(\"t.rast.series\",\n",
        "               input=\"flood\",\n",
        "               output=\"flood_freq\",\n",
        "               method=\"sum\")"
      ],
      "id": "456d264f",
      "execution_count": null,
      "outputs": []
    },
    {
      "cell_type": "markdown",
      "metadata": {},
      "source": [
        ":::{.callout-warning title=\"Tarea\"}\n",
        "Cuáles son las áreas que se han inundado con más frecuencia?\n",
        ":::\n",
        "\n",
        "## Regresión NDVI-NDWI\n",
        "\n",
        "Instalar la extensión *r.regression.series*\n"
      ],
      "id": "26cb0699"
    },
    {
      "cell_type": "code",
      "metadata": {},
      "source": [
        "# install extension\n",
        "gs.run_command(\"g.extension\",\n",
        "               extension=\"r.regression.series\")"
      ],
      "id": "222beb84",
      "execution_count": null,
      "outputs": []
    },
    {
      "cell_type": "markdown",
      "metadata": {},
      "source": [
        "Realizar una regresión entre las series temporales de NDVI y NDWI\n"
      ],
      "id": "ea35dd80"
    },
    {
      "cell_type": "code",
      "metadata": {},
      "source": [
        "xseries = patched_maps[1:]\n",
        "yseries = gs.list_grouped(type=\"raster\",\n",
        "                          pattern=\"ndwi_monthly*\")[\"modis_ndvi\"]\n",
        "\n",
        "gs.run_command(\"r.regression.series\",\n",
        "               xseries=xseries,\n",
        "               yseries=yseries,\n",
        "               output=\"ndvi_ndwi_rsq\",\n",
        "               method=\"rsq\")"
      ],
      "id": "d641e361",
      "execution_count": null,
      "outputs": []
    },
    {
      "cell_type": "code",
      "metadata": {},
      "source": [
        "rsq = gj.InteractiveMap(width = 400, use_region=True)\n",
        "rsq.add_raster(\"ndvi_ndwi_rsq\", opacity=0.8)\n",
        "rsq.add_layer_control(position = \"bottomright\")\n",
        "rsq.show()"
      ],
      "id": "f91c3e4c",
      "execution_count": null,
      "outputs": []
    },
    {
      "cell_type": "markdown",
      "metadata": {},
      "source": [
        ":::{.callout-warning title=\"Tarea\"}\n",
        "Determinar dónde está la mayor correlación entre NDVI y NDWI\n",
        ":::\n",
        "\n",
        "## Recursos (muy) útiles \n",
        "\n",
        "- [Temporal data processing wiki](https://grasswiki.osgeo.org/wiki/Temporal_data_processing)\n",
        "- [GRASS GIS and R for time series processing wiki](https://grasswiki.osgeo.org/wiki/Temporal_data_processing/GRASS_R_raster_time_series_processing)\n",
        "- [GRASS GIS temporal workshop at NCSU](http://ncsu-geoforall-lab.github.io/grass-temporal-workshop/)\n",
        "- [GRASS GIS course IRSAE 2018](http://training.gismentors.eu/grass-gis-irsae-winter-course-2018/index.html)\n",
        "- [GRASS GIS workshop held in Jena 2023](https://training.gismentors.eu/grass-gis-workshop-jena/)\n",
        "\n",
        "## Referencias\n",
        "\n",
        "::: {#refs .tiny}\n",
        ":::\n"
      ],
      "id": "59a21784"
    }
  ],
  "metadata": {
    "kernelspec": {
      "name": "python3",
      "language": "python",
      "display_name": "Python 3 (ipykernel)"
    }
  },
  "nbformat": 4,
  "nbformat_minor": 5
}