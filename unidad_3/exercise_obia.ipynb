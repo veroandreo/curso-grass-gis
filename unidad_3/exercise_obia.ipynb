{
  "cells": [
    {
      "cell_type": "raw",
      "metadata": {},
      "source": [
        "---\n",
        "title: 'Ejercicio: OBIA en GRASS GIS'\n",
        "author: Verónica Andreo\n",
        "date: today\n",
        "format:\n",
        "  html:\n",
        "    code-tools: true\n",
        "    code-copy: true\n",
        "    code-fold: false\n",
        "execute:\n",
        "  eval: false\n",
        "  cache: false\n",
        "  keep-ipynb: true\n",
        "---"
      ],
      "id": "8652b84e"
    },
    {
      "cell_type": "markdown",
      "metadata": {},
      "source": [
        "En este ejercicio vamos a ejemplificar el flujo de trabajo para realizar una\n",
        "clasificación supervisada basada en objetos con datos SPOT. \n",
        "\n",
        "\n",
        "# Datos para esta sesión\n",
        "\n",
        ":::: columns\n",
        ":::{.column width=\"60%\"}\n",
        "![](../assets/img/obia_region.png)\n",
        ":::\n",
        "\n",
        ":::{.column width=\"40%\"}\n",
        "- [SPOT 6](https://www.eoportal.org/satellite-missions/spot-6-7)\n",
        "- Canales VIS - NIR (6 m)\n",
        "- Canal PAN (1.5 m)\n",
        "- Datos ya corregidos y fusionados; resolución 1.5 m\n",
        ":::\n",
        "::::\n",
        "\n",
        "# Manos a la obra\n",
        "\n",
        "## Iniciamos GRASS GIS\n",
        "\n",
        "Iniciamos GRASS GIS en el proyecto *posgar2007_4_cba* y mapset *PERMANENT*.\n"
      ],
      "id": "9e99c981"
    },
    {
      "cell_type": "code",
      "metadata": {},
      "source": [
        "import os\n",
        "\n",
        "# data directory\n",
        "homedir = os.path.expanduser('~')\n",
        "\n",
        "# GRASS GIS database variables\n",
        "grassdata = os.path.join(homedir, \"grassdata\")\n",
        "project='posgar2007_4_cba'\n",
        "mapset='PERMANENT'"
      ],
      "id": "09cdb2db",
      "execution_count": null,
      "outputs": []
    },
    {
      "cell_type": "code",
      "metadata": {},
      "source": [
        "# import standard Python packages we need\n",
        "import subprocess\n",
        "import sys\n",
        "\n",
        "# ask GRASS GIS where its Python packages are to be able to start it from the notebook\n",
        "sys.path.append(\n",
        "    subprocess.check_output([\"grass\", \"--config\", \"python_path\"], text=True).strip()\n",
        ")"
      ],
      "id": "ff824bc9",
      "execution_count": null,
      "outputs": []
    },
    {
      "cell_type": "code",
      "metadata": {},
      "source": [
        "# import the GRASS GIS packages we need\n",
        "import grass.script as gs\n",
        "import grass.jupyter as gj\n",
        "\n",
        "# start the GRASS GIS Session\n",
        "session = gj.init(grassdata, project, mapset)"
      ],
      "id": "70f58876",
      "execution_count": null,
      "outputs": []
    },
    {
      "cell_type": "markdown",
      "metadata": {},
      "source": [
        ":::{.callout-warning title=\"Tarea\"}\n",
        "- Crear un mapset llamado *`obia_spot`* e importar allí las bandas VIS-NIR y PAN de la imagen SPOT con reproyección al vuelo y resolución espacial de 1.5 m.\n",
        "- Alinear la región computacional a la extensión y resolución de alguna de las bandas importadas.\n",
        "- Hacer una ecualización de histograma para mejorar el contraste de visualización.\n",
        "- Mostrar la combinación RGB color natural (1: azul, 2: verde, 3: rojo, 4: NIR).\n",
        ":::\n",
        "\n",
        "## Importar datos y visualizar\n",
        "\n",
        "Creamos el mapset *obia_spot*.\n"
      ],
      "id": "0c827bfe"
    },
    {
      "cell_type": "code",
      "metadata": {},
      "source": [
        "# Create a new mapset\n",
        "gs.run_command(\"g.mapset\",\n",
        "               mapset=\"obia_spot\",\n",
        "               flags=\"c\")"
      ],
      "id": "b3ec9588",
      "execution_count": null,
      "outputs": []
    },
    {
      "cell_type": "markdown",
      "metadata": {},
      "source": [
        "Una vez creado el mapset, procedemos con la importación de datos. Empezamos por las bandas multi-espectrales.\n"
      ],
      "id": "c7285c1a"
    },
    {
      "cell_type": "code",
      "metadata": {},
      "source": [
        "spot_data = os.path.join(homedir, \"gisdata\", \"spot_data\")"
      ],
      "id": "461997fa",
      "execution_count": null,
      "outputs": []
    },
    {
      "cell_type": "code",
      "metadata": {},
      "source": [
        "# import pansharpened SPOT data\n",
        "gs.run_command(\"r.import\",\n",
        "               input=os.path.join(spot_data, \"SPOT_20180621_PANSHARP_p.tif\"),\n",
        "               output=\"SPOT_20180621_PANSHARP\",\n",
        "               resolution=\"value\",\n",
        "               resolution_value=1.5)"
      ],
      "id": "93e5c595",
      "execution_count": null,
      "outputs": []
    },
    {
      "cell_type": "markdown",
      "metadata": {},
      "source": [
        "Importamos también la banda pancromática.\n"
      ],
      "id": "1428d91c"
    },
    {
      "cell_type": "code",
      "metadata": {},
      "source": [
        "# import SPOT PAN band\n",
        "gs.run_command(\"r.import\",\n",
        "               input=os.path.join(spot_data, \"SPOT_20180621_PAN.tif\"),\n",
        "               output=\"SPOT_20180621_PAN\",\n",
        "               resolution=\"value\",\n",
        "               resolution_value=1.5)"
      ],
      "id": "9214d8aa",
      "execution_count": null,
      "outputs": []
    },
    {
      "cell_type": "markdown",
      "metadata": {},
      "source": [
        "Chequeamos la lista de mapas raster en el mapset.\n"
      ],
      "id": "f6b85621"
    },
    {
      "cell_type": "code",
      "metadata": {},
      "source": [
        "gs.list_grouped(type=\"raster\")[\"obia_spot\"]"
      ],
      "id": "e9c3456b",
      "execution_count": null,
      "outputs": []
    },
    {
      "cell_type": "markdown",
      "metadata": {},
      "source": [
        "Establecemos la región computacional a una de las bandas importadas, de modo que límites y resolución de la región queden alineados a los datos importados.\n"
      ],
      "id": "4df406e2"
    },
    {
      "cell_type": "code",
      "metadata": {},
      "source": [
        "# align region to one of the raster bands\n",
        "gs.run_command(\"g.region\",\n",
        "               raster=\"SPOT_20180621_PANSHARP.1\",\n",
        "               flags=\"p\")"
      ],
      "id": "56e16c73",
      "execution_count": null,
      "outputs": []
    },
    {
      "cell_type": "markdown",
      "metadata": {},
      "source": [
        "Establecemos *grey* como paleta de colores para las bandas RGB, para poder realizar la composición color natural posteriormente.\n"
      ],
      "id": "8c9cb4ba"
    },
    {
      "cell_type": "code",
      "metadata": {},
      "source": [
        "# apply grey color to RGB bands\n",
        "gs.run_command(\"r.colors\", \n",
        "               map=\"SPOT_20180621_PANSHARP.1,SPOT_20180621_PANSHARP.2,SPOT_20180621_PANSHARP.3\",\n",
        "               color=\"grey\")"
      ],
      "id": "df054d45",
      "execution_count": null,
      "outputs": []
    },
    {
      "cell_type": "markdown",
      "metadata": {},
      "source": [
        "Primero, hacemos la ecualización de colores para mejorar la visualización.\n"
      ],
      "id": "3018fa32"
    },
    {
      "cell_type": "code",
      "metadata": {},
      "source": [
        "# perform color auto-balancing for RGB bands\n",
        "gs.run_command(\"i.colors.enhance\", \n",
        "               red=\"SPOT_20180621_PANSHARP.3\",\n",
        "               green=\"SPOT_20180621_PANSHARP.2\", \n",
        "               blue=\"SPOT_20180621_PANSHARP.1\",\n",
        "               strength=95)"
      ],
      "id": "2d98f0c6",
      "execution_count": null,
      "outputs": []
    },
    {
      "cell_type": "markdown",
      "metadata": {},
      "source": [
        "Visualizamos la composición RGB 321 color natural.\n"
      ],
      "id": "3d3f9a2e"
    },
    {
      "cell_type": "code",
      "metadata": {},
      "source": [
        "# display the enhanced RGB combination\n",
        "cba_rgb = gj.Map(use_region=False)\n",
        "cba_rgb.d_rgb(red=\"SPOT_20180621_PANSHARP.3\",\n",
        "              green=\"SPOT_20180621_PANSHARP.2\",\n",
        "              blue=\"SPOT_20180621_PANSHARP.1\")\n",
        "cba_rgb.d_grid(size=2000, flags=\"b\")\n",
        "cba_rgb.show()"
      ],
      "id": "b54c247e",
      "execution_count": null,
      "outputs": []
    },
    {
      "cell_type": "markdown",
      "metadata": {},
      "source": [
        "## Hay valores nulos?\n",
        "\n",
        "En la cadena de procesamiento que vamos a realizar, especialmente en los pasos de segmentación, no se admiten valores nulos en los mapas de entrada. Así que, como primer paso antes de proceder, chequeamos la estadística univariada para saber si hay valores nuelos en nuestros mapas.\n"
      ],
      "id": "020210f6"
    },
    {
      "cell_type": "code",
      "metadata": {},
      "source": [
        "# one band\n",
        "print(gs.read_command(\"r.univar\",\n",
        "                      map=\"SPOT_20180621_PANSHARP.2\"))"
      ],
      "id": "714de44c",
      "execution_count": null,
      "outputs": []
    },
    {
      "cell_type": "code",
      "metadata": {},
      "source": [
        "# bands list\n",
        "pansharp = gs.list_grouped(type=\"raster\",\n",
        "                           pattern=\"*PANSHARP*\")[\"obia_spot\"]\n",
        "pansharp"
      ],
      "id": "a68f416c",
      "execution_count": null,
      "outputs": []
    },
    {
      "cell_type": "code",
      "metadata": {},
      "source": [
        "# joint stats for all the bands\n",
        "print(gs.read_command(\"r.univar\",\n",
        "                      map=pansharp))"
      ],
      "id": "f5af9580",
      "execution_count": null,
      "outputs": []
    },
    {
      "cell_type": "markdown",
      "metadata": {},
      "source": [
        ":::{.callout-important}\n",
        "Si hubiera valores nulos, se deben rellenar antes de comenzar! Qué herramientas podríamos utilizar?\n",
        ":::\n",
        "\n",
        "## Índices espectrales y texturas GLCM\n",
        "\n",
        "Como ya hicimos en los ejercicios anteriores, estimamos índices espectrales de vegetación y agua. \n"
      ],
      "id": "6633a779"
    },
    {
      "cell_type": "code",
      "metadata": {},
      "source": [
        "# estimate vegetation index\n",
        "gs.run_command(\"i.vi\", \n",
        "               red=\"SPOT_20180621_PANSHARP.3\", \n",
        "               nir=\"SPOT_20180621_PANSHARP.4\", \n",
        "               output=\"SPOT_20180621_NDVI\", \n",
        "               viname=\"ndvi\")"
      ],
      "id": "91a251dd",
      "execution_count": null,
      "outputs": []
    },
    {
      "cell_type": "code",
      "metadata": {},
      "source": [
        "# estimate water index\n",
        "gs.run_command(\"i.wi\", \n",
        "               green=\"SPOT_20180621_PANSHARP.2\", \n",
        "               nir=\"SPOT_20180621_PANSHARP.4\", \n",
        "               output=\"SPOT_20180621_NDWI\", \n",
        "               winame=\"ndwi_mf\")"
      ],
      "id": "7e917153",
      "execution_count": null,
      "outputs": []
    },
    {
      "cell_type": "code",
      "metadata": {},
      "source": [
        "# set ndwi color palette\n",
        "gs.run_command(\"r.colors\", \n",
        "               map=\"SPOT_20180621_NDWI\", \n",
        "               color=\"ndwi\")"
      ],
      "id": "ba20dc51",
      "execution_count": null,
      "outputs": []
    },
    {
      "cell_type": "markdown",
      "metadata": {},
      "source": [
        "Por otra parte, vamos a estimar medidas de textura con [r.texture](https://grass.osgeo.org/grass-stable/manuals/r.texture.html). En este caso, elegimos Inverse Difference Moment (IDM) y Angular Second Moment (ASM), pero hay muchas otras opciones. Este módulo puede ser muy lento si la región computacional es muy grande y si el tamaño de la ventana es grande también. Para agilizar los cálculos en estos casos, se puede usar la extensión [r.texture.tiled](https://grass.osgeo.org/grass-stable/manuals/addons/r.texture.tiled.html).\n"
      ],
      "id": "1ae60bfd"
    },
    {
      "cell_type": "code",
      "metadata": {},
      "source": [
        "# estimate textures measures\n",
        "gs.run_command(\"r.texture\",\n",
        "               input=\"SPOT_20180621_PAN\",\n",
        "               output=\"SPOT_20180621\",\n",
        "               size=7,\n",
        "               distance=3,\n",
        "               method=\"idm,asm\")"
      ],
      "id": "d82845e6",
      "execution_count": null,
      "outputs": []
    },
    {
      "cell_type": "code",
      "metadata": {},
      "source": [
        "# set color table to grey for texture bands\n",
        "gs.run_command(\"r.colors\", \n",
        "               map=\"SPOT_20180621_IDM\", \n",
        "               color=\"grey\",\n",
        "               flags=\"e\")\n",
        "gs.run_command(\"r.colors\", \n",
        "               map=\"SPOT_20180621_ASM\", \n",
        "               color=\"grey\",\n",
        "               flags=\"e\")"
      ],
      "id": "a78b7197",
      "execution_count": null,
      "outputs": []
    },
    {
      "cell_type": "markdown",
      "metadata": {},
      "source": [
        "Visualizamos las bandas creadas.\n"
      ],
      "id": "715696b3"
    },
    {
      "cell_type": "code",
      "metadata": {},
      "source": [
        "idx_map = gj.InteractiveMap(width = 400, use_region=False, tiles=\"OpenStreetMap\")\n",
        "idx_map.add_raster(\"SPOT_20180621_NDVI\", opacity=0.7)\n",
        "idx_map.add_raster(\"SPOT_20180621_NDWI\", opacity=0.7)\n",
        "idx_map.add_raster(\"SPOT_20180621_IDM\", opacity=0.7)\n",
        "idx_map.add_raster(\"SPOT_20180621_ASM\", opacity=0.7)\n",
        "idx_map.add_layer_control(position = \"bottomright\")\n",
        "idx_map.show()"
      ],
      "id": "9628a72f",
      "execution_count": null,
      "outputs": []
    },
    {
      "cell_type": "markdown",
      "metadata": {},
      "source": [
        ":::{.callout-note}\n",
        "Sobre qué banda calculamos las texturas? Si no contamos con una banda \n",
        "pancromática, podemos crearla promediando las bandas visibles\n"
      ],
      "id": "e7890fe4"
    },
    {
      "cell_type": "code",
      "metadata": {},
      "source": [
        "# create pan-vis from RGB (if no pan available)\n",
        "R = \"SPOT_20180621_PANSHARP.3\"\n",
        "G = \"SPOT_20180621_PANSHARP.2\"\n",
        "B = \"SPOT_20180621_PANSHARP.1\"\n",
        "\n",
        "gs.mapcalc(exp=f\"PANVIS = round(({R} + {G} + {B}) / 3)\""
      ],
      "id": "9f65025a",
      "execution_count": null,
      "outputs": []
    },
    {
      "cell_type": "markdown",
      "metadata": {},
      "source": [
        ":::\n",
        "\n",
        "## Segmentación\n",
        "\n",
        "### Búsqueda de umbrales de sub y sobre-segmentación\n",
        "\n",
        "Como vimos en el ejercicio anterior, usualmente, los módulos **i.\\*** toman un grupo de mapas como entrada. Antes de comenzar con la segmentación, entonces, creamos un grupo con las bandas multiespectrales únicamente.\n"
      ],
      "id": "e6014260"
    },
    {
      "cell_type": "code",
      "metadata": {},
      "source": [
        "# create imagery group (only ms bands)\n",
        "gs.run_command(\"i.group\",\n",
        "               group=\"spot_bands\",\n",
        "               input=pansharp)"
      ],
      "id": "7980301d",
      "execution_count": null,
      "outputs": []
    },
    {
      "cell_type": "markdown",
      "metadata": {},
      "source": [
        "Ahora vamos a aprovechar una de las grandes ventajas de la región computacional, i.e., definir una región más pequeña para realizar unas pruebas :)\n"
      ],
      "id": "84975688"
    },
    {
      "cell_type": "code",
      "metadata": {},
      "source": [
        "# set smaller region\n",
        "gs.run_command(\"g.region\",\n",
        "               n=6525171,\n",
        "               s=6523179,\n",
        "               w=4390557,\n",
        "               e=4393257)\n",
        "gs.run_command(\"g.region\",\n",
        "               save=\"obia_subset\")\n",
        "gs.region()"
      ],
      "id": "827a6c4e",
      "execution_count": null,
      "outputs": []
    },
    {
      "cell_type": "markdown",
      "metadata": {},
      "source": [
        "Ahora sí, ejecutamos un par de segmentaciones para determinar niveles de sub- y sobre-segmentación. Empezamos con un umbral pequeño.\n"
      ],
      "id": "bcd90f85"
    },
    {
      "cell_type": "code",
      "metadata": {},
      "source": [
        "# run segmentation - small threshold\n",
        "gs.run_command(\"i.segment\",\n",
        "               group=\"spot_bands\",\n",
        "               output=\"segment_001\",\n",
        "               threshold=0.01,\n",
        "               memory=2000)"
      ],
      "id": "d00127be",
      "execution_count": null,
      "outputs": []
    },
    {
      "cell_type": "code",
      "metadata": {},
      "source": [
        "# convert output to vector\n",
        "gs.run_command(\"r.to.vect\",\n",
        "               input=\"segment_001\",\n",
        "               output=\"segment_001\",\n",
        "               type=\"area\",\n",
        "               flags=\"tv\")"
      ],
      "id": "9deebd59",
      "execution_count": null,
      "outputs": []
    },
    {
      "cell_type": "code",
      "metadata": {},
      "source": [
        "# display results\n",
        "segs = gj.Map(use_region=True)\n",
        "segs.d_rgb(red=\"SPOT_20180621_PANSHARP.3\",\n",
        "              green=\"SPOT_20180621_PANSHARP.2\",\n",
        "              blue=\"SPOT_20180621_PANSHARP.1\")\n",
        "segs.d_vect(map=\"segment_001\", type=\"boundary\", color=\"yellow\")\n",
        "segs.show()"
      ],
      "id": "14f56329",
      "execution_count": null,
      "outputs": []
    },
    {
      "cell_type": "markdown",
      "metadata": {},
      "source": [
        "Probamos con un umbral más grande.\n"
      ],
      "id": "bdc6b135"
    },
    {
      "cell_type": "code",
      "metadata": {},
      "source": [
        "# run segmentation - larger threshold\n",
        "gs.run_command(\"i.segment\",\n",
        "               group=\"spot_bands\",\n",
        "               output=\"segment_005\",\n",
        "               threshold=0.05,\n",
        "               memory=2000)"
      ],
      "id": "99102259",
      "execution_count": null,
      "outputs": []
    },
    {
      "cell_type": "code",
      "metadata": {},
      "source": [
        "# convert output to vector\n",
        "gs.run_command(\"r.to.vect\",\n",
        "               input=\"segment_005\",\n",
        "               output=\"segment_005\",\n",
        "               type=\"area\",\n",
        "               flags=\"tv\")"
      ],
      "id": "1132d422",
      "execution_count": null,
      "outputs": []
    },
    {
      "cell_type": "code",
      "metadata": {},
      "source": [
        "# display results\n",
        "segs = gj.Map(use_region=True)\n",
        "segs.d_rgb(red=\"SPOT_20180621_PANSHARP.3\",\n",
        "              green=\"SPOT_20180621_PANSHARP.2\",\n",
        "              blue=\"SPOT_20180621_PANSHARP.1\")\n",
        "segs.d_vect(map=\"segment_005\", type=\"boundary\", color=\"red\")\n",
        "segs.show()"
      ],
      "id": "0704f4c5",
      "execution_count": null,
      "outputs": []
    },
    {
      "cell_type": "markdown",
      "metadata": {},
      "source": [
        "Hagamos zoom sobre los resultados para cada umbral.\n",
        "\n",
        ":::: columns\n",
        ":::{.column width=\"50%\"}\n",
        "Sobre-segmentado\n",
        "\n",
        "![](../assets/img/over_segmented.png)\n",
        ":::\n",
        "\n",
        ":::{.column width=\"50%\"}\n",
        "Sub-segmentado\n",
        "\n",
        "![](../assets/img/sub_segmented.png)\n",
        ":::\n",
        "::::\n",
        "\n",
        ":::{.callout-warning title=\"Tarea\"}\n",
        "Se animan a probar con otros valores y en otras regiones?\n",
        ":::\n",
        "\n",
        "### Búsqueda automática de umbrales por optimización\n",
        "\n",
        "Teniendo valores de umbrales de sub- y sobre-segmentación, podemos proceder a realizar la segmentación de manera autómatica, buscando el mejor umbral en una especie de grilla definida por umbral mínimo, umbral máximo y paso. Para ello, utilizamos la extensión: [i.segment.uspo](https://grass.osgeo.org/grass-stable/manuals/addons/i.segment.uspo.html).\n",
        "\n",
        "Este procedimiento es computacionalmente intensivo para un área grande y muchas combinaciones de parámetros, pero siempre podemos:\n",
        "\n",
        "- Limitar el tamaño de la región computacional o generar *tiles* con [i.cutlines](https://grass.osgeo.org/grass-stable/manuals/addons/i.cutlines.html) y paralelizar la USPO.\n",
        "- Limitar el rango de los parámetros, o usar un paso relativamente grande.\n",
        "- Crear **superpixels** con [i.superpixels.slic](https://grass.osgeo.org/grass-stable/manuals/addons/i.superpixels.slic.html) para usarlos como semillas.\n",
        " \n",
        "#### Generación de semillas\n",
        "\n",
        "La extensión [i.superpixels.slic](https://grass.osgeo.org/grass-stable/manuals/addons/i.superpixels.slic.html)\n",
        "\n",
        "- También puede utilizarse para la segmentación per se, como vimos en el ejercicio anterior.\n",
        "- Es muy rápida para reagrupar pequeñas cantidades de píxeles similares.\n",
        "- Se puede usar para reducir el número de píxeles en un factor de 4-5 y acelerar *i.segment.uspo*, que ya no empieza por pixeles individuales, sino por pequeños grupos de pixeles similares.\n",
        "- Se usa baja compactación para mantener la separación espectral (Ver el manual: *A larger compactness value will cause spatially more compact, but spectrally more heterogeneous superpixels*).\n",
        "\n",
        "### USPO con superpixels como semillas\n",
        "\n",
        "Vamos a ejecutar entonces *i.superpixels.slic* con bajo valor de compactación para generar el semillero para *i.segment.uspo*.\n"
      ],
      "id": "b4355f8d"
    },
    {
      "cell_type": "code",
      "metadata": {},
      "source": [
        "# run superpixel segmentation to use as seeds\n",
        "gs.run_command(\"i.superpixels.slic\",\n",
        "               input=\"spot_bands\",\n",
        "               output=\"superpixels\",\n",
        "               step=2,\n",
        "               compactness=0.7,\n",
        "               memory=2000)"
      ],
      "id": "7b56472c",
      "execution_count": null,
      "outputs": []
    },
    {
      "cell_type": "markdown",
      "metadata": {},
      "source": [
        "Acá podemos ver un recorte de la composición RGB y el resultado de la ejecución de *i.superpixels.slic*.\n",
        "\n",
        "![](../assets/img/superpixels.png)\n",
        "\n",
        ":::{.callout-warning title=\"Tarea\"}\n",
        "Cuántas semillas se generaron? Qué factor de reducción se consigue en comparación a usar todos los pixeles?\n",
        "\n",
        "Para responder pueden dar una mirada a los manuales de [r.info](https://grass.osgeo.org/grass-stable/manuals/r.info.html) y [g.region](https://grass.osgeo.org/grass-stable/manuals/g.region.html).\n",
        ":::\n",
        "\n",
        "Instalamos las extensiones y ejecutamos la segmentación con optimización.\n"
      ],
      "id": "6ec56288"
    },
    {
      "cell_type": "code",
      "metadata": {},
      "source": [
        "# install extensions\n",
        "gs.run_command(\"g.extension\", \n",
        "               extension=\"r.neighborhoodmatrix\")\n",
        "gs.run_command(\"g.extension\", \n",
        "               extension=\"i.segment.uspo\")"
      ],
      "id": "287fd21f",
      "execution_count": null,
      "outputs": []
    },
    {
      "cell_type": "code",
      "metadata": {},
      "source": [
        "# run segmentation with uspo\n",
        "gs.run_command(\"i.segment.uspo\",\n",
        "               group=\"spot_bands\",\n",
        "               output=\"uspo_parameters.csv\",\n",
        "               region=\"obia_subset\",\n",
        "               seeds=\"superpixels\",\n",
        "               segment_map=\"segs\",\n",
        "               threshold_start=0.005,\n",
        "               threshold_stop=0.05,\n",
        "               threshold_step=0.005,\n",
        "               minsizes=3, \n",
        "               number_best=5,\n",
        "               memory=2000,\n",
        "               processes=6)"
      ],
      "id": "d5a2801b",
      "execution_count": null,
      "outputs": []
    },
    {
      "cell_type": "code",
      "metadata": {},
      "source": [
        "# explore results\n",
        "gs.list_grouped(type=\"raster\", \n",
        "                pattern=\"segs_*\")[\"obia_spot\"]"
      ],
      "id": "750b098c",
      "execution_count": null,
      "outputs": []
    },
    {
      "cell_type": "code",
      "metadata": {},
      "source": [
        "!cat uspo_parameters.csv"
      ],
      "id": "76ffce7f",
      "execution_count": null,
      "outputs": []
    },
    {
      "cell_type": "markdown",
      "metadata": {},
      "source": [
        "Convertimos el mejor resultado, i.e., *\\*rank1* a vector para visualizar el resultado.\n"
      ],
      "id": "76a12f86"
    },
    {
      "cell_type": "code",
      "metadata": {},
      "source": [
        "# convert to vector the rank1\n",
        "gs.run_command(\"r.to.vect\",\n",
        "               input=\"segs_obia_subset_rank1\",\n",
        "               output=\"segs\",\n",
        "               type=\"area\",\n",
        "               flags=\"tv\")"
      ],
      "id": "2c31ad97",
      "execution_count": null,
      "outputs": []
    },
    {
      "cell_type": "markdown",
      "metadata": {},
      "source": [
        "Zoom al resultado de ejecutar la segmentación con USPO\n",
        "\n",
        "![](../assets/img/result_uspo.png)\n",
        "\n",
        ":::{.callout-warning title=\"Tarea\"}\n",
        "Cuántos segmentos obtuvieron?\n",
        "\n",
        "Dar una mirada a [v.info](https://grass.osgeo.org/grass-stable/manuals/v.info.html) para responder.\n",
        ":::\n",
        "\n",
        "## Estadísticas de segmentos: [i.segment.stats](https://grass.osgeo.org/grass-stable/manuals/addons/i.segment.stats.html)\n",
        "\n",
        "Instalamos la extensión que nos permite extraer estadísticas para los segmentos obtenidos en el paso anterior.\n"
      ],
      "id": "bcb00efd"
    },
    {
      "cell_type": "code",
      "metadata": {},
      "source": [
        "# install extensions\n",
        "gs.run_command(\"g.extension\", \n",
        "               extension=\"i.segment.stats\")"
      ],
      "id": "87b03265",
      "execution_count": null,
      "outputs": []
    },
    {
      "cell_type": "code",
      "metadata": {},
      "source": [
        "# extract stats for all segments \n",
        "# Note: vectormap output does not work for this dataset, see loong workaround with csv output in further steps\n",
        "gs.run_command(\"i.segment.stats\",\n",
        "               map=\"segs_obia_subset_rank1\",\n",
        "               csvfile=\"segs_stats.csv\",\n",
        "               rasters=\"SPOT_20180621_ASM,SPOT_20180621_IDM,SPOT_20180621_NDVI,SPOT_20180621_NDWI,SPOT_20180621_PAN\",\n",
        "               raster_statistics=\"mean,stddev\",\n",
        "               area_measures=\"area,perimeter,compact_circle,compact_square\",\n",
        "               processes=4)"
      ],
      "id": "69c9dd91",
      "execution_count": null,
      "outputs": []
    },
    {
      "cell_type": "markdown",
      "metadata": {},
      "source": [
        "Visualizamos el csv resultante con la estadística por segmentos.\n"
      ],
      "id": "c2d85c05"
    },
    {
      "cell_type": "code",
      "metadata": {},
      "source": [
        "!cat segs_stats.csv | head"
      ],
      "id": "56ac2648",
      "execution_count": null,
      "outputs": []
    },
    {
      "cell_type": "markdown",
      "metadata": {},
      "source": [
        ":::{.callout-warning title=\"Tarea\"} \n",
        "Qué otras estadísticas se podrían obtener? \n",
        "Qué otro(s) módulo(s) podría(n) sustituir a *i.segment.stats*? \n",
        ":::\n",
        "\n",
        "## Datos de entrenamiento\n",
        "\n",
        "Tenemos nuestros segmentos caracterizados, pero nos falta un dato fundamental para poder realizar una clasificación supervisada... la verdad de terreno, i.e., a qué clase pertenece una muestra de todos los segmentos del área de estudio. Como etiquetar segmentos o puntos es una tarea tediosa, se provee dentro del mapset `PERMANENT` un conjunto de puntos con etiqueta para realizar el entrenamiento. Veamos cuántos puntos tenemos.\n"
      ],
      "id": "93c4d06b"
    },
    {
      "cell_type": "code",
      "metadata": {},
      "source": [
        "# get info of labeled points\n",
        "gs.vector_info_topo(\"labeled_points\")"
      ],
      "id": "fe5fbe4e",
      "execution_count": null,
      "outputs": []
    },
    {
      "cell_type": "markdown",
      "metadata": {},
      "source": [
        "Como el acceso a tablas de otros mapsets no está permitido, nos copiamos el vector con los puntos etiquetados al mapset `obia_spot`.\n"
      ],
      "id": "70f2eb2e"
    },
    {
      "cell_type": "code",
      "metadata": {},
      "source": [
        "# copy vector to current mapset (access to tables from different mapsets is not allowed)\n",
        "gs.run_command(\"g.copy\",\n",
        "               vector=\"labeled_points@PERMANENT,labeled_points\")"
      ],
      "id": "1b85d643",
      "execution_count": null,
      "outputs": []
    },
    {
      "cell_type": "markdown",
      "metadata": {},
      "source": [
        "Cuántos puntos de cada clase tenemos?\n"
      ],
      "id": "6ed489b6"
    },
    {
      "cell_type": "code",
      "metadata": {},
      "source": [
        "# get number of points per class\n",
        "print(gs.read_command(\"db.select\",\n",
        "                      sql=\"SELECT train_class,COUNT(cat) as count_class FROM labeled_points GROUP BY train_class\"))"
      ],
      "id": "e2bad51d",
      "execution_count": null,
      "outputs": []
    },
    {
      "cell_type": "markdown",
      "metadata": {},
      "source": [
        "Seleccionar segmentos sobre los cuales tenemos puntos de entrenamiento\n"
      ],
      "id": "431c2480"
    },
    {
      "cell_type": "code",
      "metadata": {},
      "source": [
        "# select segments that are below labeled points\n",
        "gs.run_command(\"v.select\",\n",
        "               ainput=\"segs\",\n",
        "               binput=\"labeled_points\",\n",
        "               output=\"train_segments\",\n",
        "               operator=\"overlap\")"
      ],
      "id": "dffc04d6",
      "execution_count": null,
      "outputs": []
    },
    {
      "cell_type": "markdown",
      "metadata": {},
      "source": [
        "Cuántos segmentos contienen puntos de entrenamiento?\n"
      ],
      "id": "33480c3f"
    },
    {
      "cell_type": "code",
      "metadata": {},
      "source": [
        "# get info of segments\n",
        "gs.vector_info_topo(map=\"train_segments\")"
      ],
      "id": "23e5adfc",
      "execution_count": null,
      "outputs": []
    },
    {
      "cell_type": "markdown",
      "metadata": {},
      "source": [
        "Veamos un zoom a la selección de segmentos con puntos de entrenamiento.\n",
        "\n",
        "![](../assets/img/points_in_segments.png)\n",
        "\n",
        "Antes de asignar el atributo de los puntos a los segmentos, necesitamos agregar una tabla y una columna al vector con los segmentos.\n"
      ],
      "id": "ad7c0917"
    },
    {
      "cell_type": "code",
      "metadata": {},
      "source": [
        "# add attr table to train segments\n",
        "gs.run_command(\"v.db.addtable\",\n",
        "               map=\"train_segments\")"
      ],
      "id": "b33187be",
      "execution_count": null,
      "outputs": []
    },
    {
      "cell_type": "code",
      "metadata": {},
      "source": [
        "# add column to train segments\n",
        "gs.run_command(\"v.db.addcolumn\",\n",
        "               map=\"train_segments\",\n",
        "               column=\"class int\")"
      ],
      "id": "f49ceaaf",
      "execution_count": null,
      "outputs": []
    },
    {
      "cell_type": "markdown",
      "metadata": {},
      "source": [
        "Ahora sí, usamos el módulo [v.distance](https://grass.osgeo.org/grass-stable/manuals/v.distance.html) para transferir la etiqueta (clase de cobertura) desde los puntos a los segmentos\n"
      ],
      "id": "80afcb57"
    },
    {
      "cell_type": "code",
      "metadata": {},
      "source": [
        "# assign label from points to segments\n",
        "gs.run_command(\"v.distance\",\n",
        "               from_=\"train_segments\", \n",
        "               to=\"labeled_points\",\n",
        "               upload=\"to_attr\",\n",
        "               column=\"class\",\n",
        "               to_column=\"train_class\")"
      ],
      "id": "fd846a32",
      "execution_count": null,
      "outputs": []
    },
    {
      "cell_type": "markdown",
      "metadata": {},
      "source": [
        "Cuántos segmentos de cada clase tenemos?\n"
      ],
      "id": "768f281c"
    },
    {
      "cell_type": "code",
      "metadata": {},
      "source": [
        "# group training segments per class\n",
        "!db.select sql=\"SELECT class,COUNT(cat) as count_class FROM train_segments GROUP BY class\""
      ],
      "id": "0ea5dbe9",
      "execution_count": null,
      "outputs": []
    },
    {
      "cell_type": "markdown",
      "metadata": {},
      "source": [
        "Como, por alguna razón, para estos datos, no pudimos obtener un vector a partir de i.segment.stats, necesitamos hacer un \"workaround\" para obtener, en cambio, un csv con los segmentos de entrenamiento, sus estadísticas y sus etiquetas. Para eso, haremos lo siguiente:\n",
        "\n",
        "- convertir a raster el vector `train_segments` con las etiquetas para poder obtener las estadísticas con i.segment.stats,\n",
        "- obtener las estadísticas para los segmentos de entrenamiento únicamente con i.segment.stats,\n",
        "- importar a GRASS la tabla csv resultante (Sí, podemos importar tablas a GRASS!),\n",
        "- unir el vector de segmentos de entrenamiento que tiene las etiquetas con la tabla con las estadísticas,\n",
        "- eliminar la columna cat_ resultante de la unión, ya que no es un atributo para la clasificación, y\n",
        "- exportar la nueva tabla de atributos como csv.\n",
        "\n",
        "Si, de i.segment.stats ustedes pueden obtener un vector, la tarea es mucho más sencilla: \n",
        "```\n",
        "# select segments that are below labeled points\n",
        "v.select \\\n",
        "  ainput=segs_stats \\ # vector obtenido con i.segment.stats\n",
        "  binput=labeled_points \\\n",
        "  output=train_segments \\\n",
        "  operator=overlap\n",
        "\n",
        "# add column to train segments\n",
        "v.db.addcolumn train_segments column=\"class int\"\n",
        "\n",
        "# assign label from points to segments\n",
        "v.distance from=train_segments \\\n",
        "  to=labeled_points \\\n",
        "  upload=to_attr \\\n",
        "  column=class \\\n",
        "  to_column=train_class\n",
        "```\n",
        "\n",
        "Empecemos...\n"
      ],
      "id": "597040a9"
    },
    {
      "cell_type": "code",
      "metadata": {},
      "source": [
        "# convert train_segments vector to raster\n",
        "gs.run_command(\"v.to.rast\",\n",
        "               input=\"train_segments\",\n",
        "               output=\"train_segments\",\n",
        "               use=\"cat\")"
      ],
      "id": "ffba5c24",
      "execution_count": null,
      "outputs": []
    },
    {
      "cell_type": "code",
      "metadata": {},
      "source": [
        "# extract stats for training segments\n",
        "gs.run_command(\"i.segment.stats\",\n",
        "               map=\"train_segments\",\n",
        "               csvfile=\"train_segs_stats.csv\",\n",
        "               separator=\"comma\",\n",
        "               rasters=\"SPOT_20180621_ASM,SPOT_20180621_IDM,SPOT_20180621_NDVI,SPOT_20180621_NDWI,SPOT_20180621_PAN\",\n",
        "               raster_statistics=\"mean,stddev\",\n",
        "               area_measures=\"area,perimeter,compact_circle,compact_square\",\n",
        "               processes=4)"
      ],
      "id": "a15ba991",
      "execution_count": null,
      "outputs": []
    },
    {
      "cell_type": "code",
      "metadata": {},
      "source": [
        "!cat train_segs_stats.csv | head"
      ],
      "id": "7918ed69",
      "execution_count": null,
      "outputs": []
    },
    {
      "cell_type": "code",
      "metadata": {},
      "source": [
        "# import csv table\n",
        "gs.run_command(\"db.in.ogr\",\n",
        "               input=\"train_segs_stats.csv\",\n",
        "               output=\"train_segs_stats\") # name of the table within GRASS"
      ],
      "id": "031f8ad5",
      "execution_count": null,
      "outputs": []
    },
    {
      "cell_type": "code",
      "metadata": {},
      "source": [
        "print(gs.read_command(\"db.describe\",\n",
        "                      table=\"train_segs_stats\",\n",
        "                      flags=\"c\"))"
      ],
      "id": "d7e960c7",
      "execution_count": null,
      "outputs": []
    },
    {
      "cell_type": "code",
      "metadata": {},
      "source": [
        "# paste column class from train_segments to train_segs_stats.csv\n",
        "gs.run_command(\"v.db.join\",\n",
        "               map=\"train_segments\",\n",
        "               column=\"cat\",\n",
        "               other_table=\"train_segs_stats\",\n",
        "               other_column=\"cat_\")"
      ],
      "id": "9667fa31",
      "execution_count": null,
      "outputs": []
    },
    {
      "cell_type": "code",
      "metadata": {},
      "source": [
        "# drop cat_ column\n",
        "gs.run_command(\"v.db.dropcolumn\",\n",
        "               map=\"train_segments\",\n",
        "               columns=\"cat_\")"
      ],
      "id": "7e1e0566",
      "execution_count": null,
      "outputs": []
    },
    {
      "cell_type": "code",
      "metadata": {},
      "source": [
        "# save patched attr table as csv \n",
        "gs.run_command(\"v.db.select\",\n",
        "               map=\"train_segments\",\n",
        "               file=\"rain_segs_stats_class.csv\")"
      ],
      "id": "0977da28",
      "execution_count": null,
      "outputs": []
    },
    {
      "cell_type": "code",
      "metadata": {},
      "source": [
        "# check csv\n",
        "!cat train_segs_stats_class.csv | head"
      ],
      "id": "a20f52d6",
      "execution_count": null,
      "outputs": []
    },
    {
      "cell_type": "code",
      "metadata": {},
      "source": [
        "# remove column cat_ and save fixed csv\n",
        "# !cut --complement -f3 -d\"|\" train_segs_stats_class.csv > train_segs_stats_class_fix.csv"
      ],
      "id": "32958631",
      "execution_count": null,
      "outputs": []
    },
    {
      "cell_type": "markdown",
      "metadata": {},
      "source": [
        ":::{.callout-note title=\"Una forma de seleccionar y etiquetar datos de entrenamiento\"}\n",
        "- Ejecutar una clasificación no supervisada con 10 clases\n",
        "- Extraer una *x* cantidad de puntos por clase ([r.sample.category](https://grass.osgeo.org/grass-stable/manuals/addons/r.sample.category.html))\n",
        "- Etiquetar los puntos manualmente\n",
        "- Usar puntos para transferir las etiquetas a los segmentos como ya vimos\n",
        "\n",
        "```\n",
        "# Unsupervised classification\n",
        "i.group group=spot_all input=SPOT_20180621_ASM,SPOT_20180621_IDM,SPOT_20180621_NDVI,SPOT_20180621_NDWI,SPOT_20180621_PAN,SPOT_20180621_PANSHARP.1,SPOT_20180621_PANSHARP.2,SPOT_20180621_PANSHARP.3,SPOT_20180621_PANSHARP.4\n",
        "i.cluster group=spot_all signaturefile=sig classes=10\n",
        "i.maxlik group=spot_all signaturefile=sig output=uns_clas\n",
        "\n",
        "# install extension\n",
        "g.extension r.sample.category\n",
        "\n",
        "# get n points per class\n",
        "r.sample.category input=uns_clas output=uns_clas_points npoints=150\n",
        "\n",
        "# then, manually label points\n",
        "```\n",
        ":::\n",
        "\n",
        "## Clasificación con Machine learning\n",
        "\n",
        "Ahora sí, finalmente llegamos a la clasificación de los segmentos. Vamos a instalar la extensión [v.class.mlR](https://grass.osgeo.org/grass-stable/manuals/addons/v.class.mlR.html). Esta extensión usa paquetes de R para realizar la clasificación, por lo tanto necesitamos tener R y ciertos paquetes previamente instalados.\n"
      ],
      "id": "b8a78c93"
    },
    {
      "cell_type": "code",
      "metadata": {},
      "source": [
        "# install extension\n",
        "gs.run_command(\"g.extension\", \n",
        "               extension=\"v.class.mlR\")"
      ],
      "id": "b9cb482b",
      "execution_count": null,
      "outputs": []
    },
    {
      "cell_type": "code",
      "metadata": {},
      "source": [
        "# run classification\n",
        "gs.run_command(\"v.class.mlR\",\n",
        "               segments_file=\"segs_stats.csv\", # stats of all segments\n",
        "               training_file=\"train_segs_stats_class.csv\", # stats of training segs\n",
        "               train_class_column=\"class\",\n",
        "               classified_map=\"classification\",\n",
        "               raster_segments_map=\"segs_obia_subset_rank1\",\n",
        "               classifier=\"rf\",\n",
        "               folds=5,\n",
        "               partitions=10,\n",
        "               tunelength=10,\n",
        "               weighting_modes=\"smv\",\n",
        "               weighting_metric=\"accuracy\",\n",
        "               output_model_file=\"model\",\n",
        "               variable_importance_file=\"var_imp.txt\",\n",
        "               accuracy_file=\"accuracy.csv\",\n",
        "               model_details=\"classifier_runs.txt\",\n",
        "               r_script_file=\"Rscript_mlR.R\",\n",
        "               processes=2, # use more if available\n",
        "               flags=\"nf\")"
      ],
      "id": "fd8b4f45",
      "execution_count": null,
      "outputs": []
    },
    {
      "cell_type": "markdown",
      "metadata": {},
      "source": [
        ":::{.callout-warning title=\"Tarea\"}\n",
        "Crear paleta de colores para las clases de cobertura urbana asignando colores interactivamente\n",
        "\n",
        "- Ir agregando valores\n",
        "- Seleccionar colores \n",
        "- Previsualizar\n",
        "- Guardar la paleta creada como *obia_urban* para reusar posteriormente\n",
        "\n",
        "![](../assets/img/assign_color_to_train_segments.png){width=70%}\n",
        ":::\n",
        "\n",
        "Aplicamos la paleta de colores que creamos.\n"
      ],
      "id": "19337136"
    },
    {
      "cell_type": "code",
      "metadata": {},
      "source": [
        "# set color table that we created interactively\n",
        "gs.run_command(\"r.colors\",\n",
        "               map=\"classification_rf\",\n",
        "               rules=\"obia_urban\")"
      ],
      "id": "03193529",
      "execution_count": null,
      "outputs": []
    },
    {
      "cell_type": "markdown",
      "metadata": {},
      "source": [
        "Visualizamos el resultado de la clasificación supervisada con Machine Learning basada en objetos\n"
      ],
      "id": "4a375a6a"
    },
    {
      "cell_type": "code",
      "metadata": {},
      "source": [
        "# display results\n",
        "obia = gj.Map(use_region=True)\n",
        "obia.d_rast(map=\"classification_rf\")\n",
        "obia.show()"
      ],
      "id": "69554e39",
      "execution_count": null,
      "outputs": []
    },
    {
      "cell_type": "markdown",
      "metadata": {},
      "source": [
        "Revisemos los archivos auxiliares que obtuvimos de la ejecución de la clasificación por random forest.\n"
      ],
      "id": "310034c5"
    },
    {
      "cell_type": "code",
      "metadata": {},
      "source": [
        "!cat var_imp.txt"
      ],
      "id": "03add8e4",
      "execution_count": null,
      "outputs": []
    },
    {
      "cell_type": "code",
      "metadata": {},
      "source": [
        "!cat accuracy.csv"
      ],
      "id": "49d57ee1",
      "execution_count": null,
      "outputs": []
    },
    {
      "cell_type": "code",
      "metadata": {},
      "source": [
        "!cat classifier_runs.txt"
      ],
      "id": "67b40d94",
      "execution_count": null,
      "outputs": []
    },
    {
      "cell_type": "markdown",
      "metadata": {},
      "source": [
        ":::{.callout-important}\n",
        "El proceso de clasificación usualmente conlleva una serie de iteraciones que implican selección de variables más importantes, búsqueda de más/mejores datos de entrenamiento y validación\n",
        ":::\n",
        "\n",
        "## Validación\n",
        "\n",
        "- Se usan datos independientes para validar las clasificaciones\n",
        "- Se construye una **matriz de confusión** que permite visualizar los errores por \n",
        "clase en los elementos que están fuera de la diagonal\n",
        "- Se estiman varias medidas relacionadas a la precisión, ej.: **overall accuracy** \n",
        "y **kappa**\n",
        "\n",
        "Distintas opciones:\n",
        "1. Generar un nuevo set de puntos y etiquetarlos\n",
        "2. Separar el set de puntos etiquetados en *train* y *test* de antemano\n",
        "\n",
        "### Opción 1\n",
        "\n",
        ":::{.callout-warning title=\"Tarea\"}\n",
        "Generar un set de validación de al menos 50 segmentos. Una vez creado el vector de segmentos con etiquetas, *testing*, convertirlo a formato raster y ejecutar [**r.kappa**](https://grass.osgeo.org/grass-stable/manuals/r.kappa.html).\n",
        ":::\n",
        "\n",
        "[r.kappa](https://grass.osgeo.org/grass-stable/manuals/r.kappa.html) necesita mapas raster como *input*, por lo tanto necesitamos transformar los segmentos de validación a formato raster usando la columna *`class`* como fuente de valores para los pixeles.\n"
      ],
      "id": "22e40ba5"
    },
    {
      "cell_type": "code",
      "metadata": {},
      "source": [
        "# convert labeled test segments to raster\n",
        "gs.run_command(\"v.to.rast\",\n",
        "               map=\"testing\",\n",
        "               use=\"attr\",\n",
        "               attribute_column=\"class\",\n",
        "               output=\"testing\")"
      ],
      "id": "80ed4d40",
      "execution_count": null,
      "outputs": []
    },
    {
      "cell_type": "code",
      "metadata": {},
      "source": [
        "# create confusion matrix and estimate precision measures\n",
        "print(gs.read_command(\"r.kappa\",\n",
        "                      classification=\"classification_rf\",\n",
        "                      reference=\"testing\"))"
      ],
      "id": "63d9f93f",
      "execution_count": null,
      "outputs": []
    },
    {
      "cell_type": "markdown",
      "metadata": {},
      "source": [
        "### Opción 2\n",
        "\n",
        "Alternativamente, podemos separar el set de puntos etiquetados en *train* y *test*. Usemos la extensión [v.divide.training_validation](https://github.com/mundialis/v.divide.training_validation) creada por [mundialis](https://www.mundialis.de/en/).\n"
      ],
      "id": "58ce13f0"
    },
    {
      "cell_type": "code",
      "metadata": {},
      "source": [
        "# install the extension\n",
        "gs.run_command(\"g.extension\",\n",
        "               extension=\"v.divide.training_validation\",\n",
        "               url=\"https://github.com/mundialis/v.divide.training_validation\")"
      ],
      "id": "8325ade7",
      "execution_count": null,
      "outputs": []
    },
    {
      "cell_type": "code",
      "metadata": {},
      "source": [
        "# divide our labeled segments into train and test\n",
        "gs.run_command(\"v.divide.training_validation\",\n",
        "               input=\"train_segments\",\n",
        "               column=\"class\", \n",
        "               training=\"training\", \n",
        "               validation=\"testing\", \n",
        "               training_percent=30)"
      ],
      "id": "5d8eba59",
      "execution_count": null,
      "outputs": []
    },
    {
      "cell_type": "markdown",
      "metadata": {},
      "source": [
        ":::{.callout-warning title=\"Tarea\"}\n",
        "Ejecutar nuevamente la clasificación usando sólo el vector *training*. Recordar convertir a csv.\n",
        ":::\n",
        "\n",
        "Agregamos la columna `pred_class` al vector *test*\n"
      ],
      "id": "b1ebea68"
    },
    {
      "cell_type": "code",
      "metadata": {},
      "source": [
        "# add column to test point map\n",
        "gs.run_command(\"v.db.addcolumn\",\n",
        "               map=\"testing\",\n",
        "               column=\"pred_class integer\")"
      ],
      "id": "336fab3b",
      "execution_count": null,
      "outputs": []
    },
    {
      "cell_type": "markdown",
      "metadata": {},
      "source": [
        "Obtener las clases predichas para los segmentos de validación\n"
      ],
      "id": "ea504314"
    },
    {
      "cell_type": "code",
      "metadata": {},
      "source": [
        "# query the classified map\n",
        "gs.run_command(\"v.what.rast\",\n",
        "               map=\"testing\",\n",
        "               column=\"pred_class\",\n",
        "               raster=\"classification_rf\")"
      ],
      "id": "1fdbce90",
      "execution_count": null,
      "outputs": []
    },
    {
      "cell_type": "markdown",
      "metadata": {},
      "source": [
        ":::{.callout-warning title=\"Tarea\"}\n",
        "Covertir a raster y ejecutar r.kappa.\n",
        ":::\n"
      ],
      "id": "bef42425"
    }
  ],
  "metadata": {
    "kernelspec": {
      "name": "python3",
      "language": "python",
      "display_name": "Python 3 (ipykernel)"
    }
  },
  "nbformat": 4,
  "nbformat_minor": 5
}