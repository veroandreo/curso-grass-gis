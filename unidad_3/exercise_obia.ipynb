{
  "cells": [
    {
      "cell_type": "raw",
      "metadata": {},
      "source": [
        "---\n",
        "title: 'Ejercicio: OBIA en GRASS GIS'\n",
        "author: Verónica Andreo\n",
        "date: today\n",
        "format:\n",
        "  html:\n",
        "    code-tools: true\n",
        "    code-copy: true\n",
        "    code-fold: false\n",
        "execute:\n",
        "  eval: false\n",
        "  cache: false\n",
        "  keep-ipynb: true\n",
        "---"
      ],
      "id": "aaf573de"
    },
    {
      "cell_type": "markdown",
      "metadata": {},
      "source": [
        "## Ejercicio: Clasificación supervisada basada en objetos con datos SPOT\n",
        "\n",
        "\n",
        "### Contenidos\n",
        "\n",
        "- Mejoramiento del contraste (ecualización del histograma)\n",
        "- Calcular índices espectrales y texturas de GLCM\n",
        "- Segmentación manual (ensayo y error)\n",
        "- Segmentación con USPO\n",
        "- Cómputo de las estadísticas de los segmentos\n",
        "- Colecta y etiquetado de datos de entrenamiento y validación\n",
        "- Clasificación supervisada por Machine Learning\n",
        "- Validación\n",
        "\n",
        "\n",
        "### Datos para el ejercicio\n",
        "\n",
        "- [SPOT 6](https://earth.esa.int/web/eoportal/satellite-missions/s/spot-6-7)\n",
        "- VIS - NIR (6 m)\n",
        "- PAN (1.5 m)\n",
        "- Datos corregidos y fusionados\n",
        "\n",
        "![](../assets/img/obia_region.png)\n",
        "\n",
        "Descargar los datos SPOT desde el [aula virtual](https://aulavirtual.ig.conae.unc.edu.ar/mod/page/view.php?id=11082) y mover a la carpeta *`$HOME/gisdata`*\n"
      ],
      "id": "d0eda009"
    },
    {
      "cell_type": "code",
      "metadata": {},
      "source": [
        "# paths\n",
        "grassdata='/home/veroandreo/grassdata/'\n",
        "location=''\n",
        "mapset=''"
      ],
      "id": "c9a8abd3",
      "execution_count": null,
      "outputs": []
    },
    {
      "cell_type": "code",
      "metadata": {},
      "source": [
        "import os\n",
        "import subprocess\n",
        "import sys\n",
        "\n",
        "# Ask GRASS GIS where its Python packages are to be able to start it from the notebook\n",
        "sys.path.append(\n",
        "    subprocess.check_output([\"grass\", \"--config\", \"python_path\"], text=True).strip()\n",
        ")\n",
        "\n",
        "# Importar los paquetes python de GRASS\n",
        "import grass.script as gs\n",
        "import grass.jupyter as gj\n",
        "\n",
        "# Iniciar GRASS\n",
        "session = gj.init(grassdata, location, mapset)"
      ],
      "id": "8d3c7453",
      "execution_count": null,
      "outputs": []
    },
    {
      "cell_type": "markdown",
      "metadata": {},
      "source": [
        "> **Tareas**\n",
        "> \n",
        "> - Crear un mapset *`obia_spot`* en el location `posgar2007_4_cba` e importar la imagen SPOT desde la GUI forzando la resolución a 1.5m\n",
        "> - Alinear la región a la extensión y resolución de alguna de las bandas importadas \n",
        "> - Mostrar la combinación RGB color natural (1: azul, 2: verde, 3: rojo, 4: NIR)\n",
        "> - Hacer una ecualización de histograma para mejorar el contraste de visualización\n",
        "\n",
        "### Importar datos y visualizar\n",
        "\n",
        "Crear mapset"
      ],
      "id": "fa3d9b49"
    },
    {
      "cell_type": "code",
      "metadata": {},
      "source": [
        "# create mapset\n",
        "g.mapset -c mapset=obia_spot"
      ],
      "id": "384b60c4",
      "execution_count": null,
      "outputs": []
    },
    {
      "cell_type": "markdown",
      "metadata": {},
      "source": [
        "Importar bandas multi-espectrales"
      ],
      "id": "4d2d493c"
    },
    {
      "cell_type": "code",
      "metadata": {},
      "source": [
        "# import pansharpened SPOT data\n",
        "r.import input=$HOME/gisdata/SPOT_20180621_PANSHARP_p.tif \\\n",
        "  output=SPOT_20180621_PANSHARP \\\n",
        "  resolution=value \\\n",
        "  resolution_value=1.5"
      ],
      "id": "1ecd9e7c",
      "execution_count": null,
      "outputs": []
    },
    {
      "cell_type": "markdown",
      "metadata": {},
      "source": [
        "Importar banda pancromática"
      ],
      "id": "03af793a"
    },
    {
      "cell_type": "code",
      "metadata": {},
      "source": [
        "# import SPOT PAN band\n",
        "r.import input=$HOME/gisdata/SPOT_20180621_PAN.tif \\\n",
        "  output=SPOT_20180621_PAN \\\n",
        "  resolution=value \\\n",
        "  resolution_value=1.5"
      ],
      "id": "5fccb503",
      "execution_count": null,
      "outputs": []
    },
    {
      "cell_type": "markdown",
      "metadata": {},
      "source": [
        "Alinear región y guardar la configuración"
      ],
      "id": "e81e401b"
    },
    {
      "cell_type": "code",
      "metadata": {},
      "source": [
        "# align region to one of the raster bands\n",
        "g.region -p raster=SPOT_20180621_PANSHARP.1 \\\n",
        "  save=obia_full"
      ],
      "id": "96b0469d",
      "execution_count": null,
      "outputs": []
    },
    {
      "cell_type": "markdown",
      "metadata": {},
      "source": [
        "Establecer *grey* como paleta de colores para bandas RGB"
      ],
      "id": "7e3d3f08"
    },
    {
      "cell_type": "code",
      "metadata": {},
      "source": [
        "# set grey color table to RGB bands\n",
        "r.colors \\\n",
        "  map=SPOT_20180621_PANSHARP.1,SPOT_20180621_PANSHARP.2,SPOT_20180621_PANSHARP.3 \\\n",
        "  color=grey"
      ],
      "id": "bffb87f6",
      "execution_count": null,
      "outputs": []
    },
    {
      "cell_type": "markdown",
      "metadata": {},
      "source": [
        "Mostrar composición RGB"
      ],
      "id": "80d44fff"
    },
    {
      "cell_type": "code",
      "metadata": {},
      "source": [
        "# display RGB\n",
        "d.mon wx0\n",
        "d.rgb red=SPOT_20180621_PANSHARP.3 \\\n",
        "  green=SPOT_20180621_PANSHARP.2 \\\n",
        "  blue=SPOT_20180621_PANSHARP.1"
      ],
      "id": "dd7c13d1",
      "execution_count": null,
      "outputs": []
    },
    {
      "cell_type": "markdown",
      "metadata": {},
      "source": [
        "Ecualización de colores"
      ],
      "id": "14c633a6"
    },
    {
      "cell_type": "code",
      "metadata": {},
      "source": [
        "# enhance contrast\n",
        "i.colors.enhance red=SPOT_20180621_PANSHARP.3 \\\n",
        "  green=SPOT_20180621_PANSHARP.2 \\\n",
        "  blue=SPOT_20180621_PANSHARP.1 \\\n",
        "  strength=95"
      ],
      "id": "0e66b156",
      "execution_count": null,
      "outputs": []
    },
    {
      "cell_type": "markdown",
      "metadata": {},
      "source": [
        "Composición RGB 321 color natural - SPOT 6)"
      ],
      "id": "683d2351"
    },
    {
      "cell_type": "markdown",
      "metadata": {},
      "source": [
        "### Hay valores nulos?\n",
        "\n",
        "Valores nulos en una banda"
      ],
      "id": "93c7cb27"
    },
    {
      "cell_type": "code",
      "metadata": {},
      "source": [
        "# one band\n",
        "r.univar map=SPOT_20180621_PANSHARP.2"
      ],
      "id": "bdcc528b",
      "execution_count": null,
      "outputs": []
    },
    {
      "cell_type": "markdown",
      "metadata": {},
      "source": [
        "Valores nulos en varias bandas"
      ],
      "id": "f6c18b1e"
    },
    {
      "cell_type": "code",
      "metadata": {},
      "source": [
        "# joint stats for all the bands\n",
        "r.univar \\\n",
        "  map=SPOT_20180621_PANSHARP.1,SPOT_20180621_PANSHARP.2,SPOT_20180621_PANSHARP.3,SPOT_20180621_PANSHARP.4"
      ],
      "id": "4f60865a",
      "execution_count": null,
      "outputs": []
    },
    {
      "cell_type": "markdown",
      "metadata": {},
      "source": [
        "Si hubiera valores nulos, se deben rellenar antes de comenzar @fa[exclamation-triangle text-orange]\n",
        "\n",
        "\n",
        "### Índices espectrales y texturas GLCM\n",
        "\n",
        "Estimar NDVI"
      ],
      "id": "7c8d5d76"
    },
    {
      "cell_type": "code",
      "metadata": {},
      "source": [
        "# estimate vegetation index\n",
        "i.vi \\\n",
        "  output=SPOT_20180621_NDVI \\\n",
        "  viname=ndvi \\\n",
        "  red=SPOT_20180621_PANSHARP.3 \\\n",
        "  nir=SPOT_20180621_PANSHARP.4"
      ],
      "id": "029f0331",
      "execution_count": null,
      "outputs": []
    },
    {
      "cell_type": "markdown",
      "metadata": {},
      "source": [
        "Instalar extensión *i.wi* y estimar NDWI"
      ],
      "id": "a4e54977"
    },
    {
      "cell_type": "code",
      "metadata": {},
      "source": [
        "# install i.wi\n",
        "g.extension i.wi\n",
        "\n",
        "# estimate water index\n",
        "i.wi \\\n",
        "  output=SPOT_20180621_NDWI \\\n",
        "  winame=ndwi_mf \\\n",
        "  green=SPOT_20180621_PANSHARP.2 \\\n",
        "  nir=SPOT_20180621_PANSHARP.4"
      ],
      "id": "becc9cb3",
      "execution_count": null,
      "outputs": []
    },
    {
      "cell_type": "markdown",
      "metadata": {},
      "source": [
        "Establecer la paleta de colores *ndwi*"
      ],
      "id": "6fe1033b"
    },
    {
      "cell_type": "code",
      "metadata": {},
      "source": [
        "# set ndwi color palette\n",
        "r.colors map=SPOT_20180621_NDWI color=ndwi"
      ],
      "id": "4e3378ff",
      "execution_count": null,
      "outputs": []
    },
    {
      "cell_type": "markdown",
      "metadata": {},
      "source": [
        "Estimar medidas de textura: IDM y ASM"
      ],
      "id": "30824a76"
    },
    {
      "cell_type": "code",
      "metadata": {},
      "source": [
        "# estimate textures measures\n",
        "r.texture \\\n",
        "  input=SPOT_20180621_PAN \\\n",
        "  output=SPOT_20180621 \\\n",
        "  size=7 \\\n",
        "  distance=3 \\\n",
        "  method=idm,asm"
      ],
      "id": "a8ab6d3b",
      "execution_count": null,
      "outputs": []
    },
    {
      "cell_type": "markdown",
      "metadata": {},
      "source": [
        "Establecer paleta *grey* para bandas de textura"
      ],
      "id": "00f9e798"
    },
    {
      "cell_type": "code",
      "metadata": {},
      "source": [
        "# set color table to grey for texture bands\n",
        "r.colors -e map=SPOT_20180621_IDM color=grey\n",
        "r.colors -e map=SPOT_20180621_ASM color=grey"
      ],
      "id": "f0bdf8cb",
      "execution_count": null,
      "outputs": []
    },
    {
      "cell_type": "markdown",
      "metadata": {},
      "source": [
        "Visualizar"
      ],
      "id": "168e5b29"
    },
    {
      "cell_type": "markdown",
      "metadata": {},
      "source": [
        "Índices espectrales y texturas GLCM a partir de bandas SPOT\n",
        "\n",
        "![](../assets/img/obia_frames.png)\n",
        "\n",
        "> Sobre qué banda calculamos las texturas?\n",
        "\n",
        "Si no contamos con una banda pancromática, podemos crearla promediando las bandas visibles\n",
        "\n",
        "\n",
        "```{bash}\n",
        "# create pan-vis from RGB (if no pan available)\n",
        "R=SPOT_20180621_PANSHARP.3\n",
        "G=SPOT_20180621_PANSHARP.2\n",
        "B=SPOT_20180621_PANSHARP.1\n",
        "\n",
        "r.mapcalc \\\n",
        "  expression=\"PANVIS = round(($R + $G + $B) / 3)\"\n",
        "```\n",
        "\n",
        " \n",
        "### Segmentación\n",
        "#### Búsqueda de umbrales de sub y sobre-segmentación\n",
        "\n",
        "Crear grupo con las bandas únicamente"
      ],
      "id": "027b87f4"
    },
    {
      "cell_type": "code",
      "metadata": {},
      "source": [
        "# create imagery group (only bands)\n",
        "i.group group=spot_bands \\\n",
        "  input=SPOT_20180621_PANSHARP.1,SPOT_20180621_PANSHARP.2,SPOT_20180621_PANSHARP.3,SPOT_20180621_PANSHARP.4"
      ],
      "id": "94584454",
      "execution_count": null,
      "outputs": []
    },
    {
      "cell_type": "markdown",
      "metadata": {},
      "source": [
        "Definir una región más pequeña y salvarla"
      ],
      "id": "cc86ccd3"
    },
    {
      "cell_type": "code",
      "metadata": {},
      "source": [
        "# set smaller region\n",
        "g.region -p \\\n",
        "  n=6525171 s=6523179 \\\n",
        "  w=4390557 e=4393257 \\\n",
        "  save=obia_subset"
      ],
      "id": "c883b910",
      "execution_count": null,
      "outputs": []
    },
    {
      "cell_type": "markdown",
      "metadata": {},
      "source": [
        "Ejecutar una segmentación con umbral pequeño"
      ],
      "id": "19a71d73"
    },
    {
      "cell_type": "code",
      "metadata": {},
      "source": [
        "# run segmentation - small threshold\n",
        "i.segment \\\n",
        "  group=spot_bands \\\n",
        "  output=segment_001\\\n",
        "  threshold=0.01 \\\n",
        "  memory=2000\n",
        "# convert output to vector\n",
        "r.to.vect -tv input=segment_001 \\\n",
        "  output=segment_001 \\\n",
        "  type=area"
      ],
      "id": "19504477",
      "execution_count": null,
      "outputs": []
    },
    {
      "cell_type": "markdown",
      "metadata": {},
      "source": [
        "Ejecutar una segmentación con umbral más grande"
      ],
      "id": "ac838a46"
    },
    {
      "cell_type": "code",
      "metadata": {},
      "source": [
        "# run segmentation - larger threshold\n",
        "i.segment \\\n",
        "  group=spot_bands \\\n",
        "  output=segment_005 \\\n",
        "  threshold=0.05 \\\n",
        "  memory=2000\n",
        "# convert output to vector\n",
        "r.to.vect -tv \\\n",
        "  input=segment_005 \\\n",
        "  output=segment_005 \\\n",
        "  type=area"
      ],
      "id": "38fb149a",
      "execution_count": null,
      "outputs": []
    },
    {
      "cell_type": "markdown",
      "metadata": {},
      "source": [
        "Sobre-segmentado\n",
        "\n",
        "![](../assets/img/over_segmented.png)\n",
        "\n",
        "Sub-segmentado\n",
        "\n",
        "![](../assets/img/sub_segmented.png)\n",
        "\n",
        "> **Tarea**\n",
        ">\n",
        "> Se animan a probar con otros valores y en otras regiones?\n",
        "\n",
        "\n",
        "### Segmentación\n",
        "#### Búsqueda automática de umbrales por optimización\n",
        "\n",
        "[i.segment.uspo](https://grass.osgeo.org/grass7/manuals/addons/i.segment.uspo.html)\n",
        "\n",
        "- Altamente intensivo para un área grande y muchas combinaciones de parámetros\n",
        "    - Limitar el tamaño de la región computacional\n",
        "    - Limitar el rango de los parámetros\n",
        "    - Crear **superpixels** para usarlos como semillas\n",
        "    - Cortar la imagen en *tiles* ([i.cutlines](https://grass.osgeo.org/grass-stable/manuals/addons/i.cutlines.html)) y paralelizar la USPO\n",
        "\n",
        "#### Generación de semillas\n",
        "\n",
        "[i.superpixels.slic](https://grass.osgeo.org/grass-stable/manuals/addons/i.superpixels.slic.html)\n",
        "\n",
        "- También puede utilizarse para la segmentación real\n",
        "- Muy rápido para reagrupar pequeñas cantidades de píxeles similares\n",
        "- Usar para reducir el número de píxeles en un factor de 4-5 y acelerar *i.segment.uspo*\n",
        "- Baja compactación para mantener la separación espectral\n",
        "\n",
        "\n",
        "### USPO con superpixels como semillas\n",
        "\n",
        "Instalar la extensión"
      ],
      "id": "d821b91d"
    },
    {
      "cell_type": "code",
      "metadata": {},
      "source": [
        "# install i.superpixels.slic\n",
        "g.extension i.superpixels.slic"
      ],
      "id": "ce8cceeb",
      "execution_count": null,
      "outputs": []
    },
    {
      "cell_type": "markdown",
      "metadata": {},
      "source": [
        "Ejecutar *i.superpixels.slic* con bajo valor de compactación"
      ],
      "id": "e9e4f547"
    },
    {
      "cell_type": "code",
      "metadata": {},
      "source": [
        "# run superpixel segm to use as seeds\n",
        "i.superpixels.slic \\\n",
        "  input=spot_bands \\\n",
        "  output=superpixels \\\n",
        "  step=2 \\\n",
        "  compactness=0.7 \\\n",
        "  memory=2000"
      ],
      "id": "a99fbe04",
      "execution_count": null,
      "outputs": []
    },
    {
      "cell_type": "markdown",
      "metadata": {},
      "source": [
        "RGB y resultado de la ejecución de *i.superpixels.slic*\n",
        "\n",
        "![](../assets/img/superpixels.png)\n",
        "\n",
        "> Cuántas semillas se generaron? Qué factor de reducción se consigue en comparación a usar todos los pixeles?\n",
        "\n",
        "Dar una mirada a [r.info](https://grass.osgeo.org/grass-stable/manuals/r.info.html) y [g.region](https://grass.osgeo.org/grass-stable/manuals/g.region.html)\n",
        "\n",
        "\n",
        "### USPO con superpixels como semillas\n",
        "\n",
        "Instalar las extensiones"
      ],
      "id": "df0e2e1b"
    },
    {
      "cell_type": "code",
      "metadata": {},
      "source": [
        "# install extensions\n",
        "g.extension r.neighborhoodmatrix\n",
        "g.extension i.segment.uspo"
      ],
      "id": "9118056f",
      "execution_count": null,
      "outputs": []
    },
    {
      "cell_type": "markdown",
      "metadata": {},
      "source": [
        "Ejecutar la segmentación con optimización"
      ],
      "id": "ebd1cd0a"
    },
    {
      "cell_type": "code",
      "metadata": {},
      "source": [
        "# run segmentation with uspo\n",
        "i.segment.uspo group=spot_bands \\\n",
        "  output=uspo_parameters.csv \\\n",
        "  region=obia_subset \\\n",
        "  seeds=superpixels \\\n",
        "  segment_map=segs \\\n",
        "  threshold_start=0.005 \\\n",
        "  threshold_stop=0.05 \\\n",
        "  threshold_step=0.005 \\\n",
        "  minsizes=3 number_best=5 \\\n",
        "  memory=2000 processes=4"
      ],
      "id": "eebf156f",
      "execution_count": null,
      "outputs": []
    },
    {
      "cell_type": "markdown",
      "metadata": {},
      "source": [
        "Convertir el \"mejor\" resultado a vector"
      ],
      "id": "e92b72df"
    },
    {
      "cell_type": "code",
      "metadata": {},
      "source": [
        "# convert to vector the rank1\n",
        "r.to.vect -tv \\\n",
        "  input=segs_obia_subset_rank1 \\\n",
        "  output=segs \\\n",
        "  type=area"
      ],
      "id": "39b607b4",
      "execution_count": null,
      "outputs": []
    },
    {
      "cell_type": "markdown",
      "metadata": {},
      "source": [
        "Zoom al resultado de ejecutar la segmentación con USPO\n",
        "\n",
        "![](../assets/img/result_uspo.png)\n",
        "\n",
        "> Cuántos segmentos obtuvieron?\n",
        "\n",
        "Dar una mirada a [v.info](https://grass.osgeo.org/grass-stable/manuals/v.info.html)\n",
        "\n",
        "\n",
        "### Estadísticas: [i.segment.stats](https://grass.osgeo.org/grass-stable/manuals/addons/i.segment.stats.html)\n",
        "\n",
        "\n",
        "Instalar las extensiones"
      ],
      "id": "71bfc6ec"
    },
    {
      "cell_type": "code",
      "metadata": {},
      "source": [
        "# install extensions\n",
        "g.extension i.segment.stats\n",
        "g.extension r.object.geometry"
      ],
      "id": "4e05405a",
      "execution_count": null,
      "outputs": []
    },
    {
      "cell_type": "markdown",
      "metadata": {},
      "source": [
        "Ejecutar *i.segment.stats*"
      ],
      "id": "bb7e8351"
    },
    {
      "cell_type": "code",
      "metadata": {},
      "source": [
        "# extract stats for segments\n",
        "i.segment.stats \\\n",
        "  map=segs_obia_subset_rank1 \\\n",
        "  rasters=SPOT_20180621_ASM,SPOT_20180621_IDM,SPOT_20180621_NDVI,SPOT_20180621_NDWI,SPOT_20180621_PAN \\\n",
        "  raster_statistics=mean,stddev \\\n",
        "  area_measures=area,perimeter,compact_circle,compact_square \\\n",
        "  vectormap=segs_stats \\\n",
        "  processes=4"
      ],
      "id": "a50f6d3c",
      "execution_count": null,
      "outputs": []
    },
    {
      "cell_type": "markdown",
      "metadata": {},
      "source": [
        "Tabla de atributos con las estadísticas estimadas para cada objeto\n",
        "\n",
        "![](../assets/img/segs_stats_attr_table.png)\n",
        "\n",
        "### Datos de entrenamiento\n",
        "\n",
        "Info básica de los puntos de entrenamiento provistos"
      ],
      "id": "ba144874"
    },
    {
      "cell_type": "code",
      "metadata": {},
      "source": [
        "# get info of labeled points\n",
        "v.info labeled_points"
      ],
      "id": "24929b6b",
      "execution_count": null,
      "outputs": []
    },
    {
      "cell_type": "markdown",
      "metadata": {},
      "source": [
        "Copiarse el vector al mapset `obia_spot`"
      ],
      "id": "b9f92f45"
    },
    {
      "cell_type": "code",
      "metadata": {},
      "source": [
        "# copy vector to current mapset (access to tables from different mapsets is not allowed)\n",
        "g.copy vector=labeled_points@PERMANENT,labeled_points"
      ],
      "id": "4550b14d",
      "execution_count": null,
      "outputs": []
    },
    {
      "cell_type": "markdown",
      "metadata": {},
      "source": [
        "Cuántos puntos de cada clase tenemos?"
      ],
      "id": "6b6ef366"
    },
    {
      "cell_type": "code",
      "metadata": {},
      "source": [
        "# get number of points per class\n",
        "db.select \\\n",
        "  sql=\"SELECT train_class,COUNT(cat) as count_class\n",
        "       FROM labeled_points\n",
        "       GROUP BY train_class\""
      ],
      "id": "4b55aed5",
      "execution_count": null,
      "outputs": []
    },
    {
      "cell_type": "markdown",
      "metadata": {},
      "source": [
        "Seleccionar segmentos sobre los cuales tenemos puntos de entrenamiento"
      ],
      "id": "c0bc72ca"
    },
    {
      "cell_type": "code",
      "metadata": {},
      "source": [
        "# select segments that are below labeled points\n",
        "v.select \\\n",
        "  ainput=segs_stats \\\n",
        "  binput=labeled_points \\\n",
        "  output=train_segments \\\n",
        "  operator=overlap"
      ],
      "id": "0a1d3450",
      "execution_count": null,
      "outputs": []
    },
    {
      "cell_type": "markdown",
      "metadata": {},
      "source": [
        "Cuántos segmentos contienen puntos de entrenamiento?"
      ],
      "id": "f5352c5c"
    },
    {
      "cell_type": "code",
      "metadata": {},
      "source": [
        "# get info of segments\n",
        "v.info train_segments"
      ],
      "id": "e3ac232e",
      "execution_count": null,
      "outputs": []
    },
    {
      "cell_type": "markdown",
      "metadata": {},
      "source": [
        "Selección de segmentos con puntos de entrenamiento\n",
        "\n",
        "![](../assets/img/points_in_segments.png)\n",
        "\n",
        "\n",
        "### Datos de entrenamiento\n",
        "\n",
        "Agregar columna al vector con los segmentos para luego transferir la clase"
      ],
      "id": "4129c96f"
    },
    {
      "cell_type": "code",
      "metadata": {},
      "source": [
        "# add column to train segments\n",
        "v.db.addcolumn train_segments \\\n",
        "  column=\"class int\""
      ],
      "id": "dcede503",
      "execution_count": null,
      "outputs": []
    },
    {
      "cell_type": "markdown",
      "metadata": {},
      "source": [
        "Asignar la clase de los puntos a los segmentos"
      ],
      "id": "e80a66c2"
    },
    {
      "cell_type": "code",
      "metadata": {},
      "source": [
        "# assign label from points to segments\n",
        "v.distance from=train_segments \\\n",
        "  to=labeled_points \\\n",
        "  upload=to_attr \\\n",
        "  column=class \\\n",
        "  to_column=train_class"
      ],
      "id": "504bc883",
      "execution_count": null,
      "outputs": []
    },
    {
      "cell_type": "markdown",
      "metadata": {},
      "source": [
        "Cuántos segmentos de cada clase tenemos?"
      ],
      "id": "aa8a62a3"
    },
    {
      "cell_type": "code",
      "metadata": {},
      "source": [
        "# group training segments per class\n",
        "db.select \\\n",
        "  sql=\"SELECT class,COUNT(cat) as count_class\n",
        "       FROM train_segments\n",
        "       GROUP BY class\""
      ],
      "id": "b89a378d",
      "execution_count": null,
      "outputs": []
    },
    {
      "cell_type": "markdown",
      "metadata": {},
      "source": [
        "#### Datos de entrenamiento\n",
        "\n",
        "![](../assets/img/assign_color_to_train_segments.png)\n",
        "\n",
        "Asignación de colores interactivamente\n",
        "\n",
        "- Ir agregando valores\n",
        "- Seleccionar colores \n",
        "- Previsualizar\n",
        "- Guardar la paleta creada como *obia_urban* para reusar posteriormente\n",
        "\n",
        "\n",
        "Selección y etiquetado de datos de entrenamiento y validación\n",
        "\n",
        "- Ejecutar una clasificación no supervisada con 10 clases\n",
        "- Extraer una *x* cantidad de puntos por clase ([r.sample.category](https://grass.osgeo.org/grass-stable/manuals/addons/r.sample.category.html))\n",
        "- Etiquetar los puntos manualmente\n",
        "- Usar puntos para transferir las etiquetas a los segmentos como ya vimos\n"
      ],
      "id": "7ca0d9aa"
    },
    {
      "cell_type": "code",
      "metadata": {},
      "source": [
        "# Unsupervised classification\n",
        "i.group group=spot_all \\\n",
        "  input=SPOT_20180621_ASM,SPOT_20180621_IDM,SPOT_20180621_NDVI,SPOT_20180621_NDWI,SPOT_20180621_PAN,SPOT_20180621_PANSHARP.1,SPOT_20180621_PANSHARP.2,SPOT_20180621_PANSHARP.3,SPOT_20180621_PANSHARP.4\n",
        "i.cluster group=spot_all signaturefile=sig classes=10\n",
        "i.maxlik group=spot_all signaturefile=sig output=uns_clas\n",
        "\n",
        "# install extension\n",
        "g.extension r.sample.category\n",
        "\n",
        "# get n points per class\n",
        "r.sample.category input=uns_clas \\\n",
        "  output=uns_clas_points \\\n",
        "  npoints=150\n",
        "\n",
        "# Manually label points"
      ],
      "id": "6edb2f9a",
      "execution_count": null,
      "outputs": []
    },
    {
      "cell_type": "markdown",
      "metadata": {},
      "source": [
        "### Clasificación con Machine learning\n",
        "\n",
        "Instalar la extensión"
      ],
      "id": "ef1b570e"
    },
    {
      "cell_type": "code",
      "metadata": {},
      "source": [
        "# install extension\n",
        "g.extension v.class.mlR"
      ],
      "id": "4157de84",
      "execution_count": null,
      "outputs": []
    },
    {
      "cell_type": "markdown",
      "metadata": {},
      "source": [
        "Ejecutar la clasificación"
      ],
      "id": "0a9b5377"
    },
    {
      "cell_type": "code",
      "metadata": {},
      "source": [
        "# run classification\n",
        "v.class.mlR -nf \\\n",
        "  segments_map=segs_stats \\\n",
        "  training_map=train_segments \\\n",
        "  train_class_column=class \\\n",
        "  output_class_column=class_rf \\\n",
        "  classified_map=classification \\\n",
        "  raster_segments_map=segs_obia_subset_rank1 \\\n",
        "  classifier=rf \\\n",
        "  folds=5 partitions=10 tunelength=10 \\\n",
        "  weighting_modes=smv \\\n",
        "  weighting_metric=accuracy \\\n",
        "  output_model_file=model \\\n",
        "  variable_importance_file=var_imp.txt \\\n",
        "  accuracy_file=accuracy.csv \\\n",
        "  classification_results=all_results.csv \\\n",
        "  model_details=classifier_runs.txt \\\n",
        "  r_script_file=Rscript_mlR.R \\\n",
        "  processes=4"
      ],
      "id": "b28f230f",
      "execution_count": null,
      "outputs": []
    },
    {
      "cell_type": "markdown",
      "metadata": {},
      "source": [
        "Establecer paleta de colores"
      ],
      "id": "395ea18c"
    },
    {
      "cell_type": "code",
      "metadata": {},
      "source": [
        "# set color table that we created interactively\n",
        "r.colors \\\n",
        "  map=classification_rf \\\n",
        "  rules=obia_urban"
      ],
      "id": "87acc32e",
      "execution_count": null,
      "outputs": []
    },
    {
      "cell_type": "markdown",
      "metadata": {},
      "source": [
        "Resultado de la clasificación supervisada con Machine Learning basada en objetos"
      ],
      "id": "cf94cb78"
    },
    {
      "cell_type": "markdown",
      "metadata": {},
      "source": [
        "> El proceso de clasificación usualmente conlleva una serie de iteraciones que implican selección de variables más importantes, búsqueda de más/mejores datos de entrenamiento y validación\n",
        "\n",
        "\n",
        "### Validación\n",
        "\n",
        "- Se usan datos independientes para validar las clasificaciones\n",
        "- Se construye una **matriz de confusión** que permite visualizar los errores por clase en los elementos que están fuera de la diagonal\n",
        "- Se estiman varias medidas relacionadas a la precisión, ej.: **overall accuracy** y **kappa**\n",
        "\n",
        "\n",
        "### Validación\n",
        "\n",
        "Distintas opciones:\n",
        "1. Generar un nuevo set de puntos y etiquetarlos\n",
        "2. Separar el set de puntos etiquetados en *train* y *test* de antemano\n",
        "\n",
        "\n",
        "#### Validación en GRASS GIS\n",
        "\n",
        "[r.kappa](https://grass.osgeo.org/grass-stable/manuals/r.kappa.html)\n",
        "\n",
        "- Necesita mapas raster como *input*\n",
        "  - Transformar los segmentos de validación a formato raster usando la columna *`class`* como fuente de valores para los pixeles\n",
        "\n",
        "\n",
        "> Tarea \n",
        ">\n",
        "> Generar un set de validación de al menos 50 segmentos y ejecutar [**r.kappa**](https://grass.osgeo.org/grass-stable/manuals/r.kappa.html)\n",
        "\n",
        "\n",
        "#### Validación en GRASS GIS\n",
        "\n",
        "Una vez creado el vector de segmentos con etiquetas *testing*, convertirlo a formato raster"
      ],
      "id": "52ce4a00"
    },
    {
      "cell_type": "code",
      "metadata": {},
      "source": [
        "# convert labeled test segments to raster\n",
        "v.to.rast map=testing \\\n",
        "  use=attr \\\n",
        "  attribute_column=class \\\n",
        "  output=testing"
      ],
      "id": "1a30fe64",
      "execution_count": null,
      "outputs": []
    },
    {
      "cell_type": "markdown",
      "metadata": {},
      "source": [
        "Ejecutar *r.kappa*"
      ],
      "id": "623b4fa0"
    },
    {
      "cell_type": "code",
      "metadata": {},
      "source": [
        "# create confusion matrix and estimate precision measures\n",
        "r.kappa \\\n",
        "  classification=classification_rf \\\n",
        "  reference=testing"
      ],
      "id": "c63ffcff",
      "execution_count": null,
      "outputs": []
    },
    {
      "cell_type": "markdown",
      "metadata": {},
      "source": [
        "Alternativamente, podemos separar el set de puntos etiquetados en *train* y *test*. Vamos a R.\n",
        "\n",
        "Cargar librerías\n",
        "\n",
        "```{r}\n",
        "# load libraries\n",
        "library(rgrass7)\n",
        "library(dplyr)\n",
        "```\n",
        "\n",
        "\n",
        "Leer el vector desde GRASS\n",
        "\n",
        "```{r}\n",
        "# load vector from GRASS\n",
        "v <- read_VECT(\"labeled_points\")\n",
        "```\n",
        "\n",
        "\n",
        "Crear set de validación\n",
        "\n",
        "```{r}\n",
        "# test dataset\n",
        "test <- v %>%\n",
        "        group_by(train_class) %>%\n",
        "        sample_frac(.3)\n",
        "\n",
        "table(test$train_class)\n",
        "```\n",
        "\n",
        "\n",
        "Separar set de entrenamiento\n",
        "\n",
        "```{r}\n",
        "# training dataset\n",
        "train <- v[!v$cat %in% test$cat,]\n",
        "```\n",
        "\n",
        "\n",
        "Escribir los vectores a GRASS nuevamente\n",
        "\n",
        "```{r}\n",
        "# write back into GRASS\n",
        "write_VECT(test, \"test\")\n",
        "write_VECT(train, \"train\")\n",
        "```\n",
        "\n",
        "\n",
        "\n",
        "> **Tarea**\n",
        ">\n",
        "> Ejecutar nuevamente la clasificación usando sólo el vector *train*\n",
        "\n",
        "\n",
        "Agregar columna al vector *test*"
      ],
      "id": "5f6e0ec5"
    },
    {
      "cell_type": "code",
      "metadata": {},
      "source": [
        "# add column to test point map\n",
        "v.db.addcolumn map=test \\\n",
        "  column=\"pred_class integer\""
      ],
      "id": "a548ff97",
      "execution_count": null,
      "outputs": []
    },
    {
      "cell_type": "markdown",
      "metadata": {},
      "source": [
        "Obtener las clases predichas para los segmentos de validación"
      ],
      "id": "781e56d0"
    },
    {
      "cell_type": "code",
      "metadata": {},
      "source": [
        "# query the classified map\n",
        "v.what.rast map=test \\\n",
        "  column=pred_class \\\n",
        "  raster=classification_rf"
      ],
      "id": "2ccbd49a",
      "execution_count": null,
      "outputs": []
    },
    {
      "cell_type": "markdown",
      "metadata": {},
      "source": [
        "#### Validación en R\n",
        "\n",
        "Leer el vector test que tiene la clase predicha\n",
        "\n",
        "```{r}\n",
        "# read the test vector\n",
        "test_complete <- readVECT(\"test\")\n",
        "```\n",
        "\n",
        "\n",
        "Cargar la librería *caret* y obtener la matriz de confusión\n",
        "\n",
        "```{r}\n",
        "# confusion matrix and evaluation stats\n",
        "library(caret)\n",
        "rf_CM <- confusionMatrix(as.factor(test_complete$pred_class),\n",
        "                         as.factor(test_complete$train_class))\n",
        "print(rf_CM)\n",
        "```\n",
        "\n",
        "\n",
        "\n",
        "> **Tarea**\n",
        ">\n",
        "> - Explorar el módulo [v.kcv](https://grass.osgeo.org/grass-stable/manuals/v.kcv.html)\n",
        "> - Cómo se podría haber utilizado para separar los puntos etiquetados en training y test?\n",
        "> - Cuál es la diferencia entre dicho módulo y la separación que realizamos en R?\n",
        "\n",
        "Dar una mirada a [v.divide.training_validation](https://github.com/mundialis/v.divide.training_validation)\n",
        "\n",
        "\n",
        "\n",
        "**Gracias por su atención!!**\n",
        "\n",
        "![GRASS GIS logo](assets/img/grass_logo_alphab.png)\n"
      ],
      "id": "60cf13bd"
    }
  ],
  "metadata": {
    "kernelspec": {
      "name": "python3",
      "language": "python",
      "display_name": "Python 3 (ipykernel)"
    }
  },
  "nbformat": 4,
  "nbformat_minor": 5
}