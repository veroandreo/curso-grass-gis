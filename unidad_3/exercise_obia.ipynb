{
 "cells": [
  {
   "cell_type": "raw",
   "id": "8eb7d6bb",
   "metadata": {},
   "source": [
    "---\n",
    "title: 'Ejercicio: OBIA en GRASS GIS'\n",
    "author: Verónica Andreo\n",
    "date: today\n",
    "format:\n",
    "  html:\n",
    "    code-tools: true\n",
    "    code-copy: true\n",
    "    code-fold: false\n",
    "execute:\n",
    "  eval: false\n",
    "  cache: false\n",
    "  keep-ipynb: true\n",
    "---"
   ]
  },
  {
   "cell_type": "markdown",
   "id": "8899def2",
   "metadata": {},
   "source": [
    "En este ejercicio vamos a ejemplificar el flujo de trabajo para realizar una\n",
    "clasificación supervisada basada en objetos con datos SPOT. \n",
    "\n",
    "Antes de empezar y para ganar tiempo, conectamos nuestro drive e instalamos \n",
    "GRASS en Google Colab.\n"
   ]
  },
  {
   "cell_type": "code",
   "execution_count": 1,
   "id": "4cc55463",
   "metadata": {},
   "outputs": [],
   "source": [
    "# import drive from google colab\n",
    "from google.colab import drive\n",
    "# mount drive\n",
    "drive.mount(\"/content/drive\")"
   ]
  },
  {
   "cell_type": "code",
   "execution_count": 2,
   "id": "7a06c651",
   "metadata": {},
   "outputs": [],
   "source": [
    "%%bash\n",
    "DEBIAN_FRONTEND=noninteractive \n",
    "sudo add-apt-repository ppa:ubuntugis/ubuntugis-unstable \n",
    "apt update \n",
    "apt install grass subversion grass-dev\n",
    "apt remove libproj22"
   ]
  },
  {
   "cell_type": "code",
   "execution_count": 3,
   "id": "d41b9bd5",
   "metadata": {},
   "outputs": [],
   "source": [
    "!grass --config path"
   ]
  },
  {
   "cell_type": "markdown",
   "id": "bd9d1d10",
   "metadata": {},
   "source": [
    "La función que usaremos en esta sesión para realizar clasificación supervisada de los\n",
    "objetos llama internamente a ciertas librerías de R. Para poder tenerlas de \n",
    "antemano en nuestro entorno, primero instalamos y cargamos en la notebook el \n",
    "paquete de python que nos permite hacer interfaz con R.\n"
   ]
  },
  {
   "cell_type": "code",
   "execution_count": 4,
   "id": "4b687415",
   "metadata": {},
   "outputs": [],
   "source": [
    "!pip install rpy2==3.5.1\n",
    "%reload_ext rpy2.ipython"
   ]
  },
  {
   "cell_type": "markdown",
   "id": "f6afb68d",
   "metadata": {},
   "source": [
    "Chequeamos nuestra sesión de R.\n"
   ]
  },
  {
   "cell_type": "code",
   "execution_count": 5,
   "id": "73b35d09",
   "metadata": {},
   "outputs": [],
   "source": [
    "%R sessionInfo()"
   ]
  },
  {
   "cell_type": "markdown",
   "id": "98d746c3",
   "metadata": {},
   "source": [
    "Instalamos todos los paquetes necesarios para este ejercicio. \n",
    "*This might take a while...*\n"
   ]
  },
  {
   "cell_type": "code",
   "execution_count": 6,
   "id": "0c79ff48",
   "metadata": {},
   "outputs": [],
   "source": [
    "%%R\n",
    "install.packages(\"caret\")\n",
    "install.packages(\"kernlab\")\n",
    "install.packages(\"e1071\")\n",
    "install.packages(\"randomForest\")\n",
    "install.packages(\"rpart\")\n",
    "install.packages(\"ggplot\")\n",
    "install.packages(\"lattice\")\n",
    "install.packages(\"doParallel\")"
   ]
  },
  {
   "cell_type": "markdown",
   "id": "dec47013",
   "metadata": {},
   "source": [
    "# Datos para esta sesión\n",
    "\n",
    ":::: columns\n",
    ":::{.column width=\"60%\"}\n",
    "![](../assets/img/obia_region.png)\n",
    ":::\n",
    "\n",
    ":::{.column width=\"40%\"}\n",
    "- [SPOT 6](https://www.eoportal.org/satellite-missions/spot-6-7)\n",
    "- Canales VIS - NIR (6 m)\n",
    "- Canal PAN (1.5 m)\n",
    "- Datos ya corregidos y fusionados; resolución 1.5 m\n",
    ":::\n",
    "::::\n",
    "\n",
    "# Manos a la obra\n",
    "\n",
    "## Iniciamos GRASS GIS\n",
    "\n",
    "Iniciamos GRASS GIS en el proyecto *posgar2007_4_cba* y mapset *PERMANENT*.\n"
   ]
  },
  {
   "cell_type": "code",
   "execution_count": 7,
   "id": "45403747",
   "metadata": {},
   "outputs": [],
   "source": [
    "import os\n",
    "\n",
    "# data directory\n",
    "homedir = \"/content/drive/MyDrive/curso_grass_2023\"\n",
    "\n",
    "# GRASS GIS database variables\n",
    "grassdata = os.path.join(homedir, \"grassdata\")\n",
    "project = \"posgar2007_4_cba\"\n",
    "mapset = \"PERMANENT\""
   ]
  },
  {
   "cell_type": "code",
   "execution_count": 8,
   "id": "7200975c",
   "metadata": {},
   "outputs": [],
   "source": [
    "# import standard Python packages we need\n",
    "import subprocess\n",
    "import sys\n",
    "\n",
    "# ask GRASS GIS where its Python packages are to be able to start it from the notebook\n",
    "sys.path.append(\n",
    "    subprocess.check_output([\"grass\", \"--config\", \"python_path\"], text=True).strip()\n",
    ")"
   ]
  },
  {
   "cell_type": "code",
   "execution_count": 9,
   "id": "bad00961",
   "metadata": {},
   "outputs": [],
   "source": [
    "# import the GRASS GIS packages we need\n",
    "import grass.script as gs\n",
    "import grass.jupyter as gj\n",
    "\n",
    "# start the GRASS GIS Session\n",
    "session = gj.init(grassdata, project, mapset)"
   ]
  },
  {
   "cell_type": "markdown",
   "id": "be5b9296",
   "metadata": {},
   "source": [
    ":::{.callout-warning title=\"Tarea\"}\n",
    "- Crear un mapset llamado *`obia_spot`* e importar allí las bandas VIS-NIR y PAN\n",
    "de la imagen SPOT con reproyección al vuelo y resolución espacial de 1.5 m.\n",
    "- Alinear la región computacional a la extensión y resolución de alguna de las \n",
    "bandas importadas.\n",
    "- Hacer una ecualización de histograma para mejorar el contraste de visualización.\n",
    "- Mostrar la combinación RGB color natural (1: azul, 2: verde, 3: rojo, 4: NIR).\n",
    ":::\n",
    "\n",
    "## Importar datos y visualizar\n",
    "\n",
    "Creamos el mapset *obia_spot*.\n"
   ]
  },
  {
   "cell_type": "code",
   "execution_count": 10,
   "id": "955caed4",
   "metadata": {},
   "outputs": [],
   "source": [
    "# Create a new mapset\n",
    "gs.run_command(\"g.mapset\",\n",
    "               mapset=\"obia_spot\",\n",
    "               flags=\"c\")"
   ]
  },
  {
   "cell_type": "markdown",
   "id": "da5b826a",
   "metadata": {},
   "source": [
    "Una vez creado el mapset, procedemos con la importación de datos. Empezamos por\n",
    "las bandas multi-espectrales.\n"
   ]
  },
  {
   "cell_type": "code",
   "execution_count": 11,
   "id": "256348e5",
   "metadata": {},
   "outputs": [],
   "source": [
    "spot_data = os.path.join(homedir, \"gisdata\", \"spot_data\")"
   ]
  },
  {
   "cell_type": "code",
   "execution_count": 12,
   "id": "723d5409",
   "metadata": {},
   "outputs": [],
   "source": [
    "# import pansharpened SPOT data\n",
    "gs.run_command(\"r.import\",\n",
    "               input=os.path.join(spot_data, \"SPOT_20180621_PANSHARP_p.tif\"),\n",
    "               output=\"SPOT_20180621_PANSHARP\",\n",
    "               resolution=\"value\",\n",
    "               resolution_value=1.5)"
   ]
  },
  {
   "cell_type": "markdown",
   "id": "fcf018f0",
   "metadata": {},
   "source": [
    "Importamos también la banda pancromática.\n"
   ]
  },
  {
   "cell_type": "code",
   "execution_count": 13,
   "id": "9727a833",
   "metadata": {},
   "outputs": [],
   "source": [
    "# import SPOT PAN band\n",
    "gs.run_command(\"r.import\",\n",
    "               input=os.path.join(spot_data, \"SPOT_20180621_PAN.tif\"),\n",
    "               output=\"SPOT_20180621_PAN\",\n",
    "               resolution=\"value\",\n",
    "               resolution_value=1.5)"
   ]
  },
  {
   "cell_type": "markdown",
   "id": "592ea655",
   "metadata": {},
   "source": [
    "Chequeamos la lista de mapas raster en el mapset.\n"
   ]
  },
  {
   "cell_type": "code",
   "execution_count": 14,
   "id": "9e94f9d5",
   "metadata": {},
   "outputs": [],
   "source": [
    "lista = gs.list_grouped(type=\"raster\")[\"obia_spot\"]\n",
    "lista"
   ]
  },
  {
   "cell_type": "markdown",
   "id": "eaf4f12b",
   "metadata": {},
   "source": [
    "Establecemos la región computacional a una de las bandas importadas, de modo que\n",
    "límites y resolución de la región queden alineados a los datos importados.\n"
   ]
  },
  {
   "cell_type": "code",
   "execution_count": 15,
   "id": "efc9b2db",
   "metadata": {},
   "outputs": [],
   "source": [
    "# align region to one of the raster bands\n",
    "gs.run_command(\"g.region\",\n",
    "               raster=\"SPOT_20180621_PANSHARP.1\",\n",
    "               flags=\"p\")"
   ]
  },
  {
   "cell_type": "markdown",
   "id": "c8691859",
   "metadata": {},
   "source": [
    "Establecemos *grey* como paleta de colores para las bandas RGB, para poder \n",
    "realizar la composición color natural posteriormente.\n"
   ]
  },
  {
   "cell_type": "code",
   "execution_count": 16,
   "id": "0d593dc7",
   "metadata": {},
   "outputs": [],
   "source": [
    "# apply grey color to RGB bands\n",
    "gs.run_command(\"r.colors\", \n",
    "               map=lista,\n",
    "               color=\"grey\")"
   ]
  },
  {
   "cell_type": "markdown",
   "id": "a8691897",
   "metadata": {},
   "source": [
    "Primero, hacemos la ecualización de colores para mejorar la visualización.\n"
   ]
  },
  {
   "cell_type": "code",
   "execution_count": 17,
   "id": "ee50af3d",
   "metadata": {},
   "outputs": [],
   "source": [
    "# perform color auto-balancing for RGB bands\n",
    "gs.run_command(\"i.colors.enhance\", \n",
    "               red=\"SPOT_20180621_PANSHARP.3\",\n",
    "               green=\"SPOT_20180621_PANSHARP.2\", \n",
    "               blue=\"SPOT_20180621_PANSHARP.1\",\n",
    "               strength=95)"
   ]
  },
  {
   "cell_type": "markdown",
   "id": "413e6872",
   "metadata": {},
   "source": [
    "Visualizamos la composición RGB 321 color natural.\n"
   ]
  },
  {
   "cell_type": "code",
   "execution_count": 18,
   "id": "dd422365",
   "metadata": {},
   "outputs": [],
   "source": [
    "# display the enhanced RGB combination\n",
    "cba_rgb = gj.Map(use_region=False)\n",
    "cba_rgb.d_rgb(red=\"SPOT_20180621_PANSHARP.3\",\n",
    "              green=\"SPOT_20180621_PANSHARP.2\",\n",
    "              blue=\"SPOT_20180621_PANSHARP.1\")\n",
    "cba_rgb.d_grid(size=2000, flags=\"b\")\n",
    "cba_rgb.show()"
   ]
  },
  {
   "cell_type": "markdown",
   "id": "154566ac",
   "metadata": {},
   "source": [
    "## Hay valores nulos?\n",
    "\n",
    "En la cadena de procesamiento que vamos a realizar, especialmente en los pasos \n",
    "de segmentación, no se admiten valores nulos en los mapas de entrada. Así que, \n",
    "como primer paso antes de proceder, chequeamos la estadística univariada para \n",
    "saber si hay valores nuelos en nuestros mapas.\n"
   ]
  },
  {
   "cell_type": "code",
   "execution_count": 19,
   "id": "9b38a2ec",
   "metadata": {},
   "outputs": [],
   "source": [
    "# one band\n",
    "print(gs.read_command(\"r.univar\",\n",
    "                      map=\"SPOT_20180621_PANSHARP.2\"))"
   ]
  },
  {
   "cell_type": "code",
   "execution_count": 20,
   "id": "47c363af",
   "metadata": {},
   "outputs": [],
   "source": [
    "# bands list\n",
    "pansharp = gs.list_grouped(type=\"raster\",\n",
    "                           pattern=\"*PANSHARP*\")[\"obia_spot\"]\n",
    "pansharp"
   ]
  },
  {
   "cell_type": "code",
   "execution_count": 21,
   "id": "39108c68",
   "metadata": {},
   "outputs": [],
   "source": [
    "# joint stats for all the bands\n",
    "print(gs.read_command(\"r.univar\",\n",
    "                      map=pansharp))"
   ]
  },
  {
   "cell_type": "markdown",
   "id": "73d66183",
   "metadata": {},
   "source": [
    ":::{.callout-important}\n",
    "Si hubiera valores nulos, se deben rellenar antes de comenzar! Qué herramientas \n",
    "podríamos utilizar?\n",
    ":::\n",
    "\n",
    "## Índices espectrales y texturas GLCM\n",
    "\n",
    "Como ya hicimos en los ejercicios anteriores, estimamos índices espectrales de \n",
    "vegetación y agua. \n"
   ]
  },
  {
   "cell_type": "code",
   "execution_count": 22,
   "id": "30729cfd",
   "metadata": {},
   "outputs": [],
   "source": [
    "# estimate vegetation index\n",
    "gs.run_command(\"i.vi\", \n",
    "               red=\"SPOT_20180621_PANSHARP.3\", \n",
    "               nir=\"SPOT_20180621_PANSHARP.4\", \n",
    "               output=\"SPOT_20180621_NDVI\", \n",
    "               viname=\"ndvi\")"
   ]
  },
  {
   "cell_type": "code",
   "execution_count": 23,
   "id": "57f779e4",
   "metadata": {},
   "outputs": [],
   "source": [
    "# estimate water index\n",
    "gs.run_command(\"i.wi\", \n",
    "               green=\"SPOT_20180621_PANSHARP.2\", \n",
    "               nir=\"SPOT_20180621_PANSHARP.4\", \n",
    "               output=\"SPOT_20180621_NDWI\", \n",
    "               winame=\"ndwi_mf\")"
   ]
  },
  {
   "cell_type": "code",
   "execution_count": 24,
   "id": "011b75a4",
   "metadata": {},
   "outputs": [],
   "source": [
    "# set ndwi color palette\n",
    "gs.run_command(\"r.colors\", \n",
    "               map=\"SPOT_20180621_NDWI\", \n",
    "               color=\"ndwi\")"
   ]
  },
  {
   "cell_type": "markdown",
   "id": "4aaacbd5",
   "metadata": {},
   "source": [
    "Por otra parte, vamos a estimar medidas de textura con [r.texture](https://grass.osgeo.org/grass-stable/manuals/r.texture.html). En \n",
    "este caso, elegimos Inverse Difference Moment (IDM) y Angular Second Moment \n",
    "(ASM), pero hay muchas otras opciones. Este módulo puede ser muy lento si la \n",
    "región computacional es muy grande y si el tamaño de la ventana es grande también. \n",
    "Para agilizar los cálculos en estos casos, se puede usar la extensión [r.texture.tiled](https://grass.osgeo.org/grass-stable/manuals/addons/r.texture.tiled.html).\n"
   ]
  },
  {
   "cell_type": "code",
   "execution_count": 25,
   "id": "2d59b832",
   "metadata": {},
   "outputs": [],
   "source": [
    "# estimate textures measures\n",
    "gs.run_command(\"r.texture\",\n",
    "               input=\"SPOT_20180621_PAN\",\n",
    "               output=\"SPOT_20180621\",\n",
    "               size=7,\n",
    "               distance=3,\n",
    "               method=\"idm,asm\")"
   ]
  },
  {
   "cell_type": "code",
   "execution_count": 26,
   "id": "e9e03209",
   "metadata": {},
   "outputs": [],
   "source": [
    "# set color table to grey for texture bands\n",
    "gs.run_command(\"r.colors\", \n",
    "               map=\"SPOT_20180621_IDM\", \n",
    "               color=\"grey\",\n",
    "               flags=\"e\")\n",
    "gs.run_command(\"r.colors\", \n",
    "               map=\"SPOT_20180621_ASM\", \n",
    "               color=\"grey\",\n",
    "               flags=\"e\")"
   ]
  },
  {
   "cell_type": "markdown",
   "id": "6a164c1e",
   "metadata": {},
   "source": [
    "Visualizamos las bandas creadas.\n"
   ]
  },
  {
   "cell_type": "code",
   "execution_count": 27,
   "id": "f7f8548a",
   "metadata": {},
   "outputs": [],
   "source": [
    "idx_map = gj.InteractiveMap(width = 400, use_region=False, tiles=\"OpenStreetMap\")\n",
    "idx_map.add_raster(\"SPOT_20180621_NDVI\", opacity=0.7)\n",
    "idx_map.add_raster(\"SPOT_20180621_NDWI\", opacity=0.7)\n",
    "idx_map.add_raster(\"SPOT_20180621_IDM\", opacity=0.7)\n",
    "idx_map.add_raster(\"SPOT_20180621_ASM\", opacity=0.7)\n",
    "idx_map.add_layer_control(position = \"bottomright\")\n",
    "idx_map.show()"
   ]
  },
  {
   "cell_type": "markdown",
   "id": "446b0d40",
   "metadata": {},
   "source": [
    ":::{.callout-note}\n",
    "Sobre qué banda calculamos las texturas? Si no contamos con una banda \n",
    "pancromática, podemos crearla promediando las bandas visibles\n"
   ]
  },
  {
   "cell_type": "code",
   "execution_count": 28,
   "id": "dc6b0448",
   "metadata": {},
   "outputs": [],
   "source": [
    "# create pan-vis from RGB (if no pan available)\n",
    "R = \"SPOT_20180621_PANSHARP.3\"\n",
    "G = \"SPOT_20180621_PANSHARP.2\"\n",
    "B = \"SPOT_20180621_PANSHARP.1\"\n",
    "\n",
    "gs.mapcalc(exp=f\"PANVIS = round(({R} + {G} + {B}) / 3)\""
   ]
  },
  {
   "cell_type": "markdown",
   "id": "68452cc3",
   "metadata": {},
   "source": [
    ":::\n",
    "\n",
    "## Segmentación\n",
    "\n",
    "### Búsqueda de umbrales de sub y sobre-segmentación\n",
    "\n",
    "Como vimos en el ejercicio anterior, usualmente, los módulos **i.\\*** toman un \n",
    "grupo de mapas como entrada. Antes de comenzar con la segmentación, entonces, \n",
    "creamos un grupo con las bandas multiespectrales únicamente.\n"
   ]
  },
  {
   "cell_type": "code",
   "execution_count": 29,
   "id": "f95830b4",
   "metadata": {},
   "outputs": [],
   "source": [
    "# create imagery group (only ms bands)\n",
    "gs.run_command(\"i.group\",\n",
    "               group=\"spot_bands\",\n",
    "               input=pansharp)"
   ]
  },
  {
   "cell_type": "markdown",
   "id": "23bce15c",
   "metadata": {},
   "source": [
    "Ahora vamos a aprovechar una de las grandes ventajas de la región computacional,\n",
    "i.e., definir una región más pequeña para realizar unas pruebas :)\n"
   ]
  },
  {
   "cell_type": "code",
   "execution_count": 30,
   "id": "1f424a22",
   "metadata": {},
   "outputs": [],
   "source": [
    "# set smaller region\n",
    "gs.run_command(\"g.region\",\n",
    "               n=6525171,\n",
    "               s=6523179,\n",
    "               w=4390557,\n",
    "               e=4393257)\n",
    "gs.run_command(\"g.region\",\n",
    "               save=\"obia_subset\")\n",
    "gs.region()"
   ]
  },
  {
   "cell_type": "markdown",
   "id": "91ac6ce2",
   "metadata": {},
   "source": [
    "Ahora sí, ejecutamos un par de segmentaciones para determinar niveles de sub- y \n",
    "sobre-segmentación. Empezamos con un umbral pequeño.\n"
   ]
  },
  {
   "cell_type": "code",
   "execution_count": 31,
   "id": "24441f6f",
   "metadata": {},
   "outputs": [],
   "source": [
    "# run segmentation - small threshold\n",
    "gs.run_command(\"i.segment\",\n",
    "               group=\"spot_bands\",\n",
    "               output=\"segment_001\",\n",
    "               threshold=0.01,\n",
    "               memory=2000)"
   ]
  },
  {
   "cell_type": "code",
   "execution_count": 32,
   "id": "66bbc73c",
   "metadata": {},
   "outputs": [],
   "source": [
    "# convert output to vector\n",
    "gs.run_command(\"r.to.vect\",\n",
    "               input=\"segment_001\",\n",
    "               output=\"segment_001\",\n",
    "               type=\"area\",\n",
    "               flags=\"tv\")"
   ]
  },
  {
   "cell_type": "code",
   "execution_count": 33,
   "id": "e3343715",
   "metadata": {},
   "outputs": [],
   "source": [
    "# display results\n",
    "segs = gj.Map(use_region=True)\n",
    "segs.d_rgb(red=\"SPOT_20180621_PANSHARP.3\",\n",
    "              green=\"SPOT_20180621_PANSHARP.2\",\n",
    "              blue=\"SPOT_20180621_PANSHARP.1\")\n",
    "segs.d_vect(map=\"segment_001\", type=\"boundary\", color=\"yellow\")\n",
    "segs.show()"
   ]
  },
  {
   "cell_type": "markdown",
   "id": "9a061700",
   "metadata": {},
   "source": [
    "Probamos con un umbral más grande.\n"
   ]
  },
  {
   "cell_type": "code",
   "execution_count": 34,
   "id": "15a26b7f",
   "metadata": {},
   "outputs": [],
   "source": [
    "# run segmentation - larger threshold\n",
    "gs.run_command(\"i.segment\",\n",
    "               group=\"spot_bands\",\n",
    "               output=\"segment_005\",\n",
    "               threshold=0.05,\n",
    "               memory=2000)"
   ]
  },
  {
   "cell_type": "code",
   "execution_count": 35,
   "id": "8252f588",
   "metadata": {},
   "outputs": [],
   "source": [
    "# convert output to vector\n",
    "gs.run_command(\"r.to.vect\",\n",
    "               input=\"segment_005\",\n",
    "               output=\"segment_005\",\n",
    "               type=\"area\",\n",
    "               flags=\"tv\")"
   ]
  },
  {
   "cell_type": "code",
   "execution_count": 36,
   "id": "e1cdeb06",
   "metadata": {},
   "outputs": [],
   "source": [
    "# display results\n",
    "segs = gj.Map(use_region=True)\n",
    "segs.d_rgb(red=\"SPOT_20180621_PANSHARP.3\",\n",
    "              green=\"SPOT_20180621_PANSHARP.2\",\n",
    "              blue=\"SPOT_20180621_PANSHARP.1\")\n",
    "segs.d_vect(map=\"segment_005\", type=\"boundary\", color=\"red\")\n",
    "segs.show()"
   ]
  },
  {
   "cell_type": "markdown",
   "id": "d2fa3c1e",
   "metadata": {},
   "source": [
    "Hagamos zoom sobre los resultados para cada umbral.\n",
    "\n",
    ":::: columns\n",
    ":::{.column width=\"50%\"}\n",
    "Sobre-segmentado\n",
    "\n",
    "![](../assets/img/over_segmented.png)\n",
    ":::\n",
    "\n",
    ":::{.column width=\"50%\"}\n",
    "Sub-segmentado\n",
    "\n",
    "![](../assets/img/sub_segmented.png)\n",
    ":::\n",
    "::::\n",
    "\n",
    ":::{.callout-warning title=\"Tarea\"}\n",
    "Se animan a probar con otros valores y en otras regiones?\n",
    ":::\n",
    "\n",
    "### Búsqueda automática de umbrales por optimización\n",
    "\n",
    "Teniendo valores de umbrales de sub- y sobre-segmentación, podemos proceder a \n",
    "realizar la segmentación de manera autómatica, buscando el mejor umbral en una \n",
    "especie de grilla definida por umbral mínimo, umbral máximo y paso. Para ello,\n",
    "utilizamos la extensión: \n",
    "[i.segment.uspo](https://grass.osgeo.org/grass-stable/manuals/addons/i.segment.uspo.html).\n",
    "\n",
    "Este procedimiento es computacionalmente intensivo para un área grande y muchas \n",
    "combinaciones de parámetros, pero siempre podemos:\n",
    "\n",
    "- Limitar el tamaño de la región computacional o generar *tiles* con [i.cutlines](https://grass.osgeo.org/grass-stable/manuals/addons/i.cutlines.html) \n",
    "y paralelizar la USPO.\n",
    "- Limitar el rango de los parámetros, o usar un paso relativamente grande.\n",
    "- Crear **superpixels** con [i.superpixels.slic](https://grass.osgeo.org/grass-stable/manuals/addons/i.superpixels.slic.html) para usarlos como semillas.\n",
    " \n",
    "#### Generación de semillas\n",
    "\n",
    "La extensión [i.superpixels.slic](https://grass.osgeo.org/grass-stable/manuals/addons/i.superpixels.slic.html)\n",
    "\n",
    "- También puede utilizarse para la segmentación per se, como vimos en el ejercicio anterior.\n",
    "- Es muy rápida para reagrupar pequeñas cantidades de píxeles similares.\n",
    "- Se puede usar para reducir el número de píxeles en un factor de 4-5 y acelerar *i.segment.uspo*, que ya no empieza por pixeles individuales, sino por pequeños grupos de pixeles similares.\n",
    "- Se usa baja compactación para mantener la separación espectral (Ver el manual: *A larger compactness value will cause spatially more compact, but spectrally more heterogeneous superpixels*).\n",
    "\n",
    "### USPO con superpixels como semillas\n",
    "\n",
    "Vamos a ejecutar entonces *i.superpixels.slic* con bajo valor de compactación \n",
    "para generar el semillero para *i.segment.uspo*.\n"
   ]
  },
  {
   "cell_type": "code",
   "execution_count": 37,
   "id": "824bf372",
   "metadata": {},
   "outputs": [],
   "source": [
    "# run superpixel segmentation to use as seeds\n",
    "gs.run_command(\"i.superpixels.slic\",\n",
    "               input=\"spot_bands\",\n",
    "               output=\"superpixels\",\n",
    "               step=2,\n",
    "               compactness=0.7,\n",
    "               memory=2000)"
   ]
  },
  {
   "cell_type": "markdown",
   "id": "8a630f83",
   "metadata": {},
   "source": [
    "Acá podemos ver un recorte de la composición RGB y el resultado de la ejecución \n",
    "de *i.superpixels.slic*.\n",
    "\n",
    "![](../assets/img/superpixels.png)\n",
    "\n",
    ":::{.callout-warning title=\"Tarea\"}\n",
    "Cuántas semillas se generaron? Qué factor de reducción se consigue en comparación\n",
    "a usar todos los pixeles?\n",
    "\n",
    "Para responder pueden dar una mirada a los manuales de [r.info](https://grass.osgeo.org/grass-stable/manuals/r.info.html) y [g.region](https://grass.osgeo.org/grass-stable/manuals/g.region.html).\n",
    ":::\n",
    "\n",
    "Instalamos las extensiones y ejecutamos la segmentación con optimización.\n"
   ]
  },
  {
   "cell_type": "code",
   "execution_count": 38,
   "id": "c63da916",
   "metadata": {},
   "outputs": [],
   "source": [
    "# install extensions\n",
    "gs.run_command(\"g.extension\", \n",
    "               extension=\"r.neighborhoodmatrix\")\n",
    "gs.run_command(\"g.extension\", \n",
    "               extension=\"i.segment.uspo\")"
   ]
  },
  {
   "cell_type": "code",
   "execution_count": 39,
   "id": "a992ad7e",
   "metadata": {},
   "outputs": [],
   "source": [
    "# run segmentation with uspo\n",
    "gs.run_command(\"i.segment.uspo\",\n",
    "               group=\"spot_bands\",\n",
    "               output=\"uspo_parameters.csv\",\n",
    "               region=\"obia_subset\",\n",
    "               seeds=\"superpixels\",\n",
    "               segment_map=\"segs\",\n",
    "               threshold_start=0.005,\n",
    "               threshold_stop=0.05,\n",
    "               threshold_step=0.005,\n",
    "               minsizes=3, \n",
    "               number_best=5,\n",
    "               memory=2000,\n",
    "               processes=6)"
   ]
  },
  {
   "cell_type": "code",
   "execution_count": 40,
   "id": "6888d9f0",
   "metadata": {},
   "outputs": [],
   "source": [
    "# explore results\n",
    "gs.list_grouped(type=\"raster\", \n",
    "                pattern=\"segs_*\")[\"obia_spot\"]"
   ]
  },
  {
   "cell_type": "code",
   "execution_count": 41,
   "id": "65bc9ca8",
   "metadata": {},
   "outputs": [],
   "source": [
    "!cat uspo_parameters.csv"
   ]
  },
  {
   "cell_type": "markdown",
   "id": "1180eba1",
   "metadata": {},
   "source": [
    "Convertimos el mejor resultado, i.e., *\\*rank1* a vector para visualizar el \n",
    "resultado.\n"
   ]
  },
  {
   "cell_type": "code",
   "execution_count": 42,
   "id": "a009d571",
   "metadata": {},
   "outputs": [],
   "source": [
    "# convert to vector the rank1\n",
    "gs.run_command(\"r.to.vect\",\n",
    "               input=\"segs_obia_subset_rank1\",\n",
    "               output=\"segs\",\n",
    "               type=\"area\",\n",
    "               flags=\"tv\")"
   ]
  },
  {
   "cell_type": "markdown",
   "id": "0755f1ed",
   "metadata": {},
   "source": [
    "Zoom al resultado de ejecutar la segmentación con USPO\n",
    "\n",
    "![](../assets/img/result_uspo.png)\n",
    "\n",
    ":::{.callout-warning title=\"Tarea\"}\n",
    "Cuántos segmentos obtuvieron?\n",
    "\n",
    "Dar una mirada a [v.info](https://grass.osgeo.org/grass-stable/manuals/v.info.html) \n",
    "para responder.\n",
    ":::\n",
    "\n",
    "## Estadísticas de segmentos: [i.segment.stats](https://grass.osgeo.org/grass-stable/manuals/addons/i.segment.stats.html)\n",
    "\n",
    "Instalamos la extensión que nos permite extraer estadísticas para los segmentos \n",
    "obtenidos en el paso anterior.\n"
   ]
  },
  {
   "cell_type": "code",
   "execution_count": 43,
   "id": "1b57a545",
   "metadata": {},
   "outputs": [],
   "source": [
    "# install extensions\n",
    "gs.run_command(\"g.extension\", \n",
    "               extension=\"i.segment.stats\")"
   ]
  },
  {
   "cell_type": "code",
   "execution_count": 44,
   "id": "9a7497cb",
   "metadata": {},
   "outputs": [],
   "source": [
    "# extract stats for all segments \n",
    "# Note: vectormap output does not work for this dataset, see loong workaround with csv output in further steps\n",
    "gs.run_command(\"i.segment.stats\",\n",
    "               map=\"segs_obia_subset_rank1\",\n",
    "               csvfile=\"segs_stats.csv\",\n",
    "               rasters=\"SPOT_20180621_ASM,SPOT_20180621_IDM,SPOT_20180621_NDVI,SPOT_20180621_NDWI,SPOT_20180621_PAN\",\n",
    "               raster_statistics=\"mean,stddev\",\n",
    "               area_measures=\"area,perimeter,compact_circle,compact_square\",\n",
    "               processes=4)"
   ]
  },
  {
   "cell_type": "markdown",
   "id": "0361a961",
   "metadata": {},
   "source": [
    "Visualizamos el csv resultante con la estadística por segmentos.\n"
   ]
  },
  {
   "cell_type": "code",
   "execution_count": 45,
   "id": "17d8ea21",
   "metadata": {},
   "outputs": [],
   "source": [
    "!cat segs_stats.csv | head"
   ]
  },
  {
   "cell_type": "markdown",
   "id": "b69a4dab",
   "metadata": {},
   "source": [
    ":::{.callout-warning title=\"Tarea\"} \n",
    "Qué otras estadísticas se podrían obtener? \n",
    "Qué otro(s) módulo(s) podría(n) sustituir a *i.segment.stats*? \n",
    ":::\n",
    "\n",
    "## Datos de entrenamiento\n",
    "\n",
    "Tenemos nuestros segmentos caracterizados, pero nos falta un dato fundamental \n",
    "para poder realizar una clasificación supervisada... la verdad de terreno, i.e., \n",
    "a qué clase pertenece una muestra de todos los segmentos del área de estudio. \n",
    "Como etiquetar segmentos o puntos es una tarea tediosa, se provee dentro del \n",
    "mapset `PERMANENT` un conjunto de puntos con etiqueta para realizar el \n",
    "entrenamiento. Veamos cuántos puntos tenemos.\n"
   ]
  },
  {
   "cell_type": "code",
   "execution_count": 46,
   "id": "881714d2",
   "metadata": {},
   "outputs": [],
   "source": [
    "# get info of labeled points\n",
    "gs.vector_info_topo(\"labeled_points\")"
   ]
  },
  {
   "cell_type": "markdown",
   "id": "708b290a",
   "metadata": {},
   "source": [
    "Como el acceso a tablas de otros mapsets no está permitido, nos copiamos el \n",
    "vector con los puntos etiquetados al mapset `obia_spot`.\n"
   ]
  },
  {
   "cell_type": "code",
   "execution_count": 47,
   "id": "c9a1558a",
   "metadata": {},
   "outputs": [],
   "source": [
    "# copy vector to current mapset (access to tables from different mapsets is not allowed)\n",
    "gs.run_command(\"g.copy\",\n",
    "               vector=\"labeled_points@PERMANENT,labeled_points\")"
   ]
  },
  {
   "cell_type": "markdown",
   "id": "98f45773",
   "metadata": {},
   "source": [
    "Cuántos puntos de cada clase tenemos?\n"
   ]
  },
  {
   "cell_type": "code",
   "execution_count": 48,
   "id": "0563b4b5",
   "metadata": {},
   "outputs": [],
   "source": [
    "# get number of points per class\n",
    "print(gs.read_command(\"db.select\",\n",
    "                      sql=\"SELECT train_class,COUNT(cat) as count_class FROM labeled_points GROUP BY train_class\"))"
   ]
  },
  {
   "cell_type": "markdown",
   "id": "6e27e610",
   "metadata": {},
   "source": [
    "Seleccionar segmentos sobre los cuales tenemos puntos de entrenamiento\n"
   ]
  },
  {
   "cell_type": "code",
   "execution_count": 49,
   "id": "46fdaf8e",
   "metadata": {},
   "outputs": [],
   "source": [
    "# select segments that are below labeled points\n",
    "gs.run_command(\"v.select\",\n",
    "               ainput=\"segs\",\n",
    "               binput=\"labeled_points\",\n",
    "               output=\"train_segments\",\n",
    "               operator=\"overlap\")"
   ]
  },
  {
   "cell_type": "markdown",
   "id": "b24c26a8",
   "metadata": {},
   "source": [
    "Cuántos segmentos contienen puntos de entrenamiento?\n"
   ]
  },
  {
   "cell_type": "code",
   "execution_count": 50,
   "id": "2094ce93",
   "metadata": {},
   "outputs": [],
   "source": [
    "# get info of segments\n",
    "gs.vector_info_topo(map=\"train_segments\")"
   ]
  },
  {
   "cell_type": "markdown",
   "id": "6c547ee8",
   "metadata": {},
   "source": [
    "Veamos un zoom a la selección de segmentos con puntos de entrenamiento.\n",
    "\n",
    "![](../assets/img/points_in_segments.png)\n",
    "\n",
    "Antes de asignar el atributo de los puntos a los segmentos, necesitamos agregar \n",
    "una tabla y una columna al vector con los segmentos.\n"
   ]
  },
  {
   "cell_type": "code",
   "execution_count": 51,
   "id": "b18bfedd",
   "metadata": {},
   "outputs": [],
   "source": [
    "# add attr table to train segments\n",
    "gs.run_command(\"v.db.addtable\",\n",
    "               map=\"train_segments\")"
   ]
  },
  {
   "cell_type": "code",
   "execution_count": 52,
   "id": "6753f871",
   "metadata": {},
   "outputs": [],
   "source": [
    "# add column to train segments\n",
    "gs.run_command(\"v.db.addcolumn\",\n",
    "               map=\"train_segments\",\n",
    "               column=\"class int\")"
   ]
  },
  {
   "cell_type": "markdown",
   "id": "1318632b",
   "metadata": {},
   "source": [
    "Ahora sí, usamos el módulo [v.distance](https://grass.osgeo.org/grass-stable/manuals/v.distance.html) \n",
    "para transferir la etiqueta (clase de cobertura) desde los puntos a los segmentos\n"
   ]
  },
  {
   "cell_type": "code",
   "execution_count": 53,
   "id": "66dd3906",
   "metadata": {},
   "outputs": [],
   "source": [
    "# assign label from points to segments\n",
    "gs.run_command(\"v.distance\",\n",
    "               from_=\"train_segments\", \n",
    "               to=\"labeled_points\",\n",
    "               upload=\"to_attr\",\n",
    "               column=\"class\",\n",
    "               to_column=\"train_class\")"
   ]
  },
  {
   "cell_type": "markdown",
   "id": "70558c00",
   "metadata": {},
   "source": [
    "Cuántos segmentos de cada clase tenemos?\n"
   ]
  },
  {
   "cell_type": "code",
   "execution_count": 54,
   "id": "76147879",
   "metadata": {},
   "outputs": [],
   "source": [
    "# group training segments per class\n",
    "!db.select sql=\"SELECT class,COUNT(cat) as count_class FROM train_segments GROUP BY class\""
   ]
  },
  {
   "cell_type": "markdown",
   "id": "d7257436",
   "metadata": {},
   "source": [
    "Como, por alguna razón, para estos datos, no pudimos obtener un vector a partir \n",
    "de i.segment.stats, necesitamos hacer un \"workaround\" para obtener, en cambio, \n",
    "un csv con los segmentos de entrenamiento, sus estadísticas y sus etiquetas. \n",
    "Para eso, haremos lo siguiente:\n",
    "\n",
    "- convertir a raster el vector `train_segments` con las etiquetas para poder \n",
    "obtener las estadísticas con i.segment.stats,\n",
    "- obtener las estadísticas para los segmentos de entrenamiento únicamente con \n",
    "i.segment.stats,\n",
    "- importar a GRASS la tabla csv resultante (Sí, podemos importar tablas a GRASS!),\n",
    "- unir el vector de segmentos de entrenamiento que tiene las etiquetas con la \n",
    "tabla con las estadísticas,\n",
    "- eliminar la columna cat_ resultante de la unión, ya que no es un atributo para \n",
    "la clasificación, y\n",
    "- exportar la nueva tabla de atributos como csv.\n",
    "\n",
    "Si, de i.segment.stats ustedes pueden obtener un vector, la tarea es mucho más \n",
    "sencilla: \n",
    "```\n",
    "# select segments that are below labeled points\n",
    "v.select \\\n",
    "  ainput=segs_stats \\ # vector obtenido con i.segment.stats\n",
    "  binput=labeled_points \\\n",
    "  output=train_segments \\\n",
    "  operator=overlap\n",
    "\n",
    "# add column to train segments\n",
    "v.db.addcolumn train_segments column=\"class int\"\n",
    "\n",
    "# assign label from points to segments\n",
    "v.distance from=train_segments \\\n",
    "  to=labeled_points \\\n",
    "  upload=to_attr \\\n",
    "  column=class \\\n",
    "  to_column=train_class\n",
    "```\n",
    "\n",
    "Empecemos...\n"
   ]
  },
  {
   "cell_type": "code",
   "execution_count": 55,
   "id": "3b6ddcec",
   "metadata": {},
   "outputs": [],
   "source": [
    "# convert train_segments vector to raster\n",
    "gs.run_command(\"v.to.rast\",\n",
    "               input=\"train_segments\",\n",
    "               output=\"train_segments\",\n",
    "               use=\"cat\")"
   ]
  },
  {
   "cell_type": "code",
   "execution_count": 56,
   "id": "d9cdbf18",
   "metadata": {},
   "outputs": [],
   "source": [
    "# extract stats for training segments\n",
    "gs.run_command(\"i.segment.stats\",\n",
    "               map=\"train_segments\",\n",
    "               csvfile=\"train_segs_stats.csv\",\n",
    "               separator=\"comma\",\n",
    "               rasters=\"SPOT_20180621_ASM,SPOT_20180621_IDM,SPOT_20180621_NDVI,SPOT_20180621_NDWI,SPOT_20180621_PAN\",\n",
    "               raster_statistics=\"mean,stddev\",\n",
    "               area_measures=\"area,perimeter,compact_circle,compact_square\",\n",
    "               processes=4)"
   ]
  },
  {
   "cell_type": "code",
   "execution_count": 57,
   "id": "6b9bd0d7",
   "metadata": {},
   "outputs": [],
   "source": [
    "!cat train_segs_stats.csv | head"
   ]
  },
  {
   "cell_type": "code",
   "execution_count": 58,
   "id": "43df636e",
   "metadata": {},
   "outputs": [],
   "source": [
    "# import csv table\n",
    "gs.run_command(\"db.in.ogr\",\n",
    "               input=\"train_segs_stats.csv\",\n",
    "               output=\"train_segs_stats\") # name of the table within GRASS"
   ]
  },
  {
   "cell_type": "code",
   "execution_count": 59,
   "id": "af807301",
   "metadata": {},
   "outputs": [],
   "source": [
    "print(gs.read_command(\"db.describe\",\n",
    "                      table=\"train_segs_stats\",\n",
    "                      flags=\"c\"))"
   ]
  },
  {
   "cell_type": "code",
   "execution_count": 60,
   "id": "284a9c1d",
   "metadata": {},
   "outputs": [],
   "source": [
    "# paste column class from train_segments to train_segs_stats.csv\n",
    "gs.run_command(\"v.db.join\",\n",
    "               map=\"train_segments\",\n",
    "               column=\"cat\",\n",
    "               other_table=\"train_segs_stats\",\n",
    "               other_column=\"cat_\")"
   ]
  },
  {
   "cell_type": "code",
   "execution_count": 61,
   "id": "d12f1787",
   "metadata": {},
   "outputs": [],
   "source": [
    "# drop cat_ column\n",
    "gs.run_command(\"v.db.dropcolumn\",\n",
    "               map=\"train_segments\",\n",
    "               columns=\"cat_\")"
   ]
  },
  {
   "cell_type": "code",
   "execution_count": 62,
   "id": "1d137056",
   "metadata": {},
   "outputs": [],
   "source": [
    "# save patched attr table as csv \n",
    "gs.run_command(\"v.db.select\",\n",
    "               map=\"train_segments\",\n",
    "               file=\"train_segs_stats_class.csv\")"
   ]
  },
  {
   "cell_type": "code",
   "execution_count": 63,
   "id": "08bcac51",
   "metadata": {},
   "outputs": [],
   "source": [
    "# check csv\n",
    "!cat train_segs_stats_class.csv | head"
   ]
  },
  {
   "cell_type": "code",
   "execution_count": 64,
   "id": "e8060286",
   "metadata": {},
   "outputs": [],
   "source": [
    "# remove column cat_ and save fixed csv\n",
    "# !cut --complement -f3 -d\"|\" train_segs_stats_class.csv > train_segs_stats_class_fix.csv"
   ]
  },
  {
   "cell_type": "markdown",
   "id": "a03a798f",
   "metadata": {},
   "source": [
    ":::{.callout-note title=\"Una forma de seleccionar y etiquetar datos de entrenamiento\"}\n",
    "- Ejecutar una clasificación no supervisada con 10 clases\n",
    "- Extraer una *x* cantidad de puntos por clase ([r.sample.category](https://grass.osgeo.org/grass-stable/manuals/addons/r.sample.category.html))\n",
    "- Etiquetar los puntos manualmente\n",
    "- Usar puntos para transferir las etiquetas a los segmentos como ya vimos\n",
    "\n",
    "```\n",
    "# Unsupervised classification\n",
    "i.group group=spot_all input=SPOT_20180621_ASM,SPOT_20180621_IDM,SPOT_20180621_NDVI,SPOT_20180621_NDWI,SPOT_20180621_PAN,SPOT_20180621_PANSHARP.1,SPOT_20180621_PANSHARP.2,SPOT_20180621_PANSHARP.3,SPOT_20180621_PANSHARP.4\n",
    "i.cluster group=spot_all signaturefile=sig classes=10\n",
    "i.maxlik group=spot_all signaturefile=sig output=uns_clas\n",
    "\n",
    "# install extension\n",
    "g.extension r.sample.category\n",
    "\n",
    "# get n points per class\n",
    "r.sample.category input=uns_clas output=uns_clas_points npoints=150\n",
    "\n",
    "# then, manually label points\n",
    "```\n",
    ":::\n",
    "\n",
    "## Clasificación con Machine learning\n",
    "\n",
    "Ahora sí, finalmente llegamos a la clasificación de los segmentos. Vamos a \n",
    "instalar la extensión \n",
    "[v.class.mlR](https://grass.osgeo.org/grass-stable/manuals/addons/v.class.mlR.html). \n",
    "Esta extensión usa paquetes de R para realizar la clasificación, por lo tanto \n",
    "necesitamos tener R y ciertos paquetes previamente instalados.\n"
   ]
  },
  {
   "cell_type": "code",
   "execution_count": 65,
   "id": "e2b5b75f",
   "metadata": {},
   "outputs": [],
   "source": [
    "# install extension\n",
    "gs.run_command(\"g.extension\", \n",
    "               extension=\"v.class.mlR\")"
   ]
  },
  {
   "cell_type": "code",
   "execution_count": 66,
   "id": "87e3a7d4",
   "metadata": {},
   "outputs": [],
   "source": [
    "# run classification\n",
    "gs.run_command(\"v.class.mlR\",\n",
    "               segments_file=\"segs_stats.csv\", # stats of all segments\n",
    "               training_file=\"train_segs_stats_class.csv\", # stats of training segs\n",
    "               train_class_column=\"class\",\n",
    "               classified_map=\"classification\",\n",
    "               raster_segments_map=\"segs_obia_subset_rank1\",\n",
    "               classifier=\"rf\",\n",
    "               folds=5,\n",
    "               partitions=10,\n",
    "               tunelength=10,\n",
    "               weighting_modes=\"smv\",\n",
    "               weighting_metric=\"accuracy\",\n",
    "               output_model_file=\"model\",\n",
    "               variable_importance_file=\"var_imp.txt\",\n",
    "               accuracy_file=\"accuracy.csv\",\n",
    "               model_details=\"classifier_runs.txt\",\n",
    "               r_script_file=\"Rscript_mlR.R\",\n",
    "               processes=2, # use more if available\n",
    "               flags=\"nf\")"
   ]
  },
  {
   "cell_type": "markdown",
   "id": "abe25394",
   "metadata": {},
   "source": [
    ":::{.callout-warning title=\"Tarea\"}\n",
    "Crear paleta de colores para las clases de cobertura urbana asignando colores \n",
    "interactivamente\n",
    "\n",
    "- Ir agregando valores\n",
    "- Seleccionar colores \n",
    "- Previsualizar\n",
    "- Guardar la paleta creada como *obia_urban* para reusar posteriormente\n",
    "\n",
    "![](../assets/img/assign_color_to_train_segments.png){width=70%}\n",
    ":::\n",
    "\n",
    "Aplicamos la paleta de colores que creamos.\n"
   ]
  },
  {
   "cell_type": "code",
   "execution_count": 67,
   "id": "13f98273",
   "metadata": {},
   "outputs": [],
   "source": [
    "# set color table that we created interactively\n",
    "gs.run_command(\"r.colors\",\n",
    "               map=\"classification_rf\",\n",
    "               rules=\"obia_urban\")"
   ]
  },
  {
   "cell_type": "markdown",
   "id": "10159f37",
   "metadata": {},
   "source": [
    "Visualizamos el resultado de la clasificación supervisada con Machine Learning \n",
    "basada en objetos\n"
   ]
  },
  {
   "cell_type": "code",
   "execution_count": 68,
   "id": "25e49028",
   "metadata": {},
   "outputs": [],
   "source": [
    "# display results\n",
    "obia = gj.Map(use_region=True)\n",
    "obia.d_rast(map=\"classification_rf\")\n",
    "obia.show()"
   ]
  },
  {
   "cell_type": "markdown",
   "id": "4b00270c",
   "metadata": {},
   "source": [
    "Revisemos los archivos auxiliares que obtuvimos de la ejecución de la \n",
    "clasificación por random forest.\n"
   ]
  },
  {
   "cell_type": "code",
   "execution_count": 69,
   "id": "57ea471c",
   "metadata": {},
   "outputs": [],
   "source": [
    "!cat var_imp.txt"
   ]
  },
  {
   "cell_type": "code",
   "execution_count": 70,
   "id": "4820337a",
   "metadata": {},
   "outputs": [],
   "source": [
    "!cat accuracy.csv"
   ]
  },
  {
   "cell_type": "code",
   "execution_count": 71,
   "id": "c27fd9de",
   "metadata": {},
   "outputs": [],
   "source": [
    "!cat classifier_runs.txt"
   ]
  },
  {
   "cell_type": "markdown",
   "id": "224c7fad",
   "metadata": {},
   "source": [
    ":::{.callout-important}\n",
    "El proceso de clasificación usualmente conlleva una serie de iteraciones que \n",
    "implican selección de variables más importantes, búsqueda de más/mejores datos \n",
    "de entrenamiento y validación\n",
    ":::\n",
    "\n",
    "## Validación\n",
    "\n",
    "- Se usan datos independientes para validar las clasificaciones\n",
    "- Se construye una **matriz de confusión** que permite visualizar los errores por \n",
    "clase en los elementos que están fuera de la diagonal\n",
    "- Se estiman varias medidas relacionadas a la precisión, ej.: **overall accuracy** \n",
    "y **kappa**\n",
    "\n",
    "Distintas opciones:\n",
    "1. Generar un nuevo set de puntos y etiquetarlos\n",
    "2. Separar el set de puntos etiquetados en *train* y *test* de antemano\n",
    "\n",
    "### Opción 1\n",
    "\n",
    ":::{.callout-warning title=\"Tarea\"}\n",
    "Generar un set de validación de al menos 50 segmentos. Una vez creado el vector \n",
    "de segmentos con etiquetas, *testing*, convertirlo a formato raster y ejecutar [**r.kappa**](https://grass.osgeo.org/grass-stable/manuals/r.kappa.html).\n",
    ":::\n",
    "\n",
    "[r.kappa](https://grass.osgeo.org/grass-stable/manuals/r.kappa.html) necesita \n",
    "mapas raster como *input*, por lo tanto necesitamos transformar los segmentos \n",
    "de validación a formato raster usando la columna *`class`* como fuente de valores \n",
    "para los pixeles.\n"
   ]
  },
  {
   "cell_type": "code",
   "execution_count": 72,
   "id": "4c529007",
   "metadata": {},
   "outputs": [],
   "source": [
    "# convert labeled test segments to raster\n",
    "gs.run_command(\"v.to.rast\",\n",
    "               map=\"testing\",\n",
    "               use=\"attr\",\n",
    "               attribute_column=\"class\",\n",
    "               output=\"testing\")"
   ]
  },
  {
   "cell_type": "code",
   "execution_count": 73,
   "id": "546343d2",
   "metadata": {},
   "outputs": [],
   "source": [
    "# create confusion matrix and estimate precision measures\n",
    "print(gs.read_command(\"r.kappa\",\n",
    "                      classification=\"classification_rf\",\n",
    "                      reference=\"testing\"))"
   ]
  },
  {
   "cell_type": "markdown",
   "id": "58158b65",
   "metadata": {},
   "source": [
    "### Opción 2\n",
    "\n",
    "Alternativamente, podemos separar el set de puntos etiquetados en *train* y *test*. \n",
    "Usemos la extensión \n",
    "[v.divide.training_validation](https://github.com/mundialis/v.divide.training_validation) \n",
    "creada por [mundialis](https://www.mundialis.de/en/).\n"
   ]
  },
  {
   "cell_type": "code",
   "execution_count": 74,
   "id": "531e1e07",
   "metadata": {},
   "outputs": [],
   "source": [
    "# install the extension\n",
    "gs.run_command(\"g.extension\",\n",
    "               extension=\"v.divide.training_validation\",\n",
    "               url=\"https://github.com/mundialis/v.divide.training_validation\")"
   ]
  },
  {
   "cell_type": "code",
   "execution_count": 75,
   "id": "032b9e5c",
   "metadata": {},
   "outputs": [],
   "source": [
    "# divide our labeled segments into train and test\n",
    "gs.run_command(\"v.divide.training_validation\",\n",
    "               input=\"train_segments\",\n",
    "               column=\"class\", \n",
    "               training=\"training\", \n",
    "               validation=\"testing\", \n",
    "               training_percent=30)"
   ]
  },
  {
   "cell_type": "markdown",
   "id": "57d0b049",
   "metadata": {},
   "source": [
    ":::{.callout-warning title=\"Tarea\"}\n",
    "Ejecutar nuevamente la clasificación usando sólo el vector *training*. Recordar \n",
    "convertir a csv.\n",
    ":::\n",
    "\n",
    "Agregamos la columna `pred_class` al vector *test*\n"
   ]
  },
  {
   "cell_type": "code",
   "execution_count": 76,
   "id": "9321c856",
   "metadata": {},
   "outputs": [],
   "source": [
    "# add column to test point map\n",
    "gs.run_command(\"v.db.addcolumn\",\n",
    "               map=\"testing\",\n",
    "               column=\"pred_class integer\")"
   ]
  },
  {
   "cell_type": "markdown",
   "id": "81b7a29e",
   "metadata": {},
   "source": [
    "Obtener las clases predichas para los segmentos de validación\n"
   ]
  },
  {
   "cell_type": "code",
   "execution_count": 77,
   "id": "ca25d067",
   "metadata": {},
   "outputs": [],
   "source": [
    "# query the classified map\n",
    "gs.run_command(\"v.what.rast\",\n",
    "               map=\"testing\",\n",
    "               column=\"pred_class\",\n",
    "               raster=\"classification_rf\")"
   ]
  },
  {
   "cell_type": "markdown",
   "id": "a52daae8",
   "metadata": {},
   "source": [
    ":::{.callout-warning title=\"Tarea\"}\n",
    "Covertir a raster y ejecutar r.kappa.\n",
    ":::\n"
   ]
  }
 ],
 "metadata": {
  "kernelspec": {
   "display_name": "Python 3 (ipykernel)",
   "language": "python",
   "name": "python3"
  }
 },
 "nbformat": 4,
 "nbformat_minor": 5
}
