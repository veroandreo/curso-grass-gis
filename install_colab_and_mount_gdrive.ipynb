{
  "cells": [
    {
      "cell_type": "raw",
      "metadata": {},
      "source": [
        "---\n",
        "title: Instalar software en Colab\n",
        "author: Verónica Andreo\n",
        "date: today\n",
        "format:\n",
        "  html:\n",
        "    code-tools: true\n",
        "    code-copy: true\n",
        "    code-fold: false\n",
        "execute:\n",
        "  eval: false\n",
        "  cache: false\n",
        "  keep-ipynb: true\n",
        "---"
      ],
      "id": "f7b84702"
    },
    {
      "cell_type": "markdown",
      "metadata": {},
      "source": [
        "## Instalar GRASS GIS en Colab\n",
        "\n",
        "Como primer paso, cada vez que iniciemos una nueva sesión, necesitaremos \n",
        "instalar GRASS GIS. Pueden copiar estas celdas a sus copias de las \n",
        "notebooks con las que trabajaremos.\n"
      ],
      "id": "38d720a8"
    },
    {
      "cell_type": "code",
      "metadata": {},
      "source": [
        "%%bash\n",
        "DEBIAN_FRONTEND=noninteractive \n",
        "sudo add-apt-repository ppa:ubuntugis/ubuntugis-unstable \n",
        "apt update \n",
        "apt install grass subversion grass-dev\n",
        "apt remove libproj22"
      ],
      "id": "23022e08",
      "execution_count": null,
      "outputs": []
    },
    {
      "cell_type": "markdown",
      "metadata": {},
      "source": [
        "## Conectar nuestro Drive a la sesión de Colab\n",
        "\n",
        "Luego, montamos nuestro drive donde tenemos la carpeta `curso_grass_2023`. Para \n",
        "eso importamos la librería `drive`.\n"
      ],
      "id": "952242db"
    },
    {
      "cell_type": "code",
      "metadata": {},
      "source": [
        "# import drive from google colab\n",
        "from google.colab import drive "
      ],
      "id": "d7ad92f9",
      "execution_count": null,
      "outputs": []
    },
    {
      "cell_type": "markdown",
      "metadata": {},
      "source": [
        "Definimos un punto de montaje y montamos nuestro drive, esto es equivalente\n",
        "a enchufar y leer un pen drive o un disco externo. Nos va a pedir que le \n",
        "demos permisos para acceder.\n"
      ],
      "id": "9689e3a4"
    },
    {
      "cell_type": "code",
      "metadata": {},
      "source": [
        "# define mounting point and mount drive\n",
        "drive.mount(\"/content/drive\")"
      ],
      "id": "6d38b9dd",
      "execution_count": null,
      "outputs": []
    },
    {
      "cell_type": "markdown",
      "metadata": {},
      "source": [
        "Definimos la carpeta `curso_grass_2023` como nuestro home, nos movemos allí\n",
        "y listamos su contenido para corrobar que estamos donde queremos estar.\n"
      ],
      "id": "97a1137d"
    },
    {
      "cell_type": "code",
      "metadata": {},
      "source": [
        "import os\n",
        "\n",
        "homedir = \"/content/drive/MyDrive/curso_grass_2023\"\n",
        "os.chdir(homedir)\n",
        "os.listdir()"
      ],
      "id": "0f93cc0a",
      "execution_count": null,
      "outputs": []
    },
    {
      "cell_type": "markdown",
      "metadata": {},
      "source": [
        "También podemos montar nuestro drive directamente desde la interfaz gráfica y\n",
        "ver allí el contenido de las carpetas:\n",
        "\n",
        "![](assets/img/colab_mount_gdrive.png)\n",
        "\n",
        "## Ejecutar comandos de R en Colab\n",
        "\n",
        "Colab nos permite ejcutar comandos de python por defecto. Usando ciertos\n",
        "caracteres mágicos como `!` o `%%bash` podemos ejecutar comandos\n",
        "en bash, i.e., como en una terminal de Linux. En este caso, colab tiene\n",
        "Ubuntu.\n",
        "\n",
        "Para ejecutar comandos de R, tenemos dos opciones. Una es simplemente \n",
        "cambiar de runtime o entorno de ejecución a R. Para esto, vamos al menú \n",
        "principal Runtime >> Change runtime type y en el cuadro que se despliega \n",
        "elegimos R. El problema con esta aproximación es que no hay una forma\n",
        "nativa de montar nuestro GDrive y acceder fácilmente a los archivos.\n",
        "Si bien existe un paquete de R \n",
        "[`googledrive`](https://googledrive.tidyverse.org/index.html) que permite\n",
        "la conexión, éste no funciona para conectarnos a nuestro grassdata e iniciar\n",
        "una sesión de GRASS allí.\n"
      ],
      "id": "5e697a94"
    },
    {
      "cell_type": "code",
      "metadata": {},
      "source": [
        "# install and load googledrive library\n",
        "install.packages(\"googledrive\")\n",
        "library(\"googledrive\")\n",
        "\n",
        "# authorize google drive\n",
        "drive_auth(\n",
        "  email = gargle::gargle_oauth_email(),\n",
        "  path = NULL,\n",
        "  scopes = \"https://www.googleapis.com/auth/drive\",\n",
        "  cache = gargle::gargle_oauth_cache(),\n",
        "  use_oob = gargle::gargle_oob_default(),\n",
        "  token = NULL\n",
        ")\n",
        "\n",
        "# list content\n",
        "drive_ls()"
      ],
      "id": "f98935a0",
      "execution_count": null,
      "outputs": []
    },
    {
      "cell_type": "markdown",
      "metadata": {},
      "source": [
        "La segunda opción, que usaremos en este curso, es instalar y cargar en el entorno\n",
        "un paquete de python, [rpy2](https://rpy2.github.io/), que nos permite hacer \n",
        "interfaz con R. \n",
        "La ventaja de esta aproximación es que podemos montar nuestro drive muy fácilmente\n",
        "e iniciar una sesión de GRASS allí sin problemas. \n",
        "La desventaja es que, como no cambiamos el entorno de ejecución, en cada celda \n",
        "donde ejecutemos comando de R necesitamos escribir el comando mágico `%%R` para \n",
        "varias líneas de código o `%R` cuando es una única línea de código en\n",
        "R^[Ver <https://www.thediar.com/es/blog/google-colab-drive-r/> y <https://blog.revolutionanalytics.com/2016/01/pipelining-r-python.html>].\n"
      ],
      "id": "ffe14952"
    },
    {
      "cell_type": "code",
      "metadata": {},
      "source": [
        "!pip install rpy2==3.5.1\n",
        "%reload_ext rpy2.ipython"
      ],
      "id": "1826e9b2",
      "execution_count": null,
      "outputs": []
    },
    {
      "cell_type": "markdown",
      "metadata": {},
      "source": [
        "Esto será necesario para nuestra sesión de [OBIA](unidad_3/exercise_obia.html), \n",
        "en que para la clasificación de los objetos la función llama a R internamente, \n",
        "y también para la sesión de \n",
        "[modelado de nicho con GRASS y R](unidad_5/grass_and_r_sdm.html). \n"
      ],
      "id": "c057c4df"
    }
  ],
  "metadata": {
    "kernelspec": {
      "name": "python3",
      "language": "python",
      "display_name": "Python 3 (ipykernel)"
    }
  },
  "nbformat": 4,
  "nbformat_minor": 5
}