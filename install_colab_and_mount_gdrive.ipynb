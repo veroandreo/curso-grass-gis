{
  "cells": [
    {
      "cell_type": "raw",
      "metadata": {},
      "source": [
        "---\n",
        "title: Instalar software en Colab\n",
        "author: Verónica Andreo\n",
        "date: today\n",
        "format:\n",
        "  html:\n",
        "    code-tools: true\n",
        "    code-copy: true\n",
        "    code-fold: false\n",
        "execute:\n",
        "  eval: false\n",
        "  cache: false\n",
        "  keep-ipynb: true\n",
        "---"
      ],
      "id": "5b517d1c"
    },
    {
      "cell_type": "markdown",
      "metadata": {},
      "source": [
        "## Instalar GRASS GIS en Colab\n",
        "\n",
        "Como primer paso, cada vez que iniciemos una nueva sesión, necesitaremos \n",
        "instalar GRASS GIS. Pueden copiar estas celdas a sus copias de las \n",
        "notebooks con las que trabajaremos.\n"
      ],
      "id": "600ad38b"
    },
    {
      "cell_type": "code",
      "metadata": {},
      "source": [
        "%%bash\n",
        "DEBIAN_FRONTEND=noninteractive \n",
        "sudo add-apt-repository ppa:ubuntugis/ubuntugis-unstable \n",
        "apt update \n",
        "apt install grass subversion grass-dev\n",
        "apt remove libproj22"
      ],
      "id": "12569f85",
      "execution_count": null,
      "outputs": []
    },
    {
      "cell_type": "markdown",
      "metadata": {},
      "source": [
        ":::{.callout-note}\n",
        "Si al importar datos con reproyección al vuelo, se encuentran con errores del \n",
        "tipo: `Flag -r requires GDAL library: No module named '_gdal'`, se recomienda\n",
        "instalar la librería [pygdal](https://github.com/nextgis/pygdal):\n"
      ],
      "id": "eb762767"
    },
    {
      "cell_type": "code",
      "metadata": {},
      "source": [
        "pip install pygdal"
      ],
      "id": "cbdd95dc",
      "execution_count": null,
      "outputs": []
    },
    {
      "cell_type": "markdown",
      "metadata": {},
      "source": [
        ":::\n",
        "\n",
        "## Conectar nuestro Drive a la sesión de Colab\n",
        "\n",
        "Luego, montamos nuestro drive donde tenemos la carpeta `curso_grass_2023`. Para \n",
        "eso importamos la librería `drive`.\n"
      ],
      "id": "3c1365f1"
    },
    {
      "cell_type": "code",
      "metadata": {},
      "source": [
        "# import drive from google colab\n",
        "from google.colab import drive "
      ],
      "id": "2669ddb0",
      "execution_count": null,
      "outputs": []
    },
    {
      "cell_type": "markdown",
      "metadata": {},
      "source": [
        "Definimos un punto de montaje y montamos nuestro drive, esto es equivalente\n",
        "a enchufar y leer un pen drive o un disco externo. Nos va a pedir que le \n",
        "demos permisos para acceder.\n"
      ],
      "id": "cccb9ef8"
    },
    {
      "cell_type": "code",
      "metadata": {},
      "source": [
        "# define mounting point and mount drive\n",
        "drive.mount(\"/content/drive\")"
      ],
      "id": "78300f76",
      "execution_count": null,
      "outputs": []
    },
    {
      "cell_type": "markdown",
      "metadata": {},
      "source": [
        "Definimos la carpeta `curso_grass_2023` como nuestro home, nos movemos allí\n",
        "y listamos su contenido para corrobar que estamos donde queremos estar.\n"
      ],
      "id": "a5c71eed"
    },
    {
      "cell_type": "code",
      "metadata": {},
      "source": [
        "import os\n",
        "\n",
        "homedir = \"/content/drive/MyDrive/curso_grass_2023\"\n",
        "os.chdir(homedir)\n",
        "os.listdir()"
      ],
      "id": "8c1538ba",
      "execution_count": null,
      "outputs": []
    },
    {
      "cell_type": "markdown",
      "metadata": {},
      "source": [
        "También podemos montar nuestro drive directamente desde la interfaz gráfica y\n",
        "ver allí el contenido de las carpetas:\n",
        "\n",
        "![](assets/img/colab_mount_gdrive.png)\n",
        "\n",
        "## Ejecutar comandos de R en Colab\n",
        "\n",
        "Colab nos permite ejcutar comandos de python por defecto. Usando ciertos\n",
        "caracteres mágicos como `!` o `%%bash` podemos ejecutar comandos\n",
        "en bash, i.e., como en una terminal de Linux. En este caso, colab tiene\n",
        "Ubuntu.\n",
        "\n",
        "Para ejecutar comandos de R, tenemos dos opciones. Una es simplemente \n",
        "cambiar de runtime o entorno de ejecución a R. Para esto, vamos al menú \n",
        "principal Runtime >> Change runtime type y en el cuadro que se despliega \n",
        "elegimos R. El problema con esta aproximación es que no hay una forma\n",
        "nativa de montar nuestro GDrive y acceder fácilmente a los archivos.\n",
        "Si bien existe un paquete de R \n",
        "[`googledrive`](https://googledrive.tidyverse.org/index.html) que permite\n",
        "la conexión, éste no funciona para conectarnos a nuestro grassdata e iniciar\n",
        "una sesión de GRASS allí.\n"
      ],
      "id": "3297b724"
    },
    {
      "cell_type": "code",
      "metadata": {},
      "source": [
        "# install and load googledrive library\n",
        "install.packages(\"googledrive\")\n",
        "library(\"googledrive\")\n",
        "\n",
        "# authorize google drive\n",
        "drive_auth(\n",
        "  email = gargle::gargle_oauth_email(),\n",
        "  path = NULL,\n",
        "  scopes = \"https://www.googleapis.com/auth/drive\",\n",
        "  cache = gargle::gargle_oauth_cache(),\n",
        "  use_oob = gargle::gargle_oob_default(),\n",
        "  token = NULL\n",
        ")\n",
        "\n",
        "# list content\n",
        "drive_ls()"
      ],
      "id": "594beec9",
      "execution_count": null,
      "outputs": []
    },
    {
      "cell_type": "markdown",
      "metadata": {},
      "source": [
        "La segunda opción, que usaremos en este curso, es instalar y cargar en el entorno\n",
        "un paquete de python, [rpy2](https://rpy2.github.io/), que nos permite hacer \n",
        "interfaz con R. \n",
        "La ventaja de esta aproximación es que podemos montar nuestro drive muy fácilmente\n",
        "e iniciar una sesión de GRASS allí sin problemas. \n",
        "La desventaja es que, como no cambiamos el entorno de ejecución, en cada celda \n",
        "donde ejecutemos comando de R necesitamos escribir el comando mágico `%%R` para \n",
        "varias líneas de código o `%R` cuando es una única línea de código en\n",
        "R^[Ver <https://www.thediar.com/es/blog/google-colab-drive-r/> y <https://blog.revolutionanalytics.com/2016/01/pipelining-r-python.html>].\n"
      ],
      "id": "5d981273"
    },
    {
      "cell_type": "code",
      "metadata": {},
      "source": [
        "!pip install rpy2==3.5.1\n",
        "%reload_ext rpy2.ipython"
      ],
      "id": "27212c57",
      "execution_count": null,
      "outputs": []
    },
    {
      "cell_type": "markdown",
      "metadata": {},
      "source": [
        "Esto será necesario para nuestra sesión de [OBIA](unidad_3/exercise_obia.html), \n",
        "en que para la clasificación de los objetos la función llama a R internamente, \n",
        "y también para la sesión de \n",
        "[modelado de nicho con GRASS y R](unidad_5/grass_and_r_sdm.html). \n",
        "\n",
        "## Ejecutar comandos de R en The Whole Tale\n",
        "\n",
        "Abrir la notebook de la unidad 5 directamente en RStudio dentro del Tale. Como\n",
        "está preparada para Colab, será necesario, además de adecuar algunas rutas a \n",
        "carpetas y archivos, cambiar las celdas o chunks de `python` a `r` y borrar el \n",
        "comando mágico `%%R` pues no será necesario.\n",
        "\n",
        "## Descarga rápida de datos en Drive\n",
        "\n",
        "Instalamos el paquete `gdown` en el entorno Colab\n"
      ],
      "id": "31445b3e"
    },
    {
      "cell_type": "code",
      "metadata": {},
      "source": [
        "!pip install -U --no-cache-dir gdown --pre"
      ],
      "id": "7ec8f493",
      "execution_count": null,
      "outputs": []
    },
    {
      "cell_type": "markdown",
      "metadata": {},
      "source": [
        "Montamos nuestro drive\n"
      ],
      "id": "f182738d"
    },
    {
      "cell_type": "code",
      "metadata": {},
      "source": [
        "# import drive from google colab\n",
        "from google.colab import drive \n",
        "# define mounting point and mount drive\n",
        "drive.mount(\"/content/drive\")"
      ],
      "id": "e4266892",
      "execution_count": null,
      "outputs": []
    },
    {
      "cell_type": "markdown",
      "metadata": {},
      "source": [
        "Establecemos el homedir y entramos al directorio\n"
      ],
      "id": "8508423c"
    },
    {
      "cell_type": "code",
      "metadata": {},
      "source": [
        "import os\n",
        "homedir = \"/content/drive/MyDrive/curso_grass_2023\"\n",
        "os.chdir(homedir)"
      ],
      "id": "4336b4f4",
      "execution_count": null,
      "outputs": []
    },
    {
      "cell_type": "markdown",
      "metadata": {},
      "source": [
        "Descargamos el archivo para los días 2 a 5 via su \"id\"\n"
      ],
      "id": "dd7873f1"
    },
    {
      "cell_type": "code",
      "metadata": {},
      "source": [
        "!gdown \"1rMzsUMQM6wIL7hhuWDJkhvffq5WgO3wB\""
      ],
      "id": "774a1be6",
      "execution_count": null,
      "outputs": []
    },
    {
      "cell_type": "markdown",
      "metadata": {},
      "source": [
        "Lo descomprimimos en el `homedir` \n"
      ],
      "id": "e8752eba"
    },
    {
      "cell_type": "code",
      "metadata": {},
      "source": [
        "from zipfile import ZipFile\n",
        "import os\n",
        "\n",
        "with ZipFile('datos_curso_grass_dia2a5.zip', 'r') as f:\n",
        "  #extract in current directory\n",
        "  f.extractall()\n",
        "  f.close()"
      ],
      "id": "902cd38a",
      "execution_count": null,
      "outputs": []
    },
    {
      "cell_type": "markdown",
      "metadata": {},
      "source": [
        "Listo!\n"
      ],
      "id": "17b259e3"
    }
  ],
  "metadata": {
    "kernelspec": {
      "name": "python3",
      "language": "python",
      "display_name": "Python 3 (ipykernel)"
    }
  },
  "nbformat": 4,
  "nbformat_minor": 5
}