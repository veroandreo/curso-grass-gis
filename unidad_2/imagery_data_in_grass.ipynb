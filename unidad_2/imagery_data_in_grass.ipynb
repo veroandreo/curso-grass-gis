{
  "cells": [
    {
      "cell_type": "raw",
      "metadata": {},
      "source": [
        "---\n",
        "title: Datos satelitales en GRASS GIS\n",
        "author: Verónica Andreo\n",
        "date: today\n",
        "format:\n",
        "  html:\n",
        "    code-tools: true\n",
        "    code-copy: true\n",
        "    code-fold: false\n",
        "execute:\n",
        "  eval: false\n",
        "  cache: false\n",
        "  keep-ipynb: true\n",
        "---"
      ],
      "id": "bfa59d42"
    },
    {
      "cell_type": "markdown",
      "metadata": {},
      "source": [
        "Los datos satelitales en general vienen en formato raster, por lo tanto aplican\n",
        "las mismas reglas que vimos anteriormente. \n",
        "Los comandos **i.\\*** se orientan explícitamente al procesamiento de datos \n",
        "satelitales aunque algunos puedan usarse para otros datos raster.\n",
        "\n",
        "Para ejemplificar el flujo de trabajo para procesamiento de datos satelitales \n",
        "en GRASS GIS, en esta primer sesión vamos a trabajar con datos del satélite \n",
        "Landsat 8.\n",
        "\n",
        "Antes de empezar y para ganar tiempo, conectamos nuestro drive e instalamos \n",
        "GRASS en Google Colab.\n"
      ],
      "id": "c1af40ec"
    },
    {
      "cell_type": "code",
      "metadata": {},
      "source": [
        "# import drive from google colab\n",
        "from google.colab import drive\n",
        "# mount drive\n",
        "drive.mount(\"/content/drive\")"
      ],
      "id": "1adebbf9",
      "execution_count": null,
      "outputs": []
    },
    {
      "cell_type": "code",
      "metadata": {},
      "source": [
        "%%bash\n",
        "DEBIAN_FRONTEND=noninteractive \n",
        "sudo add-apt-repository ppa:ubuntugis/ubuntugis-unstable \n",
        "apt update \n",
        "apt install grass subversion grass-dev\n",
        "apt remove libproj22"
      ],
      "id": "512183cf",
      "execution_count": null,
      "outputs": []
    },
    {
      "cell_type": "markdown",
      "metadata": {},
      "source": [
        "Chequeamos el path de instalación de GRASS\n"
      ],
      "id": "fd5348d8"
    },
    {
      "cell_type": "code",
      "metadata": {},
      "source": [
        "!grass --config path"
      ],
      "id": "6e8cd5d5",
      "execution_count": null,
      "outputs": []
    },
    {
      "cell_type": "markdown",
      "metadata": {},
      "source": [
        "e instalamos otras librerías de python que nos serán útiles.\n"
      ],
      "id": "36ff9549"
    },
    {
      "cell_type": "code",
      "metadata": {},
      "source": [
        "!pip install pygdal\n",
        "!pip install landsatxplore"
      ],
      "id": "be9954e2",
      "execution_count": null,
      "outputs": []
    },
    {
      "cell_type": "markdown",
      "metadata": {},
      "source": [
        "# Datos para esta sesión\n",
        "\n",
        ":::: columns\n",
        ":::{.column width=\"40%\"}\n",
        "Escenas Landsat 8 (OLI)\n",
        "\n",
        "- Fechas: 14/01/2020 y 02/03/2020\n",
        "- Path/Row: 229/082 (Córdoba)\n",
        "- CRS: UTM zona 20 N (EPSG:32620)\n",
        ":::\n",
        "\n",
        ":::{.column width=\"60%\"}\n",
        "![](https://landsat.gsfc.nasa.gov/wp-content/uploads/2021/12/ldcm_2012_COL-300x168-1.png){fig-align=\"center\"}\n",
        ":::\n",
        "::::\n",
        "\n",
        "<!-- Descargar las escenas [L8 14/01/2020 (979Mb)](https://drive.google.com/file/d/1ytQp-xin1FQr_hqtDJRLgK6g4eXwK-WI/view?usp=sharing) y [L8 02/03/2020 (880Mb)](https://drive.google.com/file/d/1Gg8FbhwpIQR-GyYepM4uw_9IOjEnji_N/view?usp=sharing) y moverlas a `$HOME/gisdata/landsat_data`. **No descomprimir!** -->\n",
        "\n",
        "\n",
        "# Historia de la mision Landsat\n",
        "\n",
        "![Lanzamientos de satélites Lansat desde 1972](https://landsat.gsfc.nasa.gov/wp-content/uploads/2020-07/Landsat_timeline_20200318_title.gif)\n",
        "\n",
        "El sistema de escáner multiespectral (MSS) a bordo del Landsats 1-5 disponía de \n",
        "cuatro bandas. El Thematic Mapper (TM) a bordo de Landsats 4 y 5 tenía siete \n",
        "bandas. El Enhanced Thematic Mapper Plus (ETM+) del Landsat 7 tiene 8 bandas y \n",
        "los Landsats 8 y 9 tienen 11 bandas. Fuente: <https://landsat.gsfc.nasa.gov/satellites/landsat-9/landsat-9-bands/>. \n",
        "\n",
        "![Comparación entre las bandas de todos los satélites Landsat](https://landsat.gsfc.nasa.gov/wp-content/uploads/2021/12/all_Landsat_bands.png){width=\"90%\"}\n",
        "\n",
        ":::{.callout-note}\n",
        "Más detalles sobre las misiones Landsat pueden encontrarse en: \n",
        "<https://www.usgs.gov/landsat-missions>\n",
        ":::\n",
        "\n",
        "\n",
        "# Manos a la obra\n",
        "\n",
        "## Iniciamos GRASS GIS\n",
        "\n",
        "Iniciamos GRASS GIS en el proyecto *posgar2007_4_cba* y mapset *PERMANENT*\n"
      ],
      "id": "e06b1511"
    },
    {
      "cell_type": "code",
      "metadata": {},
      "source": [
        "import os\n",
        "\n",
        "# data directory\n",
        "homedir = \"/content/drive/MyDrive/curso_grass_2023\"\n",
        "\n",
        "# GRASS GIS database variables\n",
        "grassdata = os.path.join(homedir, \"grassdata\")\n",
        "project = \"posgar2007_4_cba\"\n",
        "mapset = \"PERMANENT\""
      ],
      "id": "d2ba7cf5",
      "execution_count": null,
      "outputs": []
    },
    {
      "cell_type": "code",
      "metadata": {},
      "source": [
        "# import standard Python packages we need\n",
        "import sys\n",
        "import subprocess\n",
        "\n",
        "# ask GRASS GIS where its Python packages are to be able to run it from the notebook\n",
        "sys.path.append(\n",
        "    subprocess.check_output([\"grass\", \"--config\", \"python_path\"], text=True).strip()\n",
        ")"
      ],
      "id": "0784bea8",
      "execution_count": null,
      "outputs": []
    },
    {
      "cell_type": "markdown",
      "metadata": {},
      "source": [
        "Ahora sí, estamos listos para importar los paquetes de GRASS e iniciar una\n",
        "sesión:\n"
      ],
      "id": "aa19e7b7"
    },
    {
      "cell_type": "code",
      "metadata": {},
      "source": [
        "# import the GRASS GIS packages we need\n",
        "import grass.script as gs\n",
        "import grass.jupyter as gj\n",
        "\n",
        "# Start the GRASS GIS Session\n",
        "session = gj.init(grassdata, project, mapset)"
      ],
      "id": "baef512e",
      "execution_count": null,
      "outputs": []
    },
    {
      "cell_type": "markdown",
      "metadata": {},
      "source": [
        "Corroboramos la proyección\n"
      ],
      "id": "1bb484ea"
    },
    {
      "cell_type": "code",
      "metadata": {},
      "source": [
        "# check the CRS\n",
        "print(gs.read_command(\"g.proj\", flags=\"p\"))"
      ],
      "id": "d3258d43",
      "execution_count": null,
      "outputs": []
    },
    {
      "cell_type": "markdown",
      "metadata": {},
      "source": [
        "## Crear un nuevo mapset\n",
        "\n",
        "Para diferenciar sesiones dentro del curso, vamos a crear un nuevo mapset \n",
        "llamado *landsat8*:\n"
      ],
      "id": "5dcf29e5"
    },
    {
      "cell_type": "code",
      "metadata": {},
      "source": [
        "# Create a new mapset\n",
        "gs.run_command(\"g.mapset\", \n",
        "               mapset=\"landsat8\",\n",
        "               flags=\"c\")"
      ],
      "id": "c14352ef",
      "execution_count": null,
      "outputs": []
    },
    {
      "cell_type": "code",
      "metadata": {},
      "source": [
        "# Check we are in the mapset just created\n",
        "gs.run_command(\"g.mapset\",\n",
        "               flags=\"p\")"
      ],
      "id": "9c26554a",
      "execution_count": null,
      "outputs": []
    },
    {
      "cell_type": "markdown",
      "metadata": {},
      "source": [
        "Listamos los mapsets accesibles para corroborar que tenemos acceso a *PERMANENT*\n"
      ],
      "id": "cf5daa0e"
    },
    {
      "cell_type": "code",
      "metadata": {},
      "source": [
        "# list all the mapsets in the search path\n",
        "gs.mapsets(search_path=True)"
      ],
      "id": "1fa97d20",
      "execution_count": null,
      "outputs": []
    },
    {
      "cell_type": "markdown",
      "metadata": {},
      "source": [
        ":::{.callout-note}\n",
        "Desde cualquier mapset en el que estemos trabajando, siempre vamos a tener\n",
        "acceso a *PERMANENT*.\n",
        ":::\n",
        "\n",
        "Listemos los mapas vectoriales disponibles\n"
      ],
      "id": "1c9a29c1"
    },
    {
      "cell_type": "code",
      "metadata": {},
      "source": [
        "# list vector maps in all mapsets in the search path\n",
        "gs.list_grouped(type=\"vector\")"
      ],
      "id": "5dce544b",
      "execution_count": null,
      "outputs": []
    },
    {
      "cell_type": "markdown",
      "metadata": {},
      "source": [
        "## Región de interés\n",
        "\n",
        "Como primer paso para trabajar con datos raster,necesitamos establecer la región \n",
        "computacional. Para ello, vamos a extraer el radio urbano de Córdoba del vector\n",
        "de radios urbanos y luego lo vamos a usar para establecer los límites de nuestra\n",
        "region computacional.\n"
      ],
      "id": "91788628"
    },
    {
      "cell_type": "code",
      "metadata": {},
      "source": [
        "# extract Cordoba urban area from `radios_urbanos`\n",
        "gs.run_command(\"v.extract\", \n",
        "               input=\"radios_urbanos\", \n",
        "               where=\"nombre == 'CORDOBA'\", \n",
        "               output=\"radio_urbano_cba\")"
      ],
      "id": "cfa3a7d0",
      "execution_count": null,
      "outputs": []
    },
    {
      "cell_type": "code",
      "metadata": {},
      "source": [
        "# set the computational region to the extent of Cordoba urban area\n",
        "gs.run_command(\"g.region\", \n",
        "               flags=\"p\", \n",
        "               vector=\"radio_urbano_cba\")"
      ],
      "id": "74b43a29",
      "execution_count": null,
      "outputs": []
    },
    {
      "cell_type": "markdown",
      "metadata": {},
      "source": [
        "## Descargar e importar los datos Landsat 8\n",
        "\n",
        "Entre las extensiones disponibles, hay una extensión \n",
        "[i.landsat](https://grass.osgeo.org/grass-stable/manuals/addons/i.landsat.html), \n",
        "que nos permite buscar, filtrar, descargar, importar y aplicar bandas de calidad\n",
        "a imágenes Landsat.\n",
        "Para la busqueda y descarga de datos, esta extensión depende de una librería de\n",
        "python denominada [landsatxplore](https://github.com/yannforget/landsatxplore).\n",
        "\n",
        "Desafortunadamente, landsatxplore fue abandonada por su autor, y es difícil de \n",
        "mantener. Estamos considerando utilizar otras opciones, pero es un WIP. Por este\n",
        "motivo, vamos a instalar la extensión igualmente porque nos sirve para la \n",
        "importación y enmascarado de pixeles según la calidad.\n",
        "\n",
        ":::{.callout-note}\n",
        "Voluntari@s para actualizar y testear los pull request de landsatxplore o \n",
        "actualizar i.landsat.download para que use otro paquete distinto, son mas que \n",
        "bienvenid@s!!\n",
        ":::\n"
      ],
      "id": "8aa8a095"
    },
    {
      "cell_type": "code",
      "metadata": {},
      "source": [
        "# install i.landsat toolset\n",
        "gs.run_command(\"g.extension\",\n",
        "               extension=\"i.landsat\")"
      ],
      "id": "5cc96e46",
      "execution_count": null,
      "outputs": []
    },
    {
      "cell_type": "markdown",
      "metadata": {},
      "source": [
        "La búsqueda de escenas se basa en la región computacional definida y funcionaría\n",
        "como se detalla a continuación.\n"
      ],
      "id": "d0e5afd5"
    },
    {
      "cell_type": "code",
      "metadata": {},
      "source": [
        "# search for Landsat 8 scenes\n",
        "# l8_credentials = os.path.join(homedir, \"gisdata\", \"landsat\")\n",
        "# gs.run_command(\"i.landsat.download\", \n",
        "#               settings=l8_credentials,\n",
        "#               dataset=\"landsat_8_c1\",\n",
        "#               clouds=\"35\",\n",
        "#               start=\"2019-10-27\",\n",
        "#               end=\"2020-03-15\",\n",
        "#               flags=\"l\")"
      ],
      "id": "c0f89cdc",
      "execution_count": null,
      "outputs": []
    },
    {
      "cell_type": "markdown",
      "metadata": {},
      "source": [
        "Por defecto, usando el comando anterior sin la opción *l* y proveyendo una carpeta\n",
        "de descarga, se descargarían todas las imágenes encontradas anteriormente. \n",
        "Sin embargo, también es posible descargar imágenes seleccionadas via su *id*.\n"
      ],
      "id": "8c699d59"
    },
    {
      "cell_type": "code",
      "metadata": {},
      "source": [
        "# download selected scenes\n",
        "# gs.run_command(\"i.landsat.download\", \n",
        "#               settings=l8_credentials,\n",
        "#               id=\"LC82290822020062LGN00,LC82290822020014LGN00\",\n",
        "#               output=os.path.join(homedir, \"gisdata\", \"landsat_data\"))"
      ],
      "id": "eb2b18dd",
      "execution_count": null,
      "outputs": []
    },
    {
      "cell_type": "markdown",
      "metadata": {},
      "source": [
        "Como el módulo de descarga no está andando y porque la descarga puede tomar mucho \n",
        "tiempo con conexiones lentas, vamos a usar imágenes previamente descargadas.\n",
        "Como primer paso vamos a imprimir todas las bandas presentes dentro de la carpeta\n",
        "`landsat_data`.\n"
      ],
      "id": "87e04a16"
    },
    {
      "cell_type": "code",
      "metadata": {},
      "source": [
        "# print all landsat bands within landsat_data folder\n",
        "# (1: projection match, 0: projection does not match)\n",
        "gs.run_command(\"i.landsat.import\",\n",
        "               input=os.path.join(homedir, \"gisdata\", \"landsat_data\"),\n",
        "               flags=\"p\")"
      ],
      "id": "b2d25d4b",
      "execution_count": null,
      "outputs": []
    },
    {
      "cell_type": "markdown",
      "metadata": {},
      "source": [
        "También podemos imprimir sólo las bandas seleccionadas con un patrón.\n"
      ],
      "id": "db8ff371"
    },
    {
      "cell_type": "code",
      "metadata": {},
      "source": [
        "# print a selection of bands - might be sloooow\n",
        "gs.run_command(\"i.landsat.import\",\n",
        "               input=os.path.join(homedir, \"gisdata\", \"landsat_data\"), \n",
        "               pattern=\"B(2|3|4|5|6|8)\",\n",
        "               flags=\"p\")"
      ],
      "id": "e2d5efd9",
      "execution_count": null,
      "outputs": []
    },
    {
      "cell_type": "markdown",
      "metadata": {},
      "source": [
        "Para empezar a trabajar con los datos L8, vamos entonces a importar todas las \n",
        "bandas, recortar a la región y reproyectar al vuelo, ya que vimos que su CRS\n",
        "no coincide con el del proyecto donde nos encontramos.\n"
      ],
      "id": "767fd59a"
    },
    {
      "cell_type": "code",
      "metadata": {},
      "source": [
        "# import all bands, subset to region and reproject\n",
        "gs.run_command(\"i.landsat.import\", \n",
        "               input=os.path.join(homedir, \"gisdata\", \"landsat_data\"), \n",
        "               extent=\"region\",\n",
        "               flags=\"r\")"
      ],
      "id": "1ff40539",
      "execution_count": null,
      "outputs": []
    },
    {
      "cell_type": "markdown",
      "metadata": {},
      "source": [
        "Listamos las bandas importadas y revisamos los metadatos de alguna de ellas.\n"
      ],
      "id": "2ea6c987"
    },
    {
      "cell_type": "code",
      "metadata": {},
      "source": [
        "# list raster maps\n",
        "gs.list_grouped(type=\"raster\")[\"landsat8\"]"
      ],
      "id": "b20a1b38",
      "execution_count": null,
      "outputs": []
    },
    {
      "cell_type": "code",
      "metadata": {},
      "source": [
        "# check metadata of some imported bands\n",
        "gs.raster_info(map=\"LC08_L1TP_229082_20200114_20200127_01_T1_B4\")"
      ],
      "id": "667d5417",
      "execution_count": null,
      "outputs": []
    },
    {
      "cell_type": "markdown",
      "metadata": {},
      "source": [
        "## Pre-procesamiento de datos satelitales\n",
        "\n",
        "![Workflow de pre-procesamiento de datos satelitales](../assets/img/rs_workflow.jpg){width=70% fig-align=\"center\"}\n",
        "\n",
        "### De número digital (ND) a reflectancia y temperatura\n",
        "\n",
        "- Los datos L8 OLI vienen en 16-bits con rango de datos entre 0 y 65535.\n",
        "- [i.landsat.toar](https://grass.osgeo.org/grass-stable/manuals/i.landsat.toar.html) \n",
        "convierte los números digitales (ND) en reflectancia TOA (y temperatura de brillo) \n",
        "para todos los sensores Landsat. Opcionalmente proporciona reflectancia de \n",
        "superficie (BOA) después de la corrección DOS. \n",
        "- [i.atcorr](https://grass.osgeo.org/grass-stable/manuals/i.atcorr.html) proporciona\n",
        "un método de corrección atmosférica más complejo para gran variedad de sensores \n",
        "(S6).\n",
        "\n",
        "\n",
        "Antes de comenzar a procesar los datos, vamos a definir la resolución de la \n",
        "región computacional a una banda de 30 m.\n"
      ],
      "id": "ce68feba"
    },
    {
      "cell_type": "code",
      "metadata": {},
      "source": [
        "# set the region to a 30m band\n",
        "gs.run_command(\"g.region\", \n",
        "               raster=\"LC08_L1TP_229082_20200114_20200127_01_T1_B4\", \n",
        "               flags=\"p\")"
      ],
      "id": "5bb1557a",
      "execution_count": null,
      "outputs": []
    },
    {
      "cell_type": "markdown",
      "metadata": {},
      "source": [
        "Ahora sí, convertimos los ND a reflectancia superficial y temperatura usando el \n",
        "método Dark Object Substraction (DOS).\n"
      ],
      "id": "6b4631a5"
    },
    {
      "cell_type": "code",
      "metadata": {},
      "source": [
        "# convert from DN to surface reflectance and temperature\n",
        "metadata = os.path.join(homedir, \"gisdata\", \"landsat_data\", \"LC08_L1TP_229082_20200114_20200127_01_T1_MTL.txt\")\n",
        "gs.run_command(\"i.landsat.toar\",\n",
        "               input=\"LC08_L1TP_229082_20200114_20200127_01_T1_B\",\n",
        "               output=\"LC08_229082_20200114_SR_B\",\n",
        "               sensor=\"oli8\",\n",
        "               metfile=metadata,\n",
        "               method=\"dos1\")"
      ],
      "id": "67e47d2e",
      "execution_count": null,
      "outputs": []
    },
    {
      "cell_type": "markdown",
      "metadata": {},
      "source": [
        "Corroboremos los metadatos antes y después de la conversión ND >> RS para una\n",
        "banda.\n"
      ],
      "id": "6ad52a55"
    },
    {
      "cell_type": "code",
      "metadata": {},
      "source": [
        "# list output maps\n",
        "gs.list_grouped(type=\"raster\",\n",
        "                pattern=\"*SR*\")[\"landsat8\"]"
      ],
      "id": "697913c3",
      "execution_count": null,
      "outputs": []
    },
    {
      "cell_type": "code",
      "metadata": {},
      "source": [
        "# check info before and after for one band\n",
        "print(gs.read_command(\"r.info\", \n",
        "                      map=\"LC08_L1TP_229082_20200114_20200127_01_T1_B3\"))"
      ],
      "id": "5a7611ff",
      "execution_count": null,
      "outputs": []
    },
    {
      "cell_type": "code",
      "metadata": {},
      "source": [
        "print(gs.read_command(\"r.info\", \n",
        "                      map=\"LC08_229082_20200114_SR_B3\"))"
      ],
      "id": "4ace4362",
      "execution_count": null,
      "outputs": []
    },
    {
      "cell_type": "code",
      "metadata": {},
      "source": [
        "# Visualize results\n",
        "b3_map=gj.InteractiveMap(width = 500, tiles=\"OpenStreetMap\")\n",
        "b3_map.add_raster(\"LC08_L1TP_229082_20200114_20200127_01_T1_B3\")\n",
        "b3_map.add_raster(\"LC08_229082_20200114_SR_B3\")\n",
        "b3_map.add_layer_control(position = \"bottomright\")\n",
        "b3_map.show()"
      ],
      "id": "e464089f",
      "execution_count": null,
      "outputs": []
    },
    {
      "cell_type": "markdown",
      "metadata": {},
      "source": [
        ":::{.callout-caution title=\"Tarea Opcional\"}\n",
        "Seguir los mismos pasos para la escena del 02/03/2020. ¿Qué notan de diferente?\n",
        ":::\n",
        "\n",
        "\n",
        "### Ajuste de color y composiciones RGB\n",
        "\n",
        "Para lograr una buena visualización en composiciones RGB, primero realizamos un \n",
        "ajuste de colores utilizando el módulo \n",
        "[i.colors.enhance](https://grass.osgeo.org/grass-stable/manuals/i.colors.enhance.html).\n"
      ],
      "id": "0fdd6d72"
    },
    {
      "cell_type": "code",
      "metadata": {},
      "source": [
        "# enhance the colors\n",
        "gs.run_command(\"i.colors.enhance\",\n",
        "               red=\"LC08_229082_20200114_SR_B4\",\n",
        "               green=\"LC08_229082_20200114_SR_B3\", \n",
        "               blue=\"LC08_229082_20200114_SR_B2\",\n",
        "               strength=\"95\")"
      ],
      "id": "b8403844",
      "execution_count": null,
      "outputs": []
    },
    {
      "cell_type": "markdown",
      "metadata": {},
      "source": [
        "Visualicemos la combinacion RGB color natural usando `gj.Map`.\n"
      ],
      "id": "3f39ca6d"
    },
    {
      "cell_type": "code",
      "metadata": {},
      "source": [
        "# display RGB\n",
        "rgb_map = gj.Map(width=450, use_region=True)\n",
        "rgb_map.d_rgb(red=\"LC08_229082_20200114_SR_B4\",\n",
        "              green=\"LC08_229082_20200114_SR_B3\", \n",
        "              blue=\"LC08_229082_20200114_SR_B2\",)\n",
        "rgb_map.show()"
      ],
      "id": "b6b89e14",
      "execution_count": null,
      "outputs": []
    },
    {
      "cell_type": "markdown",
      "metadata": {},
      "source": [
        ":::{.callout-caution title=\"Tarea\"}\n",
        "Hagamos una composición falso color 543. ¿Sobre qué bandas debieran realizar el\n",
        "ajuste? \n",
        ":::\n",
        "\n",
        "### Enmascarado de nubes con banda QA\n",
        "\n",
        "- Landsat 8 proporciona una banda de calidad (quality assessment, QA) con valores\n",
        "enteros de 16 bits que representan las combinaciones de superficie, atmósfera y \n",
        "condiciones del sensor que pueden afectar la utilidad general de un determinado \n",
        "pixel. \n",
        "- La extensión \n",
        "[i.landsat.qa](https://grass.osgeo.org/grass-stable/manuals/addons/i.landsat.qa.html) \n",
        "reclasifica la banda QA de Landsat 8 de acuerdo a la calidad del pixel. \n",
        "\n",
        ":::{.callout-note}\n",
        "Más información sobre la banda QA de L8 en la [guía de usuario](https://d9-wret.s3.us-west-2.amazonaws.com/assets/palladium/production/s3fs-public/media/files/LSDS-1619_Landsat8-9-Collection2-Level2-Science-Product-Guide-v5.pdf).\n",
        ":::\n",
        " \n",
        "Vamos a utilizar i.landsat.qa para crear las reglas necesarias para identificar\n",
        "las nubes y sombras de nubes en las escenas L8.\n"
      ],
      "id": "4ffc346b"
    },
    {
      "cell_type": "code",
      "metadata": {},
      "source": [
        "# create a rule set\n",
        "gs.run_command(\"i.landsat.qa\",\n",
        "               dataset=\"landsat_8_c1\",\n",
        "               cloud_shadow_confidence=\"Medium,High\",\n",
        "               cloud_confidence=\"Medium,High\",\n",
        "               output=os.path.join(homedir, \"Cloud_Mask_rules.txt\"))"
      ],
      "id": "487b1f01",
      "execution_count": null,
      "outputs": []
    },
    {
      "cell_type": "markdown",
      "metadata": {},
      "source": [
        "Con las reglas que creamos anteriormente, reclasificamos la banda QA para obtener \n",
        "un mapa ráster que podamos luego usar como máscara.\n"
      ],
      "id": "446c0a81"
    },
    {
      "cell_type": "code",
      "metadata": {},
      "source": [
        "# reclass the BQA band based on the rule set created\n",
        "gs.run_command(\"r.reclass\",\n",
        "               input=\"LC08_L1TP_229082_20200114_20200127_01_T1_BQA\",\n",
        "               output=\"LC08_229082_20200114_Cloud_Mask\",\n",
        "               rules=os.path.join(homedir, \"Cloud_Mask_rules.txt\"))"
      ],
      "id": "d7db0db0",
      "execution_count": null,
      "outputs": []
    },
    {
      "cell_type": "markdown",
      "metadata": {},
      "source": [
        "Para estimar la superficie cubierta por nubes y sombras de nubes, usamos el \n",
        "módulo [r.report](https://grass.osgeo.org/grass-stable/manuals/r.report.html).\n"
      ],
      "id": "274b983f"
    },
    {
      "cell_type": "code",
      "metadata": {},
      "source": [
        "# report % of clouds and shadows\n",
        "print(gs.read_command(\"r.report\",\n",
        "                      map=\"LC08_229082_20200114_Cloud_Mask\",\n",
        "                      units=\"p\",\n",
        "                      flags=\"e\"))"
      ],
      "id": "c907fa63",
      "execution_count": null,
      "outputs": []
    },
    {
      "cell_type": "markdown",
      "metadata": {},
      "source": [
        "Visualizamos el mapa reclasificado.\n"
      ],
      "id": "25b7d269"
    },
    {
      "cell_type": "code",
      "metadata": {},
      "source": [
        "# display reclassified map over RGB\n",
        "rgb_map.d_rast(map=\"LC08_229082_20200114_Cloud_Mask\")\n",
        "rgb_map.show()"
      ],
      "id": "09920837",
      "execution_count": null,
      "outputs": []
    },
    {
      "cell_type": "markdown",
      "metadata": {},
      "source": [
        "## Fusión de datos/Pansharpening\n",
        "\n",
        "Vamos a usar la banda pancromática (15 m) para mejorar la definición de las bandas \n",
        "espectrales de 30 m, por medio de: \n",
        "[i.fusion.hpf](https://grass.osgeo.org/grass-stable/manuals/addons/i.fusion.hpf.html), \n",
        "que aplica un método de adición basado en un filtro de paso alto. \n",
        "Otros métodos de pansharpening están implementados en el módulo \n",
        "[i.pansharpen](https://grass.osgeo.org/grass-stable/manuals/i.pansharpen.html).\n",
        "\n",
        "Como primer paso, instalamos la extensión *i.fusion.hpf*.\n"
      ],
      "id": "9402a4d6"
    },
    {
      "cell_type": "code",
      "metadata": {},
      "source": [
        "# Install the reqquired addon\n",
        "gs.run_command(\"g.extension\",\n",
        "               extension=\"i.fusion.hpf\")"
      ],
      "id": "74b67a69",
      "execution_count": null,
      "outputs": []
    },
    {
      "cell_type": "markdown",
      "metadata": {},
      "source": [
        "Luego, como vamos a \"mejorar\" la resolución espacial de las bandas multiespectrales \n",
        "a 15 m, necesitamos alinear la resolución de la región computacional a la banda PAN.\n"
      ],
      "id": "9d7bdcb6"
    },
    {
      "cell_type": "code",
      "metadata": {},
      "source": [
        "# Set the region to PAN band (15m)\n",
        "gs.run_command(\"g.region\",\n",
        "               raster=\"LC08_229082_20200114_SR_B8\",\n",
        "               flags=\"p\")"
      ],
      "id": "df97a016",
      "execution_count": null,
      "outputs": []
    },
    {
      "cell_type": "markdown",
      "metadata": {},
      "source": [
        "... y ejecutamos la fusión.\n"
      ],
      "id": "1972df06"
    },
    {
      "cell_type": "code",
      "metadata": {},
      "source": [
        "# list bands\n",
        "ms_bands = gs.list_grouped(type=\"raster\", \n",
        "                           pattern=\"*_SR_B[1-7]\")[\"landsat8\"]\n",
        "ms_bands"
      ],
      "id": "0ad1c96b",
      "execution_count": null,
      "outputs": []
    },
    {
      "cell_type": "code",
      "metadata": {},
      "source": [
        "# Apply the fusion based on high pass filter\n",
        "gs.run_command(\"i.fusion.hpf\",\n",
        "               pan=\"LC08_229082_20200114_SR_B8\", \n",
        "               msx=ms_bands,\n",
        "               suffix=\"hpf\", \n",
        "               center=\"high\", \n",
        "               modulation=\"max\", \n",
        "               trim=\"0.0\", \n",
        "               flags=\"lc\")"
      ],
      "id": "d4dbb3ad",
      "execution_count": null,
      "outputs": []
    },
    {
      "cell_type": "markdown",
      "metadata": {},
      "source": [
        "Finalmente, listamos los mapas resultantes usando un patrón de búsqueda\n"
      ],
      "id": "15026cc6"
    },
    {
      "cell_type": "code",
      "metadata": {},
      "source": [
        "# list the fused maps\n",
        "gs.list_grouped(type=\"raster\", \n",
        "                pattern=\"*.hpf\")[\"landsat8\"]"
      ],
      "id": "655a93ce",
      "execution_count": null,
      "outputs": []
    },
    {
      "cell_type": "code",
      "metadata": {},
      "source": [
        "# check info of a pansharpened band\n",
        "gs.raster_info(\"LC08_229082_20200114_SR_B4.hpf\")"
      ],
      "id": "d1e375e2",
      "execution_count": null,
      "outputs": []
    },
    {
      "cell_type": "markdown",
      "metadata": {},
      "source": [
        "y visualizamos las diferencias con `gj.InteractiveMap`.\n"
      ],
      "id": "05b8d3c1"
    },
    {
      "cell_type": "code",
      "metadata": {},
      "source": [
        "# display original and fused maps\n",
        "hpf_map = gj.InteractiveMap(width = 500, tiles=\"OpenStreetMap\")\n",
        "hpf_map.add_raster(\"LC08_229082_20200114_SR_B4\")\n",
        "hpf_map.add_raster(\"LC08_229082_20200114_SR_B4.hpf\")\n",
        "hpf_map.add_layer_control(position = \"bottomright\")\n",
        "hpf_map.show()"
      ],
      "id": "c983fb36",
      "execution_count": null,
      "outputs": []
    },
    {
      "cell_type": "markdown",
      "metadata": {},
      "source": [
        "## Índices de agua y vegetación\n",
        "\n",
        "En esta sección vamos a estimar los conocidos índices de vegetación y agua. No\n",
        "obstante, necesitamos primero, establecer la máscara de nubes y sombras de nubes\n",
        "obtenida anteriormente para evitar el cómputo de los índices sobre estas áreas.\n"
      ],
      "id": "096ced96"
    },
    {
      "cell_type": "code",
      "metadata": {},
      "source": [
        "# Set the cloud mask to avoid computing over clouds\n",
        "gs.run_command(\"r.mask\",\n",
        "               raster=\"LC08_229082_20200114_Cloud_Mask\")"
      ],
      "id": "46464647",
      "execution_count": null,
      "outputs": []
    },
    {
      "cell_type": "markdown",
      "metadata": {},
      "source": [
        "Calculamos el NDVI y establecemos la paleta de colores.\n"
      ],
      "id": "d29e013d"
    },
    {
      "cell_type": "code",
      "metadata": {},
      "source": [
        "# Compute NDVI\n",
        "ndvi_formula = \"LC08_229082_20200114_NDVI = (LC08_229082_20200114_SR_B5.hpf - LC08_229082_20200114_SR_B4.hpf) / (LC08_229082_20200114_SR_B5.hpf + LC08_229082_20200114_SR_B4.hpf) * 1.0\"\n",
        "gs.mapcalc(exp=ndvi_formula)\n",
        "\n",
        "# Set the color palette\n",
        "gs.run_command(\"r.colors\",\n",
        "               map=\"LC08_229082_20200114_NDVI\",\n",
        "               color=\"ndvi\")"
      ],
      "id": "3ac5c0f0",
      "execution_count": null,
      "outputs": []
    },
    {
      "cell_type": "markdown",
      "metadata": {},
      "source": [
        "Calculamos el NDWI y establecemos la paleta de colores.\n"
      ],
      "id": "de9711c8"
    },
    {
      "cell_type": "code",
      "metadata": {},
      "source": [
        "# Compute NDWI\n",
        "ndwi_formula = \"LC08_229082_20200114_NDWI = (LC08_229082_20200114_SR_B5.hpf - LC08_229082_20200114_SR_B6.hpf) / (LC08_229082_20200114_SR_B5.hpf + LC08_229082_20200114_SR_B6.hpf) * 1.0\"\n",
        "gs.mapcalc(exp=ndwi_formula)\n",
        "\n",
        "# Set the color palette\n",
        "gs.run_command(\"r.colors\",\n",
        "               map=\"LC08_229082_20200114_NDWI\",\n",
        "               color=\"ndwi\")"
      ],
      "id": "5af08010",
      "execution_count": null,
      "outputs": []
    },
    {
      "cell_type": "markdown",
      "metadata": {},
      "source": [
        "Visualizamos los mapas resultantes.\n"
      ],
      "id": "9e6b6825"
    },
    {
      "cell_type": "code",
      "metadata": {},
      "source": [
        "ndi = gj.InteractiveMap(width=450, use_region=True)\n",
        "ndi.add_raster(\"LC08_229082_20200114_NDVI\")\n",
        "ndi.add_raster(\"LC08_229082_20200114_NDWI\")\n",
        "ndi.add_layer_control(position = \"bottomright\")\n",
        "ndi.show()"
      ],
      "id": "8a44b1f9",
      "execution_count": null,
      "outputs": []
    },
    {
      "cell_type": "markdown",
      "metadata": {},
      "source": [
        ":::{.callout-warning title=\"Tarea Opcional\"}\n",
        "Estimar NDVI y NDWI para la otra escena usando el módulo [i.vi](https://grass.osgeo.org/grass-stable/manuals/i.vi.html).\n",
        ":::\n",
        "\n",
        "\n",
        "## Clasificación No Supervisada\n",
        "\n",
        "Los pasos para realizar una clasificación no supervisada en GRASS, implican:\n",
        "\n",
        "- Asignar semantic labels a las bandas con [r.semantic.label](https://grass.osgeo.org/grass-stable/manuals/r.semantic.label.html) \n",
        "o [r.support](https://grass.osgeo.org/grass-stable/manuals/r.support.html)\n",
        "- Agrupar las bandas (i.e., hacer un stack): [i.group](https://grass.osgeo.org/grass-stable/manuals/i.group.html)\n",
        "- Generar firmas para *n* número de clases: [i.cluster](https://grass.osgeo.org/grass-stable/manuals/i.cluster.html)\n",
        "- Clasificar usando las firmas: [i.maxlik](https://grass.osgeo.org/grass-stable/manuals/i.maxlik.html)\n",
        "\n",
        "\n",
        "#### ¿Qué son los semantic labels?\n",
        "\n",
        "Los *semantic labels* son etiquetas que podemos agregar a cualquier mapa ráster\n",
        "y que nos indican qué variable está representada en ese mapa.\n",
        "Estas etiquetas son especialmente relevantes para las imágenes de satélite, \n",
        "ya que nos permiten identificar a qué sensor y banda corresponde el mapa. \n",
        "Son útiles a la hora de trabajar con colecciones de imágenes de satélite y \n",
        "también a la hora de clasificar diferentes escenas. \n",
        "\n",
        "Por ejemplo, si generamos firmas espectrales para unas clases usando un \n",
        "determinado conjunto de bandas, estas firmas pueden reutilizarse para \n",
        "clasificar otra escena siempre que las etiquetas semánticas sean las mismas. \n",
        "\n",
        "¡Cuidado! Aunque es posible reutilizar las firmas espectrales para cualquier \n",
        "escena con las mismas bandas, los cambios temporales (estaciones, impacto \n",
        "meteorológico) limitan su aplicabilidad sólo a escenas obtenidas más o menos \n",
        "al mismo tiempo.\n",
        "\n",
        "Probemos entonces, asignar semantic labels a las bandas de L8 y los índices de\n",
        "vegetación.\n"
      ],
      "id": "2b516f53"
    },
    {
      "cell_type": "code",
      "metadata": {},
      "source": [
        "# list the bands needed for classification\n",
        "bands = gs.list_grouped(type=\"raster\",\n",
        "                        pattern=\"*_SR*hpf\")[\"landsat8\"]\n",
        "bands"
      ],
      "id": "2934657e",
      "execution_count": null,
      "outputs": []
    },
    {
      "cell_type": "code",
      "metadata": {},
      "source": [
        "# semantic labels list\n",
        "labels = [\"L8_1\", \"L8_2\", \"L8_3\", \"L8_4\", \"L8_5\", \"L8_6\", \"L8_7\"]"
      ],
      "id": "b8564311",
      "execution_count": null,
      "outputs": []
    },
    {
      "cell_type": "markdown",
      "metadata": {},
      "source": [
        "Para bandas de satélites como Landsat y Sentinel, usamos el comando [r.sematic.label](https://grass.osgeo.org/grass-stable/manuals/r.semantic.label.html) que toma metadatos sobre los labels de [i.band.library](https://grass.osgeo.org/grass-stable/manuals/i.band.library.html). Es posible agregar bandas de otros satélites siempre que se siga un determinado formato.\n"
      ],
      "id": "67d7d1a2"
    },
    {
      "cell_type": "code",
      "metadata": {},
      "source": [
        "# add semantic labels to bands\n",
        "gs.run_command(\"r.semantic.label\",\n",
        "               map=bands,\n",
        "               semantic_label=labels, \n",
        "               operation=\"add\")"
      ],
      "id": "d40ede19",
      "execution_count": null,
      "outputs": []
    },
    {
      "cell_type": "markdown",
      "metadata": {},
      "source": [
        "Para cualquier otro ráster al que deseemos agregar una etiqueta, usamos [r.support](https://grass.osgeo.org/grass-stable/manuals/r.support.html) que nos permite agregar distintos metadatos a nuestros datos en GRASS.\n"
      ],
      "id": "96bd6be1"
    },
    {
      "cell_type": "code",
      "metadata": {},
      "source": [
        "# add semantic labels to indices\n",
        "for i in [\"NDVI\", \"NDWI\"]:\n",
        "    gs.run_command(\"r.support\", \n",
        "                   map=f\"LC08_229082_20200114_{i}\",\n",
        "                   semantic_label=i)"
      ],
      "id": "e54ea41e",
      "execution_count": null,
      "outputs": []
    },
    {
      "cell_type": "markdown",
      "metadata": {},
      "source": [
        "Imprimimos los semantic labels\n"
      ],
      "id": "6b7276ca"
    },
    {
      "cell_type": "code",
      "metadata": {},
      "source": [
        "gs.raster_info(\"LC08_229082_20200114_SR_B7.hpf\")[\"semantic_label\"]"
      ],
      "id": "2655406f",
      "execution_count": null,
      "outputs": []
    },
    {
      "cell_type": "markdown",
      "metadata": {},
      "source": [
        "Creamos un grupo de imágenes o *stack* con las bandas 1 a 7 más el NDVI y el NDWI.\n"
      ],
      "id": "80b18c9f"
    },
    {
      "cell_type": "code",
      "metadata": {},
      "source": [
        "# add ndvi and ndwi to the list of bands\n",
        "for i in [\"NDVI\", \"NDWI\"]:\n",
        "    bands.append(f\"LC08_229082_20200114_{i}\")\n",
        "\n",
        "bands"
      ],
      "id": "387d3570",
      "execution_count": null,
      "outputs": []
    },
    {
      "cell_type": "code",
      "metadata": {},
      "source": [
        "# create an imagery group with the list of bands\n",
        "gs.run_command(\"i.group\",\n",
        "               group=\"l8\",\n",
        "               subgroup=\"l8\",\n",
        "               input=bands)"
      ],
      "id": "566d9b2b",
      "execution_count": null,
      "outputs": []
    },
    {
      "cell_type": "code",
      "metadata": {},
      "source": [
        "# print elements within the group \n",
        "gs.run_command(\"i.group\",\n",
        "               group=\"l8\",\n",
        "               flags=\"l\")"
      ],
      "id": "dd8c2ecb",
      "execution_count": null,
      "outputs": []
    },
    {
      "cell_type": "markdown",
      "metadata": {},
      "source": [
        "Obtenemos estadísticos -firmas- para las *n* clases de interés con una muestra\n",
        "de pixeles\n"
      ],
      "id": "4f948957"
    },
    {
      "cell_type": "code",
      "metadata": {},
      "source": [
        "# statistics for unsupervised classification\n",
        "gs.run_command(\"i.cluster\",\n",
        "               group=\"l8\",\n",
        "               subgroup=\"l8\",\n",
        "               sig=\"l8_hpf\",\n",
        "               classes=\"7\",\n",
        "               separation=\"0.6\")"
      ],
      "id": "ab50acb3",
      "execution_count": null,
      "outputs": []
    },
    {
      "cell_type": "markdown",
      "metadata": {},
      "source": [
        "Usamos las firmas espectrales para realizar la clasificación no supervisada de\n",
        "toda la imagen\n"
      ],
      "id": "b51ddf6e"
    },
    {
      "cell_type": "code",
      "metadata": {},
      "source": [
        "# Maximum Likelihood unsupervised classification\n",
        "gs.run_command(\"i.maxlik\",\n",
        "               group=\"l8\",\n",
        "               subgroup=\"l8\",\n",
        "               sig=\"l8_hpf\",\n",
        "               output=\"l8_hpf_class\",\n",
        "               rej=\"l8_hpf_rej\")"
      ],
      "id": "d1e10d9d",
      "execution_count": null,
      "outputs": []
    },
    {
      "cell_type": "code",
      "metadata": {},
      "source": [
        "# Mostrar el mapa clasificado con `InteractiveMap`\n",
        "clas = gj.InteractiveMap(width=450, use_region=True)\n",
        "clas.add_raster(\"l8_hpf_class\")\n",
        "clas.add_layer_control(position = \"bottomright\")\n",
        "clas.show()"
      ],
      "id": "c9488ede",
      "execution_count": null,
      "outputs": []
    },
    {
      "cell_type": "markdown",
      "metadata": {},
      "source": [
        "### Información derivada adicional\n",
        "\n",
        "Usualmente, para realizar clasificaciones, derivamos muchas variables a partir \n",
        "de las bandas de sensores satelitales multiespectrales. Otra información podría\n",
        "obtenerse con los siguientes módulos, entre otros:\n",
        "\n",
        "- medidas de textura: \n",
        "[r.texture](https://grass.osgeo.org/grass-stable/manuals/r.texture.html), \n",
        "- medidas de diversidad: \n",
        "[r.diversity](https://grass.osgeo.org/grass-stable/manuals/addons/r.diversity.html), \n",
        "- estadísticas locales con información de contexto: [r.neighbors](https://grass.osgeo.org/grass-stable/manuals/r.neighbors.html),\n",
        "- transformación tasseled cap: [i.tasscap](https://grass.osgeo.org/grass-stable/manuals/i.tasscap.html),\n",
        "- etc.\n",
        "\n",
        "\n",
        "# Info y ejercicios de clasificación en GRASS GIS\n",
        "\n",
        "- [Topic classification](http://grass.osgeo.org/grass-stable/manuals/topic_classification.html) en los manuales de GRASS GIS\n",
        "- [Image classification](http://grasswiki.osgeo.org/wiki/Image_classification) en la wiki\n",
        "- [Ejemplos de clasificación](http://training.gismentors.eu/grass-gis-irsae-winter-course-2018/units/28.html) en el curso dictado en Noruega en 2018\n",
        "- [Detección de cambios con Landsat](https://veroandreo.gitlab.io/post/jan2021_ilandsat_tutorial/)\n",
        "- [Taller GRASS para sensado remoto en FOSS4G 2022](https://github.com/veroandreo/foss4g2022_grass4rs)\n"
      ],
      "id": "a55bbeb8"
    }
  ],
  "metadata": {
    "kernelspec": {
      "name": "python3",
      "language": "python",
      "display_name": "Python 3 (ipykernel)"
    }
  },
  "nbformat": 4,
  "nbformat_minor": 5
}