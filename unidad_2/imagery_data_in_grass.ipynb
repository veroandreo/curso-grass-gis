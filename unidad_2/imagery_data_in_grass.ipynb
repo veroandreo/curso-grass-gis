{
  "cells": [
    {
      "cell_type": "raw",
      "metadata": {},
      "source": [
        "---\n",
        "title: Datos satelitales en GRASS GIS\n",
        "author: Verónica Andreo\n",
        "date: today\n",
        "format:\n",
        "  html:\n",
        "    code-tools: true\n",
        "    code-copy: true\n",
        "    code-fold: false\n",
        "execute:\n",
        "  eval: false\n",
        "  cache: false\n",
        "  keep-ipynb: true\n",
        "---"
      ],
      "id": "97af7218"
    },
    {
      "cell_type": "markdown",
      "metadata": {},
      "source": [
        "Los datos satelitales en general vienen en formato raster >> aplican las mismas \n",
        "reglas.\n",
        "\n",
        "Los comandos **i.\\*** se orientan explícitamente al procesamiento de datos \n",
        "satelitales (aunque algunos puedan usarse para otros datos raster).\n",
        "\n",
        ":::{.callout-note}\n",
        "Para más detalles ver el manual <a href=\"https://grass.osgeo.org/grass-stable/manuals/imageryintro.html\">Imagery Intro</a> y la wiki <a href=\"https://grasswiki.osgeo.org/wiki/Image_processing\">Image Processing</a>\n",
        ":::\n",
        "\n",
        "# Datos para esta sesión\n",
        "\n",
        ":::: columns\n",
        ":::{.column width=\"50%\"}\n",
        "Escenas Landsat 8 (OLI)\n",
        "\n",
        "- Fechas: 14/01/2020 y 02/03/2020\n",
        "- Path/Row: 229/082\n",
        "- CRS: UTM zona 20 N (EPSG:32620)\n",
        ":::\n",
        "\n",
        ":::{.column width=\"50%\"}\n",
        "![](https://landsat.gsfc.nasa.gov/wp-content/uploads/2021/12/ldcm_2012_COL-300x168-1.png){fig-align=\"right\"}\n",
        ":::\n",
        "::::\n",
        "\n",
        "Descargar las escenas [L8 14/01/2020 (979Mb)](https://drive.google.com/file/d/1ytQp-xin1FQr_hqtDJRLgK6g4eXwK-WI/view?usp=sharing) y [L8 02/03/2020 (880Mb)](https://drive.google.com/file/d/1Gg8FbhwpIQR-GyYepM4uw_9IOjEnji_N/view?usp=sharing) y moverlas a `$HOME/gisdata/landsat_data`. **No descomprimir!**\n",
        "\n",
        "\n",
        "# Historia de la mision Landsat\n",
        "\n",
        "![Lanzamientos de satélites Lansat desde 1972](https://landsat.gsfc.nasa.gov/wp-content/uploads/2020-07/Landsat_timeline_20200318_title.gif)\n",
        "\n",
        "![Comparación entre las bandas de todos los satélites Landsat](https://landsat.gsfc.nasa.gov/wp-content/uploads/2021/12/all_Landsat_bands.png)\n",
        "\n",
        "The Multispectral Scanner System (MSS) aboard Landsats 1–5 had four bands. The \n",
        "Thematic Mapper (TM) aboard Landsats 4 & 5 had seven bands. Landsat 7’s Enhanced\n",
        "Thematic Mapper Plus (ETM+) has 8 bands and Landsats 8 & 9 have 11 bands. The \n",
        "atmospheric transmission values for this graphic were calculated using MODTRAN\n",
        "for a summertime mid-latitude hazy atmosphere (circa 5 km visibility). Fuente: <https://landsat.gsfc.nasa.gov/satellites/landsat-9/landsat-9-bands/>. \n",
        "\n",
        "https://www.usgs.gov/landsat-missions\n",
        "\n",
        "\n",
        "# Manos a la obra\n",
        "\n",
        "## Iniciamos GRASS GIS\n",
        "\n",
        "Iniciamos GRASS GIS en *posgar2007_4_cba/PERMANENT*\n"
      ],
      "id": "db323729"
    },
    {
      "cell_type": "code",
      "metadata": {},
      "source": [
        "import os\n",
        "\n",
        "# data directory\n",
        "homedir = os.path.expanduser('~')\n",
        "\n",
        "# GRASS GIS database variables\n",
        "grassdata = os.path.join(homedir, \"grassdata\")\n",
        "project = \"posgar2007_4_cba\"\n",
        "mapset = \"PERMANENT\""
      ],
      "id": "faf2b880",
      "execution_count": null,
      "outputs": []
    },
    {
      "cell_type": "code",
      "metadata": {},
      "source": [
        "# import standard Python packages we need\n",
        "import sys\n",
        "import subprocess\n",
        "\n",
        "# ask GRASS GIS where its Python packages are to be able to run it from the notebook\n",
        "sys.path.append(\n",
        "    subprocess.check_output([\"grass\", \"--config\", \"python_path\"], text=True).strip()\n",
        ")"
      ],
      "id": "74662983",
      "execution_count": null,
      "outputs": []
    },
    {
      "cell_type": "markdown",
      "metadata": {},
      "source": [
        "Ahora sí, estamos listos para importar los paquetes de GRASS e iniciar una\n",
        "sesión:\n"
      ],
      "id": "256d1c05"
    },
    {
      "cell_type": "code",
      "metadata": {},
      "source": [
        "# import the GRASS GIS packages we need\n",
        "import grass.script as gs\n",
        "import grass.jupyter as gj\n",
        "\n",
        "# Start the GRASS GIS Session\n",
        "session = gj.init(grassdata, project, mapset)"
      ],
      "id": "087cf855",
      "execution_count": null,
      "outputs": []
    },
    {
      "cell_type": "markdown",
      "metadata": {},
      "source": [
        "Corroboramos la proyección\n"
      ],
      "id": "22812461"
    },
    {
      "cell_type": "code",
      "metadata": {},
      "source": [
        "# check the CRS\n",
        "gs.read_command(\"g.proj\", flags=\"p\")"
      ],
      "id": "9d60a987",
      "execution_count": null,
      "outputs": []
    },
    {
      "cell_type": "markdown",
      "metadata": {},
      "source": [
        "## Crear un nuevo mapset\n",
        "\n",
        "Creamos un nuevo mapset llamado *landsat8*:\n"
      ],
      "id": "21d8fa68"
    },
    {
      "cell_type": "code",
      "metadata": {},
      "source": [
        "# Create a new mapset\n",
        "\n",
        "# gs.create_environment()\n",
        "g.mapset -c mapset=landsat8"
      ],
      "id": "abee25ed",
      "execution_count": null,
      "outputs": []
    },
    {
      "cell_type": "markdown",
      "metadata": {},
      "source": [
        "Listamos los mapsets accesibles\n"
      ],
      "id": "30084ad9"
    },
    {
      "cell_type": "code",
      "metadata": {},
      "source": [
        "# list all the mapsets in the search path\n",
        "g.mapsets -p"
      ],
      "id": "968f1bca",
      "execution_count": null,
      "outputs": []
    },
    {
      "cell_type": "markdown",
      "metadata": {},
      "source": [
        "Listamos los mapas vectoriales disponibles\n"
      ],
      "id": "725d0b5f"
    },
    {
      "cell_type": "code",
      "metadata": {},
      "source": [
        "# list vector maps in all mapsets in the search path\n",
        "g.list type=vector"
      ],
      "id": "3b5346c8",
      "execution_count": null,
      "outputs": []
    },
    {
      "cell_type": "markdown",
      "metadata": {},
      "source": [
        "## Región de interés\n",
        "\n",
        "Extraemos el radio urbano de Córdoba\n"
      ],
      "id": "c0447330"
    },
    {
      "cell_type": "code",
      "metadata": {},
      "source": [
        "# extract Cordoba urban area from `radios_urbanos`\n",
        "v.extract input=radios_urbanos \\\n",
        "  where=\"nombre == 'CORDOBA'\" \\\n",
        "  output=radio_urbano_cba"
      ],
      "id": "57d7a36c",
      "execution_count": null,
      "outputs": []
    },
    {
      "cell_type": "markdown",
      "metadata": {},
      "source": [
        "Establecemos la región computacional al radio urbano de Córdoba\n"
      ],
      "id": "1286f76c"
    },
    {
      "cell_type": "code",
      "metadata": {},
      "source": [
        "# set the computational region to the extent of Cordoba urban area\n",
        "g.region -p vector=radio_urbano_cba"
      ],
      "id": "cbae5922",
      "execution_count": null,
      "outputs": []
    },
    {
      "cell_type": "markdown",
      "metadata": {},
      "source": [
        "## Descargar e importar los datos L8\n",
        "\n",
        "Instalar la extensión *i.landsat*:\n"
      ],
      "id": "41e31fe9"
    },
    {
      "cell_type": "code",
      "metadata": {},
      "source": [
        "# install i.landsat toolset\n",
        "g.extension extension=i.landsat"
      ],
      "id": "ce2b5a25",
      "execution_count": null,
      "outputs": []
    },
    {
      "cell_type": "markdown",
      "metadata": {},
      "source": [
        "Buscar escenas de Landsat 8 disponibles\n"
      ],
      "id": "cd44b9f0"
    },
    {
      "cell_type": "code",
      "metadata": {},
      "source": [
        "# search for Landsat 8 scenes\n",
        "i.landsat.download -l settings=$HOME/gisdata/USGS_SETTING.txt \\\n",
        "  dataset=landsat_8_c1 clouds=35 \\\n",
        "  start='2019-10-27' end='2020-03-15'"
      ],
      "id": "ff83868b",
      "execution_count": null,
      "outputs": []
    },
    {
      "cell_type": "markdown",
      "metadata": {},
      "source": [
        "NO EJECUTAR! Descargar las escenas seleccionadas\n"
      ],
      "id": "cd8846ab"
    },
    {
      "cell_type": "code",
      "metadata": {},
      "source": [
        "# download selected scenes\n",
        "# i.landsat.download settings=$HOME/gisdata/USGS_SETTING.txt \\\n",
        "#   id=LC82290822020062LGN00,LC82290822020014LGN00 \\\n",
        "#   output=$HOME/gisdata/landsat_data"
      ],
      "id": "8b8844c8",
      "execution_count": null,
      "outputs": []
    },
    {
      "cell_type": "markdown",
      "metadata": {},
      "source": [
        "Imprimir las bandas dentro de la carpeta\n"
      ],
      "id": "687091af"
    },
    {
      "cell_type": "code",
      "metadata": {},
      "source": [
        "# print all landsat bands within landsat_data folder\n",
        "i.landsat.import -p input=$HOME/gisdata/landsat_data"
      ],
      "id": "97573963",
      "execution_count": null,
      "outputs": []
    },
    {
      "cell_type": "markdown",
      "metadata": {},
      "source": [
        "Imprimir sólo las bandas seleccionadas con un patrón\n"
      ],
      "id": "e70140d2"
    },
    {
      "cell_type": "code",
      "metadata": {},
      "source": [
        "# print a selection of bands - might be sloooow\n",
        "i.landsat.import -p \\\n",
        "  input=$HOME/gisdata/landsat_data \\\n",
        "  pattern='B(2|3|4|5|6|8)'"
      ],
      "id": "25349e37",
      "execution_count": null,
      "outputs": []
    },
    {
      "cell_type": "markdown",
      "metadata": {},
      "source": [
        "Importar bandas, recortar y reproyectar al vuelo\n"
      ],
      "id": "ebeb37fc"
    },
    {
      "cell_type": "code",
      "metadata": {},
      "source": [
        "# import all bands, subset to region and reproject\n",
        "i.landsat.import -r \\\n",
        "  input=$HOME/gisdata/landsat_data \\\n",
        "  extent=region"
      ],
      "id": "60a8c428",
      "execution_count": null,
      "outputs": []
    },
    {
      "cell_type": "markdown",
      "metadata": {},
      "source": [
        "Listar bandas importadas y revisar metadatos\n"
      ],
      "id": "330afa13"
    },
    {
      "cell_type": "code",
      "metadata": {},
      "source": [
        "# list raster maps\n",
        "g.list type=raster mapset=.\n",
        "\n",
        "# check metadata of some imported bands\n",
        "r.info map=LC08_L1TP_229082_20200114_20200127_01_T1_B4\n",
        "r.info map=LC08_L1TP_229082_20200114_20200127_01_T1_B8"
      ],
      "id": "a53fa57b",
      "execution_count": null,
      "outputs": []
    },
    {
      "cell_type": "markdown",
      "metadata": {},
      "source": [
        "#### Opcional: Importar directorio desde la GUI\n",
        "\n",
        "::: {.panel-tabset}\n",
        "\n",
        "## Select directory\n",
        "\n",
        "![](../assets/img/import_directory_1.png){width=50%}\n",
        "\n",
        "## Import settings\n",
        "\n",
        "![](../assets/img/import_directory_2.png){width=50%}\n",
        ":::\n",
        "\n",
        "## Pre-procesamiento de datos satelitales\n",
        "\n",
        "![Workflow de pre-procesamiento de datos satelitales](../assets/img/rs_workflow.jpg)\n",
        "\n",
        "### De número digital (ND) a reflectancia y temperatura\n",
        "\n",
        "- Los datos L8 OLI vienen en 16-bit con rango de datos entre 0 y 65535.\n",
        "- [i.landsat.toar](https://grass.osgeo.org/grass-stable/manuals/i.landsat.toar.html) \n",
        "convierte ND en reflectancia TOA (y temperatura de brillo) para todos los sensores \n",
        "Landsat. Opcionalmente proporciona reflectancia de superficie (BOA) después de la\n",
        "corrección DOS. \n",
        "- [i.atcorr](https://grass.osgeo.org/grass-stable/manuals/i.atcorr.html) proporciona\n",
        "un método de corrección atmosférica más complejo para gran variedad de sensores \n",
        "(S6).\n",
        "\n",
        "\n",
        "Definir region computacional a banda de 30m\n"
      ],
      "id": "7274f596"
    },
    {
      "cell_type": "code",
      "metadata": {},
      "source": [
        "# set the region to a 30m band\n",
        "g.region -p raster=LC08_L1TP_229082_20200114_20200127_01_T1_B4"
      ],
      "id": "1df4e060",
      "execution_count": null,
      "outputs": []
    },
    {
      "cell_type": "markdown",
      "metadata": {},
      "source": [
        "Convertir DN a reflectancia superficial y temperatura - método DOS\n"
      ],
      "id": "c9ed65b8"
    },
    {
      "cell_type": "code",
      "metadata": {},
      "source": [
        "# convert from DN to surface reflectance and temperature - requires to uncompress data locally\n",
        "i.landsat.toar \\\n",
        "  input=LC08_L1TP_229082_20200114_20200127_01_T1_B \\\n",
        "  output=LC08_229082_20200114_toar_B \\\n",
        "  sensor=oli8 \\\n",
        "  metfile=$HOME/gisdata/landsat_data/LC08_L1TP_229082_20200114_20200127_01_T1_MTL.txt \\\n",
        "  method=dos1"
      ],
      "id": "23beeb96",
      "execution_count": null,
      "outputs": []
    },
    {
      "cell_type": "markdown",
      "metadata": {},
      "source": [
        "Corroborar info antes y después de la conversión para una banda"
      ],
      "id": "b965155a"
    },
    {
      "cell_type": "code",
      "metadata": {},
      "source": [
        "# list output maps\n",
        "g.list type=raster mapset=. pattern=\"*toar*\"\n",
        "\n",
        "# check info before and after for one band\n",
        "r.info map=LC08_L1TP_229082_20200114_20200127_01_T1_B3\n",
        "r.info map=LC08_229082_20200114_toar_B3"
      ],
      "id": "e552a0c4",
      "execution_count": null,
      "outputs": []
    },
    {
      "cell_type": "markdown",
      "metadata": {},
      "source": [
        "![Banda 10 de L8 con la paleta de colores *kelvin*](../assets/img/L8_band10_kelvin.png)\n",
        "\n",
        ":::{.callout--caution title=\"Tarea\"}\n",
        "Ahora, sigan los mismos pasos para la escena del 02/03/2020. Qué notan de diferente?\n",
        ":::\n",
        "\n",
        "### Ajuste de color y composiciones RGB\n",
        "\n",
        "Ajuste de colores para una composición RGB color natural\n"
      ],
      "id": "fbc28b1d"
    },
    {
      "cell_type": "code",
      "metadata": {},
      "source": [
        "# enhance the colors\n",
        "i.colors.enhance \\\n",
        "  red=LC08_229082_20200114_toar_B4 \\\n",
        "  green=LC08_229082_20200114_toar_B3 \\\n",
        "  blue=LC08_229082_20200114_toar_B2 \\\n",
        "  strength=95"
      ],
      "id": "2211da40",
      "execution_count": null,
      "outputs": []
    },
    {
      "cell_type": "markdown",
      "metadata": {},
      "source": [
        "Mostrar la combinación RGB - *d.rgb*"
      ],
      "id": "90d307d7"
    },
    {
      "cell_type": "code",
      "metadata": {},
      "source": [
        "# display RGB\n",
        "d.mon wx0\n",
        "d.rgb \\\n",
        "  red=LC08_229082_20200114_toar_B4 \\\n",
        "  green=LC08_229082_20200114_toar_B3 \\\n",
        "  blue=LC08_229082_20200114_toar_B2"
      ],
      "id": "1e3e321c",
      "execution_count": null,
      "outputs": []
    },
    {
      "cell_type": "markdown",
      "metadata": {},
      "source": [
        ":::{.callout--caution title=\"Tarea\"}\n",
        "Seguir los mismos pasos para una composición falso color 543. \n",
        "Sobre qué bandas debieran realizar el ajuste? \n",
        ":::\n",
        "\n",
        ":::: columns\n",
        ":::{.column width=\"50%\"}\n",
        "![](../assets/img/L8_composite432.png)\n",
        ":::\n",
        "\n",
        ":::{.column width=\"50%\"}\n",
        "![](../assets/img/L8_composite543.png)\n",
        ":::\n",
        "\n",
        "Composiciones color natural 432 y falso color 543\n",
        "::::\n",
        "\n",
        "### Enmascarado de nubes con banda QA\n",
        "\n",
        "- Landsat 8 proporciona una banda de calidad (QA) con valores enteros de 16 \n",
        "bits que representan las combinaciones de superficie, atmósfera y condiciones \n",
        "del sensor que pueden afectar la utilidad general de un determinado pixel. \n",
        "- La extensión [i.landsat.qa](https://grass.osgeo.org/grass-stable/manuals/addons/i.landsat.qa.html) reclasifica la banda QA de Landsat 8 de acuerdo a la calidad del pixel. \n",
        "\n",
        ":::{.callout-note}\n",
        "Más información sobre la banda QA de L8 en la [guía de usuario](https://d9-wret.s3.us-west-2.amazonaws.com/assets/palladium/production/s3fs-public/media/files/LSDS-1619_Landsat8-9-Collection2-Level2-Science-Product-Guide-v5.pdf).\n",
        ":::\n",
        " \n",
        "Crear las reglas para identificar las nubes y sombras de nubes\n"
      ],
      "id": "3bf75c41"
    },
    {
      "cell_type": "code",
      "metadata": {},
      "source": [
        "# create a rule set\n",
        "i.landsat.qa \\\n",
        "  collection=1 \\\n",
        "  cloud_shadow_confidence=\"Medium,High\" \\\n",
        "  cloud_confidence=\"Medium,High\" \\\n",
        "  output=Cloud_Mask_rules.txt"
      ],
      "id": "df0a5031",
      "execution_count": null,
      "outputs": []
    },
    {
      "cell_type": "markdown",
      "metadata": {},
      "source": [
        "Reclasificar la banda QA en función de las reglas\n"
      ],
      "id": "aad59533"
    },
    {
      "cell_type": "code",
      "metadata": {},
      "source": [
        "# reclass the BQA band based on the rule set created\n",
        "r.reclass \\\n",
        "  input=LC08_L1TP_229082_20200114_20200127_01_T1_BQA \\\n",
        "  output=LC08_229082_20200114_Cloud_Mask \\\n",
        "  rules=Cloud_Mask_rules.txt"
      ],
      "id": "29c72722",
      "execution_count": null,
      "outputs": []
    },
    {
      "cell_type": "markdown",
      "metadata": {},
      "source": [
        "Reporte del porcentaje de nubes y sombras\n"
      ],
      "id": "d5452ee3"
    },
    {
      "cell_type": "code",
      "metadata": {},
      "source": [
        "# report % of clouds and shadows\n",
        "r.report -e map=LC08_229082_20200114_Cloud_Mask units=p"
      ],
      "id": "4f6016d8",
      "execution_count": null,
      "outputs": []
    },
    {
      "cell_type": "markdown",
      "metadata": {},
      "source": [
        "Mostrar el mapa reclasificado\n"
      ],
      "id": "0f05bcb0"
    },
    {
      "cell_type": "code",
      "metadata": {},
      "source": [
        "# display reclassified map over RGB\n",
        "d.mon wx0\n",
        "d.rgb \\\n",
        "  red=LC08_229082_20200114_toar_B4 \\\n",
        "  green=LC08_229082_20200114_toar_B3 \\\n",
        "  blue=LC08_229082_20200114_toar_B2\n",
        "d.rast LC08_229082_20200114_Cloud_Mask"
      ],
      "id": "d333d453",
      "execution_count": null,
      "outputs": []
    },
    {
      "cell_type": "markdown",
      "metadata": {},
      "source": [
        ":::{.callout--caution title=\"Tarea\"}\n",
        "Comparar visualmente la cobertura de nubes con la composición RGB 543.\n",
        ":::\n",
        "\n",
        ":::: columns\n",
        ":::{.column width=\"50%\"}\n",
        "![](../assets/img/L8_composite543.png)\n",
        ":::\n",
        "\n",
        ":::{.column width=\"50%\"}\n",
        "![](../assets/img/L8_clouds.png)\n",
        ":::\n",
        "\n",
        "Composición falso color y máscara de nubes\n",
        "::::\n",
        "\n",
        "### Fusión de datos/Pansharpening\n",
        "\n",
        "Vamos a usar la banda PAN (15 m) para mejorar la definición de las bandas \n",
        "espectrales de 30 m, por medio de: i.fusion.hpf](https://grass.osgeo.org/grass-stable/manuals/addons/i.fusion.hpf.html), \n",
        "que aplica un método de adición basado en un filtro de paso alto. \n",
        "Otros métodos están implementados en [i.pansharpen](https://grass.osgeo.org/grass-stable/manuals/i.pansharpen.html).\n",
        "\n",
        "Instalar la extensión *i.fusion.hpf*\n"
      ],
      "id": "eb02eb84"
    },
    {
      "cell_type": "code",
      "metadata": {},
      "source": [
        "# Install the reqquired addon\n",
        "g.extension extension=i.fusion.hpf"
      ],
      "id": "bbc7e5fa",
      "execution_count": null,
      "outputs": []
    },
    {
      "cell_type": "markdown",
      "metadata": {},
      "source": [
        "Cambiar la región a la banda PAN\n"
      ],
      "id": "7ee19ba8"
    },
    {
      "cell_type": "code",
      "metadata": {},
      "source": [
        "# Set the region to PAN band (15m)\n",
        "g.region -p raster=LC08_229082_20200114_toar_B8"
      ],
      "id": "9daa56e0",
      "execution_count": null,
      "outputs": []
    },
    {
      "cell_type": "markdown",
      "metadata": {},
      "source": [
        "Ejecutar la fusión\n"
      ],
      "id": "ca0b3240"
    },
    {
      "cell_type": "code",
      "metadata": {},
      "source": [
        "# Apply the fusion based on high pass filter\n",
        "i.fusion.hpf -l -c pan=LC08_229082_20200114_toar_B8 \\\n",
        "  msx=`g.list type=raster mapset=. pattern=*_toar_B[1-7] separator=,` \\\n",
        "  suffix=_hpf \\\n",
        "  center=high \\\n",
        "  modulation=max \\\n",
        "  trim=0.0"
      ],
      "id": "7e309cb8",
      "execution_count": null,
      "outputs": []
    },
    {
      "cell_type": "markdown",
      "metadata": {},
      "source": [
        "Listar los mapas resultantes usando un patrón de búsqueda\n"
      ],
      "id": "bb0990a3"
    },
    {
      "cell_type": "code",
      "metadata": {},
      "source": [
        "# list the fused maps\n",
        "g.list type=raster mapset=. pattern=*_hpf"
      ],
      "id": "31174514",
      "execution_count": null,
      "outputs": []
    },
    {
      "cell_type": "markdown",
      "metadata": {},
      "source": [
        "Visualizar las diferencias con la herramienta mapswipe\n"
      ],
      "id": "a0e6f634"
    },
    {
      "cell_type": "code",
      "metadata": {},
      "source": [
        "# display original and fused maps\n",
        "g.gui.mapswipe \\\n",
        "  first=LC08_229082_20200114_toar_B5 \\\n",
        "  second=LC08_229082_20200114_toar_B5_hpf"
      ],
      "id": "4ef1fc50",
      "execution_count": null,
      "outputs": []
    },
    {
      "cell_type": "markdown",
      "metadata": {},
      "source": [
        "![Datos originales 30 m y datos fusionados 15 m](../assets/img/L8_mapswipe_hpf.png)\n",
        "\n",
        "### Índices de agua y vegetación\n",
        "\n",
        "Establecer la máscara de nubes para evitar el cómputo sobre las nubes\n"
      ],
      "id": "9d0c6873"
    },
    {
      "cell_type": "code",
      "metadata": {},
      "source": [
        "# Set the cloud mask to avoid computing over clouds\n",
        "r.mask raster=LC08_229082_20200114_Cloud_Mask"
      ],
      "id": "89d382ba",
      "execution_count": null,
      "outputs": []
    },
    {
      "cell_type": "markdown",
      "metadata": {},
      "source": [
        "Calcular el NDVI y establecer la paleta de colores\n"
      ],
      "id": "2f70f784"
    },
    {
      "cell_type": "code",
      "metadata": {},
      "source": [
        "# Compute NDVI\n",
        "r.mapcalc \\\n",
        "  expression=\"LC08_229082_20200114_NDVI = \\\n",
        "  (LC08_229082_20200114_toar_B5_hpf - LC08_229082_20200114_toar_B4_hpf) / \\\n",
        "  (LC08_229082_20200114_toar_B5_hpf + LC08_229082_20200114_toar_B4_hpf) * 1.0\"\n",
        "# Set the color palette\n",
        "r.colors map=LC08_229082_20200114_NDVI color=ndvi"
      ],
      "id": "5d7f0044",
      "execution_count": null,
      "outputs": []
    },
    {
      "cell_type": "markdown",
      "metadata": {},
      "source": [
        "Calcular NDWI y establecer la paleta de colores\n"
      ],
      "id": "4224cb6b"
    },
    {
      "cell_type": "code",
      "metadata": {},
      "source": [
        "# Compute NDWI\n",
        "r.mapcalc expression=\"LC08_229082_20200114_NDWI = \\\n",
        "  (LC08_229082_20200114_toar_B5_hpf - LC08_229082_20200114_toar_B6_hpf) / \\\n",
        "  (LC08_229082_20200114_toar_B5_hpf + LC08_229082_20200114_toar_B6_hpf) * 1.0\"\n",
        "# Set the color palette\n",
        "r.colors map=LC08_229082_20200114_NDWI color=ndwi"
      ],
      "id": "32461556",
      "execution_count": null,
      "outputs": []
    },
    {
      "cell_type": "markdown",
      "metadata": {},
      "source": [
        "Mostrar los mapas\n"
      ],
      "id": "5c381cd1"
    },
    {
      "cell_type": "code",
      "metadata": {},
      "source": [
        "# display maps in different monitors\n",
        "d.mon wx0\n",
        "d.rast map=LC08_229082_20200114_NDVI\n",
        "\n",
        "d.mon wx1\n",
        "d.rast map=LC08_229082_20200114_NDWI"
      ],
      "id": "b39ab400",
      "execution_count": null,
      "outputs": []
    },
    {
      "cell_type": "markdown",
      "metadata": {},
      "source": [
        "![](../assets/img/L8_ndvi.png)\n",
        "![](../assets/img/L8_ndwi.png)\n",
        "\n",
        "NDVI y NDWI a partir de datos Landsat 8\n",
        "\n",
        "\n",
        "Estimar NDVI y NDWI para la otra escena usando el módulo [i.vi](https://grass.osgeo.org/grass-stable/manuals/i.vi.html) \n",
        "\n",
        "\n",
        "### Clasificación No Supervisada\n",
        "\n",
        "- Agrupar las bandas (i.e., hacer un stack): [i.group](https://grass.osgeo.org/grass-stable/manuals/i.group.html)\n",
        "- Generar firmas para *n* número de clases: [i.cluster](https://grass.osgeo.org/grass-stable/manuals/i.cluster.html)\n",
        "- Clasificar: [i.maxlik](https://grass.osgeo.org/grass-stable/manuals/i.maxlik.html)\n",
        " \n",
        "Listar los mapas usando un patrón\n"
      ],
      "id": "54c7b9ef"
    },
    {
      "cell_type": "code",
      "metadata": {},
      "source": [
        "# list the bands needed for classification\n",
        "g.list type=raster mapset=. pattern=*_toar*_hpf"
      ],
      "id": "1c10a18d",
      "execution_count": null,
      "outputs": []
    },
    {
      "cell_type": "markdown",
      "metadata": {},
      "source": [
        "Crear un grupo de imágenes o *stack*\n"
      ],
      "id": "ad31a256"
    },
    {
      "cell_type": "code",
      "metadata": {},
      "source": [
        "# add maps to an imagery group for easier management\n",
        "i.group group=l8 subgroup=l8 \\\n",
        " input=`g.list type=raster mapset=. pattern=*_toar*_hpf sep=\",\"`"
      ],
      "id": "ee8ca486",
      "execution_count": null,
      "outputs": []
    },
    {
      "cell_type": "markdown",
      "metadata": {},
      "source": [
        "Obtener estadísticos -firmas- para las *n* clases de interés con una muestra\n",
        "de pixeles\n"
      ],
      "id": "a0cd5ff8"
    },
    {
      "cell_type": "code",
      "metadata": {},
      "source": [
        "# statistics for unsupervised classification\n",
        "i.cluster group=l8 subgroup=l8 \\\n",
        " sig=l8_hpf \\\n",
        " classes=7 \\\n",
        " separation=0.6"
      ],
      "id": "333f4abe",
      "execution_count": null,
      "outputs": []
    },
    {
      "cell_type": "markdown",
      "metadata": {},
      "source": [
        "Realizar la clasificación no supervisada de toda la imagen\n"
      ],
      "id": "9f33d15a"
    },
    {
      "cell_type": "code",
      "metadata": {},
      "source": [
        "# Maximum Likelihood unsupervised classification\n",
        "i.maxlik group=l8 subgroup=l8 \\\n",
        " sig=l8_hpf \\\n",
        " output=l8_hpf_class \\\n",
        " rej=l8_hpf_rej"
      ],
      "id": "98e75ff9",
      "execution_count": null,
      "outputs": []
    },
    {
      "cell_type": "markdown",
      "metadata": {},
      "source": [
        "Mostrar el mapa clasificado\n"
      ],
      "id": "73f451e4"
    },
    {
      "cell_type": "code",
      "metadata": {},
      "source": [
        "# display results\n",
        "d.mon wx0\n",
        "d.rast map=l8_hpf_class"
      ],
      "id": "26093216",
      "execution_count": null,
      "outputs": []
    },
    {
      "cell_type": "markdown",
      "metadata": {},
      "source": [
        "![](../assets/img/L8_unsup_class.png)\n",
        "\n",
        "Información derivada adicional podría obtenerse con los siguientes módulos, \n",
        "entre otros:\n",
        "\n",
        "- medidas de textura: [r.texture](https://grass.osgeo.org/grass-stable/manuals/r.texture.html), \n",
        "- medidas de diversidad: [r.diversity](https://grass.osgeo.org/grass-stable/manuals/addons/r.diversity.html), \n",
        "- estadísticas locales con información de contexto: [r.neighbors](https://grass.osgeo.org/grass-stable/manuals/r.neighbors.html),\n",
        "- transformación tasseled cap: [i.tasscap](https://grass.osgeo.org/grass-stable/manuals/i.tasscap.html),\n",
        "- etc.\n",
        "\n",
        "\n",
        "### Clasificación en GRASS GIS\n",
        "\n",
        "- [Topic classification](http://grass.osgeo.org/grass-stable/manuals/topic_classification.html) en los manuales de GRASS GIS\n",
        "- [Image classification](http://grasswiki.osgeo.org/wiki/Image_classification) en la wiki\n",
        "- [Ejemplos de clasificación](http://training.gismentors.eu/grass-gis-irsae-winter-course-2018/units/28.html) en el curso dictado en Noruega en 2018\n",
        "- [Clasificación con Random Forest](https://neteler.gitlab.io/grass-gis-analysis/03_grass-gis_ecad_randomforest/) en la presentación del OpenGeoHub Summer School 2018 en Praga\n",
        "- [Detección de cambios con Landsat](https://veroandreo.gitlab.io/post/jan2021_ilandsat_tutorial/)\n",
        "\n",
        "\n",
        "## Semantic labels\n",
        "\n",
        "Un concepto bastante nuevo en GRASS GIS son las etiquetas semánticas o \n",
        "*semantic labels*. Éstas son especialmente relevantes para las imágenes de \n",
        "satélite, ya que nos permiten identificar a qué sensor y banda corresponde una \n",
        "trama determinada. Estas etiquetas son especialmente relevantes a la hora de \n",
        "trabajar con colecciones de imágenes de satélite y también a la hora de \n",
        "clasificar diferentes escenas. Lo veremos más adelante, pero al generar una \n",
        "firma espectral para un determinado conjunto de bandas, puede reutilizarse para \n",
        "clasificar otra escena siempre que las etiquetas semánticas sean las mismas. \n",
        "Cuidado: aunque es posible reutilizar las firmas espectrales para cualquier \n",
        "escena con las mismas bandas, los cambios temporales (estaciones, impacto \n",
        "meteorológico) limitan su aplicabilidad sólo a escenas obtenidas más o menos \n",
        "al mismo tiempo.\n"
      ],
      "id": "91d7192c"
    }
  ],
  "metadata": {
    "kernelspec": {
      "name": "python3",
      "language": "python",
      "display_name": "Python 3 (ipykernel)"
    }
  },
  "nbformat": 4,
  "nbformat_minor": 5
}