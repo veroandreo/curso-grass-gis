{
  "cells": [
    {
      "cell_type": "raw",
      "metadata": {},
      "source": [
        "---\n",
        "title: Datos satelitales en GRASS GIS\n",
        "author: Verónica Andreo\n",
        "date: today\n",
        "format:\n",
        "  html:\n",
        "    code-tools: true\n",
        "    code-copy: true\n",
        "    code-fold: false\n",
        "execute:\n",
        "  eval: false\n",
        "  cache: false\n",
        "  keep-ipynb: true\n",
        "---"
      ],
      "id": "e8cfa69d"
    },
    {
      "cell_type": "markdown",
      "metadata": {},
      "source": [
        "Los datos satelitales en general vienen en formato raster, por lo tanto aplican\n",
        "las mismas reglas.\n",
        "\n",
        "Los comandos **i.\\*** se orientan explícitamente al procesamiento de datos \n",
        "satelitales aunque algunos puedan usarse para otros datos raster.\n",
        "\n",
        ":::{.callout-note}\n",
        "Para más detalles, ver el manual de [Imagery Intro](https://grass.osgeo.org/grass-stable/manuals/imageryintro.html) y la wiki\n",
        "sobre [Image Processing](https://grasswiki.osgeo.org/wiki/Image_processing).\n",
        ":::\n",
        "\n",
        "# Datos para esta sesión\n",
        "\n",
        ":::: columns\n",
        ":::{.column width=\"50%\"}\n",
        "Escenas Landsat 8 (OLI)\n",
        "\n",
        "- Fechas: 14/01/2020 y 02/03/2020\n",
        "- Path/Row: 229/082\n",
        "- CRS: UTM zona 20 N (EPSG:32620)\n",
        ":::\n",
        "\n",
        ":::{.column width=\"50%\"}\n",
        "![](https://landsat.gsfc.nasa.gov/wp-content/uploads/2021/12/ldcm_2012_COL-300x168-1.png){fig-align=\"right\"}\n",
        ":::\n",
        "::::\n",
        "\n",
        "Descargar las escenas [L8 14/01/2020 (979Mb)](https://drive.google.com/file/d/1ytQp-xin1FQr_hqtDJRLgK6g4eXwK-WI/view?usp=sharing) y [L8 02/03/2020 (880Mb)](https://drive.google.com/file/d/1Gg8FbhwpIQR-GyYepM4uw_9IOjEnji_N/view?usp=sharing) y moverlas a `$HOME/gisdata/landsat_data`. **No descomprimir!**\n",
        "\n",
        "\n",
        "# Historia de la mision Landsat\n",
        "\n",
        "![Lanzamientos de satélites Lansat desde 1972](https://landsat.gsfc.nasa.gov/wp-content/uploads/2020-07/Landsat_timeline_20200318_title.gif)\n",
        "\n",
        "El sistema de escáner multiespectral (MSS) a bordo del Landsats 1-5 disponía de cuatro bandas. El Thematic Mapper (TM) a bordo de Landsats 4 y 5 tenía siete bandas. El Enhanced Thematic Mapper Plus (ETM+) del Landsat 7 tiene 8 bandas y los Landsats 8 y 9 tienen 11 bandas. Fuente: <https://landsat.gsfc.nasa.gov/satellites/landsat-9/landsat-9-bands/>. \n",
        "\n",
        "![Comparación entre las bandas de todos los satélites Landsat](https://landsat.gsfc.nasa.gov/wp-content/uploads/2021/12/all_Landsat_bands.png)\n",
        "\n",
        ":::{.callout-note}\n",
        "Más detalles sobre las misiones Landsat pueden encontrarse en: \n",
        "<https://www.usgs.gov/landsat-missions>\n",
        ":::\n",
        "\n",
        "# Manos a la obra\n",
        "\n",
        "## Iniciamos GRASS GIS\n",
        "\n",
        "Iniciamos GRASS GIS en *posgar2007_4_cba/PERMANENT*\n"
      ],
      "id": "3058ddff"
    },
    {
      "cell_type": "code",
      "metadata": {},
      "source": [
        "import os\n",
        "\n",
        "# data directory\n",
        "homedir = os.path.expanduser('~')\n",
        "\n",
        "# GRASS GIS database variables\n",
        "grassdata = os.path.join(homedir, \"grassdata\")\n",
        "project = \"posgar2007_4_cba\"\n",
        "mapset = \"PERMANENT\""
      ],
      "id": "213ab368",
      "execution_count": null,
      "outputs": []
    },
    {
      "cell_type": "code",
      "metadata": {},
      "source": [
        "# import standard Python packages we need\n",
        "import sys\n",
        "import subprocess\n",
        "\n",
        "# ask GRASS GIS where its Python packages are to be able to run it from the notebook\n",
        "sys.path.append(\n",
        "    subprocess.check_output([\"grass\", \"--config\", \"python_path\"], text=True).strip()\n",
        ")"
      ],
      "id": "a07dcd32",
      "execution_count": null,
      "outputs": []
    },
    {
      "cell_type": "markdown",
      "metadata": {},
      "source": [
        "Ahora sí, estamos listos para importar los paquetes de GRASS e iniciar una\n",
        "sesión:\n"
      ],
      "id": "371e7da4"
    },
    {
      "cell_type": "code",
      "metadata": {},
      "source": [
        "# import the GRASS GIS packages we need\n",
        "import grass.script as gs\n",
        "import grass.jupyter as gj\n",
        "\n",
        "# Start the GRASS GIS Session\n",
        "session = gj.init(grassdata, project, mapset)"
      ],
      "id": "92c8f5c9",
      "execution_count": null,
      "outputs": []
    },
    {
      "cell_type": "markdown",
      "metadata": {},
      "source": [
        "Corroboramos la proyección\n"
      ],
      "id": "09600d4d"
    },
    {
      "cell_type": "code",
      "metadata": {},
      "source": [
        "# check the CRS\n",
        "gs.read_command(\"g.proj\", flags=\"p\")"
      ],
      "id": "cb23b3ad",
      "execution_count": null,
      "outputs": []
    },
    {
      "cell_type": "markdown",
      "metadata": {},
      "source": [
        "## Crear un nuevo mapset\n",
        "\n",
        "Creamos un nuevo mapset llamado *landsat8*:\n"
      ],
      "id": "4fc507c5"
    },
    {
      "cell_type": "code",
      "metadata": {},
      "source": [
        "# Create a new mapset\n",
        "gs.create_environment(grassdata, project, mapset=\"landsat8\")"
      ],
      "id": "c7228877",
      "execution_count": null,
      "outputs": []
    },
    {
      "cell_type": "markdown",
      "metadata": {},
      "source": [
        "Listamos los mapsets accesibles\n"
      ],
      "id": "a73319b2"
    },
    {
      "cell_type": "code",
      "metadata": {},
      "source": [
        "# list all the mapsets in the search path\n",
        "gs.mapsets()"
      ],
      "id": "3cbee503",
      "execution_count": null,
      "outputs": []
    },
    {
      "cell_type": "markdown",
      "metadata": {},
      "source": [
        "Listamos los mapas vectoriales disponibles\n"
      ],
      "id": "294dcf51"
    },
    {
      "cell_type": "code",
      "metadata": {},
      "source": [
        "# list vector maps in all mapsets in the search path\n",
        "gs.list_grouped(type=\"vector\")"
      ],
      "id": "47c524de",
      "execution_count": null,
      "outputs": []
    },
    {
      "cell_type": "markdown",
      "metadata": {},
      "source": [
        "## Región de interés\n",
        "\n",
        "Extraemos el radio urbano de Córdoba\n"
      ],
      "id": "6e9fc021"
    },
    {
      "cell_type": "code",
      "metadata": {},
      "source": [
        "# extract Cordoba urban area from `radios_urbanos`\n",
        "gs.run_command(\"v.extract\", input=\"radios_urbanos\", where=\"nombre == 'CORDOBA'\", output=\"radio_urbano_cba\")"
      ],
      "id": "ba227c68",
      "execution_count": null,
      "outputs": []
    },
    {
      "cell_type": "markdown",
      "metadata": {},
      "source": [
        "Establecemos la región computacional al radio urbano de Córdoba\n"
      ],
      "id": "720156f3"
    },
    {
      "cell_type": "code",
      "metadata": {},
      "source": [
        "# set the computational region to the extent of Cordoba urban area\n",
        "gs.run_command(\"g.region\", flags=\"p\", vector=\"radio_urbano_cba\")"
      ],
      "id": "371e81b1",
      "execution_count": null,
      "outputs": []
    },
    {
      "cell_type": "markdown",
      "metadata": {},
      "source": [
        "## Descargar e importar los datos L8\n",
        "\n",
        "Instalar la extensión *i.landsat*:\n"
      ],
      "id": "e714c791"
    },
    {
      "cell_type": "code",
      "metadata": {},
      "source": [
        "# install i.landsat toolset\n",
        "g.extension extension=i.landsat"
      ],
      "id": "9f43a0e8",
      "execution_count": null,
      "outputs": []
    },
    {
      "cell_type": "markdown",
      "metadata": {},
      "source": [
        "Buscar escenas de Landsat 8 disponibles\n"
      ],
      "id": "c8266cd7"
    },
    {
      "cell_type": "code",
      "metadata": {},
      "source": [
        "# search for Landsat 8 scenes\n",
        "i.landsat.download -l settings=$HOME/gisdata/USGS_SETTING.txt \\\n",
        "  dataset=landsat_8_c1 clouds=35 \\\n",
        "  start='2019-10-27' end='2020-03-15'"
      ],
      "id": "a2676d1d",
      "execution_count": null,
      "outputs": []
    },
    {
      "cell_type": "markdown",
      "metadata": {},
      "source": [
        "NO EJECUTAR! Descargar las escenas seleccionadas\n"
      ],
      "id": "a9ba9eb2"
    },
    {
      "cell_type": "code",
      "metadata": {},
      "source": [
        "# download selected scenes\n",
        "# i.landsat.download settings=$HOME/gisdata/USGS_SETTING.txt \\\n",
        "#   id=LC82290822020062LGN00,LC82290822020014LGN00 \\\n",
        "#   output=$HOME/gisdata/landsat_data"
      ],
      "id": "05f40bfb",
      "execution_count": null,
      "outputs": []
    },
    {
      "cell_type": "markdown",
      "metadata": {},
      "source": [
        "Imprimir las bandas dentro de la carpeta\n"
      ],
      "id": "e33c2e71"
    },
    {
      "cell_type": "code",
      "metadata": {},
      "source": [
        "# print all landsat bands within landsat_data folder\n",
        "gs.run_command(i.landsat.import -p input=$HOME/gisdata/landsat_data)"
      ],
      "id": "d4fd610c",
      "execution_count": null,
      "outputs": []
    },
    {
      "cell_type": "markdown",
      "metadata": {},
      "source": [
        "Imprimir sólo las bandas seleccionadas con un patrón\n"
      ],
      "id": "6774c582"
    },
    {
      "cell_type": "code",
      "metadata": {},
      "source": [
        "# print a selection of bands - might be sloooow\n",
        "gs.run_command(i.landsat.import -p input=$HOME/gisdata/landsat_data pattern='B(2|3|4|5|6|8)')"
      ],
      "id": "305e3571",
      "execution_count": null,
      "outputs": []
    },
    {
      "cell_type": "markdown",
      "metadata": {},
      "source": [
        "Importar bandas, recortar y reproyectar al vuelo\n"
      ],
      "id": "27d198f0"
    },
    {
      "cell_type": "code",
      "metadata": {},
      "source": [
        "# import all bands, subset to region and reproject\n",
        "gs.run_command(i.landsat.import -r input=$HOME/gisdata/landsat_data extent=region)"
      ],
      "id": "3f15245d",
      "execution_count": null,
      "outputs": []
    },
    {
      "cell_type": "markdown",
      "metadata": {},
      "source": [
        "Listar bandas importadas y revisar metadatos\n"
      ],
      "id": "d908ca31"
    },
    {
      "cell_type": "code",
      "metadata": {},
      "source": [
        "# list raster maps\n",
        "gs.list_grouped(type=raster)[\"landsat8\"]"
      ],
      "id": "8cf1a439",
      "execution_count": null,
      "outputs": []
    },
    {
      "cell_type": "code",
      "metadata": {},
      "source": [
        "# check metadata of some imported bands\n",
        "gs.raster_info(map=LC08_L1TP_229082_20200114_20200127_01_T1_B4)\n",
        "gs.raster_info(map=LC08_L1TP_229082_20200114_20200127_01_T1_B8)"
      ],
      "id": "de192a2a",
      "execution_count": null,
      "outputs": []
    },
    {
      "cell_type": "markdown",
      "metadata": {},
      "source": [
        "## Pre-procesamiento de datos satelitales\n",
        "\n",
        "![Workflow de pre-procesamiento de datos satelitales](../assets/img/rs_workflow.jpg){width=70% fig-align=\"center\"}\n",
        "\n",
        "### De número digital (ND) a reflectancia y temperatura\n",
        "\n",
        "- Los datos L8 OLI vienen en 16-bit con rango de datos entre 0 y 65535.\n",
        "- [i.landsat.toar](https://grass.osgeo.org/grass-stable/manuals/i.landsat.toar.html) \n",
        "convierte ND en reflectancia TOA (y temperatura de brillo) para todos los sensores \n",
        "Landsat. Opcionalmente proporciona reflectancia de superficie (BOA) después de la\n",
        "corrección DOS. \n",
        "- [i.atcorr](https://grass.osgeo.org/grass-stable/manuals/i.atcorr.html) proporciona\n",
        "un método de corrección atmosférica más complejo para gran variedad de sensores \n",
        "(S6).\n",
        "\n",
        "\n",
        "Definir region computacional a banda de 30m\n"
      ],
      "id": "b919cf2a"
    },
    {
      "cell_type": "code",
      "metadata": {},
      "source": [
        "# set the region to a 30m band\n",
        "gs.run_command(\"g.region\", raster=\"LC08_L1TP_229082_20200114_20200127_01_T1_B4\", flags=\"p\")"
      ],
      "id": "872a175f",
      "execution_count": null,
      "outputs": []
    },
    {
      "cell_type": "markdown",
      "metadata": {},
      "source": [
        "Convertir DN a reflectancia superficial y temperatura - método DOS\n"
      ],
      "id": "4cade0dd"
    },
    {
      "cell_type": "code",
      "metadata": {},
      "source": [
        "# convert from DN to surface reflectance and temperature - requires to uncompress data locally\n",
        "gs.run_command(i.landsat.toar input=\"LC08_L1TP_229082_20200114_20200127_01_T1_B\"   output=\"LC08_229082_20200114_toar_B\" sensor=\"oli8\" metfile=\"$HOME/gisdata/landsat_data/LC08_L1TP_229082_20200114_20200127_01_T1_MTL.txt\"\n",
        "method=\"dos1\")"
      ],
      "id": "70d22b79",
      "execution_count": null,
      "outputs": []
    },
    {
      "cell_type": "markdown",
      "metadata": {},
      "source": [
        "Corroborar info antes y después de la conversión para una banda"
      ],
      "id": "0d72af44"
    },
    {
      "cell_type": "code",
      "metadata": {},
      "source": [
        "# list output maps\n",
        "g.list type=raster mapset=. pattern=\"*toar*\""
      ],
      "id": "6eaa0944",
      "execution_count": null,
      "outputs": []
    },
    {
      "cell_type": "code",
      "metadata": {},
      "source": [
        "# check info before and after for one band\n",
        "r.info map=LC08_L1TP_229082_20200114_20200127_01_T1_B3\n",
        "r.info map=LC08_229082_20200114_toar_B3"
      ],
      "id": "f3f471ff",
      "execution_count": null,
      "outputs": []
    },
    {
      "cell_type": "markdown",
      "metadata": {},
      "source": [
        "![Banda 10 de L8 con la paleta de colores *kelvin*](../assets/img/L8_band10_kelvin.png)\n",
        "\n",
        ":::{.callout--caution title=\"Tarea\"}\n",
        "Ahora, sigan los mismos pasos para la escena del 02/03/2020. \n",
        "¿Qué notan de diferente?\n",
        ":::\n",
        "\n",
        "### Ajuste de color y composiciones RGB\n",
        "\n",
        "Ajuste de colores para una composición RGB color natural\n"
      ],
      "id": "b788acdb"
    },
    {
      "cell_type": "code",
      "metadata": {},
      "source": [
        "# enhance the colors\n",
        "gs.run_command(i.colors.enhance red=LC08_229082_20200114_toar_B4   green=LC08_229082_20200114_toar_B3 blue=LC08_229082_20200114_toar_B2 strength=95)"
      ],
      "id": "3d6b368b",
      "execution_count": null,
      "outputs": []
    },
    {
      "cell_type": "markdown",
      "metadata": {},
      "source": [
        "Mostrar la combinación RGB\n"
      ],
      "id": "9f9fa071"
    },
    {
      "cell_type": "code",
      "metadata": {},
      "source": [
        "# display RGB\n",
        "rgb = gj."
      ],
      "id": "338248ad",
      "execution_count": null,
      "outputs": []
    },
    {
      "cell_type": "markdown",
      "metadata": {},
      "source": [
        ":::{.callout--caution title=\"Tarea\"}\n",
        "Seguir los mismos pasos para una composición falso color 543. \n",
        "Sobre qué bandas debieran realizar el ajuste? \n",
        ":::\n",
        "\n",
        ":::: columns\n",
        ":::{.column width=\"50%\"}\n",
        "![Composición color natural 432](../assets/img/L8_composite432.png)\n",
        ":::\n",
        "\n",
        ":::{.column width=\"50%\"}\n",
        "![Composición falso color 543](../assets/img/L8_composite543.png)\n",
        ":::\n",
        "::::\n",
        "\n",
        "### Enmascarado de nubes con banda QA\n",
        "\n",
        "- Landsat 8 proporciona una banda de calidad (quality assessment, QA) con valores\n",
        "enteros de 16 bits que representan las combinaciones de superficie, atmósfera y \n",
        "condiciones del sensor que pueden afectar la utilidad general de un determinado \n",
        "pixel. \n",
        "- La extensión [i.landsat.qa](https://grass.osgeo.org/grass-stable/manuals/addons/i.landsat.qa.html) reclasifica la banda QA de Landsat 8 de acuerdo a la calidad del pixel. \n",
        "\n",
        ":::{.callout-note}\n",
        "Más información sobre la banda QA de L8 en la [guía de usuario](https://d9-wret.s3.us-west-2.amazonaws.com/assets/palladium/production/s3fs-public/media/files/LSDS-1619_Landsat8-9-Collection2-Level2-Science-Product-Guide-v5.pdf).\n",
        ":::\n",
        " \n",
        "Crear las reglas para identificar las nubes y sombras de nubes\n"
      ],
      "id": "19fa5501"
    },
    {
      "cell_type": "code",
      "metadata": {},
      "source": [
        "# create a rule set\n",
        "gs.run_command(i.landsat.qa collection=1 cloud_shadow_confidence=\"Medium,High\"   cloud_confidence=\"Medium,High\" output=Cloud_Mask_rules.txt)"
      ],
      "id": "0b0d8d70",
      "execution_count": null,
      "outputs": []
    },
    {
      "cell_type": "markdown",
      "metadata": {},
      "source": [
        "Reclasificar la banda QA en función de las reglas\n"
      ],
      "id": "076049bd"
    },
    {
      "cell_type": "code",
      "metadata": {},
      "source": [
        "# reclass the BQA band based on the rule set created\n",
        "gs.run_command(r.reclass input=LC08_L1TP_229082_20200114_20200127_01_T1_BQA\n",
        "  output=LC08_229082_20200114_Cloud_Mask rules=Cloud_Mask_rules.txt)"
      ],
      "id": "4ea9c0f7",
      "execution_count": null,
      "outputs": []
    },
    {
      "cell_type": "markdown",
      "metadata": {},
      "source": [
        "Reporte del porcentaje de nubes y sombras\n"
      ],
      "id": "ffdbb349"
    },
    {
      "cell_type": "code",
      "metadata": {},
      "source": [
        "# report % of clouds and shadows\n",
        "print(gs.read_command(r.report -e map=LC08_229082_20200114_Cloud_Mask units=p))"
      ],
      "id": "1ceb65c5",
      "execution_count": null,
      "outputs": []
    },
    {
      "cell_type": "markdown",
      "metadata": {},
      "source": [
        "Mostrar el mapa reclasificado\n"
      ],
      "id": "adeab235"
    },
    {
      "cell_type": "code",
      "metadata": {},
      "source": [
        "# display reclassified map over RGB\n",
        "d.mon wx0\n",
        "d.rgb \\\n",
        "  red=LC08_229082_20200114_toar_B4 \\\n",
        "  green=LC08_229082_20200114_toar_B3 \\\n",
        "  blue=LC08_229082_20200114_toar_B2\n",
        "d.rast LC08_229082_20200114_Cloud_Mask"
      ],
      "id": "f5427352",
      "execution_count": null,
      "outputs": []
    },
    {
      "cell_type": "markdown",
      "metadata": {},
      "source": [
        ":::{.callout--caution title=\"Tarea\"}\n",
        "Comparar visualmente la cobertura de nubes con la composición RGB 543.\n",
        ":::\n",
        "\n",
        ":::: columns\n",
        ":::{.column width=\"50%\"}\n",
        "![Composición falso color](../assets/img/L8_composite543.png)\n",
        ":::\n",
        "\n",
        ":::{.column width=\"50%\"}\n",
        "![Máscara de nubes](../assets/img/L8_clouds.png)\n",
        ":::\n",
        "::::\n",
        "\n",
        "### Fusión de datos/Pansharpening\n",
        "\n",
        "Vamos a usar la banda PAN (15 m) para mejorar la definición de las bandas \n",
        "espectrales de 30 m, por medio de: \n",
        "[i.fusion.hpf](https://grass.osgeo.org/grass-stable/manuals/addons/i.fusion.hpf.html), \n",
        "que aplica un método de adición basado en un filtro de paso alto. \n",
        "Otros métodos están implementados en \n",
        "[i.pansharpen](https://grass.osgeo.org/grass-stable/manuals/i.pansharpen.html).\n",
        "\n",
        "Instalar la extensión *i.fusion.hpf*\n"
      ],
      "id": "b420e591"
    },
    {
      "cell_type": "code",
      "metadata": {},
      "source": [
        "# Install the reqquired addon\n",
        "gs.run_command(g.extension extension=i.fusion.hpf)"
      ],
      "id": "e5d883f8",
      "execution_count": null,
      "outputs": []
    },
    {
      "cell_type": "markdown",
      "metadata": {},
      "source": [
        "Cambiar la región a la banda PAN\n"
      ],
      "id": "d1844ea1"
    },
    {
      "cell_type": "code",
      "metadata": {},
      "source": [
        "# Set the region to PAN band (15m)\n",
        "gs.run_command(g.region -p raster=LC08_229082_20200114_toar_B8)"
      ],
      "id": "05cb2692",
      "execution_count": null,
      "outputs": []
    },
    {
      "cell_type": "markdown",
      "metadata": {},
      "source": [
        "Ejecutar la fusión\n"
      ],
      "id": "485aa0d6"
    },
    {
      "cell_type": "code",
      "metadata": {},
      "source": [
        "# Apply the fusion based on high pass filter\n",
        "gs.run_command(i.fusion.hpf -l -c pan=LC08_229082_20200114_toar_B8, msx=`g.list type=raster mapset=. pattern=*_toar_B[1-7] separator=,`, suffix=_hpf, center=high, modulation=max, trim=0.0)"
      ],
      "id": "a60c8d95",
      "execution_count": null,
      "outputs": []
    },
    {
      "cell_type": "markdown",
      "metadata": {},
      "source": [
        "Listar los mapas resultantes usando un patrón de búsqueda\n"
      ],
      "id": "a4207620"
    },
    {
      "cell_type": "code",
      "metadata": {},
      "source": [
        "# list the fused maps\n",
        "gs.list_grouped(type=raster, pattern=*_hpf)[\"landsat8\"]"
      ],
      "id": "baa551bb",
      "execution_count": null,
      "outputs": []
    },
    {
      "cell_type": "markdown",
      "metadata": {},
      "source": [
        "Visualizar las diferencias\n",
        "\n",
        "![Datos originales 30 m y datos fusionados 15 m](../assets/img/L8_mapswipe_hpf.png)\n"
      ],
      "id": "4b45e7cf"
    },
    {
      "cell_type": "code",
      "metadata": {},
      "source": [
        "# display original and fused maps"
      ],
      "id": "b7a0a0fc",
      "execution_count": null,
      "outputs": []
    },
    {
      "cell_type": "markdown",
      "metadata": {},
      "source": [
        "### Índices de agua y vegetación\n",
        "\n",
        "Establecer la máscara de nubes para evitar el cómputo sobre las nubes\n"
      ],
      "id": "be089c3d"
    },
    {
      "cell_type": "code",
      "metadata": {},
      "source": [
        "# Set the cloud mask to avoid computing over clouds\n",
        "gs.run_command(r.mask raster=LC08_229082_20200114_Cloud_Mask)"
      ],
      "id": "cc5c17eb",
      "execution_count": null,
      "outputs": []
    },
    {
      "cell_type": "markdown",
      "metadata": {},
      "source": [
        "Calcular el NDVI y establecer la paleta de colores\n"
      ],
      "id": "a7a22400"
    },
    {
      "cell_type": "code",
      "metadata": {},
      "source": [
        "# Compute NDVI\n",
        "r.mapcalc \\\n",
        "  expression=\"LC08_229082_20200114_NDVI = \\\n",
        "  (LC08_229082_20200114_toar_B5_hpf - LC08_229082_20200114_toar_B4_hpf) / \\\n",
        "  (LC08_229082_20200114_toar_B5_hpf + LC08_229082_20200114_toar_B4_hpf) * 1.0\"\n",
        "# Set the color palette\n",
        "r.colors map=LC08_229082_20200114_NDVI color=ndvi"
      ],
      "id": "cb8fd4fd",
      "execution_count": null,
      "outputs": []
    },
    {
      "cell_type": "markdown",
      "metadata": {},
      "source": [
        "Calcular NDWI y establecer la paleta de colores\n"
      ],
      "id": "b14cef65"
    },
    {
      "cell_type": "code",
      "metadata": {},
      "source": [
        "# Compute NDWI\n",
        "r.mapcalc expression=\"LC08_229082_20200114_NDWI = \\\n",
        "  (LC08_229082_20200114_toar_B5_hpf - LC08_229082_20200114_toar_B6_hpf) / \\\n",
        "  (LC08_229082_20200114_toar_B5_hpf + LC08_229082_20200114_toar_B6_hpf) * 1.0\"\n",
        "# Set the color palette\n",
        "r.colors map=LC08_229082_20200114_NDWI color=ndwi"
      ],
      "id": "98aaac40",
      "execution_count": null,
      "outputs": []
    },
    {
      "cell_type": "markdown",
      "metadata": {},
      "source": [
        "Mostrar los mapas\n"
      ],
      "id": "108b5238"
    },
    {
      "cell_type": "code",
      "metadata": {},
      "source": [
        "ndi = gj.InteractiveMap()\n",
        "ndi.add_raster()\n",
        "ndi.show()"
      ],
      "id": "15fe2c29",
      "execution_count": null,
      "outputs": []
    },
    {
      "cell_type": "markdown",
      "metadata": {},
      "source": [
        ":::: columns\n",
        ":::{.column width=\"50%\"}\n",
        "![](../assets/img/L8_ndvi.png)\n",
        ":::\n",
        ":::{.column width=\"50%\"}\n",
        "![](../assets/img/L8_ndwi.png)\n",
        ":::\n",
        "NDVI y NDWI a partir de datos Landsat 8\n",
        "::::\n",
        "\n",
        ":::{.callout-warning title=\"Tarea\"}\n",
        "Estimar NDVI y NDWI para la otra escena usando el módulo [i.vi](https://grass.osgeo.org/grass-stable/manuals/i.vi.html) \n",
        ":::\n",
        "\n",
        "### Clasificación No Supervisada\n",
        "\n",
        "- Agrupar las bandas (i.e., hacer un stack): [i.group](https://grass.osgeo.org/grass-stable/manuals/i.group.html)\n",
        "- Generar firmas para *n* número de clases: [i.cluster](https://grass.osgeo.org/grass-stable/manuals/i.cluster.html)\n",
        "- Clasificar: [i.maxlik](https://grass.osgeo.org/grass-stable/manuals/i.maxlik.html)\n",
        " \n",
        "Listar los mapas usando un patrón\n"
      ],
      "id": "05be70f3"
    },
    {
      "cell_type": "code",
      "metadata": {},
      "source": [
        "# list the bands needed for classification\n",
        "g.list type=raster mapset=. pattern=*_toar*_hpf"
      ],
      "id": "88278feb",
      "execution_count": null,
      "outputs": []
    },
    {
      "cell_type": "markdown",
      "metadata": {},
      "source": [
        "Crear un grupo de imágenes o *stack*\n"
      ],
      "id": "c9789938"
    },
    {
      "cell_type": "code",
      "metadata": {},
      "source": [
        "# add maps to an imagery group for easier management\n",
        "i.group group=l8 subgroup=l8 \\\n",
        " input=`g.list type=raster mapset=. pattern=*_toar*_hpf sep=\",\"`"
      ],
      "id": "d116d6b7",
      "execution_count": null,
      "outputs": []
    },
    {
      "cell_type": "markdown",
      "metadata": {},
      "source": [
        "Obtener estadísticos -firmas- para las *n* clases de interés con una muestra\n",
        "de pixeles\n"
      ],
      "id": "01f16eac"
    },
    {
      "cell_type": "code",
      "metadata": {},
      "source": [
        "# statistics for unsupervised classification\n",
        "i.cluster group=l8 subgroup=l8 \\\n",
        " sig=l8_hpf \\\n",
        " classes=7 \\\n",
        " separation=0.6"
      ],
      "id": "fa2cf3d8",
      "execution_count": null,
      "outputs": []
    },
    {
      "cell_type": "markdown",
      "metadata": {},
      "source": [
        "Realizar la clasificación no supervisada de toda la imagen\n"
      ],
      "id": "c55089d0"
    },
    {
      "cell_type": "code",
      "metadata": {},
      "source": [
        "# Maximum Likelihood unsupervised classification\n",
        "i.maxlik group=l8 subgroup=l8 \\\n",
        " sig=l8_hpf \\\n",
        " output=l8_hpf_class \\\n",
        " rej=l8_hpf_rej"
      ],
      "id": "656aaf59",
      "execution_count": null,
      "outputs": []
    },
    {
      "cell_type": "markdown",
      "metadata": {},
      "source": [
        "Mostrar el mapa clasificado\n"
      ],
      "id": "7fc76524"
    },
    {
      "cell_type": "markdown",
      "metadata": {},
      "source": [
        "![](../assets/img/L8_unsup_class.png)\n",
        "\n",
        "\n",
        "### Información derivada adicional\n",
        "\n",
        "Información derivada adicional podría obtenerse con los siguientes módulos, \n",
        "entre otros:\n",
        "\n",
        "- medidas de textura: [r.texture](https://grass.osgeo.org/grass-stable/manuals/r.texture.html), \n",
        "- medidas de diversidad: [r.diversity](https://grass.osgeo.org/grass-stable/manuals/addons/r.diversity.html), \n",
        "- estadísticas locales con información de contexto: [r.neighbors](https://grass.osgeo.org/grass-stable/manuals/r.neighbors.html),\n",
        "- transformación tasseled cap: [i.tasscap](https://grass.osgeo.org/grass-stable/manuals/i.tasscap.html),\n",
        "- etc.\n",
        "\n",
        "\n",
        "### Clasificación en GRASS GIS\n",
        "\n",
        "- [Topic classification](http://grass.osgeo.org/grass-stable/manuals/topic_classification.html) en los manuales de GRASS GIS\n",
        "- [Image classification](http://grasswiki.osgeo.org/wiki/Image_classification) en la wiki\n",
        "- [Ejemplos de clasificación](http://training.gismentors.eu/grass-gis-irsae-winter-course-2018/units/28.html) en el curso dictado en Noruega en 2018\n",
        "- [Clasificación con Random Forest](https://neteler.gitlab.io/grass-gis-analysis/03_grass-gis_ecad_randomforest/) en la presentación del OpenGeoHub Summer School 2018 en Praga\n",
        "- [Detección de cambios con Landsat](https://veroandreo.gitlab.io/post/jan2021_ilandsat_tutorial/)\n",
        "\n",
        "\n",
        "## Semantic labels\n",
        "\n",
        "Un concepto bastante nuevo en GRASS GIS son las etiquetas semánticas o \n",
        "*semantic labels*. Éstas son especialmente relevantes para las imágenes de \n",
        "satélite, ya que nos permiten identificar a qué sensor y banda corresponde una \n",
        "trama determinada. Estas etiquetas son especialmente relevantes a la hora de \n",
        "trabajar con colecciones de imágenes de satélite y también a la hora de \n",
        "clasificar diferentes escenas. Lo veremos más adelante, pero al generar una \n",
        "firma espectral para un determinado conjunto de bandas, puede reutilizarse para \n",
        "clasificar otra escena siempre que las etiquetas semánticas sean las mismas. \n",
        "Cuidado: aunque es posible reutilizar las firmas espectrales para cualquier \n",
        "escena con las mismas bandas, los cambios temporales (estaciones, impacto \n",
        "meteorológico) limitan su aplicabilidad sólo a escenas obtenidas más o menos \n",
        "al mismo tiempo.\n"
      ],
      "id": "26f7c15d"
    }
  ],
  "metadata": {
    "kernelspec": {
      "name": "python3",
      "language": "python",
      "display_name": "Python 3 (ipykernel)"
    }
  },
  "nbformat": 4,
  "nbformat_minor": 5
}