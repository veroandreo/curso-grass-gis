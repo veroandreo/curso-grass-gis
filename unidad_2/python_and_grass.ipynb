{
  "cells": [
    {
      "cell_type": "raw",
      "metadata": {},
      "source": [
        "---\n",
        "title: Python y GRASS GIS\n",
        "author: Verónica Andreo\n",
        "date: today\n",
        "format:\n",
        "  html:\n",
        "    code-tools: true\n",
        "    code-copy: true\n",
        "    code-fold: false\n",
        "execute:\n",
        "  eval: false\n",
        "  cache: false\n",
        "  keep-ipynb: true\n",
        "---"
      ],
      "id": "f3d1cc9b"
    },
    {
      "cell_type": "markdown",
      "metadata": {},
      "source": [
        "En esta notebook, nos vamos a introducir en el uso de GRASS GIS con Python. Para \n",
        "ello, primero vamos a recorrer brevemente los principales paquetes/librerías de \n",
        "python que son parte de GRASS y nos permiten ejcutar sus funciones, a la vez que\n",
        "podemos combinar las salidas con otras librerías más tradicionales de python.\n",
        "\n",
        "\n",
        "### ¿Por qué Jupyter Notebooks y cómo usarlas?\n",
        "\n",
        "Las Jupyter Notebook son aplicaciones servidor-cliente que permiten que el \n",
        "código escrito en un documento de cuaderno sea\n",
        "**editado y ejecutado a través de un navegador web**. \n",
        "Pueden ejecutarse en un ordenador local (sin necesidad de acceso a Internet) o \n",
        "utilizarse para controlar cálculos en un servidor remoto al que se accede a \n",
        "través de Internet ([véase la documentación](https://jupyter-notebook-beginner-guide.readthedocs.io/en/latest/what_is_jupyter.html)).\n",
        "\n",
        "Las Jupyter Notebooks pueden ser interactivas y permiten combinar código, texto \n",
        "explicativo y resultados computacionales en un único documento. En general, son:\n",
        "\n",
        "* convenientes para el desarrollo inicial de código (prototipado)\n",
        "* ideales para la segmentación de código, con la posibilidad de volver a \n",
        "ejecutar celdas\n",
        "* capaces de almacenar valores de variables de celdas ya ejecutadas\n",
        "\n",
        "La notebook puede guardarse como un script ejecutable de Python además del \n",
        "formato nativo `.ipynb`, o exportarse a varios formatos de documentación \n",
        "como PDF o Sphinx RST con un bonito estilo.\n",
        "\n",
        "#### Edición y uso interactivo\n",
        "\n",
        "Editar una Jupyter Notebook es muy fácil: en el navegador web, puedes navegar \n",
        "entre celdas de texto o código utilizando el ratón o atajos de teclado (ver \n",
        "Menú > Ayuda > Atajos de teclado). Se pueden ejecutar pequeños fragmentos de \n",
        "código celda por celda, guardar la notebook en su estado actual, o \n",
        "modificar y recalcular celdas o devolverlas a su estado anterior. \n",
        "Además de las celdas de código ejecutables, se puede utilizar Markdown en las \n",
        "celdas de documentación para hacerlas presentables a los demás.\n",
        "\n",
        "# Paquetes de Python en GRASS\n",
        "\n",
        "## `grass.script`\n",
        "\n",
        "El paquete **grass.script** o *GRASS GIS Python Scripting Library* provee \n",
        "funciones para llamar módulos de GRASS dentro de scripts o rutinas Python. \n",
        "Las funciones más comúnmente usadas incluyen:\n",
        "\n",
        "- `run_command`: usada cuando la salida de los módulos es un raster o vector, \n",
        "no se espera una salida de tipo texto.\n",
        "- `read_command`: se utiliza cuando la salida de los módulos es de tipo texto.\n",
        "- `parse_command`: se utiliza con módulos cuya salida puede convertirse en \n",
        "pares `key=value` o diccionarios.\n",
        "- `write_command`: se utiliza con módulos que esperan una entrada de texto, \n",
        "ya sea en forma de archivo o desde stdin.\n",
        "\n",
        "Este paquete también proporciona varias funciones de *wrapping* para módulos de \n",
        "uso muy frecuente en GRASS, por ejemplo:\n",
        "\n",
        "- Para obtener información de un raster, se utiliza \n",
        "script.raster.raster_info(): `gs.raster_info('elevation')`\n",
        "- Para obtener información de un vector, se utiliza \n",
        "script.vector.vector_info(): `gs.vector_info('roadsmajor')`\n",
        "- Para listar mapas de diferente tipo en un mapset, se utiliza \n",
        "script.core.list_grouped(): `gs.list_grouped(type=['raster'])`\n",
        "- Para obtener la región computacional, se utiliza script.core.region():\n",
        "`gs.region()`\n",
        "\n",
        ":::{.callout-note}\n",
        "Para más detalles, ver la documentación del paquete en: \n",
        "<https://grass.osgeo.org/grass-stable/manuals/libpython/script_intro.html>\n",
        ":::\n",
        "\n",
        "## `grass.jupyter`\n",
        "\n",
        "La librería **grass.jupyter** mejora la integración de GRASS y Jupyter, y \n",
        "proporciona diferentes clases para facilitar la visualización de mapas de GRASS\n",
        "en el entorno Jupyter. Este paquete fue desarrollado por @haedrich_grass_jupyter \n",
        "como parte de su proyecto para \n",
        "[Google Summer of Code](https://summerofcode.withgoogle.com/) y con una \n",
        "[student grant](https://grasswiki.osgeo.org/wiki/Student_Grants) de GRASS. \n",
        "\n",
        "Las classes más importantes son:\n",
        "\n",
        "- `init`: inicia una sesión de GRASS y configura todas las variables de entorno\n",
        "necesarias para ejecutar GRASS desde Python y dentro de una Notebook.\n",
        "- `Map`: renderiza mapas 2D\n",
        "- `Map3D`: renderiza mapas 3D\n",
        "- `InteractiveMap`: permite la visualización interactiva utilizando la librería\n",
        "[`folium`](https://python-visualization.github.io/folium/)\n",
        "- `TimeSeriesMap`: permite la visualización de datos espacio-temporales\n",
        "\n",
        ":::{.callout-note}\n",
        "Para más detalles, ver la documentación del paquete en: \n",
        "<https://grass.osgeo.org/grass-stable/manuals/libpython/grass.jupyter.html>\n",
        ":::\n",
        "\n",
        "## `grass.pygrass`\n",
        "\n",
        "PyGRASS es una interfaz de programación de aplicaciones (API) de Python \n",
        "orientada a objetos para GRASS GIS desarrollada por @zambelli_pygrass_2013. \n",
        "PyGRASS ofrece interfaces a los módulos y funcionalidades de GRASS, así como\n",
        "a los datos vectoriales y ráster, de modo que permite acceder a cada minima \n",
        "unidad y desarrollar nuevos módulos con funciones de más bajo nivel. \n",
        "PyGRASS mejora la integración entre GRASS GIS y Python, haciendo el uso de \n",
        "Python bajo GRASS más consistente con el lenguaje mismo. \n",
        "Además, simplifica el scripting y la programación de GRASS y lo hace más \n",
        "natural para el usuario.\n",
        "\n",
        "Dentro de esta librería, vamos a usar especialmente \n",
        "`grass.pygrass.modules.shorcuts` que nos permite llamar a los módulos\n",
        "o funciones de GRASS de forma muy parecida a cómo lo haríamos en la consola de \n",
        "GRASS.\n",
        "\n",
        ":::{.callout-note}\n",
        "Para más detalles, ver la documentación del paquete en: \n",
        "<https://grass.osgeo.org/grass-stable/manuals/libpython/pygrass_index.html>\n",
        ":::\n",
        "\n",
        "## Otras librerías Python en GRASS GIS\n",
        "\n",
        "### Temporal framework\n",
        "\n",
        "El *GRASS GIS Temporal Framework* implementa la funcionalidad SIG temporal de \n",
        "GRASS GIS y proporciona una API para implementar módulos de procesamiento \n",
        "espacio-temporal. El framework introduce conjuntos de datos espacio-temporales\n",
        "que representan series temporales de mapas raster, raster 3D o vectoriales. \n",
        "Este marco proporciona las siguientes funcionalidades:\n",
        "\n",
        "- Asignación de marcas de tiempo a mapas y registro de mapas en la base de datos temporal\n",
        "- Modificación de marcas de tiempo\n",
        "- Creación, cambio de nombre y supresión de conjuntos de datos espacio-temporales\n",
        "- Registro y anulación del registro de mapas en conjuntos de datos espacio-temporales\n",
        "- Consulta de mapas registrados en conjuntos de datos espacio-temporales mediante SQL\n",
        "- Análisis de la topología espacio-temporal de los conjuntos de datos espacio-temporales\n",
        "- Muestreo de conjuntos de datos espacio-temporales\n",
        "- Cálculo de las relaciones temporales y espaciales entre los mapas registrados\n",
        "- Funciones de nivel superior compartidas entre módulos\n",
        "\n",
        ":::{.callout-note}\n",
        "Para más detalles, ver la documentación de la librería en: \n",
        "<https://grass.osgeo.org/grass-stable/manuals/libpython/temporal_framework.html>\n",
        ":::\n",
        "\n",
        "### Testing framework\n",
        "\n",
        "El *GRASS GIS Testing framework* está basado en el paquete `unittest` de Python \n",
        "con un gran número de mejoras, extensiones y cambios específicos ajustados a \n",
        "GRASS. Estos cambios incluyen la creación de reportes de pruebas HTML compatibles\n",
        "con GRASS, o la ejecución de pruebas de manera que las terminaciones de procesos\n",
        "potencialmente causadas por funciones de la librería C no influyan en el proceso\n",
        "principal de pruebas.\n",
        "\n",
        "Algunas pruebas se ejecutarán sin ningún dato, pero muchas pruebas requieren \n",
        "la versión básica de los [datos de muestra](https://grass.osgeo.org/sampledata/north_carolina/nc_basic_spm_grass7.zip) \n",
        "para Carolina del Norte.\n",
        "\n",
        ":::{.callout-note}\n",
        "Para más detalles, ver la documentación de la librería en: \n",
        "<https://grass.osgeo.org/grass-stable/manuals/libpython/gunittest_testing.html>\n",
        ":::\n",
        "\n",
        "# Ejemplos con cada paquete\n",
        "\n",
        "Primero, iniciemos una sesión de GRASS GIS. Necesitamos definir la ruta hasta \n",
        "un mapset, por lo tanto vamos a usar los datos de muestra de GRASS, i.e., el \n",
        "sample dataset de North Carolina. \n"
      ],
      "id": "e264d4f3"
    },
    {
      "cell_type": "code",
      "metadata": {},
      "source": [
        "import os\n",
        "\n",
        "# data directory\n",
        "homedir = os.path.expanduser('~')\n",
        "\n",
        "# GRASS GIS database variables\n",
        "grassdata = os.path.join(homedir, \"grassdata\")\n",
        "project = \"nc_spm_08_grass7\"\n",
        "mapset = \"PERMANENT\""
      ],
      "id": "51b71033",
      "execution_count": null,
      "outputs": []
    },
    {
      "cell_type": "code",
      "metadata": {},
      "source": [
        "# import standard Python packages we need\n",
        "import sys\n",
        "import subprocess\n",
        "\n",
        "# ask GRASS GIS where its Python packages are to be able to run it from the notebook\n",
        "sys.path.append(\n",
        "    subprocess.check_output([\"grass\", \"--config\", \"python_path\"], text=True).strip()\n",
        ")"
      ],
      "id": "f7d37d38",
      "execution_count": null,
      "outputs": []
    },
    {
      "cell_type": "markdown",
      "metadata": {},
      "source": [
        "Ahora sí, estamos listos para importar los paquetes de GRASS e iniciar una\n",
        "sesión:\n"
      ],
      "id": "b7ff8ee8"
    },
    {
      "cell_type": "code",
      "metadata": {},
      "source": [
        "# import the GRASS GIS packages we need\n",
        "import grass.script as gs\n",
        "import grass.jupyter as gj\n",
        "\n",
        "# Start the GRASS GIS Session\n",
        "session = gj.init(grassdata, project, mapset)"
      ],
      "id": "1344552c",
      "execution_count": null,
      "outputs": []
    },
    {
      "cell_type": "markdown",
      "metadata": {},
      "source": [
        "Notar que iniciamos sesión con `gj.init()`. No obstante, también podríamos usar\n",
        "`session = gs.setup.init(\"~/grassdata/nc_spm_08_grass7/PERMANENT\")`.\n",
        "\n",
        "Corroboramos que GRASS inició correctamente:\n"
      ],
      "id": "3c436f37"
    },
    {
      "cell_type": "code",
      "metadata": {},
      "source": [
        "# show current GRASS GIS settings, this also checks if the session works\n",
        "gs.gisenv()"
      ],
      "id": "e13d8eb9",
      "execution_count": null,
      "outputs": []
    },
    {
      "cell_type": "markdown",
      "metadata": {},
      "source": [
        "## Ejemplos con `grass.script`\n",
        "\n",
        "Listamos los mapas raster del mapset PERMANENT:\n"
      ],
      "id": "a7840706"
    },
    {
      "cell_type": "code",
      "metadata": {},
      "source": [
        "lista = gs.list_grouped(type = \"raster\")[\"PERMANENT\"]\n",
        "lista[:5]"
      ],
      "id": "234e98a4",
      "execution_count": null,
      "outputs": []
    },
    {
      "cell_type": "markdown",
      "metadata": {},
      "source": [
        "Obtenemos info de un mapa raster:\n"
      ],
      "id": "20581dee"
    },
    {
      "cell_type": "code",
      "metadata": {},
      "source": [
        "gs.raster_info(\"aspect\")[\"cols\"]"
      ],
      "id": "4ad5ec5e",
      "execution_count": null,
      "outputs": []
    },
    {
      "cell_type": "markdown",
      "metadata": {},
      "source": [
        ":::{.callout-caution title=\"Tarea\"}\n",
        "Ahora, hagamos lo mismo pero para los mapas de tipo vectorial.\n",
        ":::\n"
      ],
      "id": "467e5cd3"
    },
    {
      "cell_type": "code",
      "metadata": {},
      "source": [
        "# gs.list_grouped(type = \"vector\")"
      ],
      "id": "2362fea8",
      "execution_count": null,
      "outputs": []
    },
    {
      "cell_type": "markdown",
      "metadata": {},
      "source": [
        "Imprimimos la region computacional actual:\n"
      ],
      "id": "3b8f84e3"
    },
    {
      "cell_type": "code",
      "metadata": {},
      "source": [
        "gs.region()"
      ],
      "id": "6b3e353c",
      "execution_count": null,
      "outputs": []
    },
    {
      "cell_type": "markdown",
      "metadata": {},
      "source": [
        "Cambiamos la región computacional al vector `urbanarea`:\n"
      ],
      "id": "a3a003df"
    },
    {
      "cell_type": "code",
      "metadata": {},
      "source": [
        "gs.region_env(vector=\"urbanarea\")"
      ],
      "id": "48df9165",
      "execution_count": null,
      "outputs": []
    },
    {
      "cell_type": "markdown",
      "metadata": {},
      "source": [
        "Verificamos los atributos del vector seleccionado:\n"
      ],
      "id": "68a98778"
    },
    {
      "cell_type": "code",
      "metadata": {},
      "source": [
        "gs.vector_db_select('urbanarea').values()"
      ],
      "id": "9a64da86",
      "execution_count": null,
      "outputs": []
    },
    {
      "cell_type": "markdown",
      "metadata": {},
      "source": [
        "Extraemos el área urbana de Raleigh:\n"
      ],
      "id": "ca85079e"
    },
    {
      "cell_type": "code",
      "metadata": {},
      "source": [
        "gs.run_command(\"v.extract\", \n",
        "               input=\"urbanarea\", \n",
        "               where=\"NAME == 'Raleigh'\", \n",
        "               output=\"urban_area_raleigh\")"
      ],
      "id": "8fb84368",
      "execution_count": null,
      "outputs": []
    },
    {
      "cell_type": "markdown",
      "metadata": {},
      "source": [
        "Listamos los vectores por un patrón:\n"
      ],
      "id": "35d2a83d"
    },
    {
      "cell_type": "code",
      "metadata": {},
      "source": [
        "gs.list_grouped(type=\"vector\", pattern=\"urban*\")"
      ],
      "id": "0340ea62",
      "execution_count": null,
      "outputs": []
    },
    {
      "cell_type": "markdown",
      "metadata": {},
      "source": [
        "Verificamos los atributos del nuevo vector creado:\n"
      ],
      "id": "0fdd3d9d"
    },
    {
      "cell_type": "code",
      "metadata": {},
      "source": [
        "gs.vector_db_select(\"urban_area_raleigh\")"
      ],
      "id": "90c990fb",
      "execution_count": null,
      "outputs": []
    },
    {
      "cell_type": "markdown",
      "metadata": {},
      "source": [
        "y obtenemos información sobre el mismo. Notar que podemos seleccionar qué \n",
        "información queremos extraer, i.e., la salida es un diccionario.\n"
      ],
      "id": "5f7b6272"
    },
    {
      "cell_type": "code",
      "metadata": {},
      "source": [
        "# show attributes\n",
        "gs.vector_info(\"urban_area_raleigh\")"
      ],
      "id": "938e5033",
      "execution_count": null,
      "outputs": []
    },
    {
      "cell_type": "markdown",
      "metadata": {},
      "source": [
        "Usamos otra manera de establecer la región computacional:\n"
      ],
      "id": "97a5ed52"
    },
    {
      "cell_type": "code",
      "metadata": {},
      "source": [
        "region = gs.parse_command(\"g.region\", \n",
        "                          vector=\"urban_area_raleigh\", \n",
        "                          flags=\"g\")\n",
        "region"
      ],
      "id": "925633f9",
      "execution_count": null,
      "outputs": []
    },
    {
      "cell_type": "markdown",
      "metadata": {},
      "source": [
        "## Ejemplos con `grass.jupyter`\n",
        "\n",
        "Ahora vamos a demostrar el uso de las dos clases más comunes del paquete \n",
        "`grass.jupyter` para graficar mapas. Usamos primeramente la clase interactiva\n",
        "que nos permite mostrar nuestras salidas sobre mapas base como el de\n",
        "OpenStreetMap, por ejemplo.\n"
      ],
      "id": "ac2bd477"
    },
    {
      "cell_type": "code",
      "metadata": {},
      "source": [
        "raleigh_map = gj.InteractiveMap(width = 500, use_region=True, tiles=\"OpenStreetMap\")\n",
        "raleigh_map.add_raster(\"elevation\")\n",
        "raleigh_map.add_vector(\"urban_area_raleigh\")\n",
        "raleigh_map.add_layer_control(position = \"bottomright\")\n",
        "raleigh_map.show()"
      ],
      "id": "feaa6084",
      "execution_count": null,
      "outputs": []
    },
    {
      "cell_type": "markdown",
      "metadata": {},
      "source": [
        "A continuación, creamos una salida estática, utilizando la clase `Map`. Esta \n",
        "salida es similar a utilizar el Map Display en la GUI y exportar el resultado.\n"
      ],
      "id": "8b0ad3ec"
    },
    {
      "cell_type": "code",
      "metadata": {},
      "source": [
        "raleigh_map = gj.Map(width=500)\n",
        "raleigh_map.d_rast(map=\"elevation\")\n",
        "raleigh_map.d_vect(map=\"lakes\")\n",
        "raleigh_map.d_legend(raster=\"elevation\", \n",
        "                     title=\"Height (m)\", \n",
        "                     fontsize=10, \n",
        "                     at=(70, 90, 80, 90), \n",
        "                     flags=\"b\")\n",
        "raleigh_map.d_barscale()\n",
        "raleigh_map.show()"
      ],
      "id": "fc3da33e",
      "execution_count": null,
      "outputs": []
    },
    {
      "cell_type": "markdown",
      "metadata": {},
      "source": [
        "## Ejemplos con `grass.pygrass`\n",
        "\n",
        "Finalmente, vamos a ejemplificar el uso de la interfaz `modules` dentro de \n",
        "`grass.pygrass`. Si bien esta interfaz nos permite ejecutar comandos de GRASS\n",
        "casi como si los ejecutásemos en la terminal, las salidas no están optimizadas\n",
        "para ser usadas como entrada para otros comandos. Para ello, es más conveniente\n",
        "usar `grass.script` o funciones de más bajo nivel de `grass.pygrass` que permiten\n",
        "acceder a los componentes básicos de los objetos dentro de GRASS. \n"
      ],
      "id": "248944ff"
    },
    {
      "cell_type": "code",
      "metadata": {},
      "source": [
        "from grass.pygrass.modules.shortcuts import general as g\n",
        "from grass.pygrass.modules.shortcuts import raster as r\n",
        "from grass.pygrass.modules.shortcuts import vector as v"
      ],
      "id": "22f44e38",
      "execution_count": null,
      "outputs": []
    },
    {
      "cell_type": "code",
      "metadata": {},
      "source": [
        "g.region(flags=\"p\")"
      ],
      "id": "19520ddf",
      "execution_count": null,
      "outputs": []
    },
    {
      "cell_type": "code",
      "metadata": {},
      "source": [
        "v.info(map=\"roadsmajor\")"
      ],
      "id": "84191cb5",
      "execution_count": null,
      "outputs": []
    },
    {
      "cell_type": "code",
      "metadata": {},
      "source": [
        "r.report(map=\"elevation\", nsteps=\"10\", quiet=True)"
      ],
      "id": "cd9d8010",
      "execution_count": null,
      "outputs": []
    },
    {
      "cell_type": "markdown",
      "metadata": {},
      "source": [
        "# Otras notebooks demostrando el uso de GRASS con Python\n",
        "\n",
        "- <https://github.com/OSGeo/grass/tree/main/doc/notebooks>\n",
        "- <https://grasswiki.osgeo.org/wiki/GRASS_GIS_Jupyter_notebooks>\n",
        "\n",
        "\n",
        "# Referencias\n",
        "\n",
        "::: {#refs}\n",
        ":::\n"
      ],
      "id": "839059eb"
    }
  ],
  "metadata": {
    "kernelspec": {
      "name": "python3",
      "language": "python",
      "display_name": "Python 3 (ipykernel)"
    }
  },
  "nbformat": 4,
  "nbformat_minor": 5
}