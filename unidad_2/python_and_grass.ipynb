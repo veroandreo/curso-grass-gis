{
  "cells": [
    {
      "cell_type": "raw",
      "metadata": {},
      "source": [
        "---\n",
        "title: Python y GRASS GIS\n",
        "author: Verónica Andreo\n",
        "date: today\n",
        "format:\n",
        "  html:\n",
        "    code-tools: true\n",
        "    code-copy: true\n",
        "    code-fold: false\n",
        "execute:\n",
        "  eval: false\n",
        "  cache: false\n",
        "  keep-ipynb: true\n",
        "---"
      ],
      "id": "9b8831cd"
    },
    {
      "cell_type": "markdown",
      "metadata": {},
      "source": [
        "En esta notebook, nos vamos a introducir en el uso de GRASS GIS con Python, y no \n",
        "solo eso, sino que ejecutaremos GRASS con Python dentro de Google Colab conectado\n",
        "a una base de datos o `grassdata` dentro de nuestro Google Drive. \n",
        "\n",
        "Antes de empezar entonces y para ganar tiempo, conectemos nuestro drive e instalemos \n",
        "GRASS en Google Colab.\n"
      ],
      "id": "aab85598"
    },
    {
      "cell_type": "code",
      "metadata": {},
      "source": [
        "# import drive from google colab\n",
        "from google.colab import drive\n",
        "# mount drive\n",
        "drive.mount(\"/content/drive\")"
      ],
      "id": "0da32327",
      "execution_count": null,
      "outputs": []
    },
    {
      "cell_type": "code",
      "metadata": {},
      "source": [
        "%%bash\n",
        "DEBIAN_FRONTEND=noninteractive \n",
        "sudo add-apt-repository ppa:ubuntugis/ubuntugis-unstable \n",
        "apt update \n",
        "apt install grass subversion grass-dev\n",
        "apt remove libproj22"
      ],
      "id": "283a24fc",
      "execution_count": null,
      "outputs": []
    },
    {
      "cell_type": "markdown",
      "metadata": {},
      "source": [
        "Chequeamos el path de instalación de GRASS.\n"
      ],
      "id": "b1aec495"
    },
    {
      "cell_type": "code",
      "metadata": {},
      "source": [
        "!grass --config path"
      ],
      "id": "a408f3ca",
      "execution_count": null,
      "outputs": []
    },
    {
      "cell_type": "markdown",
      "metadata": {},
      "source": [
        "Mientras, vamos a recorrer brevemente los principales paquetes/librerías de \n",
        "Python que son parte de GRASS y nos permiten ejcutar sus funciones, a la vez que\n",
        "podemos combinar las salidas con otras librerías más tradicionales de Python.\n",
        "\n",
        "### ¿Por qué Jupyter Notebooks y cómo usarlas?\n",
        "\n",
        "Las Jupyter Notebook son aplicaciones servidor-cliente que permiten que el \n",
        "código escrito en un documento de cuaderno sea\n",
        "**editado y ejecutado a través de un navegador web**. \n",
        "Pueden ejecutarse en un ordenador local (sin necesidad de acceso a Internet) o \n",
        "utilizarse para controlar cálculos en un servidor remoto al que se accede a \n",
        "través de Internet ([véase la documentación](https://jupyter-notebook-beginner-guide.readthedocs.io/en/latest/what_is_jupyter.html)).\n",
        "\n",
        "Las Jupyter Notebooks pueden ser interactivas y permiten combinar código, texto \n",
        "explicativo y resultados computacionales en un único documento. En general, son:\n",
        "\n",
        "* convenientes para el desarrollo inicial de código (prototipado)\n",
        "* ideales para la segmentación de código, con la posibilidad de volver a \n",
        "ejecutar celdas\n",
        "* capaces de almacenar valores de variables de celdas ya ejecutadas\n",
        "\n",
        "La notebook puede guardarse como un script ejecutable de Python además del \n",
        "formato nativo `.ipynb`, o exportarse a varios formatos de documentación \n",
        "como PDF o Sphinx RST con un bonito estilo.\n",
        "\n",
        "#### Edición y uso interactivo\n",
        "\n",
        "Editar una Jupyter Notebook es muy fácil: en el navegador web, puedes navegar \n",
        "entre celdas de texto o código utilizando el ratón o atajos de teclado (ver \n",
        "Menú > Ayuda > Atajos de teclado). Se pueden ejecutar pequeños fragmentos de \n",
        "código celda por celda, guardar la notebook en su estado actual, o \n",
        "modificar y recalcular celdas o devolverlas a su estado anterior. \n",
        "Además de las celdas de código ejecutables, se puede utilizar Markdown en las \n",
        "celdas de documentación para hacerlas presentables a los demás.\n",
        "\n",
        "# Paquetes de Python en GRASS\n",
        "\n",
        "## `grass.script`\n",
        "\n",
        "El paquete **grass.script** o *GRASS GIS Python Scripting Library* provee \n",
        "funciones para llamar módulos de GRASS dentro de scripts o rutinas Python. \n",
        "Las funciones más comúnmente usadas incluyen:\n",
        "\n",
        "- `run_command`: usada cuando la salida de los módulos es un raster o vector, \n",
        "no se espera una salida de tipo texto.\n",
        "- `read_command`: se utiliza cuando la salida de los módulos es de tipo texto.\n",
        "- `parse_command`: se utiliza con módulos cuya salida puede convertirse en \n",
        "pares `key=value` o diccionarios.\n",
        "- `write_command`: se utiliza con módulos que esperan una entrada de texto, \n",
        "ya sea en forma de archivo o desde stdin.\n",
        "\n",
        "Este paquete también proporciona varias funciones de *wrapping* para módulos de \n",
        "uso muy frecuente en GRASS, por ejemplo:\n",
        "\n",
        "- Para obtener información de un raster, se utiliza \n",
        "script.raster.raster_info(): `gs.raster_info('elevation')`\n",
        "- Para obtener información de un vector, se utiliza \n",
        "script.vector.vector_info(): `gs.vector_info('roadsmajor')`\n",
        "- Para listar mapas de diferente tipo en un mapset, se utiliza \n",
        "script.core.list_grouped(): `gs.list_grouped(type=['raster'])`\n",
        "- Para obtener la región computacional, se utiliza script.core.region():\n",
        "`gs.region()`\n",
        "\n",
        ":::{.callout-note}\n",
        "Para más detalles, ver la documentación del paquete en: \n",
        "<https://grass.osgeo.org/grass-stable/manuals/libpython/script_intro.html>\n",
        ":::\n",
        "\n",
        "## `grass.jupyter`\n",
        "\n",
        "La librería **grass.jupyter** mejora la integración de GRASS y Jupyter, y \n",
        "proporciona diferentes clases para facilitar la visualización de mapas de GRASS\n",
        "en el entorno Jupyter. Este paquete fue desarrollado por @haedrich_grass_jupyter \n",
        "como parte de su proyecto para \n",
        "[Google Summer of Code](https://summerofcode.withgoogle.com/) y con una \n",
        "[student grant](https://grasswiki.osgeo.org/wiki/Student_Grants) de GRASS. \n",
        "\n",
        "Las classes más importantes son:\n",
        "\n",
        "- `init`: inicia una sesión de GRASS y configura todas las variables de entorno\n",
        "necesarias para ejecutar GRASS desde Python y dentro de una Notebook.\n",
        "- `Map`: renderiza mapas 2D\n",
        "- `Map3D`: renderiza mapas 3D\n",
        "- `InteractiveMap`: permite la visualización interactiva utilizando la librería\n",
        "[`folium`](https://python-visualization.github.io/folium/)\n",
        "- `TimeSeriesMap`: permite la visualización de datos espacio-temporales\n",
        "\n",
        ":::{.callout-note}\n",
        "Para más detalles, ver la documentación del paquete en: \n",
        "<https://grass.osgeo.org/grass-stable/manuals/libpython/grass.jupyter.html>\n",
        ":::\n",
        "\n",
        "## `grass.pygrass`\n",
        "\n",
        "PyGRASS es una interfaz de programación de aplicaciones (API) de Python \n",
        "orientada a objetos para GRASS GIS desarrollada por @zambelli_pygrass_2013. \n",
        "PyGRASS ofrece interfaces a los módulos y funcionalidades de GRASS, así como\n",
        "a los datos vectoriales y ráster, de modo que permite acceder a cada minima \n",
        "unidad y desarrollar nuevos módulos con funciones de más bajo nivel. \n",
        "PyGRASS mejora la integración entre GRASS GIS y Python, haciendo el uso de \n",
        "Python bajo GRASS más consistente con el lenguaje mismo. \n",
        "Además, simplifica el scripting y la programación de GRASS y lo hace más \n",
        "natural para el usuario.\n",
        "\n",
        "Dentro de esta librería, vamos a usar especialmente \n",
        "`grass.pygrass.modules.shorcuts` que nos permite llamar a los módulos\n",
        "o funciones de GRASS de forma muy parecida a cómo lo haríamos en la consola de \n",
        "GRASS.\n",
        "\n",
        ":::{.callout-note}\n",
        "Para más detalles, ver la documentación del paquete en: \n",
        "<https://grass.osgeo.org/grass-stable/manuals/libpython/pygrass_index.html>\n",
        ":::\n",
        "\n",
        "## Otras librerías Python en GRASS GIS\n",
        "\n",
        "### Temporal framework\n",
        "\n",
        "El *GRASS GIS Temporal Framework* implementa la funcionalidad SIG temporal de \n",
        "GRASS GIS y proporciona una API para implementar módulos de procesamiento \n",
        "espacio-temporal. El framework introduce conjuntos de datos espacio-temporales\n",
        "que representan series temporales de mapas raster, raster 3D o vectoriales. \n",
        "Este marco proporciona las siguientes funcionalidades:\n",
        "\n",
        "- Asignación de marcas de tiempo a mapas y registro de mapas en la base de datos temporal\n",
        "- Modificación de marcas de tiempo\n",
        "- Creación, cambio de nombre y supresión de conjuntos de datos espacio-temporales\n",
        "- Registro y anulación del registro de mapas en conjuntos de datos espacio-temporales\n",
        "- Consulta de mapas registrados en conjuntos de datos espacio-temporales mediante SQL\n",
        "- Análisis de la topología espacio-temporal de los conjuntos de datos espacio-temporales\n",
        "- Muestreo de conjuntos de datos espacio-temporales\n",
        "- Cálculo de las relaciones temporales y espaciales entre los mapas registrados\n",
        "- Funciones de nivel superior compartidas entre módulos\n",
        "\n",
        ":::{.callout-note}\n",
        "Para más detalles, ver la documentación de la librería en: \n",
        "<https://grass.osgeo.org/grass-stable/manuals/libpython/temporal_framework.html>\n",
        ":::\n",
        "\n",
        "### Testing framework\n",
        "\n",
        "El *GRASS GIS Testing framework* está basado en el paquete `unittest` de Python \n",
        "con un gran número de mejoras, extensiones y cambios específicos ajustados a \n",
        "GRASS. Estos cambios incluyen la creación de reportes de pruebas HTML compatibles\n",
        "con GRASS, o la ejecución de pruebas de manera que las terminaciones de procesos\n",
        "potencialmente causadas por funciones de la librería C no influyan en el proceso\n",
        "principal de pruebas.\n",
        "\n",
        "Algunas pruebas se ejecutarán sin ningún dato, pero muchas pruebas requieren \n",
        "la versión básica de los [datos de muestra](https://grass.osgeo.org/sampledata/north_carolina/nc_basic_spm_grass7.zip) \n",
        "para Carolina del Norte.\n",
        "\n",
        ":::{.callout-note}\n",
        "Para más detalles, ver la documentación de la librería en: \n",
        "<https://grass.osgeo.org/grass-stable/manuals/libpython/gunittest_testing.html>\n",
        ":::\n",
        "\n",
        "# Ejemplos con cada paquete\n",
        "\n",
        "Primero, iniciemos una sesión de GRASS GIS. Necesitamos definir la ruta hasta \n",
        "un mapset, por lo tanto vamos a usar los datos de muestra de GRASS, i.e., el \n",
        "sample dataset de North Carolina. \n"
      ],
      "id": "e49593c0"
    },
    {
      "cell_type": "code",
      "metadata": {},
      "source": [
        "import os\n",
        "\n",
        "# data directory\n",
        "homedir = \"/content/drive/MyDrive/curso_grass_2023\"\n",
        "\n",
        "# GRASS GIS database variables\n",
        "grassdata = os.path.join(homedir, \"grassdata\")\n",
        "project = \"posgar2007_4_cba\"\n",
        "mapset = \"PERMANENT\""
      ],
      "id": "d1f4ffa0",
      "execution_count": null,
      "outputs": []
    },
    {
      "cell_type": "code",
      "metadata": {},
      "source": [
        "# import standard Python packages we need\n",
        "import sys\n",
        "import subprocess\n",
        "\n",
        "# ask GRASS GIS where its Python packages are to be able to run it from the notebook\n",
        "sys.path.append(\n",
        "    subprocess.check_output([\"grass\", \"--config\", \"python_path\"], text=True).strip()\n",
        ")"
      ],
      "id": "307b9e91",
      "execution_count": null,
      "outputs": []
    },
    {
      "cell_type": "markdown",
      "metadata": {},
      "source": [
        "Ahora sí, estamos listos para importar los paquetes de GRASS e iniciar una\n",
        "sesión:\n"
      ],
      "id": "b607cf7e"
    },
    {
      "cell_type": "code",
      "metadata": {},
      "source": [
        "# import the GRASS GIS packages we need\n",
        "import grass.script as gs\n",
        "import grass.jupyter as gj\n",
        "\n",
        "# Start the GRASS GIS Session\n",
        "session = gj.init(grassdata, project, mapset)"
      ],
      "id": "76890578",
      "execution_count": null,
      "outputs": []
    },
    {
      "cell_type": "markdown",
      "metadata": {},
      "source": [
        "Notar que iniciamos sesión con `gj.init()`. No obstante, también podríamos usar\n",
        "`session = gs.setup.init(\"~/grassdata/nc_spm_08_grass7/PERMANENT\")`.\n",
        "\n",
        "Corroboramos que GRASS inició correctamente:\n"
      ],
      "id": "8ce9df7b"
    },
    {
      "cell_type": "code",
      "metadata": {},
      "source": [
        "# show current GRASS GIS settings, this also checks if the session works\n",
        "gs.gisenv()"
      ],
      "id": "bb8e83e3",
      "execution_count": null,
      "outputs": []
    },
    {
      "cell_type": "markdown",
      "metadata": {},
      "source": [
        "¿Qué versión de GRASS estamos ejecutando?\n"
      ],
      "id": "1e4308bf"
    },
    {
      "cell_type": "code",
      "metadata": {},
      "source": [
        "print(gs.read_command(\"g.version\", flags=\"e\"))"
      ],
      "id": "8e26e5cf",
      "execution_count": null,
      "outputs": []
    },
    {
      "cell_type": "markdown",
      "metadata": {},
      "source": [
        "## Ejemplos con `grass.script`\n",
        "\n",
        "Listamos los mapas raster del mapset PERMANENT:\n"
      ],
      "id": "cc0a6987"
    },
    {
      "cell_type": "code",
      "metadata": {},
      "source": [
        "lista = gs.list_grouped(type = \"raster\")[\"PERMANENT\"]\n",
        "lista"
      ],
      "id": "1b5ca6d5",
      "execution_count": null,
      "outputs": []
    },
    {
      "cell_type": "markdown",
      "metadata": {},
      "source": [
        "Obtenemos info de un mapa raster:\n"
      ],
      "id": "ba7ad884"
    },
    {
      "cell_type": "code",
      "metadata": {},
      "source": [
        "gs.raster_info(\"elevation\")[\"cols\"]"
      ],
      "id": "6a67f53b",
      "execution_count": null,
      "outputs": []
    },
    {
      "cell_type": "markdown",
      "metadata": {},
      "source": [
        ":::{.callout-caution title=\"Tarea\"}\n",
        "Ahora, hagamos lo mismo pero para los mapas de tipo vectorial.\n",
        ":::\n"
      ],
      "id": "2feef1c8"
    },
    {
      "cell_type": "code",
      "metadata": {},
      "source": [
        "# gs.list_grouped(type = \"vector\")"
      ],
      "id": "893fd087",
      "execution_count": null,
      "outputs": []
    },
    {
      "cell_type": "markdown",
      "metadata": {},
      "source": [
        "Imprimimos la region computacional actual:\n"
      ],
      "id": "142e76e5"
    },
    {
      "cell_type": "code",
      "metadata": {},
      "source": [
        "gs.region()"
      ],
      "id": "282416b9",
      "execution_count": null,
      "outputs": []
    },
    {
      "cell_type": "markdown",
      "metadata": {},
      "source": [
        "Cambiamos la región computacional al vector `area_edificada_cba`:\n"
      ],
      "id": "00c20ab9"
    },
    {
      "cell_type": "code",
      "metadata": {},
      "source": [
        "gs.run_command(\"g.region\", vector=\"area_edificada_cba\")"
      ],
      "id": "a5107758",
      "execution_count": null,
      "outputs": []
    },
    {
      "cell_type": "markdown",
      "metadata": {},
      "source": [
        "Verificamos los atributos del vector seleccionado:\n"
      ],
      "id": "6069c6a7"
    },
    {
      "cell_type": "code",
      "metadata": {},
      "source": [
        "gs.vector_db_select(\"area_edificada_cba\")"
      ],
      "id": "a70650fa",
      "execution_count": null,
      "outputs": []
    },
    {
      "cell_type": "markdown",
      "metadata": {},
      "source": [
        "Extraemos el área urbana de Río Cuarto:\n"
      ],
      "id": "a5b5dff9"
    },
    {
      "cell_type": "code",
      "metadata": {},
      "source": [
        "gs.run_command(\"v.extract\", \n",
        "               input=\"area_edificada_cba\", \n",
        "               where=\"fna == 'Gran Río Cuarto'\", \n",
        "               output=\"urban_area_rio_iv\")"
      ],
      "id": "9bd73b34",
      "execution_count": null,
      "outputs": []
    },
    {
      "cell_type": "markdown",
      "metadata": {},
      "source": [
        "Listamos los vectores por un patrón:\n"
      ],
      "id": "5f0f20cc"
    },
    {
      "cell_type": "code",
      "metadata": {},
      "source": [
        "gs.list_grouped(type=\"vector\", pattern=\"urban*\")"
      ],
      "id": "f0525502",
      "execution_count": null,
      "outputs": []
    },
    {
      "cell_type": "markdown",
      "metadata": {},
      "source": [
        "Verificamos los atributos del nuevo vector creado:\n"
      ],
      "id": "af86872f"
    },
    {
      "cell_type": "code",
      "metadata": {},
      "source": [
        "gs.vector_db_select(\"urban_area_rio_iv\")"
      ],
      "id": "d7913655",
      "execution_count": null,
      "outputs": []
    },
    {
      "cell_type": "markdown",
      "metadata": {},
      "source": [
        "y obtenemos información sobre el mismo. Notar que podemos seleccionar qué \n",
        "información queremos extraer, i.e., la salida es un diccionario.\n"
      ],
      "id": "4afa3523"
    },
    {
      "cell_type": "code",
      "metadata": {},
      "source": [
        "# show attributes\n",
        "gs.vector_info(\"urban_area_rio_iv\")"
      ],
      "id": "494437f5",
      "execution_count": null,
      "outputs": []
    },
    {
      "cell_type": "markdown",
      "metadata": {},
      "source": [
        "## Ejemplos con `grass.jupyter`\n",
        "\n",
        "Ahora vamos a demostrar el uso de las dos clases más comunes del paquete \n",
        "`grass.jupyter` para graficar mapas. Usamos primeramente la clase interactiva\n",
        "que nos permite mostrar nuestras salidas sobre mapas base como el de\n",
        "OpenStreetMap, por ejemplo.\n"
      ],
      "id": "b964b09d"
    },
    {
      "cell_type": "code",
      "metadata": {},
      "source": [
        "raleigh_map = gj.InteractiveMap(width = 500, use_region=True, tiles=\"OpenStreetMap\")\n",
        "raleigh_map.add_raster(\"elevation\")\n",
        "raleigh_map.add_vector(\"urban_area_rio_iv\")\n",
        "raleigh_map.add_layer_control(position = \"bottomright\")\n",
        "raleigh_map.show()"
      ],
      "id": "977c3ad4",
      "execution_count": null,
      "outputs": []
    },
    {
      "cell_type": "markdown",
      "metadata": {},
      "source": [
        "A continuación, creamos una salida estática, utilizando la clase `Map`. Esta \n",
        "salida es similar a utilizar el Map Display en la GUI y exportar el resultado.\n"
      ],
      "id": "707cc7e6"
    },
    {
      "cell_type": "code",
      "metadata": {},
      "source": [
        "raleigh_map = gj.Map(width=500)\n",
        "raleigh_map.d_rast(map=\"elevation\")\n",
        "raleigh_map.d_vect(map=\"embalses\")\n",
        "raleigh_map.d_legend(raster=\"elevation\", \n",
        "                     title=\"Height (m)\", \n",
        "                     fontsize=10, \n",
        "                     at=(70, 90, 80, 90), \n",
        "                     flags=\"b\")\n",
        "raleigh_map.d_barscale()\n",
        "raleigh_map.show()"
      ],
      "id": "0b4200f1",
      "execution_count": null,
      "outputs": []
    },
    {
      "cell_type": "markdown",
      "metadata": {},
      "source": [
        "## Ejemplos con `grass.pygrass`\n",
        "\n",
        "Finalmente, vamos a ejemplificar el uso de la interfaz `modules` dentro de \n",
        "`grass.pygrass`. Si bien esta interfaz nos permite ejecutar comandos de GRASS\n",
        "casi como si los ejecutásemos en la terminal, las salidas no están optimizadas\n",
        "para ser usadas como entrada para otros comandos. Para ello, es más conveniente\n",
        "usar `grass.script` o funciones de más bajo nivel de `grass.pygrass` que permiten\n",
        "acceder a los componentes básicos de los objetos dentro de GRASS. \n"
      ],
      "id": "3bebeb26"
    },
    {
      "cell_type": "code",
      "metadata": {},
      "source": [
        "from grass.pygrass.modules.shortcuts import general as g\n",
        "from grass.pygrass.modules.shortcuts import raster as r\n",
        "from grass.pygrass.modules.shortcuts import vector as v"
      ],
      "id": "a6c25fbb",
      "execution_count": null,
      "outputs": []
    },
    {
      "cell_type": "code",
      "metadata": {},
      "source": [
        "g.region(flags=\"p\")"
      ],
      "id": "90d8bb3f",
      "execution_count": null,
      "outputs": []
    },
    {
      "cell_type": "code",
      "metadata": {},
      "source": [
        "v.info(map=\"cursos_agua\")"
      ],
      "id": "d93192c6",
      "execution_count": null,
      "outputs": []
    },
    {
      "cell_type": "code",
      "metadata": {},
      "source": [
        "r.report(map=\"elevation\", nsteps=\"10\", quiet=True)"
      ],
      "id": "d6cfeaaf",
      "execution_count": null,
      "outputs": []
    },
    {
      "cell_type": "markdown",
      "metadata": {},
      "source": [
        "# Otras notebooks demostrando el uso de GRASS con Python\n",
        "\n",
        "- <https://github.com/OSGeo/grass/tree/main/doc/notebooks>\n",
        "- <https://grasswiki.osgeo.org/wiki/GRASS_GIS_Jupyter_notebooks>\n",
        "\n",
        "\n",
        "# Referencias\n",
        "\n",
        "::: {#refs}\n",
        ":::\n"
      ],
      "id": "17259a71"
    }
  ],
  "metadata": {
    "kernelspec": {
      "name": "python3",
      "language": "python",
      "display_name": "Python 3 (ipykernel)"
    }
  },
  "nbformat": 4,
  "nbformat_minor": 5
}