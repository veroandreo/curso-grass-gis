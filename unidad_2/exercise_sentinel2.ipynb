{
  "cells": [
    {
      "cell_type": "raw",
      "metadata": {},
      "source": [
        "---\n",
        "title: 'Ejercicio: Datos satelitales en GRASS GIS'\n",
        "author: Verónica Andreo\n",
        "date: today\n",
        "format:\n",
        "  html:\n",
        "    code-tools: true\n",
        "    code-copy: true\n",
        "    code-fold: false\n",
        "execute:\n",
        "  eval: false\n",
        "  cache: false\n",
        "  keep-ipynb: true\n",
        "---"
      ],
      "id": "b49db9be"
    },
    {
      "cell_type": "markdown",
      "metadata": {},
      "source": [
        "En este ejercicio, trabajaremos con imágenes del satélite Sentinel 2 en GRASS\n",
        "GIS.\n",
        "Vamos a recorrer algunos módulos específicos para la búsqueda, descarga e\n",
        "importación de datos Sentinel, abordar los diferentes pasos a seguir en\n",
        "función del nivel de procesamiento, enmascarar nubes y sombras de nubes,\n",
        "realizar segmentaciones y clasificaciones supervisadas.\n",
        "\n",
        "\n",
        "## Datos Sentinel 2\n",
        "\n",
        ":::: columns\n",
        ":::{.column width=\"55%\"}\n",
        "- Lanzamiento: Sentinel-2A en 2015, Sentinel-2B en 2017\n",
        "- Tiempo de revisita: ~5 días\n",
        "- Cobertura sistemática de áreas terrestres y costeras entre los 84°N y 56°S\n",
        "- 13 bandas espectrales con resolución espacial de 10 m (VIS y NIR), 20 m (red-edge y SWIR) y 60 m (otras)\n",
        ":::\n",
        "\n",
        ":::{.column width=\"5%\"}\n",
        ":::\n",
        "\n",
        ":::{.column width=\"40%\"}\n",
        "![](../assets/img/sentinel2.jpg)\n",
        ":::\n",
        "::::\n",
        "\n",
        "![ESA - Satélites Copernicus Sentinel. Más información en: \n",
        "<https://www.copernicus.eu/en/about-copernicus/infrastructure/discover-our-satellites>](../assets/img/sentinel_satellites.jpg)\n",
        "\n",
        "\n",
        "![Distribución de bandas de Sentinel 2 comparadas con Landsat](../assets/img/landsat_and_sentinel_bands.png)\n",
        "\n",
        "### Niveles de procesamiento Sentinel 2\n",
        "\n",
        "- **L1C**: Reflectancia a tope de atmósfera o Top of Atmosphere (TOA). \n",
        "Disponibles desde el lanzamiento.\n",
        "- **L2A**: Reflectancia Superficial o Bottom of Atmosphere (BOA), i.e., los \n",
        "datos han sido corregidos para remover los efectos de la atmósfera. Sólo desde 2019.\n",
        "\n",
        ":::{.callout-important}\n",
        "**Long Term Archive (LTA)**\n",
        "\n",
        "Todos los productos (1C o 2A) de más de un año son movidos fuera de línea \n",
        "y se requiere un tiempo de espera para ponerlos a disposición del usuario. \n",
        "Esto dificulta la automatización de tareas con productos de más de 12 \n",
        "meses de antigüedad. \n",
        ":::\n",
        "\n",
        "## Extensiones de GRASS para datos Sentinel\n",
        "\n",
        "- [i.sentinel.download](https://grass.osgeo.org/grass7/manuals/addons/i.sentinel.download.html): descarga productos Copernicus Sentinel de Copernicus Open Access Hub\n",
        "- [i.sentinel.import](https://grass.osgeo.org/grass7/manuals/addons/i.sentinel.import.html): importa datos Sentinel descargados de Copernicus Open Access Hub\n",
        "- [i.sentinel.preproc](https://grass.osgeo.org/grass7/manuals/addons/i.sentinel.preproc.html): importa y realiza corrección atmosférica y topográfica de imágenes S2\n",
        "- [i.sentinel.mask](https://grass.osgeo.org/grass7/manuals/addons/i.sentinel.mask.html): crea máscaras de nubes y sombras para imágenes S2\n",
        "- [i.sentinel.coverage](https://grass.osgeo.org/grass-stable/manuals/addons/i.sentinel.coverage.html): comprueba la cobertura de área de las escenas de S1 o S2 seleccionadas\n",
        "- [i.sentinel.parallel.download](https://grass.osgeo.org/grass-stable/manuals/addons/i.sentinel.parallel.download.html): descarga imagenes Sentinel en paralelo\n",
        "\n",
        "Para conectarse al [Copernicus Open Access Hub](https://scihub.copernicus.eu/) \n",
        "a través de \n",
        "[i.sentinel.download](https://grass.osgeo.org/grass7/manuals/addons/i.sentinel.download.html), \n",
        "se necesita ser usuario \n",
        "[registrado](https://scihub.copernicus.eu/dhus/#/self-registration).\n",
        "\n",
        "Cada participante necesita registrarse y crear el archivo *`SENTINEL_SETTING.txt`* \n",
        "en el directorio *`$HOME/gisdata/`* con el siguiente contenido:\n",
        "\n",
        "```\n",
        "your_username\n",
        "your_password\n",
        "```\n",
        "\n",
        "## Manos a la obra\n",
        "\n",
        "### Iniciamos GRASS\n",
        "\n",
        "Iniciar GRASS GIS, crear nuevo mapset y establecer región computacional\n"
      ],
      "id": "b3bf2e0f"
    },
    {
      "cell_type": "code",
      "metadata": {},
      "source": [
        "import os\n",
        "\n",
        "# data directory\n",
        "homedir = os.path.expanduser('~')\n",
        "\n",
        "# GRASS GIS database variables\n",
        "grassdata = os.path.join(homedir, \"grassdata\")\n",
        "project = \"posgar2007_4_cba\"\n",
        "mapset = \"PERMANENT\""
      ],
      "id": "d35dd68d",
      "execution_count": null,
      "outputs": []
    },
    {
      "cell_type": "code",
      "metadata": {},
      "source": [
        "import subprocess\n",
        "import sys\n",
        "\n",
        "# Ask GRASS GIS where its Python packages are to be able to start it from the notebook\n",
        "sys.path.append(\n",
        "    subprocess.check_output([\"grass\", \"--config\", \"python_path\"], text=True).strip()\n",
        ")"
      ],
      "id": "f5e96b65",
      "execution_count": null,
      "outputs": []
    },
    {
      "cell_type": "code",
      "metadata": {},
      "source": [
        "# Importar los paquetes python de GRASS\n",
        "import grass.script as gs\n",
        "import grass.jupyter as gj\n",
        "\n",
        "# Iniciar GRASS\n",
        "session = gj.init(grassdata, project, mapset)"
      ],
      "id": "9b78e960",
      "execution_count": null,
      "outputs": []
    },
    {
      "cell_type": "markdown",
      "metadata": {},
      "source": [
        "Para trabajar con los datos de Sentinel 2 en esta sesión, creamos un nuevo mapset \n",
        "y lo llamamos **sentinel2**.\n"
      ],
      "id": "13f22432"
    },
    {
      "cell_type": "code",
      "metadata": {},
      "source": [
        "# Create a new mapset\n",
        "gs.run_command(\"g.mapset\",\n",
        "               mapset=\"sentinel2\",\n",
        "               flags=\"c\")"
      ],
      "id": "f2064d57",
      "execution_count": null,
      "outputs": []
    },
    {
      "cell_type": "code",
      "metadata": {},
      "source": [
        "# Check accessible mapsets\n",
        "gs.run_command(\"g.mapsets\",\n",
        "               flags=\"p\")"
      ],
      "id": "64be05d1",
      "execution_count": null,
      "outputs": []
    },
    {
      "cell_type": "markdown",
      "metadata": {},
      "source": [
        "Al igual que en la sesión anterior y como haremos cada vez que iniciemos un \n",
        "proyecto, primero definimos la región computacional. En este caso, vamos a usar\n",
        "el radio urbano de Córdoba que extrajimos en la sesión anterior.\n"
      ],
      "id": "606f3264"
    },
    {
      "cell_type": "code",
      "metadata": {},
      "source": [
        "# Add mapset landsat8 to the path\n",
        "gs.run_command(\"g.mapsets\",\n",
        "               mapset=\"landsat8\",\n",
        "               operation=\"add\")"
      ],
      "id": "9c8811cd",
      "execution_count": null,
      "outputs": []
    },
    {
      "cell_type": "code",
      "metadata": {},
      "source": [
        "# List vector maps\n",
        "gs.list_grouped(type=\"vector\")"
      ],
      "id": "3b16a03a",
      "execution_count": null,
      "outputs": []
    },
    {
      "cell_type": "code",
      "metadata": {},
      "source": [
        "# set the computational region to the extent of Cordoba urban area\n",
        "gs.run_command(\"g.region\",\n",
        "               vector=\"radio_urbano_cba\",\n",
        "               flags=\"p\")"
      ],
      "id": "0e6b6b54",
      "execution_count": null,
      "outputs": []
    },
    {
      "cell_type": "code",
      "metadata": {},
      "source": [
        "# display radio_urbano_cba vector\n",
        "cba_map = gj.InteractiveMap(width = 500, use_region=True, tiles=\"OpenStreetMap\")\n",
        "cba_map.add_vector(\"radio_urbano_cba\")\n",
        "cba_map.add_layer_control(position = \"bottomright\")\n",
        "cba_map.show()"
      ],
      "id": "9bc51dae",
      "execution_count": null,
      "outputs": []
    },
    {
      "cell_type": "markdown",
      "metadata": {},
      "source": [
        "### Búsqueda y descarga de datos S2\n",
        "\n",
        "Instalamos la caja de herramientas `i.sentinel` que consta de varios módulos que \n",
        "facilitan la búsqueda, filtrado, descarga, importación y pre-procesado de datos \n",
        "Sentinel, especialmente Sentinel 2, desde una sesión de GRASS GIS. Ver\n",
        "[i.sentinel](https://grass.osgeo.org/grass-stable/manuals/addons/i.sentinel.html) \n",
        "y los links de cada módulo para más detalles.\n"
      ],
      "id": "cf2f91f7"
    },
    {
      "cell_type": "code",
      "metadata": {},
      "source": [
        "# install extension - run only once\n",
        "gs.run_command(\"g.extension\", \n",
        "               extension=\"i.sentinel\")"
      ],
      "id": "468e4b67",
      "execution_count": null,
      "outputs": []
    },
    {
      "cell_type": "markdown",
      "metadata": {},
      "source": [
        "Usamos el módulo `i.sentinel.download` que internamente utiliza la librería \n",
        "`sentinelsat` para buscar y filtrar escenas que contengan la región definida \n",
        "a partir del área urbana de la ciudad de Córdoba. Para esto necesitamos estar \n",
        "registrados en el [Copernicus hub](https://scihub.copernicus.eu/dhus/#/self-registration) \n",
        "y tener nuestras credenciales en un archivo de texto. Para más detalles sobre \n",
        "la función y sus usos, visitar el\n",
        "[manual](https://grass.osgeo.org/grass-stable/manuals/addons/i.sentinel.download.html).\n"
      ],
      "id": "88c091d9"
    },
    {
      "cell_type": "code",
      "metadata": {},
      "source": [
        "# list all available S2 level 2A scenes that meet the criteria specified\n",
        "s2_credentials = os.path.join(homedir, \"sentinel\")\n",
        "start_date = \"2020-03-01\"\n",
        "end_date = \"2020-04-30\"\n",
        "\n",
        "list_prod = gs.read_command(\"i.sentinel.download\", \n",
        "                            settings=s2_credentials, \n",
        "                            start=start_date, \n",
        "                            end=end_date, \n",
        "                            producttype=\"S2MSI2A\", \n",
        "                            clouds=30, \n",
        "                            area_relation=\"Contains\", \n",
        "                            footprints=\"s2_footprints\", \n",
        "                            flags=\"l\")"
      ],
      "id": "4556ac2a",
      "execution_count": null,
      "outputs": []
    },
    {
      "cell_type": "code",
      "metadata": {},
      "source": [
        "# print plain list\n",
        "list_prod"
      ],
      "id": "f9d05e5d",
      "execution_count": null,
      "outputs": []
    },
    {
      "cell_type": "markdown",
      "metadata": {},
      "source": [
        "Si con los criterios de búsqueda se encuentra una larga lista de productos, se\n",
        "puede usar la opción `limit` para controlar el número de escenas listadas.\n"
      ],
      "id": "75e1b6e2"
    },
    {
      "cell_type": "code",
      "metadata": {},
      "source": [
        "import pandas as pd\n",
        "from io import StringIO\n",
        "\n",
        "pd.read_csv(StringIO(list_prod), delimiter=\" \", usecols=[0, 1, 2, 4, 5, 6, 7],\n",
        "            names=['uuid', 'scene', 'date', 'cloud', 'product', 'size', 'unit'])"
      ],
      "id": "8fa913e7",
      "execution_count": null,
      "outputs": []
    },
    {
      "cell_type": "markdown",
      "metadata": {},
      "source": [
        "Mostramos los footprints de las escenas que encontramos según los criterios de\n",
        "búsqueda:\n"
      ],
      "id": "548f1d8e"
    },
    {
      "cell_type": "code",
      "metadata": {},
      "source": [
        "# diplay footprints\n",
        "cba_map = gj.InteractiveMap(width = 400, use_region=True, tiles=\"OpenStreetMap\")\n",
        "cba_map.add_vector(\"s2_footprints\")\n",
        "cba_map.add_layer_control(position = \"bottomright\")\n",
        "cba_map.show()"
      ],
      "id": "211250b4",
      "execution_count": null,
      "outputs": []
    },
    {
      "cell_type": "markdown",
      "metadata": {},
      "source": [
        "Se observan 2 tipos de footprints: uno cuadrado y otro una pasada inclinada. \n",
        "Encontramos solo estos dos porque establecimos que nuestro *bounding box* \n",
        "(región computacional) debía estar **contenido** en la escena.\n",
        "\n",
        "El próximo paso es descargar la escena o las escenas de interés. Para eso usamos\n",
        "nuevamente el módulo `i.sentinel.download`, pero sin el flag `l` de listar. \n",
        "Elegimos una imagen con nubes para demostrar posteriormente el uso de otro \n",
        "módulo del set de herramientas.\n",
        "\n",
        "Como la descarga puede llevar bastante tiempo, **nos saltaremos esta parte** y \n",
        "utilizaremos directamente una escena ya descargada. Aún así, dejamos un ejemplo\n",
        "a continuación para referencia futura :)\n"
      ],
      "id": "fcc690f5"
    },
    {
      "cell_type": "code",
      "metadata": {},
      "source": [
        "# download selected scene - esto toma tiempo y las escenas ya estan descargadas en la carpeta`s2_data`\n",
        "s2_data = os.path.join(homedir, \"gisdata\", \"s2_data\")\n",
        "\n",
        "# gs.run_command(\"i.sentinel.download\", \n",
        "#               settings=s2_credentials, \n",
        "#               uuid=\"9a1ea49c-0561-4aa5-ba7a-dc820dc1a316\", \n",
        "#               output=s2_data)"
      ],
      "id": "eafe9e86",
      "execution_count": null,
      "outputs": []
    },
    {
      "cell_type": "markdown",
      "metadata": {},
      "source": [
        "### Importar datos Sentinel 2 a GRASS GIS\n",
        "\n",
        "![](../assets/img/sentinel_import_options.png)\n",
        "\n",
        "#### 1. Importar con corrección atmosférica\n",
        "\n",
        "Si queremos importar con corrección atmosférica productos de nivel 1C, podemos\n",
        "usar el módulo \n",
        "[i.sentinel.preproc](https://grass.osgeo.org/grass-stable/manuals/addons/i.sentinel.preproc.html). \n",
        "Este módulo utiliza [i.atcorr](https://grass.osgeo.org/grass-stable/manuals/i.atcorr.html) \n",
        "internamente y necesita 2 inputs claves: un valor de aerosol optical depth (AOD) y\n",
        "un mapa de elevación.\n",
        "\n",
        "![](../assets/img/i_sentinel_preproc.png)\n",
        "\n",
        "Para una descripción más detallada del procedimiento para obtener los valores de \n",
        "AOD y mapas de elevación necesarios para la corrección atmosférica y topográfica, \n",
        "ver [aquí](import_s2_with_atm_corr.html).\n",
        "\n",
        "\n",
        "#### 2. Importar sin corrección atmosférica\n",
        "\n",
        "Una vez descargada la escena deseada, se procede a importarla al mapset de trabajo. \n",
        "Para ello se usa el comando\n",
        "[i.sentinel.import](https://grass.osgeo.org/grass-stable/manuals/addons/i.sentinel.import.html) \n",
        "que permite subset, resampleo y reproyección al vuelo. Además, si en nuestra \n",
        "carpeta existen varios zip nos permite seleccionar, por medio de un patrón, \n",
        "cuáles queremos importar; y también, elegir solo las bandas de interés. Entonces, \n",
        "vamos a imprimir información sobre las bandas\n",
        "antes de importarlas.\n"
      ],
      "id": "ff2ac01f"
    },
    {
      "cell_type": "code",
      "metadata": {},
      "source": [
        "# print bands info before importing\n",
        "# (1 -proj match, 0 -no proj match)\n",
        "gs.run_command(\"i.sentinel.import\", \n",
        "               input=s2_data, \n",
        "               flags=\"p\")"
      ],
      "id": "c4eb86ab",
      "execution_count": null,
      "outputs": []
    },
    {
      "cell_type": "code",
      "metadata": {},
      "source": [
        "# import only bands relevant for RGB, NDVI and NDWI\n",
        "gs.run_command(\"i.sentinel.import\", \n",
        "               input=s2_data, \n",
        "               pattern_file=\"*20200330T141049*\", # in case we have more s2 scenes in the s2_data folder \n",
        "               pattern=\"B(02_1|03_1|04_1|08_1|8A_2|11_2|12_2)0m\", # select bands and resolutions\n",
        "               extent=\"region\", # subset import to region extent\n",
        "               flags=\"rcsj\") # reproject, clouds, shadow, json metadata"
      ],
      "id": "e242b16f",
      "execution_count": null,
      "outputs": []
    },
    {
      "cell_type": "markdown",
      "metadata": {},
      "source": [
        "Listamos los mapas importados:\n"
      ],
      "id": "05e3ed0d"
    },
    {
      "cell_type": "code",
      "metadata": {},
      "source": [
        "# list raster maps\n",
        "gs.list_grouped(type=\"raster\")['sentinel2']"
      ],
      "id": "497aa495",
      "execution_count": null,
      "outputs": []
    },
    {
      "cell_type": "markdown",
      "metadata": {},
      "source": [
        "A continuación, chequeamos los metadatos de uno de los mapas o bandas. Notar que\n",
        "todos los metadatos que vienen con la imagen original se agregan a la banda \n",
        "correspondiente en el momento de la importación. Esto es gracias al uso del \n",
        "flag `j` en el comando `i.sentinel.import`.\n"
      ],
      "id": "200f409d"
    },
    {
      "cell_type": "code",
      "metadata": {},
      "source": [
        "# check metadata of some imported bands\n",
        "gs.raster_info(map=\"T20JLL_20200330T141049_B03_10m\")"
      ],
      "id": "ed24493c",
      "execution_count": null,
      "outputs": []
    },
    {
      "cell_type": "markdown",
      "metadata": {},
      "source": [
        "Veamos los *semantic labels* de las bandas importadas:\n"
      ],
      "id": "f67027a7"
    },
    {
      "cell_type": "code",
      "metadata": {},
      "source": [
        "# print semantic labels of imported bands\n",
        "for i in gs.list_grouped(type=\"raster\")['sentinel2']:\n",
        "    label = gs.raster_info(map=i)['semantic_label']\n",
        "    print('Mapa: {}, Semantic label: {}'.format(i,label))"
      ],
      "id": "8db503eb",
      "execution_count": null,
      "outputs": []
    },
    {
      "cell_type": "markdown",
      "metadata": {},
      "source": [
        "### Balance de colores y composiciones\n",
        "\n",
        "A continuación, aplicamos la paleta de *grises* a las bandas R, G y B, mejoramos \n",
        "el contraste y las mostramos usando la clase `Map` de `grass.jupyter`.\n"
      ],
      "id": "c11db043"
    },
    {
      "cell_type": "code",
      "metadata": {},
      "source": [
        "# apply grey color to RGB bands\n",
        "gs.run_command(\"r.colors\", \n",
        "               map=\"T20JLL_20200330T141049_B04_10m,T20JLL_20200330T141049_B03_10m,T20JLL_20200330T141049_B02_10m\",\n",
        "               color=\"grey\")"
      ],
      "id": "b62401fd",
      "execution_count": null,
      "outputs": []
    },
    {
      "cell_type": "code",
      "metadata": {},
      "source": [
        "# perform color auto-balancing for RGB bands\n",
        "gs.run_command(\"i.colors.enhance\", \n",
        "               red=\"T20JLL_20200330T141049_B04_10m\",\n",
        "               green=\"T20JLL_20200330T141049_B03_10m\", \n",
        "               blue=\"T20JLL_20200330T141049_B02_10m\",\n",
        "               strength=90)"
      ],
      "id": "086e882c",
      "execution_count": null,
      "outputs": []
    },
    {
      "cell_type": "code",
      "metadata": {},
      "source": [
        "# display the enhanced RGB combination\n",
        "cba_rgb = gj.Map(use_region=True)\n",
        "cba_rgb.d_rgb(red=\"T20JLL_20200330T141049_B04_10m\", \n",
        "              green=\"T20JLL_20200330T141049_B03_10m\", \n",
        "              blue=\"T20JLL_20200330T141049_B02_10m\")\n",
        "cba_rgb.d_grid(size=5000, flags=\"b\")\n",
        "cba_rgb.show()"
      ],
      "id": "b1313eee",
      "execution_count": null,
      "outputs": []
    },
    {
      "cell_type": "markdown",
      "metadata": {},
      "source": [
        ":::{.callout-warning title=\"Tarea\"}\n",
        "Realizar balance de colores y mostrar combinacion falso color NIR-RED-GREEN\n",
        ":::\n",
        "\n",
        "### Identificación y enmascarado de nubes\n",
        "\n",
        "Como empezaremos a generar mapas raster nuevos, es fundamental que establezcamos\n",
        "la región computacional a los límites y resolución de una de nuestras bandas. \n",
        "También podría ser que nos interesase un área más pequeña para hacer unas pruebas\n",
        "iniciales. Esto es sumamente facil y evita que tengamos que cortar raster a \n",
        "raster físicamente.\n"
      ],
      "id": "c33115ad"
    },
    {
      "cell_type": "code",
      "metadata": {},
      "source": [
        "# set comp reg to a band - all subsequent output rasters will have this extension & resolution\n",
        "gs.parse_command(\"g.region\", \n",
        "                 raster=\"T20JLL_20200330T141049_B02_10m\", \n",
        "                 flags=\"g\")"
      ],
      "id": "a4fde30f",
      "execution_count": null,
      "outputs": []
    },
    {
      "cell_type": "markdown",
      "metadata": {},
      "source": [
        "Ahora demostramos el uso del módulo\n",
        "[i.sentinel.mask](https://grass.osgeo.org/grass-stable/manuals/addons/i.sentinel.mask.html)\n",
        "que toma los metadatos registrados al importar las bandas para ejecutar la \n",
        "identificacion de nubes y sus sombras.\n"
      ],
      "id": "c8ec7f0c"
    },
    {
      "cell_type": "code",
      "metadata": {},
      "source": [
        "# identify and mask clouds and clouds shadows: i.sentinel.mask\n",
        "gs.run_command(\"i.sentinel.mask\",\n",
        "               blue=\"T20JLL_20200330T141049_B02_10m\",\n",
        "               green=\"T20JLL_20200330T141049_B03_10m\",\n",
        "               red=\"T20JLL_20200330T141049_B04_10m\", \n",
        "               nir=\"T20JLL_20200330T141049_B08_10m\",\n",
        "               nir8a=\"T20JLL_20200330T141049_B8A_20m\",\n",
        "               swir11=\"T20JLL_20200330T141049_B11_20m\",\n",
        "               swir12=\"T20JLL_20200330T141049_B12_20m\",\n",
        "               cloud_mask=\"cloud\", \n",
        "               shadow_mask=\"shadow\",\n",
        "               scale_fac=10000, \n",
        "               flags=\"s\", \n",
        "               overwrite=True)"
      ],
      "id": "adec78c8",
      "execution_count": null,
      "outputs": []
    },
    {
      "cell_type": "markdown",
      "metadata": {},
      "source": [
        "Por defecto obtenemos un mapa vectorial con contornos de nubes y otro para las \n",
        "sombras de nubes:\n"
      ],
      "id": "502d64ef"
    },
    {
      "cell_type": "code",
      "metadata": {},
      "source": [
        "# list vector maps in the mapset\n",
        "gs.list_grouped(type=\"vector\")['sentinel2']"
      ],
      "id": "6b87458e",
      "execution_count": null,
      "outputs": []
    },
    {
      "cell_type": "markdown",
      "metadata": {},
      "source": [
        "Veamos el resultado agregando \"capas\" al mapa anterior:\n"
      ],
      "id": "cbe746b8"
    },
    {
      "cell_type": "code",
      "metadata": {},
      "source": [
        "# display output\n",
        "cba_rgb.d_vect(map=\"shadow\", color=\"red\", fill_color=\"red\")\n",
        "cba_rgb.d_vect(map=\"cloud\", color=\"blue\", fill_color=\"blue\")\n",
        "cba_rgb.show()"
      ],
      "id": "310d4abd",
      "execution_count": null,
      "outputs": []
    },
    {
      "cell_type": "markdown",
      "metadata": {},
      "source": [
        "Inspeccionamos el mapa de nubes descargado con la escena (a traves de los flags \n",
        "`c` y `s`) y establecemos la misma paleta de colores a los fines de comparar \n",
        "ambos productos: la máscara de nubes y sombras obtenida con `i.sentinel.mask` \n",
        "y la provista por ESA junto con las imágenes.\n"
      ],
      "id": "df521550"
    },
    {
      "cell_type": "code",
      "metadata": {},
      "source": [
        "# utilizamos un comando de GRASS directamente\n",
        "!v.db.select T20JLL_20200330T141049_MSK_CLOUDS | head"
      ],
      "id": "084ee31b",
      "execution_count": null,
      "outputs": []
    },
    {
      "cell_type": "code",
      "metadata": {},
      "source": [
        "# o su version dentro de la libreria grass.script\n",
        "vec_attr_table = gs.vector_db_select(\"T20JLL_20200330T141049_MSK_CLOUDS\")"
      ],
      "id": "9ffadde4",
      "execution_count": null,
      "outputs": []
    },
    {
      "cell_type": "code",
      "metadata": {},
      "source": [
        "vec_attr_table[\"values\"]"
      ],
      "id": "8e3b1474",
      "execution_count": null,
      "outputs": []
    },
    {
      "cell_type": "markdown",
      "metadata": {},
      "source": [
        "Asignamos la misma paleta de colores y visualizamos el resultado:\n"
      ],
      "id": "a7f0fd14"
    },
    {
      "cell_type": "code",
      "metadata": {},
      "source": [
        "s2_clouds = \"T20JLL_20200330T141049_MSK_CLOUDS\"\n",
        "colours = [\"1 0:0:255\", \"2 255:0:0\"]\n",
        "colourise = gs.feed_command(\"v.colors\", map=s2_clouds, use=\"attr\", column=\"value\", rules=\"-\", quiet=True)\n",
        "colourise.stdin.write(\"\\n\".join(colours).encode())\n",
        "colourise.stdin.close()"
      ],
      "id": "bb2a497b",
      "execution_count": null,
      "outputs": []
    },
    {
      "cell_type": "code",
      "metadata": {},
      "source": [
        "cba_rgb = gj.Map(use_region=True)\n",
        "cba_rgb.d_rgb(red=\"T20JLL_20200330T141049_B04_10m\", \n",
        "              green=\"T20JLL_20200330T141049_B03_10m\", \n",
        "              blue=\"T20JLL_20200330T141049_B02_10m\")\n",
        "cba_rgb.d_grid(size=5000, flags=\"b\")\n",
        "cba_rgb.d_vect(map=\"T20JLL_20200330T141049_MSK_CLOUDS\")\n",
        "cba_rgb.show()"
      ],
      "id": "f005e052",
      "execution_count": null,
      "outputs": []
    },
    {
      "cell_type": "markdown",
      "metadata": {},
      "source": [
        "Los resultados son bastante parecidos y en este último caso, no necesitariamos \n",
        "ejecutar un segundo comando. No obstante, tanto `i.sentinel.mask` como la banda \n",
        "que viene con la escena, tienen opciones para ajustar el tamaño de nubes y sombras\n",
        "identificadas que aquí se dejaron por defecto.\n",
        "\n",
        "### Indices espectrales de vegetación y agua\n",
        "\n",
        "Antes de proceder a calcular los índices, vamos a enmascarar las áreas identificadas\n",
        "como nubes y sombras. Para eso, primero pegamos los vectores en uno solo y luego \n",
        "lo aplicamos como máscara inversa. Para más detalles del funcionamiento de las \n",
        "máscaras en GRASS ver [r.mask](https://grass.osgeo.org/grass-stable/manuals/r.mask.html).\n"
      ],
      "id": "c3fe7cbe"
    },
    {
      "cell_type": "code",
      "metadata": {},
      "source": [
        "# set clouds mask\n",
        "gs.run_command(\"v.patch\", \n",
        "               input=\"cloud,shadow\", \n",
        "               output=\"cloud_shadow_mask\")\n",
        "\n",
        "gs.run_command(\"r.mask\", \n",
        "               vector=\"cloud_shadow_mask\", \n",
        "               flags=\"i\")"
      ],
      "id": "db086b25",
      "execution_count": null,
      "outputs": []
    },
    {
      "cell_type": "markdown",
      "metadata": {},
      "source": [
        "Luego utilizamos los módulos [i.vi](https://grass.osgeo.org/grass-stable/manuals/i.vi.html) \n",
        "e [i.wi](https://grass.osgeo.org/grass-stable/manuals/addons/i.wi.html) (addon) \n",
        "para estimar NDVI y NDWI. Ver los respectivos manuales para más detalles sobre \n",
        "los índices disponibles.\n"
      ],
      "id": "c5897e01"
    },
    {
      "cell_type": "code",
      "metadata": {},
      "source": [
        "# estimate vegetation indices\n",
        "gs.run_command(\"i.vi\", \n",
        "               red=\"T20JLL_20200330T141049_B04_10m\", \n",
        "               nir=\"T20JLL_20200330T141049_B08_10m\", \n",
        "               output=\"T20JLL_20200330T141049_NDVI_10m\", \n",
        "               viname=\"ndvi\")\n",
        "\n",
        "# add semantic label\n",
        "gs.run_command(\"r.support\",\n",
        "               map=\"T20JLL_20200330T141049_NDVI_10m\", \n",
        "               semantic_label=\"NDVI\")"
      ],
      "id": "6c5bc68a",
      "execution_count": null,
      "outputs": []
    },
    {
      "cell_type": "code",
      "metadata": {},
      "source": [
        "# install extension\n",
        "gs.run_command(\"g.extension\", \n",
        "               extension=\"i.wi\")"
      ],
      "id": "5672a552",
      "execution_count": null,
      "outputs": []
    },
    {
      "cell_type": "code",
      "metadata": {},
      "source": [
        "# estimate water indices and set color palette\n",
        "gs.run_command(\"i.wi\", \n",
        "               green=\"T20JLL_20200330T141049_B03_10m\",\n",
        "               nir=\"T20JLL_20200330T141049_B08_10m\",\n",
        "               output=\"T20JLL_20200330T141049_NDWI_10m\",\n",
        "               winame=\"ndwi_mf\")\n",
        "\n",
        "# add semantic label\n",
        "gs.run_command(\"r.support\", \n",
        "               map=\"T20JLL_20200330T141049_NDWI_10m\", \n",
        "               semantic_label=\"NDWI\")\n",
        "\n",
        "# set ndwi color table\n",
        "gs.run_command(\"r.colors\", \n",
        "               map=\"T20JLL_20200330T141049_NDWI_10m\", \n",
        "               color=\"ndwi\")"
      ],
      "id": "d2efa62e",
      "execution_count": null,
      "outputs": []
    },
    {
      "cell_type": "code",
      "metadata": {},
      "source": [
        "# interactive maps\n",
        "idx_map = gj.InteractiveMap(width = 400, use_region=True, tiles=\"OpenStreetMap\")\n",
        "idx_map.add_raster(\"T20JLL_20200330T141049_NDVI_10m\", opacity=0.7)\n",
        "idx_map.add_raster(\"T20JLL_20200330T141049_NDWI_10m\", opacity=0.7)\n",
        "idx_map.add_layer_control(position = \"bottomright\")\n",
        "idx_map.show()\n",
        "# ... use the layer selector in the corner to enable/disable the NDVI/NDWI layers"
      ],
      "id": "1090194c",
      "execution_count": null,
      "outputs": []
    },
    {
      "cell_type": "markdown",
      "metadata": {},
      "source": [
        "### Mapas de GRASS como arrays de Numpy\n",
        "\n",
        "Los mapas de GRASS pueden leerse como arrays de Numpy gracias a la funcion `array` \n",
        "de la librería *grass.script*. Esto facilita muchas operaciones posteriores con \n",
        "librerías de Python que requieren un array como input. En este caso, demostramos\n",
        "su uso con un histograma.\n"
      ],
      "id": "a3b0c173"
    },
    {
      "cell_type": "code",
      "metadata": {},
      "source": [
        "# Import required libraries\n",
        "import numpy as np\n",
        "import seaborn as sns\n",
        "import matplotlib.pyplot as plt\n",
        "from grass.script import array as garray\n",
        "\n",
        "# Read NDVI as numpy array\n",
        "ndvi = garray.array(mapname=\"T20JLL_20200330T141049_NDVI_10m\", null=\"nan\")\n",
        "ndwi = garray.array(mapname=\"T20JLL_20200330T141049_NDWI_10m\", null=\"nan\")\n",
        "print(ndvi.shape,ndwi.shape)"
      ],
      "id": "7f4054ca",
      "execution_count": null,
      "outputs": []
    },
    {
      "cell_type": "code",
      "metadata": {},
      "source": [
        "# Plot NDVI and NDWI\n",
        "sns.set_style('darkgrid')\n",
        "fig, axs = plt.subplots(1, 2, figsize=(7, 7))\n",
        "sns.histplot(ax=axs[0], data=ndvi.ravel(), kde=True, color=\"olive\")\n",
        "sns.histplot(ax=axs[1], data=ndwi.ravel(), kde=True, color=\"skyblue\")\n",
        "plt.show()"
      ],
      "id": "377566fa",
      "execution_count": null,
      "outputs": []
    },
    {
      "cell_type": "markdown",
      "metadata": {},
      "source": [
        "### Segmentación\n",
        "\n",
        "Existen varios módulos para relizar segmentación en GRASS GIS, los mas conocidos\n",
        "son [i.segment](https://grass.osgeo.org/grass80/manuals/i.segment.html) e\n",
        "[i.superpixels.slic](https://grass.osgeo.org/grass80/manuals/addons/i.superpixels.slic.html). \n",
        "Vamos a demostrar su uso.\n",
        "\n",
        "Primero, instalamos la extensión *i.superpixels.slic*.\n"
      ],
      "id": "78796044"
    },
    {
      "cell_type": "code",
      "metadata": {},
      "source": [
        "# install extension\n",
        "gs.run_command(\"g.extension\", \n",
        "               extension=\"i.superpixels.slic\")"
      ],
      "id": "ee7a16df",
      "execution_count": null,
      "outputs": []
    },
    {
      "cell_type": "markdown",
      "metadata": {},
      "source": [
        "Luego, listamos los mapas y crear el grupo con las bandas y los índices.\n"
      ],
      "id": "3f7b60dd"
    },
    {
      "cell_type": "code",
      "metadata": {},
      "source": [
        "# list maps\n",
        "s2_maps = gs.list_grouped(type=\"raster\", \n",
        "                          pattern=\"*20200330T141049*\")['sentinel2']\n",
        "print(s2_maps)"
      ],
      "id": "ba624c47",
      "execution_count": null,
      "outputs": []
    },
    {
      "cell_type": "code",
      "metadata": {},
      "source": [
        "# create group and subgroup with bands and indices\n",
        "gs.run_command(\"i.group\", \n",
        "               group=\"s2\", \n",
        "               subgroup=\"s2\", \n",
        "               input=s2_maps)\n",
        "\n",
        "gs.parse_command(\"i.group\", \n",
        "                 group=\"s2\", \n",
        "                 flags=\"l\")"
      ],
      "id": "e6ea5e6a",
      "execution_count": null,
      "outputs": []
    },
    {
      "cell_type": "markdown",
      "metadata": {},
      "source": [
        "Ejecutar *i.superpixels.slic* y convertir el resultado a vector\n"
      ],
      "id": "40c20956"
    },
    {
      "cell_type": "code",
      "metadata": {},
      "source": [
        "# run i.superpixels.slic\n",
        "gs.run_command(\"i.superpixels.slic\", \n",
        "               input=\"s2\", \n",
        "               output=\"superpixels\", \n",
        "               num_pixels=50)"
      ],
      "id": "afaa07f4",
      "execution_count": null,
      "outputs": []
    },
    {
      "cell_type": "code",
      "metadata": {},
      "source": [
        "# convert the resulting raster to vector\n",
        "gs.run_command(\"r.to.vect\", \n",
        "               input=\"superpixels\", \n",
        "               output=\"superpixels\", \n",
        "               type=\"area\")"
      ],
      "id": "433bdae8",
      "execution_count": null,
      "outputs": []
    },
    {
      "cell_type": "markdown",
      "metadata": {},
      "source": [
        "Ejecutar *i.segment* y convertir el resultado a vector\n"
      ],
      "id": "89ea1dd8"
    },
    {
      "cell_type": "code",
      "metadata": {},
      "source": [
        "# run i.segment (region growing)\n",
        "gs.run_command(\"i.segment\", \n",
        "               group=\"s2\", \n",
        "               output=\"segments\", \n",
        "               threshold=0.5, \n",
        "               minsize=50, \n",
        "               memory=500)"
      ],
      "id": "68f74fa2",
      "execution_count": null,
      "outputs": []
    },
    {
      "cell_type": "code",
      "metadata": {},
      "source": [
        "# convert the resulting raster to vector\n",
        "gs.run_command(\"r.to.vect\", \n",
        "               input=\"segments\", \n",
        "               output=\"segments\", \n",
        "               type=\"area\")"
      ],
      "id": "b3894ac8",
      "execution_count": null,
      "outputs": []
    },
    {
      "cell_type": "markdown",
      "metadata": {},
      "source": [
        "Comparamos el número de segmentos obtenidos:\n"
      ],
      "id": "a95e50d7"
    },
    {
      "cell_type": "code",
      "metadata": {},
      "source": [
        "# compare number of segments\n",
        "n1 = gs.vector_info(map=\"superpixels\")['areas']\n",
        "n2 = gs.vector_info(map=\"segments\")['areas']\n",
        "\n",
        "print(\"Superpixels SLIC: {}\\nRegion growing: {}\".format(n1,n2))"
      ],
      "id": "1e430485",
      "execution_count": null,
      "outputs": []
    },
    {
      "cell_type": "markdown",
      "metadata": {},
      "source": [
        "Mostrar NDVI junto con las 2 salidas de la segmentación\n"
      ],
      "id": "a1dee661"
    },
    {
      "cell_type": "code",
      "metadata": {},
      "source": [
        "# diplay results\n",
        "seg_map = gj.InteractiveMap(width = 600, use_region=True, tiles=\"OpenStreetMap\")\n",
        "seg_map.add_vector(\"superpixels\")\n",
        "seg_map.add_vector(\"segments\")\n",
        "seg_map.add_layer_control(position = \"bottomright\")\n",
        "seg_map.show()"
      ],
      "id": "b5c4a602",
      "execution_count": null,
      "outputs": []
    },
    {
      "cell_type": "markdown",
      "metadata": {},
      "source": [
        ":::{.callout-warning title=\"Tarea\"}\n",
        "Ejecutar cualquiera de los 2 métodos de segmentación con diferentes parámetros \n",
        "y comparar los resultados\n",
        ":::\n",
        "\n",
        "### Clasificación supervisada\n",
        "\n",
        "#### Clasificación supervisada con Maximum Likelihood\n",
        "\n",
        "Vamos a demostrar a continuacion el workflow para realizar una clasificacion \n",
        "supervisada por máxima verosimilitud a partir de unos polígonos de entrenamiento\n",
        "digitalizados en GRASS y que se encuentran en la carpeta `s2_data`.\n",
        "\n",
        "Importamos el vector y lo visualizamos.\n"
      ],
      "id": "dd4761ee"
    },
    {
      "cell_type": "code",
      "metadata": {},
      "source": [
        "train_areas = os.path.join(homedir, s2_data, \"training.gpkg\")"
      ],
      "id": "5294f36f",
      "execution_count": null,
      "outputs": []
    },
    {
      "cell_type": "code",
      "metadata": {},
      "source": [
        "# import gpkg with training areas\n",
        "gs.run_command(\"v.import\", \n",
        "               input=train_areas, \n",
        "               output=\"training\")"
      ],
      "id": "6c7619ff",
      "execution_count": null,
      "outputs": []
    },
    {
      "cell_type": "code",
      "metadata": {},
      "source": [
        "# use color column for classes\n",
        "gs.run_command(\"v.colors\", \n",
        "               map=\"training\", \n",
        "               rgb_column=\"color\", \n",
        "               flags=\"c\")"
      ],
      "id": "17ec9f8e",
      "execution_count": null,
      "outputs": []
    },
    {
      "cell_type": "code",
      "metadata": {},
      "source": [
        "# map\n",
        "cba_rgb_train = gj.Map(width=300, use_region=True)\n",
        "cba_rgb_train.d_rgb(red=\"T20JLL_20200330T141049_B04_10m\", \n",
        "              green=\"T20JLL_20200330T141049_B03_10m\", \n",
        "              blue=\"T20JLL_20200330T141049_B02_10m\")\n",
        "cba_rgb_train.d_grid(size=5000, fontsize=7, flags=\"b\")\n",
        "cba_rgb_train.d_vect(map=\"training\")\n",
        "cba_rgb_train.show()"
      ],
      "id": "5b6be27f",
      "execution_count": null,
      "outputs": []
    },
    {
      "cell_type": "markdown",
      "metadata": {},
      "source": [
        "Convertimos el mapa vectorial con los polígonos de entrenamiento a mapa raster. \n",
        "Para ello, utilizamos la columna que contiene los números de clase.\n"
      ],
      "id": "0937abbf"
    },
    {
      "cell_type": "code",
      "metadata": {},
      "source": [
        "!v.db.select training | head"
      ],
      "id": "d6682f23",
      "execution_count": null,
      "outputs": []
    },
    {
      "cell_type": "code",
      "metadata": {},
      "source": [
        "# convert to raster\n",
        "gs.run_command(\"v.to.rast\", \n",
        "               input=\"training\", \n",
        "               output=\"training\", \n",
        "               use=\"attr\", \n",
        "               attribute_column=\"cat_\", \n",
        "               label_column=\"class\")"
      ],
      "id": "317ac8f0",
      "execution_count": null,
      "outputs": []
    },
    {
      "cell_type": "markdown",
      "metadata": {},
      "source": [
        "A continuación, utilizamos el módulo\n",
        "[i.gensig](https://grass.osgeo.org/grass-stable/manuals/i.gensig.html) para \n",
        "generar las firmas espectrales de las clases de interés a partir de los polígonos\n",
        "conocidos/etiquetados.\n"
      ],
      "id": "f9fdfa33"
    },
    {
      "cell_type": "code",
      "metadata": {},
      "source": [
        "# obtain signature files\n",
        "gs.run_command(\"i.gensig\", \n",
        "               trainingmap=\"training\", \n",
        "               group=\"s2\", \n",
        "               subgroup=\"s2\", \n",
        "               signaturefile=\"sig_sentinel\")"
      ],
      "id": "f2ff1c67",
      "execution_count": null,
      "outputs": []
    },
    {
      "cell_type": "markdown",
      "metadata": {},
      "source": [
        "El archivo de firmas es un archivo de texto que se guarda automáticamente dentro\n",
        "de la carpeta `grassdata/posgar2007_4_cba/sentinel2/signatures/sig/sig_sentinel/`\n",
        "y tiene la siguiente forma: \n",
        "\n",
        "```\n",
        "1\n",
        "#\n",
        "S2_2 S2_3 S2_4 S2_8 S2_11 S2_12 S2_8A NDVI NDWI \n",
        "#class_1\n",
        "34976\n",
        "462.107 754.712 650.115 2652.12 2328.17 1354.23 2898.15 0.590024 -0.54825 \n",
        "3433.54 \n",
        "3439.85 13667.9 \n",
        "4587.72 3893.81 16344.2 \n",
        "-891.313 51917 -46133.6 508644 \n",
        "6381.57 8558.14 18795.3 -11728.6 64026.7 \n",
        "5455.05 4485.2 19848.3 -53771.7 37873.6 35044.9 \n",
        "-1286.3 52732.6 -45664.8 513310 -5531.12 -52538.1 526931 \n",
        "-1.76356 3.82015 -10.8837 64.4926 -9.11136 -12.7041 64.3455 0.0108229 \n",
        "1.38826 -0.0813683 6.12975 -29.5299 4.5855 6.97446 -29.4906 -0.00517479 0.00292289 \n",
        "#class_2\n",
        "37706\n",
        "1609.95 1825.69 1919.19 2607.13 2801.12 2369.91 2765.3 0.160587 -0.184169 \n",
        "234001 \n",
        "240075 251609 \n",
        "248408 260806 281060 \n",
        "151243 167006 169635 212669 \n",
        "123807 133556 145512 127378 164973 \n",
        "116139 123360 136440 90707.7 153127 163716 \n",
        "93815.4 104574 105790 153545 118673 82117.3 147388 \n",
        "-33.6194 -33.5942 -38.5054 -0.417204 -11.895 -16.7121 3.63643 0.0104315 \n",
        "33.4993 33.3665 35.3967 1.58334 9.64074 13.9172 -2.8798 -0.00928648 0.00896403 \n",
        "#class_3\n",
        "13363\n",
        "744.78 937.046 1247.71 1824.1 3187.07 2764.02 2009.06 0.191184 -0.325633 \n",
        "27636.3 \n",
        "34766.2 44710.3 \n",
        "42545.7 55127.4 70153.9 \n",
        "50592 65854 81541.4 102364 \n",
        "39674.6 49909.5 66588.2 79876.4 180631 \n",
        "38446.9 49209.5 64455.1 73554.7 120268 105226 \n",
        "49526.6 64512.1 80082.1 100116 81815.5 74146.1 99653.8 \n",
        "-3.37419 -4.24876 -5.95143 -4.94336 -5.45999 -6.25113 -5.00936 0.0010409 \n",
        "4.3353 5.42295 6.64764 6.64209 5.19235 6.46732 6.6178 -0.000876728 0.00103444\n",
        "```\n",
        "\n",
        "donde:\n",
        "```\n",
        "    Line 1: version number (currently always 1)\n",
        "    Line 2: text label\n",
        "    Line 3: Space separated list of semantic labels\n",
        "    Line 4: text label of class\n",
        "    Line 5: number of points in class\n",
        "    Line 6: mean values per band of the class\n",
        "    Line 7-15: (semi)-matrix of band-band covariance \n",
        "```\n",
        "\n",
        "Para realizar la clasificación supervisada por máxima verosimilitud, el módulo\n",
        "[i.maxlik](https://grass.osgeo.org/grass-stable/manuals/i.maxlik.html) toma el \n",
        "grupo y la firma como principales inputs:\n"
      ],
      "id": "32df78b2"
    },
    {
      "cell_type": "code",
      "metadata": {},
      "source": [
        "# perform ML supervised classification\n",
        "gs.run_command(\"i.maxlik\", \n",
        "               group=\"s2\", \n",
        "               subgroup=\"s2\", \n",
        "               signaturefile=\"sig_sentinel\", \n",
        "               output=\"sentinel_maxlik\")"
      ],
      "id": "c971c918",
      "execution_count": null,
      "outputs": []
    },
    {
      "cell_type": "markdown",
      "metadata": {},
      "source": [
        "Asignamos etiquetas a las clases y visualizamos el resultado.\n"
      ],
      "id": "4d5fd4a6"
    },
    {
      "cell_type": "code",
      "metadata": {},
      "source": [
        "# label classes\n",
        "label_class = [\"1:vegetation\", \"2:urban\", \"3:bare soil\"]\n",
        "categorise = gs.feed_command(\"r.category\", \n",
        "                             map=\"sentinel_maxlik\", \n",
        "                             separator=\":\", \n",
        "                             rules=\"-\", \n",
        "                             quiet=True)\n",
        "categorise.stdin.write(\"\\n\".join(label_class).encode())\n",
        "categorise.stdin.close()"
      ],
      "id": "73edcd82",
      "execution_count": null,
      "outputs": []
    },
    {
      "cell_type": "code",
      "metadata": {},
      "source": [
        "# display results\n",
        "cba_sup_class = gj.Map(width=500, use_region=True)\n",
        "cba_sup_class.d_rast(map=\"sentinel_maxlik\")\n",
        "cba_sup_class.d_legend(raster=\"sentinel_maxlik\", title=\"Class\", fontsize=10, at=(80, 93, 80, 90), flags=\"b\")\n",
        "cba_sup_class.d_barscale()\n",
        "cba_sup_class.show()"
      ],
      "id": "25391db8",
      "execution_count": null,
      "outputs": []
    },
    {
      "cell_type": "markdown",
      "metadata": {},
      "source": [
        "#### Estadísticas por clase\n",
        "\n",
        "Utilizamos el comando \n",
        "[r.report](https://grass.osgeo.org/grass-stable/manuals/r.report.html) para \n",
        "obtener la proporción de cada clase, incluida la de celdas sin datos debido al \n",
        "enmascarado de nubes y sombras de nubes.\n"
      ],
      "id": "27e0776a"
    },
    {
      "cell_type": "code",
      "metadata": {},
      "source": [
        "# porcentaje de cada clase\n",
        "gs.parse_command(\"r.report\", \n",
        "                 map=\"sentinel_maxlik\", \n",
        "                 units=\"p\", \n",
        "                 flags=\"h\")"
      ],
      "id": "fbe6b7a4",
      "execution_count": null,
      "outputs": []
    },
    {
      "cell_type": "markdown",
      "metadata": {},
      "source": [
        "A continuación, usamos el módulo [r.univar](https://grass.osgeo.org/grass-stable/manuals/r.univar.html) para \n",
        "obtener estadísticas descriptivas por clase para la variable NDVI. Para esto, \n",
        "además del raster de NDVI, se pasa la clasificación. Así, el módulo calcula \n",
        "las estadísticas para cada clase.\n"
      ],
      "id": "9634011f"
    },
    {
      "cell_type": "code",
      "metadata": {},
      "source": [
        "# estadisticas de las clases: NDVI\n",
        "class_stats = gs.read_command(\"r.univar\", \n",
        "                              map=\"T20JLL_20200330T141049_NDVI_10m\", \n",
        "                              zones=\"sentinel_maxlik\", \n",
        "                              flags=\"t\")\n",
        "class_stats_df = pd.DataFrame([line.split(\"|\") for line in class_stats.splitlines()])\n",
        "class_stats_df.columns = class_stats_df.iloc[0]"
      ],
      "id": "50e4a838",
      "execution_count": null,
      "outputs": []
    },
    {
      "cell_type": "code",
      "metadata": {},
      "source": [
        "df2 = class_stats_df.loc[1:,['label', 'min', 'max', 'mean']] # selecciono unicamente min, max mean\n",
        "df2"
      ],
      "id": "6da1d4d7",
      "execution_count": null,
      "outputs": []
    },
    {
      "cell_type": "markdown",
      "metadata": {},
      "source": [
        "#### Clasificación supervisada con Machine Learning\n",
        "\n",
        "Primero tenemos que instalar la extensión\n",
        "[r.learn.ml2](https://grass.osgeo.org/grass-stable/manuals/addons/r.learn.ml2.html) \n",
        "que consta de dos módulos: `r.learn.train` y `r.learn.predict`. Esta extensión \n",
        "utiliza la librería scikit-learn de Python y requiere que la misma esté instalada\n",
        "de antemano.\n"
      ],
      "id": "0a8fe764"
    },
    {
      "cell_type": "code",
      "metadata": {},
      "source": [
        "# install ML extension\n",
        "gs.run_command(\"g.extension\", \n",
        "               extension=\"r.learn.ml2\")"
      ],
      "id": "21afb664",
      "execution_count": null,
      "outputs": []
    },
    {
      "cell_type": "markdown",
      "metadata": {},
      "source": [
        "Ahora entrenamos el modelo ML usando\n",
        "[r.learn.train](https://grass.osgeo.org/grass-stable/manuals/addons/r.learn.train.html), \n",
        "con el modelo \"RandomForestClassifier\".\n"
      ],
      "id": "52fe9fd4"
    },
    {
      "cell_type": "code",
      "metadata": {},
      "source": [
        "# train a random forest classification model using r.learn.train\n",
        "gs.run_command(\"r.learn.train\", \n",
        "               group=\"s2\", \n",
        "               training_map=\"training\",\n",
        "               model_name=\"RandomForestClassifier\",\n",
        "               n_estimators=\"500\", \n",
        "               save_model=os.path.join(homedir, \"rf_model.gz\"))"
      ],
      "id": "9f2d1772",
      "execution_count": null,
      "outputs": []
    },
    {
      "cell_type": "markdown",
      "metadata": {},
      "source": [
        "El modelo se ha almacenado en el archivo `rf_model.gz` para su uso en el paso de\n",
        "predicción de la clasificación supervisada.\n",
        "\n",
        "Ahora entonces aplicamos el modelo entrenado a todo el conjunto de datos.\n"
      ],
      "id": "62b31592"
    },
    {
      "cell_type": "code",
      "metadata": {},
      "source": [
        "# Perform prediction using r.learn.predict\n",
        "gs.run_command(\"r.learn.predict\", \n",
        "               group=\"s2\", \n",
        "               load_model=os.path.join(homedir, \"rf_model.gz\"), \n",
        "               output=\"sentinel_rf\")"
      ],
      "id": "4bf4988e",
      "execution_count": null,
      "outputs": []
    },
    {
      "cell_type": "code",
      "metadata": {},
      "source": [
        "# label classes\n",
        "label_class = [\"1:vegetation\", \"2:urban\", \"3:bare soil\"]\n",
        "categorise = gs.feed_command(\"r.category\", \n",
        "                             map=\"sentinel_rf\", \n",
        "                             separator=\":\", \n",
        "                             rules=\"-\", \n",
        "                             quiet=True)\n",
        "categorise.stdin.write(\"\\n\".join(label_class).encode())\n",
        "categorise.stdin.close()"
      ],
      "id": "f07e52cb",
      "execution_count": null,
      "outputs": []
    },
    {
      "cell_type": "code",
      "metadata": {},
      "source": [
        "# display results\n",
        "cba_sup_class = gj.Map(width=500, use_region=True)\n",
        "cba_sup_class.d_rast(map=\"sentinel_rf\")\n",
        "cba_sup_class.d_legend(raster=\"sentinel_rf\", title=\"Class\", fontsize=10, at=(80, 93, 80, 90), flags=\"b\")\n",
        "cba_sup_class.d_barscale()\n",
        "cba_sup_class.show()"
      ],
      "id": "ff9f3a08",
      "execution_count": null,
      "outputs": []
    },
    {
      "cell_type": "markdown",
      "metadata": {},
      "source": [
        ":::{.callout-warning title=\"Tarea\"}\n",
        "Estimar estadísticas por clase al igual que hicimos para la clasificación por \n",
        "maxíma verosimilitud.\n",
        ":::\n",
        "\n",
        "Comparemos los resultados visualmente y con el módulo\n",
        "[r.coin](https://grass.osgeo.org/grass-stable/manuals/r.coin.html), que nos \n",
        "permite tabular la ocurrencia mutua o coincidencia entre las categorías de dos\n",
        "mapas ráster.\n"
      ],
      "id": "4987ffd3"
    },
    {
      "cell_type": "code",
      "metadata": {},
      "source": [
        "# Display both classified maps together\n",
        "clas_maps = gj.InteractiveMap(width = 600, tiles=\"OpenStreetMap\")\n",
        "clas_maps.add_raster(\"sentinel_maxlik\", opacity=0.7)\n",
        "clas_maps.add_raster(\"sentinel_rf\", opacity=0.7)\n",
        "clas_maps.add_layer_control(position = \"bottomright\")\n",
        "clas_maps.show()"
      ],
      "id": "936eb359",
      "execution_count": null,
      "outputs": []
    },
    {
      "cell_type": "code",
      "metadata": {},
      "source": [
        "print(gs.read_command(\"r.coin\",\n",
        "                      first=\"sentinel_maxlik\",\n",
        "                      second=\"sentinel_rf\",\n",
        "                      units=\"p\",\n",
        "                      flags=\"w\"))"
      ],
      "id": "698946d8",
      "execution_count": null,
      "outputs": []
    },
    {
      "cell_type": "markdown",
      "metadata": {},
      "source": [
        ":::{.callout-warning title=\"Tarea\"}\n",
        "Comparar los resultados de ambos tipos de clasificación supervisada a través del\n",
        "índice Kappa.\n",
        ":::\n",
        "\n",
        "### Post-procesamiento y validación\n",
        "\n",
        "- [r.reclass.area](http://grass.osgeo.org/grass-stable/manuals/r.reclass.area.html) \n",
        "para eliminar pequeñas áreas, enmascarar nuevos valores y rellenar los huecos con [r.neighbors](http://grass.osgeo.org/grass-stable/manuals/r.neighbors.html) o [r.fillnulls](http://grass.osgeo.org/grass-stable/manuals/r.fillnulls.html)\n",
        "- convertir la salida en vector y ejecutar [v.clean](http://grass.osgeo.org/grass-stable/manuals/v.clean.html) con `tool=rmarea`\n",
        "- [r.kappa](https://grass.osgeo.org/grass-stable/manuals/r.kappa.html) para la \n",
        "validación (idealmente también digitalizar una muestra de prueba)\n"
      ],
      "id": "650c104d"
    }
  ],
  "metadata": {
    "kernelspec": {
      "name": "python3",
      "language": "python",
      "display_name": "Python 3 (ipykernel)"
    }
  },
  "nbformat": 4,
  "nbformat_minor": 5
}