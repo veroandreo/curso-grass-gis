{
  "cells": [
    {
      "cell_type": "raw",
      "metadata": {},
      "source": [
        "---\n",
        "title: 'Ejercicio: Datos satelitales en GRASS GIS'\n",
        "author: Verónica Andreo\n",
        "date: today\n",
        "format:\n",
        "  html:\n",
        "    code-tools: true\n",
        "    code-copy: true\n",
        "    code-fold: false\n",
        "execute:\n",
        "  eval: false\n",
        "  cache: false\n",
        "  keep-ipynb: true\n",
        "---"
      ],
      "id": "ef8e56f2"
    },
    {
      "cell_type": "markdown",
      "metadata": {},
      "source": [
        "# Trabajamos con imágenes Sentinel 2 en GRASS GIS\n",
        "\n",
        "\n",
        "## Datos Sentinel 2\n",
        "\n",
        "![Sentinel 2 satellite](../assets/img/sentinel2.jpg)\n",
        "\n",
        "\n",
        "- Lanzamiento: Sentinel-2A en 2015, Sentinel-2B en 2017\n",
        "- Tiempo de revisita: ~5 días\n",
        "- Cobertura sistemática de áreas terrestres y costeras entre los 84°N y 56°S\n",
        "- 13 bandas espectrales con resolución espacial de 10 m (VIS y NIR), 20 m (red-edge y SWIR) y 60 m (otras)\n",
        "\n",
        "![Sentinels](../assets/img/sentinel_satellites.jpg)\n",
        "\n",
        "ESA - Satélites Copernicus Sentinel. Más información en: \n",
        "<https://www.copernicus.eu/en/about-copernicus/infrastructure/discover-our-satellites>\n",
        "\n",
        "\n",
        "Distribución de bandas de Sentinel 2 comparadas con Landsat\n",
        "\n",
        "![Sentinel and Landsat bands](../assets/img/landsat_and_sentinel_bands.png)\n",
        "\n",
        "\n",
        "### Extensiones para datos Sentinel\n",
        "\n",
        "- [i.sentinel.download](https://grass.osgeo.org/grass7/manuals/addons/i.sentinel.download.html): descarga productos Copernicus Sentinel de Copernicus Open Access Hub\n",
        "- [i.sentinel.import](https://grass.osgeo.org/grass7/manuals/addons/i.sentinel.import.html): importa datos Sentinel descargados de Copernicus Open Access Hub\n",
        "- [i.sentinel.preproc](https://grass.osgeo.org/grass7/manuals/addons/i.sentinel.preproc.html): importa y realiza corrección atmosférica y topográfica de imágenes S2\n",
        "- [i.sentinel.mask](https://grass.osgeo.org/grass7/manuals/addons/i.sentinel.mask.html): crea máscaras de nubes y sombras para imágenes S2\n",
        "\n",
        "Ver <a href=\"https://grasswiki.osgeo.org/wiki/SENTINEL\">Sentinel wiki</a> para más detalles)\n",
        "\n",
        "\n",
        "Recientemente, se sumaron nuevos miembros en la familia *i.sentinel*:\n",
        "\n",
        "- [i.sentinel.coverage](https://grass.osgeo.org/grass-stable/manuals/addons/i.sentinel.coverage.html): comprueba la cobertura de área de las escenas de S1 o S2 seleccionadas\n",
        "- [i.sentinel.parallel.download](https://grass.osgeo.org/grass-stable/manuals/addons/i.sentinel.parallel.download.html): descarga imagenes Sentinel en paralelo\n",
        "\n",
        "\n",
        "- Para conectarse al [Copernicus Open Access Hub](https://scihub.copernicus.eu/) a través de [i.sentinel.download](https://grass.osgeo.org/grass7/manuals/addons/i.sentinel.download.html), se necesita ser usuario [registrado](https://scihub.copernicus.eu/dhus/#/self-registration)\n",
        "- Crear el archivo *`SENTINEL_SETTING.txt`* en el directorio *`$HOME/gisdata/`* con el siguiente contenido:\n",
        "\n",
        "```\n",
        "your_username\n",
        "your_password\n",
        "```\n",
        "\n",
        "### Niveles de procesamiento Sentinel 2\n",
        "\n",
        "- **L1C**: Reflectancia a tope de atmósfera o Top of Atmosphere (TOA). Disponibles desde el lanzamiento.\n",
        "- **L2A**: Reflectancia Superficial o Bottom of Atmosphere (BOA), i.e., los datos han sido corregidos para remover los efectos de la atmósfera. Sólo desde 2019.\n",
        "\n",
        "\n",
        "### Archivo de datos Sentinel \n",
        "\n",
        "> **Long Term Archive (LTA)**\n",
        ">\n",
        "> Todos los productos (1C o 2A) de más de un año son movidos fuera de línea \n",
        "> y se requiere un tiempo de espera para ponerlos a disposición del usuario. \n",
        "> Esto dificulta la automatización de tareas con productos de más de 12 \n",
        "> meses de antigüedad. \n",
        "\n",
        "\n",
        "Iniciar GRASS GIS, crear nuevo mapset y establecer región computacional\n"
      ],
      "id": "b45966b6"
    },
    {
      "cell_type": "code",
      "metadata": {},
      "source": [
        "import os\n",
        "\n",
        "# data directory\n",
        "homedir = os.path.expanduser('~')\n",
        "\n",
        "# GRASS GIS database variables\n",
        "grassdata = os.path.join(homedir, \"grassdata\")\n",
        "project = \"posgar2007_4_cba\"\n",
        "mapset = \"PERMANENT\""
      ],
      "id": "79666c24",
      "execution_count": null,
      "outputs": []
    },
    {
      "cell_type": "code",
      "metadata": {},
      "source": [
        "import subprocess\n",
        "import sys\n",
        "\n",
        "# Ask GRASS GIS where its Python packages are to be able to start it from the notebook\n",
        "sys.path.append(\n",
        "    subprocess.check_output([\"grass\", \"--config\", \"python_path\"], text=True).strip()\n",
        ")\n",
        "\n",
        "# Importar los paquetes python de GRASS\n",
        "import grass.script as gs\n",
        "import grass.jupyter as gj\n",
        "\n",
        "# Iniciar GRASS\n",
        "session = gj.init(grassdata, location, mapset)"
      ],
      "id": "912cfed1",
      "execution_count": null,
      "outputs": []
    },
    {
      "cell_type": "markdown",
      "metadata": {},
      "source": [
        "Crear un nuevo mapset *sentinel2*"
      ],
      "id": "185b554c"
    },
    {
      "cell_type": "code",
      "metadata": {},
      "source": [
        "# Create a new mapset\n",
        "g.mapset -c mapset=sentinel2"
      ],
      "id": "09951d68",
      "execution_count": null,
      "outputs": []
    },
    {
      "cell_type": "markdown",
      "metadata": {},
      "source": [
        "Definir la región computacionalal radio urbano de Córdoba"
      ],
      "id": "5fbcb07c"
    },
    {
      "cell_type": "code",
      "metadata": {},
      "source": [
        "# set the computational region to the extent of Cordoba urban area\n",
        "g.region -p vector=radio_urbano_cba"
      ],
      "id": "42420f16",
      "execution_count": null,
      "outputs": []
    },
    {
      "cell_type": "markdown",
      "metadata": {},
      "source": [
        "### Búsqueda y descarga de datos S2\n",
        "\n",
        "\n",
        "Instalar la extensión *i.sentinel*"
      ],
      "id": "7893c346"
    },
    {
      "cell_type": "code",
      "metadata": {},
      "source": [
        "# install i.sentinel extension\n",
        "g.extension extension=i.sentinel"
      ],
      "id": "93c1944f",
      "execution_count": null,
      "outputs": []
    },
    {
      "cell_type": "markdown",
      "metadata": {},
      "source": [
        "Lista de escenas disponibles que *intersectan* la región computacional"
      ],
      "id": "f42d49c3"
    },
    {
      "cell_type": "code",
      "metadata": {},
      "source": [
        "# explore list of scenes for a certain date range\n",
        "i.sentinel.download -l \\\n",
        "  settings=$HOME/gisdata/SENTINEL_SETTING.txt \\\n",
        "  start=\"2020-03-01\" \\\n",
        "  end=\"2020-04-30\" \\\n",
        "  producttype=S2MSI2A \\\n",
        "  clouds=30"
      ],
      "id": "846d8d12",
      "execution_count": null,
      "outputs": []
    },
    {
      "cell_type": "markdown",
      "metadata": {},
      "source": [
        "Lista de escenas disponibles que *contienen* la región computacional"
      ],
      "id": "82ed876b"
    },
    {
      "cell_type": "code",
      "metadata": {},
      "source": [
        "# filter list of scenes by area_relation=Contains\n",
        "i.sentinel.download -l \\\n",
        "  settings=$HOME/gisdata/SENTINEL_SETTING.txt \\\n",
        "  start=\"2020-03-01\" \\\n",
        "  end=\"2020-04-30\" \\\n",
        "  producttype=S2MSI2A \\\n",
        "  clouds=30 \\\n",
        "  area_relation=Contains"
      ],
      "id": "167396f9",
      "execution_count": null,
      "outputs": []
    },
    {
      "cell_type": "markdown",
      "metadata": {},
      "source": [
        "Descargar la escena seleccionada - NO EJECUTAR"
      ],
      "id": "5c591a4f"
    },
    {
      "cell_type": "code",
      "metadata": {},
      "source": [
        "# download the scene that fully contains our region\n",
        "# i.sentinel.download \\\n",
        "#   settings=$HOME/gisdata/SENTINEL_SETTING.txt \\\n",
        "#   uuid=9a1ea49c-0561-4aa5-ba7a-dc820dc1a316 \\\n",
        "#   output=$HOME/gisdata/s2_data"
      ],
      "id": "bd2c72fd",
      "execution_count": null,
      "outputs": []
    },
    {
      "cell_type": "markdown",
      "metadata": {},
      "source": [
        "Como la descarga desde el Copernicus Open Access Hub toma su tiempo, vamos a descargar la escena [Sentinel 2](https://drive.google.com/file/d/1RbTMjvElQX_EOwE07GXYOq4rJohCOTvq/view?usp=sharing) que usaremos y moverla a *`HOME/gisdata/s2_data`*\n",
        "\n",
        "\n",
        "Hagamos una prueba con datos del LTA...\n"
      ],
      "id": "4181366a"
    },
    {
      "cell_type": "code",
      "metadata": {},
      "source": [
        "i.sentinel.download -l \\\n",
        "  settings=$HOME/gisdata/SENTINEL_SETTING.txt \\\n",
        "  start=\"2019-01-01\" \\\n",
        "  end=\"2020-02-28\" \\\n",
        "  clouds=30\n",
        "\n",
        "i.sentinel.download \\\n",
        "  settings=$HOME/gisdata/SENTINEL_SETTING.txt \\\n",
        "  uuid=d4e5df0e-7ead-4407-ba82-d2583be1a6b8 \\\n",
        "  output=$HOME/gisdata/s2_data"
      ],
      "id": "0049c739",
      "execution_count": null,
      "outputs": []
    },
    {
      "cell_type": "markdown",
      "metadata": {},
      "source": [
        "![](../assets/img/S2_LTA.png)\n",
        "\n",
        "\n",
        "### Importar datos Sentinel 2 a GRASS GIS\n",
        "\n",
        "![](../assets/img/sentinel_import_options.png)\n",
        "\n",
        "\n",
        "\n",
        "#### 1. Importar con corrección atmosférica: [i.sentinel.preproc](https://grass.osgeo.org/grass-stable/manuals/addons/i.sentinel.preproc.html)\n",
        "\n",
        "##### Productos nivel 1C\n",
        "\n",
        "![](../assets/img/i_sentinel_preproc.png)\n",
        "\n",
        "\n",
        "Para obtener un valor de AOD, tenemos 2 opciones:\n",
        "\n",
        "\n",
        "\n",
        "A. Estimar el valor desde un grafico\n",
        "\n",
        "![](../assets/img/S2_AOD_plot.png)\n",
        "\n",
        "\n",
        "B. Descargar un archivo y el valor sera estimado \n",
        "<img src=\"../assets/img/S2_AOD_file.png\" width=\"30%\">\n",
        "\n",
        "\n",
        "[http://aeronet.gsfc.nasa.gov](https://aeronet.gsfc.nasa.gov)\n",
        "\n",
        "\n",
        "Obtener AOD de <br>\n",
        "[http://aeronet.gsfc.nasa.gov](https://aeronet.gsfc.nasa.gov)\n",
        "\n",
        "<img src=\"../assets/img/S2_AOD_file.png\" width=\"65%\">\n",
        "\n",
        "- Estación *ARM_Cordoba* o *Pilar_Cordoba*\n",
        "- Seleccionar fechas de inicio y final\n",
        "- Seleccionar: *`Combined file`* y *`All points`*\n",
        "- Descargar y descomprimir (el archivo final tiene extensión .dubovik)\n",
        "- Pasar el archivo con la opción `aeronet_file`\n",
        "\n",
        "\n",
        "Mapa de elevación\n",
        "\n",
        "- [r.in.srtm.region](https://grass.osgeo.org/grass-stable/manuals/addons/r.in.srtm.region.html): importa (y re-proyecta) los mosaicos SRTM que cubren la región computacional, parchea los mosaicos e interpola datos faltantes\n",
        "- [r.in.nasadem](https://grass.osgeo.org/grass-stable/manuals/addons/r.in.nasadem.html): importa (y re-proyecta) los mosaicos de NASADEM que cubren la región computacional y parchea los mosaicos\n",
        "\n",
        "> Si el DEM es más chico que la región computacional, sólo la región cubierta por el DEM será corregida \n",
        "> atmosféricamente...\n",
        "\n",
        "Ejemplo\n",
        "\n",
        "```bash\n",
        "# enter directory with Sentinel scene and unzip file\n",
        "cd $HOME/gisdata/s2_data/\n",
        "unzip $HOME/gisdata/s2_data/name_of_S2_scene\n",
        "\n",
        "i.sentinel.preproc -atr \\\n",
        "  input_dir=$HOME/gisdata/s2_data/name_of_S2_scene.SAFE \\\n",
        "  elevation=NASADEM \\\n",
        "  aeronet_file=$HOME/gisdata/s2_data/name_of_aeronet_station.dubovik\n",
        "```\n",
        "\n",
        "\n",
        "#### 2. Importar sin corrección atmosférica (as is): [i.sentinel.import](https://grass.osgeo.org/grass-stable/manuals/addons/i.sentinel.import.html)\n",
        "\n",
        "##### Productos nivel 2A\n",
        "\n",
        "Imprimir información sobre las bandas antes de importarlas"
      ],
      "id": "8f013550"
    },
    {
      "cell_type": "code",
      "metadata": {},
      "source": [
        "# print bands info before importing\n",
        "# (1 -proj match, 0 -no proj match)\n",
        "i.sentinel.import -p input=$HOME/gisdata/s2_data"
      ],
      "id": "9fd742c5",
      "execution_count": null,
      "outputs": []
    },
    {
      "cell_type": "markdown",
      "metadata": {},
      "source": [
        "Importar bandas seleccionadas, recortar y reproyectar al vuelo"
      ],
      "id": "553d395f"
    },
    {
      "cell_type": "code",
      "metadata": {},
      "source": [
        "# import bands relevant for RGB, NDVI and NDWI\n",
        "i.sentinel.import -rc \\\n",
        "  input=$HOME/gisdata/s2_data \\\n",
        "  pattern='B(02_1|03_1|04_1|08_1|8A_2|11_2|12_2)0m' \\\n",
        "  extent=region"
      ],
      "id": "2aa955e2",
      "execution_count": null,
      "outputs": []
    },
    {
      "cell_type": "markdown",
      "metadata": {},
      "source": [
        "Listar bandas importadas y revisar metadatos"
      ],
      "id": "ccc5b5f6"
    },
    {
      "cell_type": "code",
      "metadata": {},
      "source": [
        "# list raster maps\n",
        "g.list type=raster mapset=.\n",
        "\n",
        "# check metadata of some imported bands\n",
        "r.info map=T20JLL_20200330T141049_B03_10m\n",
        "r.info map=T20JLL_20200330T141049_B8A_20m"
      ],
      "id": "d711776b",
      "execution_count": null,
      "outputs": []
    },
    {
      "cell_type": "markdown",
      "metadata": {},
      "source": [
        "#### Balance de colores y composiciones\n",
        "\n",
        "Asignar *grey* como paleta de colores"
      ],
      "id": "6a180ac6"
    },
    {
      "cell_type": "code",
      "metadata": {},
      "source": [
        "# apply grey color to RGB bands\n",
        "r.colors \\\n",
        "  map=T20JLL_20200330T141049_B04_10m,T20JLL_20200330T141049_B03_10m,T20JLL_20200330T141049_B02_10m \\\n",
        "  color=grey"
      ],
      "id": "7e496b6f",
      "execution_count": null,
      "outputs": []
    },
    {
      "cell_type": "markdown",
      "metadata": {},
      "source": [
        "Ajuste de colores para una composición RGB color natural"
      ],
      "id": "bc935952"
    },
    {
      "cell_type": "code",
      "metadata": {},
      "source": [
        "# perform color auto-balancing for RGB bands\n",
        "i.colors.enhance \\\n",
        "  red=T20JLL_20200330T141049_B04_10m \\\n",
        "  green=T20JLL_20200330T141049_B03_10m \\\n",
        "  blue=T20JLL_20200330T141049_B02_10m \\\n",
        "  strength=95"
      ],
      "id": "4660481a",
      "execution_count": null,
      "outputs": []
    },
    {
      "cell_type": "markdown",
      "metadata": {},
      "source": [
        "Mostrar la combinación RGB 432"
      ],
      "id": "5ea232fb"
    },
    {
      "cell_type": "code",
      "metadata": {},
      "source": [
        "# display the enhanced RGB combination\n",
        "d.mon wx0\n",
        "d.rgb -n \\\n",
        "  red=T20JLL_20200330T141049_B04_10m \\\n",
        "  green=T20JLL_20200330T141049_B03_10m \\\n",
        "  blue=T20JLL_20200330T141049_B02_10m"
      ],
      "id": "ecb2a419",
      "execution_count": null,
      "outputs": []
    },
    {
      "cell_type": "markdown",
      "metadata": {},
      "source": [
        "> **Tarea** \n",
        ">\n",
        "> Realizar balance de colores y mostrar combinacion falso color NIR-RED-GREEN\n",
        "\n",
        "\n",
        "#### Máscara de nubes y sombras de nubes\n",
        "\n",
        "\n",
        "Identificar y enmascarar nubes y sus sombras"
      ],
      "id": "ff6fa470"
    },
    {
      "cell_type": "code",
      "metadata": {},
      "source": [
        "# identify and mask clouds and clouds shadows: i.sentinel.mask\n",
        "i.sentinel.mask -s --o \\\n",
        "  blue=T20JLL_20200330T141049_B02_10m \\\n",
        "  green=T20JLL_20200330T141049_B03_10m \\\n",
        "  red=T20JLL_20200330T141049_B04_10m \\\n",
        "  nir=T20JLL_20200330T141049_B08_10m \\\n",
        "  nir8a=T20JLL_20200330T141049_B8A_20m \\\n",
        "  swir11=T20JLL_20200330T141049_B11_20m \\\n",
        "  swir12=T20JLL_20200330T141049_B12_20m \\\n",
        "  cloud_mask=cloud \\\n",
        "  shadow_mask=shadow \\\n",
        "  scale_fac=10000 \\\n",
        "  mtd=$HOME/gisdata/s2_data/S2B_MSIL2A_20200330T141049_N0214_R110_T20JLL_20200330T182252.SAFE/GRANULE/L2A_T20JLL_A016009_20200330T141532/MTD_TL.xml"
      ],
      "id": "c792652d",
      "execution_count": null,
      "outputs": []
    },
    {
      "cell_type": "markdown",
      "metadata": {},
      "source": [
        "Visualización de la salida: Nubes y sombras de nubes identificadas con [i.sentinel.mask](https://grass.osgeo.org/grass-stable/manuals/addons/i.sentinel.mask.html)\n"
      ],
      "id": "0be9bab8"
    },
    {
      "cell_type": "code",
      "metadata": {},
      "source": [
        "# display output\n",
        "d.mon wx0\n",
        "d.rgb \\\n",
        "  red=T20JLL_20200330T141049_B04_10m \\\n",
        "  green=T20JLL_20200330T141049_B03_10m \\\n",
        "  blue=T20JLL_20200330T141049_B02_10m\n",
        "d.vect map=cloud fill_color=red\n",
        "d.vect map=shadow fill_color=blue"
      ],
      "id": "adc189e7",
      "execution_count": null,
      "outputs": []
    },
    {
      "cell_type": "markdown",
      "metadata": {},
      "source": [
        "### Índices de agua y vegetación\n",
        "\n",
        "Definir región computacional"
      ],
      "id": "34b2d7f2"
    },
    {
      "cell_type": "code",
      "metadata": {},
      "source": [
        "# set region\n",
        "g.region -p raster=T20JLL_20200330T141049_B08_10m"
      ],
      "id": "4218ea44",
      "execution_count": null,
      "outputs": []
    },
    {
      "cell_type": "markdown",
      "metadata": {},
      "source": [
        "Establecer máscara"
      ],
      "id": "644cf2a2"
    },
    {
      "cell_type": "code",
      "metadata": {},
      "source": [
        "# set clouds mask\n",
        "v.patch input=cloud,shadow \\\n",
        " output=cloud_shadow_mask\n",
        "r.mask -i vector=cloud_shadow_mask"
      ],
      "id": "af5028af",
      "execution_count": null,
      "outputs": []
    },
    {
      "cell_type": "markdown",
      "metadata": {},
      "source": [
        "Estimación de los índices de vegetación"
      ],
      "id": "ccde1fed"
    },
    {
      "cell_type": "code",
      "metadata": {},
      "source": [
        "# estimate vegetation indices\n",
        "i.vi \\\n",
        "  red=T20JLL_20200330T141049_B04_10m \\\n",
        "  nir=T20JLL_20200330T141049_B08_10m \\\n",
        "  output=T20JLL_20200330T141049_NDVI_10m \\\n",
        "  viname=ndvi"
      ],
      "id": "6c6a3b94",
      "execution_count": null,
      "outputs": []
    },
    {
      "cell_type": "markdown",
      "metadata": {},
      "source": [
        "Instalar extensión *i.wi*"
      ],
      "id": "8594f2d0"
    },
    {
      "cell_type": "code",
      "metadata": {},
      "source": [
        "# install extension\n",
        "g.extension extension=i.wi"
      ],
      "id": "4634660d",
      "execution_count": null,
      "outputs": []
    },
    {
      "cell_type": "markdown",
      "metadata": {},
      "source": [
        "Estimación de índice de agua"
      ],
      "id": "f2fff90a"
    },
    {
      "cell_type": "markdown",
      "metadata": {},
      "source": [
        "Visualización de los resultados"
      ],
      "id": "2f9b833c"
    },
    {
      "cell_type": "code",
      "metadata": {},
      "source": [
        "# estimate water indices and set color palette\n",
        "i.wi \\\n",
        "  green=T20JLL_20200330T141049_B03_10m \\\n",
        "  nir=T20JLL_20200330T141049_B08_10m \\\n",
        "  output=T20JLL_20200330T141049_NDWI_10m \\\n",
        "  winame=ndwi_mf\n",
        "r.colors map=T20JLL_20200330T141049_NDWI_10m \\\n",
        "  color=ndwi"
      ],
      "id": "d27553d4",
      "execution_count": null,
      "outputs": []
    },
    {
      "cell_type": "markdown",
      "metadata": {},
      "source": [
        "### Segmentación\n",
        "\n",
        "Instalar la extensión *i.superpixels.slic*"
      ],
      "id": "e268a88c"
    },
    {
      "cell_type": "code",
      "metadata": {},
      "source": [
        "# install extension\n",
        "g.extension extension=i.superpixels.slic"
      ],
      "id": "7679d2fd",
      "execution_count": null,
      "outputs": []
    },
    {
      "cell_type": "markdown",
      "metadata": {},
      "source": [
        "Listar los mapas y crear grupos y subgrupos"
      ],
      "id": "42cd838a"
    },
    {
      "cell_type": "code",
      "metadata": {},
      "source": [
        "# list maps\n",
        "g.list type=raster pattern=\"*20200330T141049*\" \\\n",
        "  mapset=. output=list.txt\n",
        "\n",
        "# create groups and subgroups\n",
        "i.group group=s2 subgroup=s2 file=list.txt"
      ],
      "id": "304b1da4",
      "execution_count": null,
      "outputs": []
    },
    {
      "cell_type": "markdown",
      "metadata": {},
      "source": [
        "Ejecutar *i.superpixels.slic*"
      ],
      "id": "81ad1a53"
    },
    {
      "cell_type": "code",
      "metadata": {},
      "source": [
        "# run i.superpixels.slic\n",
        "i.superpixels.slic input=s2 \\\n",
        "  output=superpixels \\\n",
        "  num_pixels=2000"
      ],
      "id": "a377142e",
      "execution_count": null,
      "outputs": []
    },
    {
      "cell_type": "markdown",
      "metadata": {},
      "source": [
        "Convertir el resultado a vector"
      ],
      "id": "7b9cb6e4"
    },
    {
      "cell_type": "code",
      "metadata": {},
      "source": [
        "# convert the resulting raster to vector\n",
        "r.to.vect input=superpixels \\\n",
        "  output=superpixels type=area"
      ],
      "id": "4f6ca584",
      "execution_count": null,
      "outputs": []
    },
    {
      "cell_type": "markdown",
      "metadata": {},
      "source": [
        "Ejecutar *i.segment*"
      ],
      "id": "6bdd9d4f"
    },
    {
      "cell_type": "code",
      "metadata": {},
      "source": [
        "# run i.segment\n",
        "i.segment group=s2 output=segments \\\n",
        "  threshold=0.5 minsize=50 memory=500"
      ],
      "id": "b1994af3",
      "execution_count": null,
      "outputs": []
    },
    {
      "cell_type": "markdown",
      "metadata": {},
      "source": [
        "Convertir el resultado a vector"
      ],
      "id": "ef7176c4"
    },
    {
      "cell_type": "code",
      "metadata": {},
      "source": [
        "# convert the resulting raster to vector\n",
        "r.to.vect input=segments \\\n",
        "  output=segments type=area"
      ],
      "id": "8e0dba33",
      "execution_count": null,
      "outputs": []
    },
    {
      "cell_type": "markdown",
      "metadata": {},
      "source": [
        "Mostrar NDVI junto con las 2 salidas de la segmentación"
      ],
      "id": "197ae98a"
    },
    {
      "cell_type": "code",
      "metadata": {},
      "source": [
        "# display NDVI along with the 2 segmentation outputs\n",
        "d.mon wx0\n",
        "d.rast map=T20JLL_20200330T141049_NDVI_10m\n",
        "d.vect map=superpixels color=yellow fill_color=none\n",
        "d.vect map=segments color=red fill_color=none"
      ],
      "id": "8856f0f8",
      "execution_count": null,
      "outputs": []
    },
    {
      "cell_type": "markdown",
      "metadata": {},
      "source": [
        "> **Tarea** \n",
        ">\n",
        "> Ejecutar cualquiera de los 2 métodos de segmentación con diferentes parámetros y comparar los resultados\n",
        "\n",
        "\n",
        "### Clasificación supervisada\n",
        "\n",
        "\n",
        "**Tarea** \n",
        "\n",
        "- digitalizar áreas de entrenamiento para 3 clases con [g.gui.iclass](http://grass.osgeo.org/grass-stable/manuals/g.gui.iclass.html)\n",
        "- guardarlas en un mapa vectorial: `training`\n",
        "\n",
        "\n",
        "![g.gui.iclass](../assets/img/g_gui_iclass.png)\n",
        "\n",
        "\n",
        "Clasificación supervisada con Maximum Likelihood\n",
        "\n",
        "\n",
        "Convertir el vector de áreas de entrenamiento a raster"
      ],
      "id": "01d188b9"
    },
    {
      "cell_type": "code",
      "metadata": {},
      "source": [
        "# convert to raster\n",
        "v.to.rast input=training output=training \\\n",
        "  use=cat label_column=class"
      ],
      "id": "ad203fc3",
      "execution_count": null,
      "outputs": []
    },
    {
      "cell_type": "markdown",
      "metadata": {},
      "source": [
        "Generar archivos de firma espectral"
      ],
      "id": "8297dc44"
    },
    {
      "cell_type": "code",
      "metadata": {},
      "source": [
        "# obtain signature files\n",
        "i.gensig trainingmap=training \\\n",
        "  group=s2 subgroup=s2 \\\n",
        "  signaturefile=sig_sentinel"
      ],
      "id": "246e1f6f",
      "execution_count": null,
      "outputs": []
    },
    {
      "cell_type": "markdown",
      "metadata": {},
      "source": [
        "Realizar la clasificación por Maximum Likelihood"
      ],
      "id": "bc55932e"
    },
    {
      "cell_type": "code",
      "metadata": {},
      "source": [
        "# perform ML supervised classification\n",
        "i.maxlik group=s2 subgroup=s2 \\\n",
        "  signaturefile=sig_sentinel \\\n",
        "  output=sentinel_maxlik"
      ],
      "id": "2af5e646",
      "execution_count": null,
      "outputs": []
    },
    {
      "cell_type": "markdown",
      "metadata": {},
      "source": [
        "Añadir etiquetas a las clases"
      ],
      "id": "902210e0"
    },
    {
      "cell_type": "code",
      "metadata": {},
      "source": [
        "# label classes\n",
        "r.category sentinel_maxlik separator=\":\" rules=- << EOF\n",
        "1:vegetation\n",
        "2:urban\n",
        "3:bare soil\n",
        "EOF"
      ],
      "id": "f916edb9",
      "execution_count": null,
      "outputs": []
    },
    {
      "cell_type": "markdown",
      "metadata": {},
      "source": [
        "Clasificación supervisada con Maximum Likelihood"
      ],
      "id": "879ef1f2"
    },
    {
      "cell_type": "markdown",
      "metadata": {},
      "source": [
        "### Clasificación supervisada con Machine Learning\n",
        "\n",
        "Instalar la extensión *r.learn.ml*"
      ],
      "id": "f47c3d94"
    },
    {
      "cell_type": "code",
      "metadata": {},
      "source": [
        "# install extension\n",
        "g.extension extension=r.learn.ml"
      ],
      "id": "b476727a",
      "execution_count": null,
      "outputs": []
    },
    {
      "cell_type": "markdown",
      "metadata": {},
      "source": [
        "Realizar la clasificación por RF"
      ],
      "id": "fc631304"
    },
    {
      "cell_type": "code",
      "metadata": {},
      "source": [
        "# perform random forest classification\n",
        "r.learn.ml trainingmap=training group=s2 \\\n",
        "  output=sentinel_rf n_estimators=300"
      ],
      "id": "d0bd0cf9",
      "execution_count": null,
      "outputs": []
    },
    {
      "cell_type": "markdown",
      "metadata": {},
      "source": [
        "Añadir etiquetas a las clases"
      ],
      "id": "bd09bb6b"
    },
    {
      "cell_type": "code",
      "metadata": {},
      "source": [
        "# label classes\n",
        "r.category sentinel_rf separator=\":\" rules=- << EOF\n",
        "1:vegetation\n",
        "2:urban\n",
        "3:bare soil\n",
        "EOF"
      ],
      "id": "a623c176",
      "execution_count": null,
      "outputs": []
    },
    {
      "cell_type": "markdown",
      "metadata": {},
      "source": [
        "Clasificación supervisada con Random Forest"
      ],
      "id": "24b7a75f"
    },
    {
      "cell_type": "markdown",
      "metadata": {},
      "source": [
        "> **Tarea** \n",
        ">\n",
        "> Comparar los resultados de ambos tipos de clasificación supervisada a través del índice Kappa\n",
        "\n",
        "Hay un módulo [r.kappa](https://grass.osgeo.org/grass-stable/manuals/r.kappa.html)\n",
        "\n",
        "\n",
        "### Post-procesamiento y validación\n",
        "\n",
        "- [r.reclass.area](http://grass.osgeo.org/grass-stable/manuals/r.reclass.area.html) para eliminar pequeñas áreas, enmascarar nuevos valores y rellenar los huecos con [r.neighbors](http://grass.osgeo.org/grass-stable/manuals/r.neighbors.html) o [r.fillnulls](http://grass.osgeo.org/grass-stable/manuals/r.fillnulls.html)\n",
        "- convertir la salida en vector y ejecutar [v.clean](http://grass.osgeo.org/grass-stable/manuals/v.clean.html) con `tool=rmarea`\n",
        "- [r.kappa](https://grass.osgeo.org/grass-stable/manuals/r.kappa.html) para la validación (idealmente también digitalizar una muestra de prueba)\n"
      ],
      "id": "118cd4ce"
    }
  ],
  "metadata": {
    "kernelspec": {
      "name": "python3",
      "language": "python",
      "display_name": "Python 3 (ipykernel)"
    }
  },
  "nbformat": 4,
  "nbformat_minor": 5
}